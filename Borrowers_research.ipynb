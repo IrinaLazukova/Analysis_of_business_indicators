{
 "cells": [
  {
   "cell_type": "markdown",
   "metadata": {},
   "source": [
    "# Исследование надёжности заёмщиков\n",
    "\n",
    "**Цели:**\n",
    "- предварительно подготовить данные для анализа (избавиться от пропусков и дубликатов, обработать артефакты);\n",
    "- выделить категории;\n",
    "- ответить на вопросы: \n",
    "    - Влияет ли семейное положение и наличие детей на возврат кредита в срок? \n",
    "    - Есть ли зависимость между уровнем дохода и возвратом кредита в срок? \n",
    "    - Как разные цели кредита влияют на его возврат в срок?\n",
    "\n",
    "**Задача:**\n",
    "Анализ данных для последующего построения модели кредитного скоринга. Необходимо установить, какие факторы влияют на факт погашения кредита в срок.\n",
    "\n",
    "**Данные:**\n",
    "Данные о клиентах предоставлены банком и содержат:\n",
    "\n",
    "children — количество детей в семье\n",
    "days_employed — общий трудовой стаж в днях\n",
    "dob_years — возраст клиента в годах\n",
    "education — уровень образования клиента\n",
    "education_id — идентификатор уровня образования\n",
    "family_status — семейное положение\n",
    "family_status_id — идентификатор семейного положения\n",
    "gender — пол клиента\n",
    "income_type — тип занятости\n",
    "debt — имел ли задолженность по возврату кредитов\n",
    "total_income — ежемесячный доход\n",
    "purpose — цель получения кредита\n",
    "\n",
    "**Использованные библиотеки:**\n",
    "pandas"
   ]
  },
  {
   "cell_type": "markdown",
   "metadata": {},
   "source": [
    "## Шаг 1. Общая информация"
   ]
  },
  {
   "cell_type": "code",
   "execution_count": 1,
   "metadata": {},
   "outputs": [
    {
     "data": {
      "text/html": [
       "<div>\n",
       "<style scoped>\n",
       "    .dataframe tbody tr th:only-of-type {\n",
       "        vertical-align: middle;\n",
       "    }\n",
       "\n",
       "    .dataframe tbody tr th {\n",
       "        vertical-align: top;\n",
       "    }\n",
       "\n",
       "    .dataframe thead th {\n",
       "        text-align: right;\n",
       "    }\n",
       "</style>\n",
       "<table border=\"1\" class=\"dataframe\">\n",
       "  <thead>\n",
       "    <tr style=\"text-align: right;\">\n",
       "      <th></th>\n",
       "      <th>children</th>\n",
       "      <th>days_employed</th>\n",
       "      <th>dob_years</th>\n",
       "      <th>education</th>\n",
       "      <th>education_id</th>\n",
       "      <th>family_status</th>\n",
       "      <th>family_status_id</th>\n",
       "      <th>gender</th>\n",
       "      <th>income_type</th>\n",
       "      <th>debt</th>\n",
       "      <th>total_income</th>\n",
       "      <th>purpose</th>\n",
       "    </tr>\n",
       "  </thead>\n",
       "  <tbody>\n",
       "    <tr>\n",
       "      <td>0</td>\n",
       "      <td>1</td>\n",
       "      <td>-8437.673028</td>\n",
       "      <td>42</td>\n",
       "      <td>высшее</td>\n",
       "      <td>0</td>\n",
       "      <td>женат / замужем</td>\n",
       "      <td>0</td>\n",
       "      <td>F</td>\n",
       "      <td>сотрудник</td>\n",
       "      <td>0</td>\n",
       "      <td>253875.639453</td>\n",
       "      <td>покупка жилья</td>\n",
       "    </tr>\n",
       "    <tr>\n",
       "      <td>1</td>\n",
       "      <td>1</td>\n",
       "      <td>-4024.803754</td>\n",
       "      <td>36</td>\n",
       "      <td>среднее</td>\n",
       "      <td>1</td>\n",
       "      <td>женат / замужем</td>\n",
       "      <td>0</td>\n",
       "      <td>F</td>\n",
       "      <td>сотрудник</td>\n",
       "      <td>0</td>\n",
       "      <td>112080.014102</td>\n",
       "      <td>приобретение автомобиля</td>\n",
       "    </tr>\n",
       "    <tr>\n",
       "      <td>2</td>\n",
       "      <td>0</td>\n",
       "      <td>-5623.422610</td>\n",
       "      <td>33</td>\n",
       "      <td>Среднее</td>\n",
       "      <td>1</td>\n",
       "      <td>женат / замужем</td>\n",
       "      <td>0</td>\n",
       "      <td>M</td>\n",
       "      <td>сотрудник</td>\n",
       "      <td>0</td>\n",
       "      <td>145885.952297</td>\n",
       "      <td>покупка жилья</td>\n",
       "    </tr>\n",
       "    <tr>\n",
       "      <td>3</td>\n",
       "      <td>3</td>\n",
       "      <td>-4124.747207</td>\n",
       "      <td>32</td>\n",
       "      <td>среднее</td>\n",
       "      <td>1</td>\n",
       "      <td>женат / замужем</td>\n",
       "      <td>0</td>\n",
       "      <td>M</td>\n",
       "      <td>сотрудник</td>\n",
       "      <td>0</td>\n",
       "      <td>267628.550329</td>\n",
       "      <td>дополнительное образование</td>\n",
       "    </tr>\n",
       "    <tr>\n",
       "      <td>4</td>\n",
       "      <td>0</td>\n",
       "      <td>340266.072047</td>\n",
       "      <td>53</td>\n",
       "      <td>среднее</td>\n",
       "      <td>1</td>\n",
       "      <td>гражданский брак</td>\n",
       "      <td>1</td>\n",
       "      <td>F</td>\n",
       "      <td>пенсионер</td>\n",
       "      <td>0</td>\n",
       "      <td>158616.077870</td>\n",
       "      <td>сыграть свадьбу</td>\n",
       "    </tr>\n",
       "    <tr>\n",
       "      <td>5</td>\n",
       "      <td>0</td>\n",
       "      <td>-926.185831</td>\n",
       "      <td>27</td>\n",
       "      <td>высшее</td>\n",
       "      <td>0</td>\n",
       "      <td>гражданский брак</td>\n",
       "      <td>1</td>\n",
       "      <td>M</td>\n",
       "      <td>компаньон</td>\n",
       "      <td>0</td>\n",
       "      <td>255763.565419</td>\n",
       "      <td>покупка жилья</td>\n",
       "    </tr>\n",
       "    <tr>\n",
       "      <td>6</td>\n",
       "      <td>0</td>\n",
       "      <td>-2879.202052</td>\n",
       "      <td>43</td>\n",
       "      <td>высшее</td>\n",
       "      <td>0</td>\n",
       "      <td>женат / замужем</td>\n",
       "      <td>0</td>\n",
       "      <td>F</td>\n",
       "      <td>компаньон</td>\n",
       "      <td>0</td>\n",
       "      <td>240525.971920</td>\n",
       "      <td>операции с жильем</td>\n",
       "    </tr>\n",
       "    <tr>\n",
       "      <td>7</td>\n",
       "      <td>0</td>\n",
       "      <td>-152.779569</td>\n",
       "      <td>50</td>\n",
       "      <td>СРЕДНЕЕ</td>\n",
       "      <td>1</td>\n",
       "      <td>женат / замужем</td>\n",
       "      <td>0</td>\n",
       "      <td>M</td>\n",
       "      <td>сотрудник</td>\n",
       "      <td>0</td>\n",
       "      <td>135823.934197</td>\n",
       "      <td>образование</td>\n",
       "    </tr>\n",
       "    <tr>\n",
       "      <td>8</td>\n",
       "      <td>2</td>\n",
       "      <td>-6929.865299</td>\n",
       "      <td>35</td>\n",
       "      <td>ВЫСШЕЕ</td>\n",
       "      <td>0</td>\n",
       "      <td>гражданский брак</td>\n",
       "      <td>1</td>\n",
       "      <td>F</td>\n",
       "      <td>сотрудник</td>\n",
       "      <td>0</td>\n",
       "      <td>95856.832424</td>\n",
       "      <td>на проведение свадьбы</td>\n",
       "    </tr>\n",
       "    <tr>\n",
       "      <td>9</td>\n",
       "      <td>0</td>\n",
       "      <td>-2188.756445</td>\n",
       "      <td>41</td>\n",
       "      <td>среднее</td>\n",
       "      <td>1</td>\n",
       "      <td>женат / замужем</td>\n",
       "      <td>0</td>\n",
       "      <td>M</td>\n",
       "      <td>сотрудник</td>\n",
       "      <td>0</td>\n",
       "      <td>144425.938277</td>\n",
       "      <td>покупка жилья для семьи</td>\n",
       "    </tr>\n",
       "  </tbody>\n",
       "</table>\n",
       "</div>"
      ],
      "text/plain": [
       "   children  days_employed  dob_years education  education_id  \\\n",
       "0         1   -8437.673028         42    высшее             0   \n",
       "1         1   -4024.803754         36   среднее             1   \n",
       "2         0   -5623.422610         33   Среднее             1   \n",
       "3         3   -4124.747207         32   среднее             1   \n",
       "4         0  340266.072047         53   среднее             1   \n",
       "5         0    -926.185831         27    высшее             0   \n",
       "6         0   -2879.202052         43    высшее             0   \n",
       "7         0    -152.779569         50   СРЕДНЕЕ             1   \n",
       "8         2   -6929.865299         35    ВЫСШЕЕ             0   \n",
       "9         0   -2188.756445         41   среднее             1   \n",
       "\n",
       "      family_status  family_status_id gender income_type  debt   total_income  \\\n",
       "0   женат / замужем                 0      F   сотрудник     0  253875.639453   \n",
       "1   женат / замужем                 0      F   сотрудник     0  112080.014102   \n",
       "2   женат / замужем                 0      M   сотрудник     0  145885.952297   \n",
       "3   женат / замужем                 0      M   сотрудник     0  267628.550329   \n",
       "4  гражданский брак                 1      F   пенсионер     0  158616.077870   \n",
       "5  гражданский брак                 1      M   компаньон     0  255763.565419   \n",
       "6   женат / замужем                 0      F   компаньон     0  240525.971920   \n",
       "7   женат / замужем                 0      M   сотрудник     0  135823.934197   \n",
       "8  гражданский брак                 1      F   сотрудник     0   95856.832424   \n",
       "9   женат / замужем                 0      M   сотрудник     0  144425.938277   \n",
       "\n",
       "                      purpose  \n",
       "0               покупка жилья  \n",
       "1     приобретение автомобиля  \n",
       "2               покупка жилья  \n",
       "3  дополнительное образование  \n",
       "4             сыграть свадьбу  \n",
       "5               покупка жилья  \n",
       "6           операции с жильем  \n",
       "7                 образование  \n",
       "8       на проведение свадьбы  \n",
       "9     покупка жилья для семьи  "
      ]
     },
     "execution_count": 1,
     "metadata": {},
     "output_type": "execute_result"
    }
   ],
   "source": [
    "import pandas as pd \n",
    "clients = pd.read_csv('/datasets/data.csv')  # чтение файла с данными и сохранение в clients\n",
    "clients.head(10)                             # получение первых 10 строк таблицы clients"
   ]
  },
  {
   "cell_type": "code",
   "execution_count": 2,
   "metadata": {},
   "outputs": [
    {
     "name": "stdout",
     "output_type": "stream",
     "text": [
      "<class 'pandas.core.frame.DataFrame'>\n",
      "RangeIndex: 21525 entries, 0 to 21524\n",
      "Data columns (total 12 columns):\n",
      "children            21525 non-null int64\n",
      "days_employed       19351 non-null float64\n",
      "dob_years           21525 non-null int64\n",
      "education           21525 non-null object\n",
      "education_id        21525 non-null int64\n",
      "family_status       21525 non-null object\n",
      "family_status_id    21525 non-null int64\n",
      "gender              21525 non-null object\n",
      "income_type         21525 non-null object\n",
      "debt                21525 non-null int64\n",
      "total_income        19351 non-null float64\n",
      "purpose             21525 non-null object\n",
      "dtypes: float64(2), int64(5), object(5)\n",
      "memory usage: 2.0+ MB\n"
     ]
    }
   ],
   "source": [
    "clients.info() # получение общей информации о данных"
   ]
  },
  {
   "cell_type": "markdown",
   "metadata": {},
   "source": [
    "**Вывод:**\n",
    "Итак, в таблице 12 столбцов, с разными типами данных: object, int64, float64. Бросаются в глаза следующие проблемы с данными:\n",
    "\n",
    "- пропуски;\n",
    "- неудачно выбранный формат отображения данных; \n",
    "- отрицательные значения в столбце `days_employed`;\n",
    "- значения в столбце `education` не приведены к единообразию;\n",
    "- в колонке `purpose` не хватает категоризации.\n",
    "\n",
    "Чтобы двигаться дальше, необходима предобработка."
   ]
  },
  {
   "cell_type": "markdown",
   "metadata": {},
   "source": [
    "## Шаг 2. Предобработка данных"
   ]
  },
  {
   "cell_type": "markdown",
   "metadata": {},
   "source": [
    "### Обработка пропусков"
   ]
  },
  {
   "cell_type": "code",
   "execution_count": 3,
   "metadata": {},
   "outputs": [
    {
     "data": {
      "text/plain": [
       "children               0\n",
       "days_employed       2174\n",
       "dob_years              0\n",
       "education              0\n",
       "education_id           0\n",
       "family_status          0\n",
       "family_status_id       0\n",
       "gender                 0\n",
       "income_type            0\n",
       "debt                   0\n",
       "total_income        2174\n",
       "purpose                0\n",
       "dtype: int64"
      ]
     },
     "execution_count": 3,
     "metadata": {},
     "output_type": "execute_result"
    }
   ],
   "source": [
    "clients.isna().sum() # подсчёт пропусков"
   ]
  },
  {
   "cell_type": "markdown",
   "metadata": {},
   "source": [
    "Взглянем на строки с пропущенными значениями."
   ]
  },
  {
   "cell_type": "code",
   "execution_count": 4,
   "metadata": {},
   "outputs": [
    {
     "data": {
      "text/html": [
       "<div>\n",
       "<style scoped>\n",
       "    .dataframe tbody tr th:only-of-type {\n",
       "        vertical-align: middle;\n",
       "    }\n",
       "\n",
       "    .dataframe tbody tr th {\n",
       "        vertical-align: top;\n",
       "    }\n",
       "\n",
       "    .dataframe thead th {\n",
       "        text-align: right;\n",
       "    }\n",
       "</style>\n",
       "<table border=\"1\" class=\"dataframe\">\n",
       "  <thead>\n",
       "    <tr style=\"text-align: right;\">\n",
       "      <th></th>\n",
       "      <th>children</th>\n",
       "      <th>days_employed</th>\n",
       "      <th>dob_years</th>\n",
       "      <th>education</th>\n",
       "      <th>education_id</th>\n",
       "      <th>family_status</th>\n",
       "      <th>family_status_id</th>\n",
       "      <th>gender</th>\n",
       "      <th>income_type</th>\n",
       "      <th>debt</th>\n",
       "      <th>total_income</th>\n",
       "      <th>purpose</th>\n",
       "    </tr>\n",
       "  </thead>\n",
       "  <tbody>\n",
       "    <tr>\n",
       "      <td>12</td>\n",
       "      <td>0</td>\n",
       "      <td>NaN</td>\n",
       "      <td>65</td>\n",
       "      <td>среднее</td>\n",
       "      <td>1</td>\n",
       "      <td>гражданский брак</td>\n",
       "      <td>1</td>\n",
       "      <td>M</td>\n",
       "      <td>пенсионер</td>\n",
       "      <td>0</td>\n",
       "      <td>NaN</td>\n",
       "      <td>сыграть свадьбу</td>\n",
       "    </tr>\n",
       "    <tr>\n",
       "      <td>26</td>\n",
       "      <td>0</td>\n",
       "      <td>NaN</td>\n",
       "      <td>41</td>\n",
       "      <td>среднее</td>\n",
       "      <td>1</td>\n",
       "      <td>женат / замужем</td>\n",
       "      <td>0</td>\n",
       "      <td>M</td>\n",
       "      <td>госслужащий</td>\n",
       "      <td>0</td>\n",
       "      <td>NaN</td>\n",
       "      <td>образование</td>\n",
       "    </tr>\n",
       "    <tr>\n",
       "      <td>29</td>\n",
       "      <td>0</td>\n",
       "      <td>NaN</td>\n",
       "      <td>63</td>\n",
       "      <td>среднее</td>\n",
       "      <td>1</td>\n",
       "      <td>Не женат / не замужем</td>\n",
       "      <td>4</td>\n",
       "      <td>F</td>\n",
       "      <td>пенсионер</td>\n",
       "      <td>0</td>\n",
       "      <td>NaN</td>\n",
       "      <td>строительство жилой недвижимости</td>\n",
       "    </tr>\n",
       "    <tr>\n",
       "      <td>41</td>\n",
       "      <td>0</td>\n",
       "      <td>NaN</td>\n",
       "      <td>50</td>\n",
       "      <td>среднее</td>\n",
       "      <td>1</td>\n",
       "      <td>женат / замужем</td>\n",
       "      <td>0</td>\n",
       "      <td>F</td>\n",
       "      <td>госслужащий</td>\n",
       "      <td>0</td>\n",
       "      <td>NaN</td>\n",
       "      <td>сделка с подержанным автомобилем</td>\n",
       "    </tr>\n",
       "    <tr>\n",
       "      <td>55</td>\n",
       "      <td>0</td>\n",
       "      <td>NaN</td>\n",
       "      <td>54</td>\n",
       "      <td>среднее</td>\n",
       "      <td>1</td>\n",
       "      <td>гражданский брак</td>\n",
       "      <td>1</td>\n",
       "      <td>F</td>\n",
       "      <td>пенсионер</td>\n",
       "      <td>1</td>\n",
       "      <td>NaN</td>\n",
       "      <td>сыграть свадьбу</td>\n",
       "    </tr>\n",
       "    <tr>\n",
       "      <td>65</td>\n",
       "      <td>0</td>\n",
       "      <td>NaN</td>\n",
       "      <td>21</td>\n",
       "      <td>среднее</td>\n",
       "      <td>1</td>\n",
       "      <td>Не женат / не замужем</td>\n",
       "      <td>4</td>\n",
       "      <td>M</td>\n",
       "      <td>компаньон</td>\n",
       "      <td>0</td>\n",
       "      <td>NaN</td>\n",
       "      <td>операции с коммерческой недвижимостью</td>\n",
       "    </tr>\n",
       "    <tr>\n",
       "      <td>67</td>\n",
       "      <td>0</td>\n",
       "      <td>NaN</td>\n",
       "      <td>52</td>\n",
       "      <td>высшее</td>\n",
       "      <td>0</td>\n",
       "      <td>женат / замужем</td>\n",
       "      <td>0</td>\n",
       "      <td>F</td>\n",
       "      <td>пенсионер</td>\n",
       "      <td>0</td>\n",
       "      <td>NaN</td>\n",
       "      <td>покупка жилья для семьи</td>\n",
       "    </tr>\n",
       "    <tr>\n",
       "      <td>72</td>\n",
       "      <td>1</td>\n",
       "      <td>NaN</td>\n",
       "      <td>32</td>\n",
       "      <td>высшее</td>\n",
       "      <td>0</td>\n",
       "      <td>женат / замужем</td>\n",
       "      <td>0</td>\n",
       "      <td>M</td>\n",
       "      <td>госслужащий</td>\n",
       "      <td>0</td>\n",
       "      <td>NaN</td>\n",
       "      <td>операции с коммерческой недвижимостью</td>\n",
       "    </tr>\n",
       "    <tr>\n",
       "      <td>82</td>\n",
       "      <td>2</td>\n",
       "      <td>NaN</td>\n",
       "      <td>50</td>\n",
       "      <td>высшее</td>\n",
       "      <td>0</td>\n",
       "      <td>женат / замужем</td>\n",
       "      <td>0</td>\n",
       "      <td>F</td>\n",
       "      <td>сотрудник</td>\n",
       "      <td>0</td>\n",
       "      <td>NaN</td>\n",
       "      <td>жилье</td>\n",
       "    </tr>\n",
       "    <tr>\n",
       "      <td>83</td>\n",
       "      <td>0</td>\n",
       "      <td>NaN</td>\n",
       "      <td>52</td>\n",
       "      <td>среднее</td>\n",
       "      <td>1</td>\n",
       "      <td>женат / замужем</td>\n",
       "      <td>0</td>\n",
       "      <td>M</td>\n",
       "      <td>сотрудник</td>\n",
       "      <td>0</td>\n",
       "      <td>NaN</td>\n",
       "      <td>жилье</td>\n",
       "    </tr>\n",
       "  </tbody>\n",
       "</table>\n",
       "</div>"
      ],
      "text/plain": [
       "    children  days_employed  dob_years education  education_id  \\\n",
       "12         0            NaN         65   среднее             1   \n",
       "26         0            NaN         41   среднее             1   \n",
       "29         0            NaN         63   среднее             1   \n",
       "41         0            NaN         50   среднее             1   \n",
       "55         0            NaN         54   среднее             1   \n",
       "65         0            NaN         21   среднее             1   \n",
       "67         0            NaN         52    высшее             0   \n",
       "72         1            NaN         32    высшее             0   \n",
       "82         2            NaN         50    высшее             0   \n",
       "83         0            NaN         52   среднее             1   \n",
       "\n",
       "            family_status  family_status_id gender  income_type  debt  \\\n",
       "12       гражданский брак                 1      M    пенсионер     0   \n",
       "26        женат / замужем                 0      M  госслужащий     0   \n",
       "29  Не женат / не замужем                 4      F    пенсионер     0   \n",
       "41        женат / замужем                 0      F  госслужащий     0   \n",
       "55       гражданский брак                 1      F    пенсионер     1   \n",
       "65  Не женат / не замужем                 4      M    компаньон     0   \n",
       "67        женат / замужем                 0      F    пенсионер     0   \n",
       "72        женат / замужем                 0      M  госслужащий     0   \n",
       "82        женат / замужем                 0      F    сотрудник     0   \n",
       "83        женат / замужем                 0      M    сотрудник     0   \n",
       "\n",
       "    total_income                                purpose  \n",
       "12           NaN                        сыграть свадьбу  \n",
       "26           NaN                            образование  \n",
       "29           NaN       строительство жилой недвижимости  \n",
       "41           NaN       сделка с подержанным автомобилем  \n",
       "55           NaN                        сыграть свадьбу  \n",
       "65           NaN  операции с коммерческой недвижимостью  \n",
       "67           NaN                покупка жилья для семьи  \n",
       "72           NaN  операции с коммерческой недвижимостью  \n",
       "82           NaN                                  жилье  \n",
       "83           NaN                                  жилье  "
      ]
     },
     "execution_count": 4,
     "metadata": {},
     "output_type": "execute_result"
    }
   ],
   "source": [
    "clients[clients['days_employed'].isna()].head(10)"
   ]
  },
  {
   "cell_type": "markdown",
   "metadata": {},
   "source": [
    "Заметим, что они совпадают с пропусками в столбце `total_income`. Скорее всего, недостаток данных обусловлен пропусками в анкетах клиентов. Несмотря на это мы можем использовать их данные для исследования: информация о наличии долга, семейном статусе и количестве детей присутствует."
   ]
  },
  {
   "cell_type": "code",
   "execution_count": 5,
   "metadata": {},
   "outputs": [
    {
     "data": {
      "text/html": [
       "<div>\n",
       "<style scoped>\n",
       "    .dataframe tbody tr th:only-of-type {\n",
       "        vertical-align: middle;\n",
       "    }\n",
       "\n",
       "    .dataframe tbody tr th {\n",
       "        vertical-align: top;\n",
       "    }\n",
       "\n",
       "    .dataframe thead th {\n",
       "        text-align: right;\n",
       "    }\n",
       "</style>\n",
       "<table border=\"1\" class=\"dataframe\">\n",
       "  <thead>\n",
       "    <tr style=\"text-align: right;\">\n",
       "      <th></th>\n",
       "      <th>days_employed</th>\n",
       "      <th>total_income</th>\n",
       "    </tr>\n",
       "  </thead>\n",
       "  <tbody>\n",
       "    <tr>\n",
       "      <td>min</td>\n",
       "      <td>-18388.949901</td>\n",
       "      <td>2.066726e+04</td>\n",
       "    </tr>\n",
       "    <tr>\n",
       "      <td>max</td>\n",
       "      <td>401755.400475</td>\n",
       "      <td>2.265604e+06</td>\n",
       "    </tr>\n",
       "  </tbody>\n",
       "</table>\n",
       "</div>"
      ],
      "text/plain": [
       "     days_employed  total_income\n",
       "min  -18388.949901  2.066726e+04\n",
       "max  401755.400475  2.265604e+06"
      ]
     },
     "execution_count": 5,
     "metadata": {},
     "output_type": "execute_result"
    }
   ],
   "source": [
    "clients.agg({'days_employed': ['min', 'max'], 'total_income': ['min', 'max']}) \n",
    "# метод .agg позволит сделать это для каждого столбца"
   ]
  },
  {
   "cell_type": "markdown",
   "metadata": {},
   "source": [
    "Здесь становятся очевидны большие проблемы со столбцом `days_employed`: \n",
    "- отрицательные значения;\n",
    "- неправдоподобные значения стажа (даже при стаже 50 лет значение не может превышать 50 х 365 = 18250);\n",
    "- неверный формат отображения данных.\n",
    "\n",
    "Постараемся исправить некоторые из эти проблем:"
   ]
  },
  {
   "cell_type": "markdown",
   "metadata": {},
   "source": [
    "Отрицательные значения, очевидно, появились из-за неправильной записи (может использовалось тире?), то есть имел место человеческий фактор. Вместо них должны использоваться те же числа, но со знаком \"+\". Возьмем в столбце `days_employed` числа по модулю и проверим результат."
   ]
  },
  {
   "cell_type": "code",
   "execution_count": 6,
   "metadata": {},
   "outputs": [
    {
     "data": {
      "text/html": [
       "<div>\n",
       "<style scoped>\n",
       "    .dataframe tbody tr th:only-of-type {\n",
       "        vertical-align: middle;\n",
       "    }\n",
       "\n",
       "    .dataframe tbody tr th {\n",
       "        vertical-align: top;\n",
       "    }\n",
       "\n",
       "    .dataframe thead th {\n",
       "        text-align: right;\n",
       "    }\n",
       "</style>\n",
       "<table border=\"1\" class=\"dataframe\">\n",
       "  <thead>\n",
       "    <tr style=\"text-align: right;\">\n",
       "      <th></th>\n",
       "      <th>days_employed</th>\n",
       "      <th>total_income</th>\n",
       "    </tr>\n",
       "  </thead>\n",
       "  <tbody>\n",
       "    <tr>\n",
       "      <td>min</td>\n",
       "      <td>24.141633</td>\n",
       "      <td>2.066726e+04</td>\n",
       "    </tr>\n",
       "    <tr>\n",
       "      <td>max</td>\n",
       "      <td>401755.400475</td>\n",
       "      <td>2.265604e+06</td>\n",
       "    </tr>\n",
       "  </tbody>\n",
       "</table>\n",
       "</div>"
      ],
      "text/plain": [
       "     days_employed  total_income\n",
       "min      24.141633  2.066726e+04\n",
       "max  401755.400475  2.265604e+06"
      ]
     },
     "execution_count": 6,
     "metadata": {},
     "output_type": "execute_result"
    }
   ],
   "source": [
    "clients['days_employed'] = abs(clients['days_employed'])\n",
    "clients.agg({'days_employed': ['min', 'max'], 'total_income': ['min', 'max']})"
   ]
  },
  {
   "cell_type": "code",
   "execution_count": 7,
   "metadata": {},
   "outputs": [
    {
     "data": {
      "text/plain": [
       "3445"
      ]
     },
     "execution_count": 7,
     "metadata": {},
     "output_type": "execute_result"
    }
   ],
   "source": [
    "days_employed_max = clients[clients['days_employed'] > 20000]\n",
    "# возьмем все значения в столбце <days_employed> больше 20000 часов (т.е. более 50 лет)\n",
    "len(days_employed_max)"
   ]
  },
  {
   "cell_type": "code",
   "execution_count": 8,
   "metadata": {},
   "outputs": [
    {
     "data": {
      "text/html": [
       "<div>\n",
       "<style scoped>\n",
       "    .dataframe tbody tr th:only-of-type {\n",
       "        vertical-align: middle;\n",
       "    }\n",
       "\n",
       "    .dataframe tbody tr th {\n",
       "        vertical-align: top;\n",
       "    }\n",
       "\n",
       "    .dataframe thead th {\n",
       "        text-align: right;\n",
       "    }\n",
       "</style>\n",
       "<table border=\"1\" class=\"dataframe\">\n",
       "  <thead>\n",
       "    <tr style=\"text-align: right;\">\n",
       "      <th></th>\n",
       "      <th>children</th>\n",
       "      <th>days_employed</th>\n",
       "      <th>dob_years</th>\n",
       "      <th>education</th>\n",
       "      <th>education_id</th>\n",
       "      <th>family_status</th>\n",
       "      <th>family_status_id</th>\n",
       "      <th>gender</th>\n",
       "      <th>income_type</th>\n",
       "      <th>debt</th>\n",
       "      <th>total_income</th>\n",
       "      <th>purpose</th>\n",
       "    </tr>\n",
       "  </thead>\n",
       "  <tbody>\n",
       "    <tr>\n",
       "      <td>4</td>\n",
       "      <td>0</td>\n",
       "      <td>340266.072047</td>\n",
       "      <td>53</td>\n",
       "      <td>среднее</td>\n",
       "      <td>1</td>\n",
       "      <td>гражданский брак</td>\n",
       "      <td>1</td>\n",
       "      <td>F</td>\n",
       "      <td>пенсионер</td>\n",
       "      <td>0</td>\n",
       "      <td>158616.077870</td>\n",
       "      <td>сыграть свадьбу</td>\n",
       "    </tr>\n",
       "    <tr>\n",
       "      <td>18</td>\n",
       "      <td>0</td>\n",
       "      <td>400281.136913</td>\n",
       "      <td>53</td>\n",
       "      <td>среднее</td>\n",
       "      <td>1</td>\n",
       "      <td>вдовец / вдова</td>\n",
       "      <td>2</td>\n",
       "      <td>F</td>\n",
       "      <td>пенсионер</td>\n",
       "      <td>0</td>\n",
       "      <td>56823.777243</td>\n",
       "      <td>на покупку подержанного автомобиля</td>\n",
       "    </tr>\n",
       "    <tr>\n",
       "      <td>24</td>\n",
       "      <td>1</td>\n",
       "      <td>338551.952911</td>\n",
       "      <td>57</td>\n",
       "      <td>среднее</td>\n",
       "      <td>1</td>\n",
       "      <td>Не женат / не замужем</td>\n",
       "      <td>4</td>\n",
       "      <td>F</td>\n",
       "      <td>пенсионер</td>\n",
       "      <td>0</td>\n",
       "      <td>290547.235997</td>\n",
       "      <td>операции с коммерческой недвижимостью</td>\n",
       "    </tr>\n",
       "    <tr>\n",
       "      <td>25</td>\n",
       "      <td>0</td>\n",
       "      <td>363548.489348</td>\n",
       "      <td>67</td>\n",
       "      <td>среднее</td>\n",
       "      <td>1</td>\n",
       "      <td>женат / замужем</td>\n",
       "      <td>0</td>\n",
       "      <td>M</td>\n",
       "      <td>пенсионер</td>\n",
       "      <td>0</td>\n",
       "      <td>55112.757732</td>\n",
       "      <td>покупка недвижимости</td>\n",
       "    </tr>\n",
       "    <tr>\n",
       "      <td>30</td>\n",
       "      <td>1</td>\n",
       "      <td>335581.668515</td>\n",
       "      <td>62</td>\n",
       "      <td>среднее</td>\n",
       "      <td>1</td>\n",
       "      <td>женат / замужем</td>\n",
       "      <td>0</td>\n",
       "      <td>F</td>\n",
       "      <td>пенсионер</td>\n",
       "      <td>0</td>\n",
       "      <td>171456.067993</td>\n",
       "      <td>операции с коммерческой недвижимостью</td>\n",
       "    </tr>\n",
       "  </tbody>\n",
       "</table>\n",
       "</div>"
      ],
      "text/plain": [
       "    children  days_employed  dob_years education  education_id  \\\n",
       "4          0  340266.072047         53   среднее             1   \n",
       "18         0  400281.136913         53   среднее             1   \n",
       "24         1  338551.952911         57   среднее             1   \n",
       "25         0  363548.489348         67   среднее             1   \n",
       "30         1  335581.668515         62   среднее             1   \n",
       "\n",
       "            family_status  family_status_id gender income_type  debt  \\\n",
       "4        гражданский брак                 1      F   пенсионер     0   \n",
       "18         вдовец / вдова                 2      F   пенсионер     0   \n",
       "24  Не женат / не замужем                 4      F   пенсионер     0   \n",
       "25        женат / замужем                 0      M   пенсионер     0   \n",
       "30        женат / замужем                 0      F   пенсионер     0   \n",
       "\n",
       "     total_income                                purpose  \n",
       "4   158616.077870                        сыграть свадьбу  \n",
       "18   56823.777243     на покупку подержанного автомобиля  \n",
       "24  290547.235997  операции с коммерческой недвижимостью  \n",
       "25   55112.757732                   покупка недвижимости  \n",
       "30  171456.067993  операции с коммерческой недвижимостью  "
      ]
     },
     "execution_count": 8,
     "metadata": {},
     "output_type": "execute_result"
    }
   ],
   "source": [
    "days_employed_max.head()"
   ]
  },
  {
   "cell_type": "markdown",
   "metadata": {},
   "source": [
    "Почти 3,5 тысячи строк заполнены артефактами, не считая пропусков и отрицательных значений. В рабочей ситуации необходимо сигнализировать коллегам о таких проблемах при сборе данных. Но в этом случае обратим внимание, что неправильный сбор данных коснулся в основном пенсионеров. Характер ошибки не ясен, но если разделить значения-артефакты на возраст клиентов, то получатся значения стажа, близкие к разумным. Прежде чем сделать это для всего столбца `days_employed`, проверим данные в столбце `dob_years`."
   ]
  },
  {
   "cell_type": "code",
   "execution_count": 9,
   "metadata": {},
   "outputs": [
    {
     "data": {
      "text/html": [
       "<div>\n",
       "<style scoped>\n",
       "    .dataframe tbody tr th:only-of-type {\n",
       "        vertical-align: middle;\n",
       "    }\n",
       "\n",
       "    .dataframe tbody tr th {\n",
       "        vertical-align: top;\n",
       "    }\n",
       "\n",
       "    .dataframe thead th {\n",
       "        text-align: right;\n",
       "    }\n",
       "</style>\n",
       "<table border=\"1\" class=\"dataframe\">\n",
       "  <thead>\n",
       "    <tr style=\"text-align: right;\">\n",
       "      <th></th>\n",
       "      <th>dob_years</th>\n",
       "    </tr>\n",
       "  </thead>\n",
       "  <tbody>\n",
       "    <tr>\n",
       "      <td>min</td>\n",
       "      <td>0</td>\n",
       "    </tr>\n",
       "    <tr>\n",
       "      <td>max</td>\n",
       "      <td>75</td>\n",
       "    </tr>\n",
       "  </tbody>\n",
       "</table>\n",
       "</div>"
      ],
      "text/plain": [
       "     dob_years\n",
       "min          0\n",
       "max         75"
      ]
     },
     "execution_count": 9,
     "metadata": {},
     "output_type": "execute_result"
    }
   ],
   "source": [
    "clients.agg({'dob_years': ['min', 'max']}) # проверим разброс значений"
   ]
  },
  {
   "cell_type": "code",
   "execution_count": 10,
   "metadata": {},
   "outputs": [
    {
     "data": {
      "text/plain": [
       "101"
      ]
     },
     "execution_count": 10,
     "metadata": {},
     "output_type": "execute_result"
    }
   ],
   "source": [
    "clients['dob_years'].loc[clients['dob_years'] == 0].count() # посчитаем количество нулевых значений"
   ]
  },
  {
   "cell_type": "markdown",
   "metadata": {},
   "source": [
    "Более 100 человек не указали свой возраст. Чтобы заполнить пропуски, используем среднее значение, так как разброс между значениями не очень большой."
   ]
  },
  {
   "cell_type": "code",
   "execution_count": 11,
   "metadata": {},
   "outputs": [
    {
     "data": {
      "text/html": [
       "<div>\n",
       "<style scoped>\n",
       "    .dataframe tbody tr th:only-of-type {\n",
       "        vertical-align: middle;\n",
       "    }\n",
       "\n",
       "    .dataframe tbody tr th {\n",
       "        vertical-align: top;\n",
       "    }\n",
       "\n",
       "    .dataframe thead th {\n",
       "        text-align: right;\n",
       "    }\n",
       "</style>\n",
       "<table border=\"1\" class=\"dataframe\">\n",
       "  <thead>\n",
       "    <tr style=\"text-align: right;\">\n",
       "      <th></th>\n",
       "      <th>dob_years</th>\n",
       "    </tr>\n",
       "  </thead>\n",
       "  <tbody>\n",
       "    <tr>\n",
       "      <td>min</td>\n",
       "      <td>19.0</td>\n",
       "    </tr>\n",
       "    <tr>\n",
       "      <td>max</td>\n",
       "      <td>75.0</td>\n",
       "    </tr>\n",
       "  </tbody>\n",
       "</table>\n",
       "</div>"
      ],
      "text/plain": [
       "     dob_years\n",
       "min       19.0\n",
       "max       75.0"
      ]
     },
     "execution_count": 11,
     "metadata": {},
     "output_type": "execute_result"
    }
   ],
   "source": [
    "clients.loc[clients['dob_years'] == 0, 'dob_years'] = clients['dob_years'].mean()\n",
    "clients.agg({'dob_years': ['min', 'max']}) # обратим внимание, что из-за наших действий столбец `dob_years` изменил тип данных,\n",
    "# с этой проблемой мы справимся позже"
   ]
  },
  {
   "cell_type": "code",
   "execution_count": 12,
   "metadata": {},
   "outputs": [
    {
     "data": {
      "text/html": [
       "<div>\n",
       "<style scoped>\n",
       "    .dataframe tbody tr th:only-of-type {\n",
       "        vertical-align: middle;\n",
       "    }\n",
       "\n",
       "    .dataframe tbody tr th {\n",
       "        vertical-align: top;\n",
       "    }\n",
       "\n",
       "    .dataframe thead th {\n",
       "        text-align: right;\n",
       "    }\n",
       "</style>\n",
       "<table border=\"1\" class=\"dataframe\">\n",
       "  <thead>\n",
       "    <tr style=\"text-align: right;\">\n",
       "      <th></th>\n",
       "      <th>children</th>\n",
       "      <th>days_employed</th>\n",
       "      <th>dob_years</th>\n",
       "      <th>education</th>\n",
       "      <th>education_id</th>\n",
       "      <th>family_status</th>\n",
       "      <th>family_status_id</th>\n",
       "      <th>gender</th>\n",
       "      <th>income_type</th>\n",
       "      <th>debt</th>\n",
       "      <th>total_income</th>\n",
       "      <th>purpose</th>\n",
       "    </tr>\n",
       "  </thead>\n",
       "  <tbody>\n",
       "    <tr>\n",
       "      <td>0</td>\n",
       "      <td>1</td>\n",
       "      <td>8437.673028</td>\n",
       "      <td>42.0</td>\n",
       "      <td>высшее</td>\n",
       "      <td>0</td>\n",
       "      <td>женат / замужем</td>\n",
       "      <td>0</td>\n",
       "      <td>F</td>\n",
       "      <td>сотрудник</td>\n",
       "      <td>0</td>\n",
       "      <td>253875.639453</td>\n",
       "      <td>покупка жилья</td>\n",
       "    </tr>\n",
       "    <tr>\n",
       "      <td>1</td>\n",
       "      <td>1</td>\n",
       "      <td>4024.803754</td>\n",
       "      <td>36.0</td>\n",
       "      <td>среднее</td>\n",
       "      <td>1</td>\n",
       "      <td>женат / замужем</td>\n",
       "      <td>0</td>\n",
       "      <td>F</td>\n",
       "      <td>сотрудник</td>\n",
       "      <td>0</td>\n",
       "      <td>112080.014102</td>\n",
       "      <td>приобретение автомобиля</td>\n",
       "    </tr>\n",
       "    <tr>\n",
       "      <td>2</td>\n",
       "      <td>0</td>\n",
       "      <td>5623.422610</td>\n",
       "      <td>33.0</td>\n",
       "      <td>Среднее</td>\n",
       "      <td>1</td>\n",
       "      <td>женат / замужем</td>\n",
       "      <td>0</td>\n",
       "      <td>M</td>\n",
       "      <td>сотрудник</td>\n",
       "      <td>0</td>\n",
       "      <td>145885.952297</td>\n",
       "      <td>покупка жилья</td>\n",
       "    </tr>\n",
       "    <tr>\n",
       "      <td>3</td>\n",
       "      <td>3</td>\n",
       "      <td>4124.747207</td>\n",
       "      <td>32.0</td>\n",
       "      <td>среднее</td>\n",
       "      <td>1</td>\n",
       "      <td>женат / замужем</td>\n",
       "      <td>0</td>\n",
       "      <td>M</td>\n",
       "      <td>сотрудник</td>\n",
       "      <td>0</td>\n",
       "      <td>267628.550329</td>\n",
       "      <td>дополнительное образование</td>\n",
       "    </tr>\n",
       "    <tr>\n",
       "      <td>4</td>\n",
       "      <td>0</td>\n",
       "      <td>6420.114567</td>\n",
       "      <td>53.0</td>\n",
       "      <td>среднее</td>\n",
       "      <td>1</td>\n",
       "      <td>гражданский брак</td>\n",
       "      <td>1</td>\n",
       "      <td>F</td>\n",
       "      <td>пенсионер</td>\n",
       "      <td>0</td>\n",
       "      <td>158616.077870</td>\n",
       "      <td>сыграть свадьбу</td>\n",
       "    </tr>\n",
       "  </tbody>\n",
       "</table>\n",
       "</div>"
      ],
      "text/plain": [
       "   children  days_employed  dob_years education  education_id  \\\n",
       "0         1    8437.673028       42.0    высшее             0   \n",
       "1         1    4024.803754       36.0   среднее             1   \n",
       "2         0    5623.422610       33.0   Среднее             1   \n",
       "3         3    4124.747207       32.0   среднее             1   \n",
       "4         0    6420.114567       53.0   среднее             1   \n",
       "\n",
       "      family_status  family_status_id gender income_type  debt   total_income  \\\n",
       "0   женат / замужем                 0      F   сотрудник     0  253875.639453   \n",
       "1   женат / замужем                 0      F   сотрудник     0  112080.014102   \n",
       "2   женат / замужем                 0      M   сотрудник     0  145885.952297   \n",
       "3   женат / замужем                 0      M   сотрудник     0  267628.550329   \n",
       "4  гражданский брак                 1      F   пенсионер     0  158616.077870   \n",
       "\n",
       "                      purpose  \n",
       "0               покупка жилья  \n",
       "1     приобретение автомобиля  \n",
       "2               покупка жилья  \n",
       "3  дополнительное образование  \n",
       "4             сыграть свадьбу  "
      ]
     },
     "execution_count": 12,
     "metadata": {},
     "output_type": "execute_result"
    }
   ],
   "source": [
    "for year in clients['days_employed']: #для каждого значения стажа в таблице\n",
    "    if year > 20000:                                                            # для значений свыше 20000 часов\n",
    "        age = clients.loc[clients.loc[:, 'days_employed'] == year]['dob_years'] # запишем возраст в переменную\n",
    "        new_year = year / age                                                   # разделим стаж на возраст\n",
    "        clients['days_employed'] =  clients['days_employed'].replace(year, new_year)  # заменим стаж в исходной таблице новым\n",
    "clients.head() # убедимся, что все прошло успешно"
   ]
  },
  {
   "cell_type": "markdown",
   "metadata": {},
   "source": [
    "<div class=\"alert alert-success\">\n",
    "<h2> Комментарий от ревьюера<a class=\"tocSkip\"></a></h2>\n",
    "Столобец со стажем содержит много некорректных значений(слишком большие, отрицательные). И даже замена на медиану не решит ситуацию. Поскольку в дальнейшем нам этот столбец не нужен, то пропуски можно оставить как есть. Но обязательно сообщить разработчикам базы данных о подобной проблеме во избежании дальнейших неприятностей.\n",
    " \n",
    "</div>"
   ]
  },
  {
   "cell_type": "markdown",
   "metadata": {},
   "source": [
    "<a id='num_1'></a>\n",
    "<div class=\"alert alert-danger\"> Согласна, что заменять значения в столбцах `days_employed` и `total_income` неправильно. Делаю это исключительно для тренировки, но не могу придумать ничего лучше медианы:( Чтобы зарплаты разных категорий не так сильно сливались, пришла мысль вычислить медиану для той или иной категории отдельно."
   ]
  },
  {
   "cell_type": "code",
   "execution_count": 13,
   "metadata": {},
   "outputs": [],
   "source": [
    "for types in clients['income_type'].unique():    # для каждого типа занятости\n",
    "    median = clients.loc[clients['income_type'] == types, 'total_income'].median() # посчитать медиану дохода, записать переменную\n",
    "    clients.loc[(clients['total_income'].isna()) & (clients['income_type'] == types), 'total_income'] = median\n",
    "    # в строках, где есть пропуск в столбце 'total_income' и указан этот тип занятости подставить переменную в 'total_income'"
   ]
  },
  {
   "cell_type": "code",
   "execution_count": 14,
   "metadata": {},
   "outputs": [],
   "source": [
    "for years in clients['dob_years'].unique(): # аналогично рассчитаем медиану для 'days_employed' в зависимости от возраста\n",
    "    median = clients.loc[clients['dob_years'] == years, 'days_employed'].median()\n",
    "    clients.loc[(clients['days_employed'].isna()) & (clients['dob_years'] == years), 'days_employed'] = median\n",
    "    # заполним пропуски по тому же принципу "
   ]
  },
  {
   "cell_type": "code",
   "execution_count": 15,
   "metadata": {},
   "outputs": [
    {
     "data": {
      "text/plain": [
       "children            0\n",
       "days_employed       0\n",
       "dob_years           0\n",
       "education           0\n",
       "education_id        0\n",
       "family_status       0\n",
       "family_status_id    0\n",
       "gender              0\n",
       "income_type         0\n",
       "debt                0\n",
       "total_income        0\n",
       "purpose             0\n",
       "dtype: int64"
      ]
     },
     "execution_count": 15,
     "metadata": {},
     "output_type": "execute_result"
    }
   ],
   "source": [
    "clients.isna().sum() # проверяем результат"
   ]
  },
  {
   "cell_type": "markdown",
   "metadata": {},
   "source": [
    "<div class=\"alert alert-danger\">\n",
    "<h2> Комментарий от ревьюера<a class=\"tocSkip\"></a></h2>\n",
    "Хм, но при такой замене в тех сторках, где были пропуски, зарплата у госслжащего и пенсионера будет одинаковая. Как думаешь, как можно решить эту проблему?\n",
    "    \n",
    " \n",
    "</div>"
   ]
  },
  {
   "cell_type": "markdown",
   "metadata": {},
   "source": [
    "**Вывод:**"
   ]
  },
  {
   "cell_type": "markdown",
   "metadata": {},
   "source": [
    "<div class=\"alert alert-info\"> Мы проверили наличие пропусков в датафрейме, установили закономерности в их появлении и выявили проблемы при сборе информации, большое количество артефактов и отрицательные значения. В реальных условиях исправлять их самостоятельно некорректно: необходимо привлекать коллег и искать причину. В учебных условиях отрицательные значения заменили положительными, артефакты привели к адекватным значениям, пропуски заполнили медианным или средним значением, поскольку имеем "
   ]
  },
  {
   "cell_type": "markdown",
   "metadata": {},
   "source": [
    "<div class=\"alert alert-success\">\n",
    "<h2> Комментарий от ревьюера 2<a class=\"tocSkip\"></a></h2>\n",
    "Конечно, уровень дохода сильно зависит от типа занятости и от возраста. Ты сделала все правильно, сгруппировав данные по какому-либо признаку. Кстати, в данном случае очень удобно воспользоваться методом <a href='https://pandas.pydata.org/docs/reference/api/pandas.DataFrame.transform.html'>transform()</a>\n",
    "</div>"
   ]
  },
  {
   "cell_type": "markdown",
   "metadata": {},
   "source": [
    "### Замена типа данных"
   ]
  },
  {
   "cell_type": "code",
   "execution_count": 16,
   "metadata": {},
   "outputs": [
    {
     "name": "stdout",
     "output_type": "stream",
     "text": [
      "<class 'pandas.core.frame.DataFrame'>\n",
      "RangeIndex: 21525 entries, 0 to 21524\n",
      "Data columns (total 12 columns):\n",
      "children            21525 non-null int64\n",
      "days_employed       21525 non-null float64\n",
      "dob_years           21525 non-null float64\n",
      "education           21525 non-null object\n",
      "education_id        21525 non-null int64\n",
      "family_status       21525 non-null object\n",
      "family_status_id    21525 non-null int64\n",
      "gender              21525 non-null object\n",
      "income_type         21525 non-null object\n",
      "debt                21525 non-null int64\n",
      "total_income        21525 non-null float64\n",
      "purpose             21525 non-null object\n",
      "dtypes: float64(3), int64(4), object(5)\n",
      "memory usage: 2.0+ MB\n"
     ]
    }
   ],
   "source": [
    "clients.info() # взглянем еще раз на тип данных в таблице, чтобы выявить проблемы"
   ]
  },
  {
   "cell_type": "markdown",
   "metadata": {},
   "source": [
    "В столбце `days_employed` явно использован неверный тип данных float64, хотя для подсчета количества дней нужны целые числа. В столбце `total_income` такой тип данных возможен (например, при делении дохода за год на 12), но неудобен для визуального восприятия. А столбец `dob_years` - результат наших действий. Изменим тип данных во всех трех столбцах. Для этого выберем метод `astype`, потому что нам нужно перевести данные в формат 'int'."
   ]
  },
  {
   "cell_type": "code",
   "execution_count": 17,
   "metadata": {},
   "outputs": [
    {
     "name": "stdout",
     "output_type": "stream",
     "text": [
      "<class 'pandas.core.frame.DataFrame'>\n",
      "RangeIndex: 21525 entries, 0 to 21524\n",
      "Data columns (total 12 columns):\n",
      "children            21525 non-null int64\n",
      "days_employed       21525 non-null int64\n",
      "dob_years           21525 non-null int64\n",
      "education           21525 non-null object\n",
      "education_id        21525 non-null int64\n",
      "family_status       21525 non-null object\n",
      "family_status_id    21525 non-null int64\n",
      "gender              21525 non-null object\n",
      "income_type         21525 non-null object\n",
      "debt                21525 non-null int64\n",
      "total_income        21525 non-null int64\n",
      "purpose             21525 non-null object\n",
      "dtypes: int64(7), object(5)\n",
      "memory usage: 2.0+ MB\n"
     ]
    }
   ],
   "source": [
    "def replace_wrong_types(columns, correct_type): # Создадим функцию для замены типов данных В качестве аргументов возьмем \n",
    "    for column in columns:                      # названия столбцов, где нужно произвести замену и нужный тип данных\n",
    "        try:\n",
    "            clients[column] = clients[column].astype(correct_type) # применим метод .astype() к столбцу и перезапишем его\n",
    "        except:\n",
    "            print('Ошибка в данных в столбце:', column) # в случае ошибки выведем название столбца, где ее искать\n",
    "    \n",
    "columns = ['days_employed', 'total_income', 'dob_years'] # список столбцов, где требуется замена\n",
    "correct_type = 'int'                                     # нужный тип данных\n",
    "replace_wrong_types(columns, correct_type)               # вызов функции\n",
    "clients.info()                                           # проверяем результат"
   ]
  },
  {
   "cell_type": "markdown",
   "metadata": {},
   "source": [
    "**Вывод**\n"
   ]
  },
  {
   "cell_type": "markdown",
   "metadata": {},
   "source": [
    "<div class=\"alert alert-info\"> В замене типа данных нуждались три столбца. Для этой цели используем функцию с методом *.astype()*. Он более универсален чем *to_numeric()*  и переводит данные в любой тип. Но необходимо предусмотреть возможность возникновения ошибки с помощью конструкции `try/except` (например, если появятся новые строки с пустыми значениями). В этом случае мы узнаем столбец, где она возникла."
   ]
  },
  {
   "cell_type": "markdown",
   "metadata": {},
   "source": [
    "<div class=\"alert alert-success\">\n",
    "<h2> Комментарий от ревьюера<a class=\"tocSkip\"></a></h2>\n",
    "Отлично, теперь все столбцы имеют корректный тип данных\n",
    "    \n",
    " \n",
    "</div>"
   ]
  },
  {
   "cell_type": "markdown",
   "metadata": {},
   "source": [
    "### Обработка дубликатов"
   ]
  },
  {
   "cell_type": "markdown",
   "metadata": {},
   "source": [
    "<div class=\"alert alert-danger\"> Да, не подумала о том, что регистр влияет на подсчет дубликатов. Постаралась исправить. \n",
    "    <a id='num_2'></a>"
   ]
  },
  {
   "cell_type": "markdown",
   "metadata": {},
   "source": [
    "[Возврат к ссылкам](#content)"
   ]
  },
  {
   "cell_type": "code",
   "execution_count": 18,
   "metadata": {},
   "outputs": [],
   "source": [
    "clients['education'] = clients['education'].str.lower() # приведем столбцы со строками к единому регистру\n",
    "clients['family_status'] = clients['family_status'].str.lower()"
   ]
  },
  {
   "cell_type": "code",
   "execution_count": 19,
   "metadata": {},
   "outputs": [
    {
     "data": {
      "text/html": [
       "<div>\n",
       "<style scoped>\n",
       "    .dataframe tbody tr th:only-of-type {\n",
       "        vertical-align: middle;\n",
       "    }\n",
       "\n",
       "    .dataframe tbody tr th {\n",
       "        vertical-align: top;\n",
       "    }\n",
       "\n",
       "    .dataframe thead th {\n",
       "        text-align: right;\n",
       "    }\n",
       "</style>\n",
       "<table border=\"1\" class=\"dataframe\">\n",
       "  <thead>\n",
       "    <tr style=\"text-align: right;\">\n",
       "      <th></th>\n",
       "      <th>children</th>\n",
       "      <th>days_employed</th>\n",
       "      <th>dob_years</th>\n",
       "      <th>education</th>\n",
       "      <th>education_id</th>\n",
       "      <th>family_status</th>\n",
       "      <th>family_status_id</th>\n",
       "      <th>gender</th>\n",
       "      <th>income_type</th>\n",
       "      <th>debt</th>\n",
       "      <th>total_income</th>\n",
       "      <th>purpose</th>\n",
       "    </tr>\n",
       "  </thead>\n",
       "  <tbody>\n",
       "    <tr>\n",
       "      <td>15892</td>\n",
       "      <td>0</td>\n",
       "      <td>690</td>\n",
       "      <td>23</td>\n",
       "      <td>среднее</td>\n",
       "      <td>1</td>\n",
       "      <td>не женат / не замужем</td>\n",
       "      <td>4</td>\n",
       "      <td>F</td>\n",
       "      <td>сотрудник</td>\n",
       "      <td>0</td>\n",
       "      <td>142594</td>\n",
       "      <td>сделка с подержанным автомобилем</td>\n",
       "    </tr>\n",
       "    <tr>\n",
       "      <td>19321</td>\n",
       "      <td>0</td>\n",
       "      <td>690</td>\n",
       "      <td>23</td>\n",
       "      <td>среднее</td>\n",
       "      <td>1</td>\n",
       "      <td>не женат / не замужем</td>\n",
       "      <td>4</td>\n",
       "      <td>F</td>\n",
       "      <td>сотрудник</td>\n",
       "      <td>0</td>\n",
       "      <td>142594</td>\n",
       "      <td>сделка с подержанным автомобилем</td>\n",
       "    </tr>\n",
       "    <tr>\n",
       "      <td>3452</td>\n",
       "      <td>0</td>\n",
       "      <td>1315</td>\n",
       "      <td>29</td>\n",
       "      <td>высшее</td>\n",
       "      <td>0</td>\n",
       "      <td>женат / замужем</td>\n",
       "      <td>0</td>\n",
       "      <td>M</td>\n",
       "      <td>сотрудник</td>\n",
       "      <td>0</td>\n",
       "      <td>142594</td>\n",
       "      <td>покупка жилой недвижимости</td>\n",
       "    </tr>\n",
       "    <tr>\n",
       "      <td>18328</td>\n",
       "      <td>0</td>\n",
       "      <td>1315</td>\n",
       "      <td>29</td>\n",
       "      <td>высшее</td>\n",
       "      <td>0</td>\n",
       "      <td>женат / замужем</td>\n",
       "      <td>0</td>\n",
       "      <td>M</td>\n",
       "      <td>сотрудник</td>\n",
       "      <td>0</td>\n",
       "      <td>142594</td>\n",
       "      <td>покупка жилой недвижимости</td>\n",
       "    </tr>\n",
       "    <tr>\n",
       "      <td>4216</td>\n",
       "      <td>0</td>\n",
       "      <td>1420</td>\n",
       "      <td>30</td>\n",
       "      <td>среднее</td>\n",
       "      <td>1</td>\n",
       "      <td>женат / замужем</td>\n",
       "      <td>0</td>\n",
       "      <td>M</td>\n",
       "      <td>сотрудник</td>\n",
       "      <td>0</td>\n",
       "      <td>142594</td>\n",
       "      <td>строительство жилой недвижимости</td>\n",
       "    </tr>\n",
       "    <tr>\n",
       "      <td>...</td>\n",
       "      <td>...</td>\n",
       "      <td>...</td>\n",
       "      <td>...</td>\n",
       "      <td>...</td>\n",
       "      <td>...</td>\n",
       "      <td>...</td>\n",
       "      <td>...</td>\n",
       "      <td>...</td>\n",
       "      <td>...</td>\n",
       "      <td>...</td>\n",
       "      <td>...</td>\n",
       "      <td>...</td>\n",
       "    </tr>\n",
       "    <tr>\n",
       "      <td>9238</td>\n",
       "      <td>2</td>\n",
       "      <td>1615</td>\n",
       "      <td>34</td>\n",
       "      <td>среднее</td>\n",
       "      <td>1</td>\n",
       "      <td>женат / замужем</td>\n",
       "      <td>0</td>\n",
       "      <td>F</td>\n",
       "      <td>сотрудник</td>\n",
       "      <td>0</td>\n",
       "      <td>142594</td>\n",
       "      <td>покупка жилья для сдачи</td>\n",
       "    </tr>\n",
       "    <tr>\n",
       "      <td>9013</td>\n",
       "      <td>2</td>\n",
       "      <td>1799</td>\n",
       "      <td>36</td>\n",
       "      <td>высшее</td>\n",
       "      <td>0</td>\n",
       "      <td>женат / замужем</td>\n",
       "      <td>0</td>\n",
       "      <td>F</td>\n",
       "      <td>госслужащий</td>\n",
       "      <td>0</td>\n",
       "      <td>150447</td>\n",
       "      <td>получение образования</td>\n",
       "    </tr>\n",
       "    <tr>\n",
       "      <td>14432</td>\n",
       "      <td>2</td>\n",
       "      <td>1799</td>\n",
       "      <td>36</td>\n",
       "      <td>высшее</td>\n",
       "      <td>0</td>\n",
       "      <td>женат / замужем</td>\n",
       "      <td>0</td>\n",
       "      <td>F</td>\n",
       "      <td>госслужащий</td>\n",
       "      <td>0</td>\n",
       "      <td>150447</td>\n",
       "      <td>получение образования</td>\n",
       "    </tr>\n",
       "    <tr>\n",
       "      <td>11033</td>\n",
       "      <td>2</td>\n",
       "      <td>1891</td>\n",
       "      <td>39</td>\n",
       "      <td>среднее</td>\n",
       "      <td>1</td>\n",
       "      <td>гражданский брак</td>\n",
       "      <td>1</td>\n",
       "      <td>F</td>\n",
       "      <td>сотрудник</td>\n",
       "      <td>0</td>\n",
       "      <td>142594</td>\n",
       "      <td>сыграть свадьбу</td>\n",
       "    </tr>\n",
       "    <tr>\n",
       "      <td>16902</td>\n",
       "      <td>2</td>\n",
       "      <td>1891</td>\n",
       "      <td>39</td>\n",
       "      <td>среднее</td>\n",
       "      <td>1</td>\n",
       "      <td>гражданский брак</td>\n",
       "      <td>1</td>\n",
       "      <td>F</td>\n",
       "      <td>сотрудник</td>\n",
       "      <td>0</td>\n",
       "      <td>142594</td>\n",
       "      <td>сыграть свадьбу</td>\n",
       "    </tr>\n",
       "  </tbody>\n",
       "</table>\n",
       "<p>137 rows × 12 columns</p>\n",
       "</div>"
      ],
      "text/plain": [
       "       children  days_employed  dob_years education  education_id  \\\n",
       "15892         0            690         23   среднее             1   \n",
       "19321         0            690         23   среднее             1   \n",
       "3452          0           1315         29    высшее             0   \n",
       "18328         0           1315         29    высшее             0   \n",
       "4216          0           1420         30   среднее             1   \n",
       "...         ...            ...        ...       ...           ...   \n",
       "9238          2           1615         34   среднее             1   \n",
       "9013          2           1799         36    высшее             0   \n",
       "14432         2           1799         36    высшее             0   \n",
       "11033         2           1891         39   среднее             1   \n",
       "16902         2           1891         39   среднее             1   \n",
       "\n",
       "               family_status  family_status_id gender  income_type  debt  \\\n",
       "15892  не женат / не замужем                 4      F    сотрудник     0   \n",
       "19321  не женат / не замужем                 4      F    сотрудник     0   \n",
       "3452         женат / замужем                 0      M    сотрудник     0   \n",
       "18328        женат / замужем                 0      M    сотрудник     0   \n",
       "4216         женат / замужем                 0      M    сотрудник     0   \n",
       "...                      ...               ...    ...          ...   ...   \n",
       "9238         женат / замужем                 0      F    сотрудник     0   \n",
       "9013         женат / замужем                 0      F  госслужащий     0   \n",
       "14432        женат / замужем                 0      F  госслужащий     0   \n",
       "11033       гражданский брак                 1      F    сотрудник     0   \n",
       "16902       гражданский брак                 1      F    сотрудник     0   \n",
       "\n",
       "       total_income                           purpose  \n",
       "15892        142594  сделка с подержанным автомобилем  \n",
       "19321        142594  сделка с подержанным автомобилем  \n",
       "3452         142594        покупка жилой недвижимости  \n",
       "18328        142594        покупка жилой недвижимости  \n",
       "4216         142594  строительство жилой недвижимости  \n",
       "...             ...                               ...  \n",
       "9238         142594           покупка жилья для сдачи  \n",
       "9013         150447             получение образования  \n",
       "14432        150447             получение образования  \n",
       "11033        142594                   сыграть свадьбу  \n",
       "16902        142594                   сыграть свадьбу  \n",
       "\n",
       "[137 rows x 12 columns]"
      ]
     },
     "execution_count": 19,
     "metadata": {},
     "output_type": "execute_result"
    }
   ],
   "source": [
    "clients[clients.duplicated(keep=False)].sort_values(by = list(clients.columns)) # поиск явных дубликатов"
   ]
  },
  {
   "cell_type": "code",
   "execution_count": 20,
   "metadata": {},
   "outputs": [],
   "source": [
    "clients = clients.drop_duplicates().reset_index(drop=True) # удалим явных дубликатов и перезапишем индексы"
   ]
  },
  {
   "cell_type": "code",
   "execution_count": 21,
   "metadata": {},
   "outputs": [
    {
     "name": "stdout",
     "output_type": "stream",
     "text": [
      "<class 'pandas.core.frame.DataFrame'>\n",
      "RangeIndex: 21454 entries, 0 to 21453\n",
      "Data columns (total 12 columns):\n",
      "children            21454 non-null int64\n",
      "days_employed       21454 non-null int64\n",
      "dob_years           21454 non-null int64\n",
      "education           21454 non-null object\n",
      "education_id        21454 non-null int64\n",
      "family_status       21454 non-null object\n",
      "family_status_id    21454 non-null int64\n",
      "gender              21454 non-null object\n",
      "income_type         21454 non-null object\n",
      "debt                21454 non-null int64\n",
      "total_income        21454 non-null int64\n",
      "purpose             21454 non-null object\n",
      "dtypes: int64(7), object(5)\n",
      "memory usage: 2.0+ MB\n"
     ]
    }
   ],
   "source": [
    "clients.info() # проверка: количество строк изменилось"
   ]
  },
  {
   "cell_type": "markdown",
   "metadata": {},
   "source": [
    "Возможно, дубликаты возникли потому, что одна и та же информация о клиенте поступала в датасет из нескольких источников. Такие дубликаты относятся к явным и легко удаляются методами pandas. Но есть еще неявные дубликаты. Их придется искать отдельно в каждом столбце. Для удобства добавим новые разделы к оглавлению."
   ]
  },
  {
   "cell_type": "markdown",
   "metadata": {},
   "source": [
    "<div class=\"alert alert-warning\">\n",
    "<h2> Комментарий от ревьюера<a class=\"tocSkip\"></a></h2>\n",
    "Здесь важно обратить внимание на то, что сначала необходимо привести текстовый формат данных к единому виду(регистр), а затем проверять на дубликаты. Иначе результат может получится другой.\n",
    " \n",
    "</div>"
   ]
  },
  {
   "cell_type": "markdown",
   "metadata": {},
   "source": [
    "<div class=\"alert alert-success\">\n",
    "<h2> Комментарий от ревьюера 2<a class=\"tocSkip\"></a></h2>\n",
    "👍\n",
    "</div>"
   ]
  },
  {
   "cell_type": "markdown",
   "metadata": {},
   "source": [
    "#### Столбец \"children\""
   ]
  },
  {
   "cell_type": "code",
   "execution_count": 22,
   "metadata": {},
   "outputs": [
    {
     "data": {
      "text/plain": [
       " 0     14091\n",
       " 1      4808\n",
       " 2      2052\n",
       " 3       330\n",
       " 20       76\n",
       "-1        47\n",
       " 4        41\n",
       " 5         9\n",
       "Name: children, dtype: int64"
      ]
     },
     "execution_count": 22,
     "metadata": {},
     "output_type": "execute_result"
    }
   ],
   "source": [
    "clients['children'].value_counts() # посчитаем количество уникальных значений в столбце"
   ]
  },
  {
   "cell_type": "markdown",
   "metadata": {},
   "source": [
    "Очевидно, что не бывает -1 ребенка, скорее всего это неправильно записанная единица. Двадцати детей тоже быть не может, особенно почти в 80 семьях. Предположим, что таким образом ошибочно были записаны двое детей. Их нужно считать вместе с аналогичными значениями. Исправим и проверим результат. "
   ]
  },
  {
   "cell_type": "code",
   "execution_count": 23,
   "metadata": {},
   "outputs": [
    {
     "data": {
      "text/plain": [
       "0    14091\n",
       "1     4855\n",
       "2     2128\n",
       "3      330\n",
       "4       41\n",
       "5        9\n",
       "Name: children, dtype: int64"
      ]
     },
     "execution_count": 23,
     "metadata": {},
     "output_type": "execute_result"
    }
   ],
   "source": [
    "clients['children'] = clients['children'].replace({20: 2, -1: 1}) # замена ошибочных значений на верные\n",
    "clients['children'].value_counts() # проверка "
   ]
  },
  {
   "cell_type": "markdown",
   "metadata": {},
   "source": [
    "#### Столбцы \"education\" и \"education_id\""
   ]
  },
  {
   "cell_type": "code",
   "execution_count": 24,
   "metadata": {},
   "outputs": [
    {
     "data": {
      "text/plain": [
       "education            education_id\n",
       "высшее               0                5250\n",
       "начальное            3                 282\n",
       "неоконченное высшее  2                 744\n",
       "среднее              1               15172\n",
       "ученая степень       4                   6\n",
       "Name: education_id, dtype: int64"
      ]
     },
     "execution_count": 24,
     "metadata": {},
     "output_type": "execute_result"
    }
   ],
   "source": [
    "clients.groupby('education')['education_id'].value_counts() # проверим как соотносятся различные значения образования \n",
    "# и их идентификаторы"
   ]
  },
  {
   "cell_type": "markdown",
   "metadata": {},
   "source": [
    "Обращают на себя внимание три категории 2, 3, 4: они очень малочислены. Мы можем объединить \"неоконченное высшее\" и \"начальное образование\", так как под последним, очевидно, имеется ввиду законченное школьное обучение (в России этот этап обязателен), а \"неоконченное высшее\" всего на несколько лет отличается от него. А вот \"ученая степень\" может быть отнесена к высшему образованию. Так категории станут компактнее и проще поддадутся анализу. При замене нужно учесть сбой идентификаторов из соседнего столбца `education_id`."
   ]
  },
  {
   "cell_type": "code",
   "execution_count": 25,
   "metadata": {},
   "outputs": [],
   "source": [
    "clients['education'] = clients['education'].replace({'начальное': 'неоконченное высшее', 'ученая степень': 'высшее'})\n",
    "clients['education_id'] = clients['education_id'].replace({3: 2, 4: 0})"
   ]
  },
  {
   "cell_type": "code",
   "execution_count": 26,
   "metadata": {},
   "outputs": [
    {
     "data": {
      "text/plain": [
       "среднее                15172\n",
       "высшее                  5256\n",
       "неоконченное высшее     1026\n",
       "Name: education, dtype: int64"
      ]
     },
     "execution_count": 26,
     "metadata": {},
     "output_type": "execute_result"
    }
   ],
   "source": [
    "clients['education'].value_counts() "
   ]
  },
  {
   "cell_type": "markdown",
   "metadata": {},
   "source": [
    "#### Столбцы \"family_status\" и \"family_status_id\""
   ]
  },
  {
   "cell_type": "code",
   "execution_count": 27,
   "metadata": {},
   "outputs": [
    {
     "data": {
      "text/plain": [
       "family_status          family_status_id\n",
       "в разводе              3                    1195\n",
       "вдовец / вдова         2                     959\n",
       "гражданский брак       1                    4151\n",
       "женат / замужем        0                   12339\n",
       "не женат / не замужем  4                    2810\n",
       "Name: family_status_id, dtype: int64"
      ]
     },
     "execution_count": 27,
     "metadata": {},
     "output_type": "execute_result"
    }
   ],
   "source": [
    "clients.groupby('family_status')['family_status_id'].value_counts() # посчитаем разнообразие вариантов в столбце `family_status`"
   ]
  },
  {
   "cell_type": "markdown",
   "metadata": {},
   "source": [
    "Проблем в столбце не обнаружено."
   ]
  },
  {
   "cell_type": "markdown",
   "metadata": {},
   "source": [
    "#### Столбец \"gender\""
   ]
  },
  {
   "cell_type": "code",
   "execution_count": 28,
   "metadata": {},
   "outputs": [
    {
     "data": {
      "text/plain": [
       "F      14174\n",
       "M       7279\n",
       "XNA        1\n",
       "Name: gender, dtype: int64"
      ]
     },
     "execution_count": 28,
     "metadata": {},
     "output_type": "execute_result"
    }
   ],
   "source": [
    "clients['gender'].value_counts()"
   ]
  },
  {
   "cell_type": "markdown",
   "metadata": {},
   "source": [
    "Как выяснилось, в наших данных существует еще один пропуск, а именно не указан пол одного из клиентов. В данном исследовании пол клиента не играет значения, поэтому не станем присваивать здесь какое-то определенное значение. Лучше заменим непонятное сокращение на \"unknown\"."
   ]
  },
  {
   "cell_type": "code",
   "execution_count": 29,
   "metadata": {},
   "outputs": [],
   "source": [
    "clients['gender'] = clients['gender'].replace('XNA', 'unknown')"
   ]
  },
  {
   "cell_type": "markdown",
   "metadata": {},
   "source": [
    "#### Столбец \"income_type\""
   ]
  },
  {
   "cell_type": "code",
   "execution_count": 30,
   "metadata": {},
   "outputs": [
    {
     "data": {
      "text/plain": [
       "сотрудник          11084\n",
       "компаньон           5078\n",
       "пенсионер           3829\n",
       "госслужащий         1457\n",
       "безработный            2\n",
       "предприниматель        2\n",
       "в декрете              1\n",
       "студент                1\n",
       "Name: income_type, dtype: int64"
      ]
     },
     "execution_count": 30,
     "metadata": {},
     "output_type": "execute_result"
    }
   ],
   "source": [
    "clients['income_type'].value_counts() # посчитаем все уникальные значения в этом столбце и увидим, что некоторые \n",
    "# из них очень малочислены, т. е. могут быть объединены с другими для компактности."
   ]
  },
  {
   "cell_type": "code",
   "execution_count": 31,
   "metadata": {},
   "outputs": [
    {
     "data": {
      "text/plain": [
       "сотрудник      11085\n",
       "компаньон       5080\n",
       "пенсионер       3829\n",
       "госслужащий     1457\n",
       "безработный        3\n",
       "Name: income_type, dtype: int64"
      ]
     },
     "execution_count": 31,
     "metadata": {},
     "output_type": "execute_result"
    }
   ],
   "source": [
    "clients['income_type'] = clients['income_type'].replace({'предприниматель': 'компаньон', 'студент': 'безработный', 'в декрете': 'сотрудник'}) \n",
    "# замена ошибочных значений на верные\n",
    "clients['income_type'].value_counts()"
   ]
  },
  {
   "cell_type": "markdown",
   "metadata": {},
   "source": [
    "Предпринимателей объединим с компаньонами в бизнесе, студента отнесем к безработным, клиента в декрете - к сотрудникам, поскольку он/она все еще является сотрудником той или иной организации. Объединить всех безработных с другой категорией (например, пенсионерами) невозможно, так как будет наблюдаться разница в возрасте среди клиентов. Кроме того, у безработного может появиться работа, тогда категория изменится."
   ]
  },
  {
   "cell_type": "markdown",
   "metadata": {},
   "source": [
    "#### Столбец \"debt\""
   ]
  },
  {
   "cell_type": "code",
   "execution_count": 32,
   "metadata": {},
   "outputs": [
    {
     "data": {
      "text/plain": [
       "0    19713\n",
       "1     1741\n",
       "Name: debt, dtype: int64"
      ]
     },
     "execution_count": 32,
     "metadata": {},
     "output_type": "execute_result"
    }
   ],
   "source": [
    "clients['debt'].value_counts()"
   ]
  },
  {
   "cell_type": "markdown",
   "metadata": {},
   "source": [
    "Здесь никаких проблем не обнаружено. В столбце только два значения, обозначающих была или нет задолженность по кредиту."
   ]
  },
  {
   "cell_type": "markdown",
   "metadata": {},
   "source": [
    "**Вывод**"
   ]
  },
  {
   "cell_type": "markdown",
   "metadata": {},
   "source": [
    "<div class=\"alert alert-info\"> В первую очередь выявили и удалили явные дубликаты. Неявные дубликаты пришлось искать вручную в каждом столбце отдельно, поскольку в них содержится разная информация. В некоторых столбцах были исправлены ошибки при вводе данных, унифицирован регистр, заполнены пропуски, незамеченные ранее, а также удалены лишние категории. Для этих целей были использованы подсчет уникальных значений, замена, приведение к единому регистру для строк. \n",
    "    \n",
    "По результатам данного этапа можно обосновать необходимость категоризации данных, так как разделять на отдельные категории людей, имеющих 3 и более детей нецелесообразно. То же самое касается столбца с информацией об образовании и целях кредита.\n",
    "В последнем даже невооруженным взглядом видно, что многие цели дублируют друг друга, и необходима предварительная лемматизация, чтобы привести все данные к единообразию. "
   ]
  },
  {
   "cell_type": "markdown",
   "metadata": {},
   "source": [
    "<div class=\"alert alert-success\">\n",
    "<h2> Комментарий от ревьюера<a class=\"tocSkip\"></a></h2>\n",
    "Супер, данные корректны, можно приступать к следующей части исследования)\n",
    "</div>"
   ]
  },
  {
   "cell_type": "markdown",
   "metadata": {},
   "source": [
    "### Лемматизация"
   ]
  },
  {
   "cell_type": "code",
   "execution_count": 33,
   "metadata": {},
   "outputs": [
    {
     "data": {
      "text/plain": [
       "свадьба                                   791\n",
       "на проведение свадьбы                     768\n",
       "сыграть свадьбу                           765\n",
       "операции с недвижимостью                  675\n",
       "покупка коммерческой недвижимости         661\n",
       "операции с жильем                         652\n",
       "покупка жилья для сдачи                   651\n",
       "операции с коммерческой недвижимостью     650\n",
       "жилье                                     646\n",
       "покупка жилья                             646\n",
       "покупка жилья для семьи                   638\n",
       "строительство собственной недвижимости    635\n",
       "недвижимость                              633\n",
       "операции со своей недвижимостью           627\n",
       "строительство жилой недвижимости          624\n",
       "покупка недвижимости                      621\n",
       "покупка своего жилья                      620\n",
       "строительство недвижимости                619\n",
       "ремонт жилью                              607\n",
       "покупка жилой недвижимости                606\n",
       "на покупку своего автомобиля              505\n",
       "заняться высшим образованием              496\n",
       "автомобиль                                494\n",
       "сделка с подержанным автомобилем          486\n",
       "автомобили                                478\n",
       "свой автомобиль                           478\n",
       "на покупку подержанного автомобиля        478\n",
       "на покупку автомобиля                     471\n",
       "приобретение автомобиля                   461\n",
       "дополнительное образование                460\n",
       "сделка с автомобилем                      455\n",
       "высшее образование                        452\n",
       "образование                               447\n",
       "получение дополнительного образования     446\n",
       "получение образования                     442\n",
       "профильное образование                    436\n",
       "получение высшего образования             426\n",
       "заняться образованием                     408\n",
       "Name: purpose, dtype: int64"
      ]
     },
     "execution_count": 33,
     "metadata": {},
     "output_type": "execute_result"
    }
   ],
   "source": [
    "clients['purpose'].value_counts() # выберем все уникальные значения в столбце `purpose` и посчитаем их"
   ]
  },
  {
   "cell_type": "code",
   "execution_count": 34,
   "metadata": {},
   "outputs": [
    {
     "data": {
      "text/plain": [
       "Counter({'покупка': 10,\n",
       "         ' ': 96,\n",
       "         'жилье': 7,\n",
       "         'приобретение': 1,\n",
       "         'автомобиль': 9,\n",
       "         'дополнительный': 2,\n",
       "         'образование': 9,\n",
       "         'сыграть': 1,\n",
       "         'свадьба': 3,\n",
       "         'операция': 4,\n",
       "         'с': 5,\n",
       "         'на': 4,\n",
       "         'проведение': 1,\n",
       "         'для': 2,\n",
       "         'семья': 1,\n",
       "         'недвижимость': 10,\n",
       "         'коммерческий': 2,\n",
       "         'жилой': 2,\n",
       "         'строительство': 3,\n",
       "         'собственный': 1,\n",
       "         'подержать': 2,\n",
       "         'свой': 4,\n",
       "         'со': 1,\n",
       "         'заниматься': 2,\n",
       "         'сделка': 2,\n",
       "         'получение': 3,\n",
       "         'высокий': 3,\n",
       "         'профильный': 1,\n",
       "         'сдача': 1,\n",
       "         'ремонт': 1,\n",
       "         '\\n': 1})"
      ]
     },
     "execution_count": 34,
     "metadata": {},
     "output_type": "execute_result"
    }
   ],
   "source": [
    "purposes_list = ' '.join(clients['purpose'].unique()) # соединим их в одну строку,которую потом можно лемматизировать\n",
    "from pymystem3 import Mystem # получение лемматизатора\n",
    "m = Mystem()\n",
    "lemmas = m.lemmatize(purposes_list) # лемматизация списка `purposes_list`\n",
    "\n",
    "from collections import Counter # изпользуем коллекцию Counter для подсчета количества лемм\n",
    "Counter(lemmas)"
   ]
  },
  {
   "cell_type": "markdown",
   "metadata": {},
   "source": [
    "Опираясь на данные лемматизации, можно выделить следующие категории, к которым относятся все значения в столбце `purpose`:\n",
    "- недвижимость;\n",
    "- автомобиль;\n",
    "- образование;\n",
    "- свадьба;\n",
    "- ремонт.\n",
    "\n",
    "Необходимость ввести отдельную категорию для ремонта жилья можно обосновать тем, что эти расходы несопоставимы с суммами на покупку или строительство недвижимости. Следовательно, условия выдачи такого кредита могут рассчитываться иначе, чем для других категорий, связаных с жильем, и  возвращать такой кредит, возможно, будут иначе. Количество клиентов, берущих кредит на ремонт (612 человек), также не позволяет просто отбросить эти данные или соединить с другой категорией"
   ]
  },
  {
   "cell_type": "code",
   "execution_count": 35,
   "metadata": {},
   "outputs": [],
   "source": [
    "def purposes_grouped(row): # создадим функцию для определения идентификаторов к столбцу `purpose`, которая лемматизирует ячейку\n",
    "    item = m.lemmatize(row) # сохранит результат в переменной\n",
    "    try:\n",
    "        if 'недвижимость' in item or 'жилье' in item: # и в зависимости от обнаруженных в переменной лемм будет присваивать\n",
    "            if 'ремонт' in item:                      # строке тот или иной идентификатор\n",
    "                return 'ремонт'\n",
    "            return 'недвижимость'\n",
    "        if 'автомобиль' in item:\n",
    "            return 'автомобиль'\n",
    "        if 'образование' in item:\n",
    "            return 'образование'\n",
    "        if 'свадьба' in item:\n",
    "            return 'свадьба'\n",
    "    except:\n",
    "        return 'без категории'         # на случай, если появятся новые значения, которые функция не сумеет обработать   "
   ]
  },
  {
   "cell_type": "code",
   "execution_count": 36,
   "metadata": {},
   "outputs": [
    {
     "data": {
      "text/html": [
       "<div>\n",
       "<style scoped>\n",
       "    .dataframe tbody tr th:only-of-type {\n",
       "        vertical-align: middle;\n",
       "    }\n",
       "\n",
       "    .dataframe tbody tr th {\n",
       "        vertical-align: top;\n",
       "    }\n",
       "\n",
       "    .dataframe thead th {\n",
       "        text-align: right;\n",
       "    }\n",
       "</style>\n",
       "<table border=\"1\" class=\"dataframe\">\n",
       "  <thead>\n",
       "    <tr style=\"text-align: right;\">\n",
       "      <th></th>\n",
       "      <th>children</th>\n",
       "      <th>days_employed</th>\n",
       "      <th>dob_years</th>\n",
       "      <th>education</th>\n",
       "      <th>education_id</th>\n",
       "      <th>family_status</th>\n",
       "      <th>family_status_id</th>\n",
       "      <th>gender</th>\n",
       "      <th>income_type</th>\n",
       "      <th>debt</th>\n",
       "      <th>total_income</th>\n",
       "      <th>purpose</th>\n",
       "      <th>purposes_grouped</th>\n",
       "    </tr>\n",
       "  </thead>\n",
       "  <tbody>\n",
       "    <tr>\n",
       "      <td>0</td>\n",
       "      <td>1</td>\n",
       "      <td>8437</td>\n",
       "      <td>42</td>\n",
       "      <td>высшее</td>\n",
       "      <td>0</td>\n",
       "      <td>женат / замужем</td>\n",
       "      <td>0</td>\n",
       "      <td>F</td>\n",
       "      <td>сотрудник</td>\n",
       "      <td>0</td>\n",
       "      <td>253875</td>\n",
       "      <td>покупка жилья</td>\n",
       "      <td>недвижимость</td>\n",
       "    </tr>\n",
       "    <tr>\n",
       "      <td>1</td>\n",
       "      <td>1</td>\n",
       "      <td>4024</td>\n",
       "      <td>36</td>\n",
       "      <td>среднее</td>\n",
       "      <td>1</td>\n",
       "      <td>женат / замужем</td>\n",
       "      <td>0</td>\n",
       "      <td>F</td>\n",
       "      <td>сотрудник</td>\n",
       "      <td>0</td>\n",
       "      <td>112080</td>\n",
       "      <td>приобретение автомобиля</td>\n",
       "      <td>автомобиль</td>\n",
       "    </tr>\n",
       "    <tr>\n",
       "      <td>2</td>\n",
       "      <td>0</td>\n",
       "      <td>5623</td>\n",
       "      <td>33</td>\n",
       "      <td>среднее</td>\n",
       "      <td>1</td>\n",
       "      <td>женат / замужем</td>\n",
       "      <td>0</td>\n",
       "      <td>M</td>\n",
       "      <td>сотрудник</td>\n",
       "      <td>0</td>\n",
       "      <td>145885</td>\n",
       "      <td>покупка жилья</td>\n",
       "      <td>недвижимость</td>\n",
       "    </tr>\n",
       "    <tr>\n",
       "      <td>3</td>\n",
       "      <td>3</td>\n",
       "      <td>4124</td>\n",
       "      <td>32</td>\n",
       "      <td>среднее</td>\n",
       "      <td>1</td>\n",
       "      <td>женат / замужем</td>\n",
       "      <td>0</td>\n",
       "      <td>M</td>\n",
       "      <td>сотрудник</td>\n",
       "      <td>0</td>\n",
       "      <td>267628</td>\n",
       "      <td>дополнительное образование</td>\n",
       "      <td>образование</td>\n",
       "    </tr>\n",
       "    <tr>\n",
       "      <td>4</td>\n",
       "      <td>0</td>\n",
       "      <td>6420</td>\n",
       "      <td>53</td>\n",
       "      <td>среднее</td>\n",
       "      <td>1</td>\n",
       "      <td>гражданский брак</td>\n",
       "      <td>1</td>\n",
       "      <td>F</td>\n",
       "      <td>пенсионер</td>\n",
       "      <td>0</td>\n",
       "      <td>158616</td>\n",
       "      <td>сыграть свадьбу</td>\n",
       "      <td>свадьба</td>\n",
       "    </tr>\n",
       "  </tbody>\n",
       "</table>\n",
       "</div>"
      ],
      "text/plain": [
       "   children  days_employed  dob_years education  education_id  \\\n",
       "0         1           8437         42    высшее             0   \n",
       "1         1           4024         36   среднее             1   \n",
       "2         0           5623         33   среднее             1   \n",
       "3         3           4124         32   среднее             1   \n",
       "4         0           6420         53   среднее             1   \n",
       "\n",
       "      family_status  family_status_id gender income_type  debt  total_income  \\\n",
       "0   женат / замужем                 0      F   сотрудник     0        253875   \n",
       "1   женат / замужем                 0      F   сотрудник     0        112080   \n",
       "2   женат / замужем                 0      M   сотрудник     0        145885   \n",
       "3   женат / замужем                 0      M   сотрудник     0        267628   \n",
       "4  гражданский брак                 1      F   пенсионер     0        158616   \n",
       "\n",
       "                      purpose purposes_grouped  \n",
       "0               покупка жилья     недвижимость  \n",
       "1     приобретение автомобиля       автомобиль  \n",
       "2               покупка жилья     недвижимость  \n",
       "3  дополнительное образование      образование  \n",
       "4             сыграть свадьбу          свадьба  "
      ]
     },
     "execution_count": 36,
     "metadata": {},
     "output_type": "execute_result"
    }
   ],
   "source": [
    "clients['purposes_grouped'] = clients['purpose'].apply(purposes_grouped) # с помощью метода *.apply()* добавим новый столбец \n",
    "clients.head() # с категориями к датафрейму и для проверки посмотрим на несколько строк обновленного датафрейма"
   ]
  },
  {
   "cell_type": "markdown",
   "metadata": {},
   "source": [
    "**Вывод**"
   ]
  },
  {
   "cell_type": "markdown",
   "metadata": {},
   "source": [
    "<div class=\"alert alert-info\"> С помощью лемматизации удалось выделить 5 категорий, которые охватывают все возможные цели кредита из датафрейма. Принято решение обозначать их именно строками, так как человеку их проще воспринимать, чем цифры, а нам придется презентовать результаты анализа. \n",
    "    Введение единых категорий упрощает заполнение датафрейма и помогает ответить на вопросы исследования о зависимости цели кредита и сроков его возврата. Для других столбцов также необходимо провести категоризацию.\n",
    "    <div"
   ]
  },
  {
   "cell_type": "markdown",
   "metadata": {},
   "source": [
    "<div class=\"alert alert-success\">\n",
    "<h2> Комментарий от ревьюера<a class=\"tocSkip\"></a></h2>\n",
    "Лемматизация прошла успешно. Удалось выделить основные цели получения кредита\n",
    "</div>"
   ]
  },
  {
   "cell_type": "markdown",
   "metadata": {},
   "source": [
    "### Категоризация данных"
   ]
  },
  {
   "cell_type": "markdown",
   "metadata": {},
   "source": [
    "Так же как мы категоризировали цели кредита, необходимо поступить со столбцами `children`, `dob_years` и `total_income`, так как они необходимы нам для ответа на главные вопросы исследования. \n",
    "\n",
    "В столбце `children` очевиден большой разрыв между бездетными, теми, кто имеет 1-2 детей, и многодетными, то есть объединить их проще, чем учитывать каждую величину. "
   ]
  },
  {
   "cell_type": "code",
   "execution_count": 37,
   "metadata": {},
   "outputs": [
    {
     "data": {
      "text/plain": [
       "нет детей      14091\n",
       "1-2 ребенка     6983\n",
       "многодетные      380\n",
       "Name: children_grouped, dtype: int64"
      ]
     },
     "execution_count": 37,
     "metadata": {},
     "output_type": "execute_result"
    }
   ],
   "source": [
    "def children_grouped(children): # напишем функцию, которая принимает в качестве аргумента количество детей у клиента\n",
    "    try:\n",
    "        if children == 0:      # и в зависимости от этого числа возвращает то или иное название категории\n",
    "            return 'нет детей'\n",
    "        if 1 <= children <= 2:\n",
    "            return '1-2 ребенка'\n",
    "        if 3 <= children <= 9:\n",
    "            return 'многодетные'\n",
    "    except:                          # на случай появления пустых или ошибочных значений предусмотрим вывод-предупреждение\n",
    "        return 'Ошибочное значение'\n",
    "    \n",
    "clients['children_grouped'] = clients['children'].apply(children_grouped) # добавим столбец с новыми данными к датафрейму\n",
    "clients['children_grouped'].value_counts() # и подсчитаем количество клиентов в каждой из новых категорий"
   ]
  },
  {
   "cell_type": "markdown",
   "metadata": {},
   "source": [
    "<a id='num_3'></a>\n",
    "Аналогичным образом поступим со столбцом `total_income`: здесь представлено большое разнообразие значений, которые удобнее отнести к тому или иному диапазону.\n",
    "[Возврат к ссылкам](#content)"
   ]
  },
  {
   "cell_type": "code",
   "execution_count": 38,
   "metadata": {},
   "outputs": [
    {
     "data": {
      "text/plain": [
       "0        (172357.0, 2265604.0]\n",
       "1        (20666.999, 119261.0]\n",
       "2         (119261.0, 172357.0]\n",
       "3        (172357.0, 2265604.0]\n",
       "4         (119261.0, 172357.0]\n",
       "                 ...          \n",
       "21449    (172357.0, 2265604.0]\n",
       "21450     (119261.0, 172357.0]\n",
       "21451    (20666.999, 119261.0]\n",
       "21452    (172357.0, 2265604.0]\n",
       "21453    (20666.999, 119261.0]\n",
       "Name: total_income, Length: 21454, dtype: category\n",
       "Categories (3, interval[float64]): [(20666.999, 119261.0] < (119261.0, 172357.0] < (172357.0, 2265604.0]]"
      ]
     },
     "execution_count": 38,
     "metadata": {},
     "output_type": "execute_result"
    }
   ],
   "source": [
    "pd.qcut(clients['total_income'], q=3) # с помощью метода *qcut()* выясним диапазоны, в которые укладываются значения из столбца"
   ]
  },
  {
   "cell_type": "code",
   "execution_count": 39,
   "metadata": {},
   "outputs": [
    {
     "data": {
      "text/plain": [
       "высокий    7718\n",
       "низкий     7231\n",
       "средний    6505\n",
       "Name: income_grouped, dtype: int64"
      ]
     },
     "execution_count": 39,
     "metadata": {},
     "output_type": "execute_result"
    }
   ],
   "source": [
    "def income_grouped(income): # напишем функцию, которая принимает в качестве аргумента ежемесячный доход клиента\n",
    "    try:\n",
    "        if income < 120000: # и в зависимости от этого возвращает то или иное название категории\n",
    "            return 'низкий'\n",
    "        if 120000 <= income <= 170000:\n",
    "            return 'средний'\n",
    "        if income > 170000:\n",
    "            return 'высокий'\n",
    "    except:                             # страховка на случай появления пустых или ошибочных значений\n",
    "        return 'Неизвестное значение'\n",
    "    \n",
    "clients['income_grouped'] = clients['total_income'].apply(income_grouped) # добавим столбец с новыми данными к датафрейму\n",
    "clients['income_grouped'].value_counts() # и подсчитаем количество клиентов в каждой из новых категорий"
   ]
  },
  {
   "cell_type": "markdown",
   "metadata": {},
   "source": [
    "<div class=\"alert alert-danger\">Так категории получились более равномерными. Спасибо за подсказку с методом, не знала о таком. Откорректировала вывод в связи с новыми данными."
   ]
  },
  {
   "cell_type": "markdown",
   "metadata": {},
   "source": [
    "<div class=\"alert alert-success\">\n",
    "<h2> Комментарий от ревьюера<a class=\"tocSkip\"></a></h2>\n",
    "А почему ты выбрала именно такие пограницные значения? Здесь очень удобно воспользоваться методом quantile() или методом qcut(), чтобы разделить данные на равные группы\n",
    "</div>"
   ]
  },
  {
   "cell_type": "markdown",
   "metadata": {},
   "source": [
    "Введем новые категории и для значений возраста в столбце `dob_years`:"
   ]
  },
  {
   "cell_type": "code",
   "execution_count": 40,
   "metadata": {},
   "outputs": [
    {
     "data": {
      "text/plain": [
       "взрослые      19684\n",
       "пенсионеры      895\n",
       "молодежь        875\n",
       "Name: age_grouped, dtype: int64"
      ]
     },
     "execution_count": 40,
     "metadata": {},
     "output_type": "execute_result"
    }
   ],
   "source": [
    "def age_grouped(age): # напишем функцию, которая принимает в качестве аргумента ежемесячный доход клиента\n",
    "    try:\n",
    "        if 18 <= age <= 24: # и в зависимости от этого возвращает то или иное название категории\n",
    "            return 'молодежь'  # молодые люди, только что закончившие обучение или едва начавшие работать\n",
    "        if 25 <= age <= 64:\n",
    "            return 'взрослые' # люди, которые профессионально активны\n",
    "        if age >= 65:\n",
    "            return 'пенсионеры' # люди пенсионного возраста\n",
    "    except:                             # страховка на случай появления пустых или ошибочных значений\n",
    "        return 'Неизвестное значение'\n",
    "    \n",
    "clients['age_grouped'] = clients['dob_years'].apply(age_grouped) # добавим столбец с новыми данными к датафрейму\n",
    "clients['age_grouped'].value_counts() # и подсчитаем количество клиентов в каждой из новых категорий"
   ]
  },
  {
   "cell_type": "markdown",
   "metadata": {},
   "source": [
    "**Вывод**"
   ]
  },
  {
   "cell_type": "markdown",
   "metadata": {},
   "source": [
    "<div class=\"alert alert-info\"> Таким образом, для пользы исследования разделим клиентов на категории по возрасту, уровню дохода и количеству детей. Сразу же можно увидеть, что основная масса клиентов банка это люди от 25 до 64 лет без детей с высоким (более 170 000) или низким (менее 120 000) уровнем дохода в месяц. Тех, кто имеет 1-2 детей в два раза меньше, чем бездетных. Меньше всех в датафрейме представлены молодежь, пенсионеры и многодетные семьи. Эти данные необходимо учесть на следующей стадии анализа.\n",
    "    \n",
    "    \n",
    "Здесь заканчивается этап предобработки данных. Даже если все обработанные столбцы не потребуются нам в дальнейшем для исследования, привести их в порядок необходимо на тот случай, если с данными будет вестись работа в будущем. Возможно, потребуется дать ответы на другие вопросы или уточнить информацию. Далее необходимо выбрать те параметры, которые дадут наиболее полные ответы на поставленные вопросы, произвести необходимые расчеты, представить результаты и описать выводы. "
   ]
  },
  {
   "cell_type": "markdown",
   "metadata": {},
   "source": [
    "## Шаг 3. Ответьте на вопросы"
   ]
  },
  {
   "cell_type": "markdown",
   "metadata": {},
   "source": [
    "Для удобства создадим новый датафрейм, с нужными нам для исследования колонками. Это поможет быстрее ориентироваться в данных и не портить изменениями исходную таблицу."
   ]
  },
  {
   "cell_type": "code",
   "execution_count": 41,
   "metadata": {},
   "outputs": [
    {
     "data": {
      "text/html": [
       "<div>\n",
       "<style scoped>\n",
       "    .dataframe tbody tr th:only-of-type {\n",
       "        vertical-align: middle;\n",
       "    }\n",
       "\n",
       "    .dataframe tbody tr th {\n",
       "        vertical-align: top;\n",
       "    }\n",
       "\n",
       "    .dataframe thead th {\n",
       "        text-align: right;\n",
       "    }\n",
       "</style>\n",
       "<table border=\"1\" class=\"dataframe\">\n",
       "  <thead>\n",
       "    <tr style=\"text-align: right;\">\n",
       "      <th></th>\n",
       "      <th>gender</th>\n",
       "      <th>age_grouped</th>\n",
       "      <th>family_status</th>\n",
       "      <th>children_grouped</th>\n",
       "      <th>education</th>\n",
       "      <th>income_grouped</th>\n",
       "      <th>debt</th>\n",
       "      <th>purposes_grouped</th>\n",
       "    </tr>\n",
       "  </thead>\n",
       "  <tbody>\n",
       "    <tr>\n",
       "      <td>0</td>\n",
       "      <td>F</td>\n",
       "      <td>взрослые</td>\n",
       "      <td>женат / замужем</td>\n",
       "      <td>1-2 ребенка</td>\n",
       "      <td>высшее</td>\n",
       "      <td>высокий</td>\n",
       "      <td>0</td>\n",
       "      <td>недвижимость</td>\n",
       "    </tr>\n",
       "    <tr>\n",
       "      <td>1</td>\n",
       "      <td>F</td>\n",
       "      <td>взрослые</td>\n",
       "      <td>женат / замужем</td>\n",
       "      <td>1-2 ребенка</td>\n",
       "      <td>среднее</td>\n",
       "      <td>низкий</td>\n",
       "      <td>0</td>\n",
       "      <td>автомобиль</td>\n",
       "    </tr>\n",
       "    <tr>\n",
       "      <td>2</td>\n",
       "      <td>M</td>\n",
       "      <td>взрослые</td>\n",
       "      <td>женат / замужем</td>\n",
       "      <td>нет детей</td>\n",
       "      <td>среднее</td>\n",
       "      <td>средний</td>\n",
       "      <td>0</td>\n",
       "      <td>недвижимость</td>\n",
       "    </tr>\n",
       "    <tr>\n",
       "      <td>3</td>\n",
       "      <td>M</td>\n",
       "      <td>взрослые</td>\n",
       "      <td>женат / замужем</td>\n",
       "      <td>многодетные</td>\n",
       "      <td>среднее</td>\n",
       "      <td>высокий</td>\n",
       "      <td>0</td>\n",
       "      <td>образование</td>\n",
       "    </tr>\n",
       "    <tr>\n",
       "      <td>4</td>\n",
       "      <td>F</td>\n",
       "      <td>взрослые</td>\n",
       "      <td>гражданский брак</td>\n",
       "      <td>нет детей</td>\n",
       "      <td>среднее</td>\n",
       "      <td>средний</td>\n",
       "      <td>0</td>\n",
       "      <td>свадьба</td>\n",
       "    </tr>\n",
       "  </tbody>\n",
       "</table>\n",
       "</div>"
      ],
      "text/plain": [
       "  gender age_grouped     family_status children_grouped education  \\\n",
       "0      F    взрослые   женат / замужем      1-2 ребенка    высшее   \n",
       "1      F    взрослые   женат / замужем      1-2 ребенка   среднее   \n",
       "2      M    взрослые   женат / замужем        нет детей   среднее   \n",
       "3      M    взрослые   женат / замужем      многодетные   среднее   \n",
       "4      F    взрослые  гражданский брак        нет детей   среднее   \n",
       "\n",
       "  income_grouped  debt purposes_grouped  \n",
       "0        высокий     0     недвижимость  \n",
       "1         низкий     0       автомобиль  \n",
       "2        средний     0     недвижимость  \n",
       "3        высокий     0      образование  \n",
       "4        средний     0          свадьба  "
      ]
     },
     "execution_count": 41,
     "metadata": {},
     "output_type": "execute_result"
    }
   ],
   "source": [
    "clients_compact = clients[['gender', 'age_grouped', 'family_status', 'children_grouped', 'education', 'income_grouped', 'debt', 'purposes_grouped']]\n",
    "clients_compact.head()"
   ]
  },
  {
   "cell_type": "markdown",
   "metadata": {},
   "source": [
    "Сначала ответим на основные вопросы проекта, создав универсальную функцию для этого:"
   ]
  },
  {
   "cell_type": "code",
   "execution_count": 42,
   "metadata": {},
   "outputs": [],
   "source": [
    "def relation (column, category):       # создадим функцию, которая в качестве аргумента принимает столбец и категорию из него \n",
    "    quantity = clients_compact[clients_compact[column] == category]\n",
    "    # выберем строки, которые содержат инф-цию о клиентах в этой категории,\n",
    "    debtors = quantity[quantity['debt'] == 1]          # из этих строк выберем клиентов с задолженностью\n",
    "    debt_quantity = len(debtors) / len(quantity)       # посчитаем соотношение должников в этой категории к общему числу \n",
    "    return '{:.1%}'.format(debt_quantity)              # клиентов в этой категории              \n",
    "# функция возвращает соотношение, выраженное в процентах"
   ]
  },
  {
   "cell_type": "markdown",
   "metadata": {},
   "source": [
    "<div class=\"alert alert-success\">\n",
    "<h2> Комментарий от ревьюера<a class=\"tocSkip\"></a></h2>\n",
    "Очень круто, что ты пишешь функции. Так код становится более структурированным\n",
    "</div>"
   ]
  },
  {
   "cell_type": "markdown",
   "metadata": {},
   "source": [
    "- Есть ли зависимость между наличием детей и возвратом кредита в срок?"
   ]
  },
  {
   "cell_type": "code",
   "execution_count": 43,
   "metadata": {},
   "outputs": [
    {
     "data": {
      "text/html": [
       "<div>\n",
       "<style scoped>\n",
       "    .dataframe tbody tr th:only-of-type {\n",
       "        vertical-align: middle;\n",
       "    }\n",
       "\n",
       "    .dataframe tbody tr th {\n",
       "        vertical-align: top;\n",
       "    }\n",
       "\n",
       "    .dataframe thead th {\n",
       "        text-align: right;\n",
       "    }\n",
       "</style>\n",
       "<table border=\"1\" class=\"dataframe\">\n",
       "  <thead>\n",
       "    <tr style=\"text-align: right;\">\n",
       "      <th></th>\n",
       "      <th>children_grouped</th>\n",
       "      <th>debtors</th>\n",
       "    </tr>\n",
       "  </thead>\n",
       "  <tbody>\n",
       "    <tr>\n",
       "      <td>1</td>\n",
       "      <td>1-2 ребенка</td>\n",
       "      <td>9.3%</td>\n",
       "    </tr>\n",
       "    <tr>\n",
       "      <td>2</td>\n",
       "      <td>многодетные</td>\n",
       "      <td>8.2%</td>\n",
       "    </tr>\n",
       "    <tr>\n",
       "      <td>0</td>\n",
       "      <td>нет детей</td>\n",
       "      <td>7.5%</td>\n",
       "    </tr>\n",
       "  </tbody>\n",
       "</table>\n",
       "</div>"
      ],
      "text/plain": [
       "  children_grouped debtors\n",
       "1      1-2 ребенка    9.3%\n",
       "2      многодетные    8.2%\n",
       "0        нет детей    7.5%"
      ]
     },
     "execution_count": 43,
     "metadata": {},
     "output_type": "execute_result"
    }
   ],
   "source": [
    "# создадим небольшую таблицу, которая наглядно представит полученный результат\n",
    "data = [\n",
    "    ['нет детей', relation('children_grouped', 'нет детей')],    # функция relation заполнит строки таблицы,\n",
    "    ['1-2 ребенка', relation('children_grouped', '1-2 ребенка')],\n",
    "    ['многодетные', relation('children_grouped', 'многодетные')]    \n",
    "]                                                                    \n",
    "columns = ['children_grouped', 'debtors']                 # колонки - это категории клиентов с детьми и количество должников\n",
    "children_debt = pd.DataFrame(data = data, columns = columns)   \n",
    "children_debt.sort_values(by = 'debtors', ascending = False)   # результат отсортируем по убыванию количества должников"
   ]
  },
  {
   "cell_type": "markdown",
   "metadata": {},
   "source": [
    "**Вывод**"
   ]
  },
  {
   "cell_type": "markdown",
   "metadata": {},
   "source": [
    "<div class=\"alert alert-info\"> Согласно полученным данным просматривается очевидная зависимость между увеличением количества детей и появлением задолженностей по кредиту. Клиенты с 1-2 детьми в 9,3% случаев имеют проблемы со своевременным возвратом долга. От них немного отличаются в лучшую сторону многодетные родители, которые имеют задолженности по кредиту в 8,2% случаев, но их в целом очень мало в общем количестве клиентов. Лучше всего ситуация обстоит с клиентами, которые не имеют детей: они не соблюдают срок возврата кредита всего лишь в 7,5% случаев и чаще всего обращаются за кредитом. "
   ]
  },
  {
   "cell_type": "markdown",
   "metadata": {},
   "source": [
    "<div class=\"alert alert-success\">\n",
    "<h2> Комментарий от ревьюера <a class=\"tocSkip\"></a></h2>\n",
    "Верно:) Да, заемщики без детей самые ответственные.\n",
    "    \n",
    " "
   ]
  },
  {
   "cell_type": "markdown",
   "metadata": {},
   "source": [
    "- Есть ли зависимость между семейным положением и возвратом кредита в срок?"
   ]
  },
  {
   "cell_type": "code",
   "execution_count": 44,
   "metadata": {},
   "outputs": [
    {
     "data": {
      "text/html": [
       "<div>\n",
       "<style scoped>\n",
       "    .dataframe tbody tr th:only-of-type {\n",
       "        vertical-align: middle;\n",
       "    }\n",
       "\n",
       "    .dataframe tbody tr th {\n",
       "        vertical-align: top;\n",
       "    }\n",
       "\n",
       "    .dataframe thead th {\n",
       "        text-align: right;\n",
       "    }\n",
       "</style>\n",
       "<table border=\"1\" class=\"dataframe\">\n",
       "  <thead>\n",
       "    <tr style=\"text-align: right;\">\n",
       "      <th></th>\n",
       "      <th>family_status</th>\n",
       "      <th>debtors</th>\n",
       "    </tr>\n",
       "  </thead>\n",
       "  <tbody>\n",
       "    <tr>\n",
       "      <td>4</td>\n",
       "      <td>не женат / не замужем</td>\n",
       "      <td>9.8%</td>\n",
       "    </tr>\n",
       "    <tr>\n",
       "      <td>1</td>\n",
       "      <td>гражданский брак</td>\n",
       "      <td>9.3%</td>\n",
       "    </tr>\n",
       "    <tr>\n",
       "      <td>0</td>\n",
       "      <td>женат / замужем</td>\n",
       "      <td>7.5%</td>\n",
       "    </tr>\n",
       "    <tr>\n",
       "      <td>3</td>\n",
       "      <td>в разводе</td>\n",
       "      <td>7.1%</td>\n",
       "    </tr>\n",
       "    <tr>\n",
       "      <td>2</td>\n",
       "      <td>вдовец / вдова</td>\n",
       "      <td>6.6%</td>\n",
       "    </tr>\n",
       "  </tbody>\n",
       "</table>\n",
       "</div>"
      ],
      "text/plain": [
       "           family_status debtors\n",
       "4  не женат / не замужем    9.8%\n",
       "1       гражданский брак    9.3%\n",
       "0        женат / замужем    7.5%\n",
       "3              в разводе    7.1%\n",
       "2         вдовец / вдова    6.6%"
      ]
     },
     "execution_count": 44,
     "metadata": {},
     "output_type": "execute_result"
    }
   ],
   "source": [
    "# создадим небольшую таблицу, которая наглядно представит полученный результат\n",
    "data = [\n",
    "    ['женат / замужем', relation('family_status', 'женат / замужем')],  # функция relation заполнит строки таблицы,\n",
    "    ['гражданский брак', relation('family_status', 'гражданский брак')], \n",
    "    ['вдовец / вдова', relation('family_status', 'вдовец / вдова')],      \n",
    "    ['в разводе', relation('family_status', 'в разводе')],                \n",
    "    ['не женат / не замужем', relation('family_status', 'не женат / не замужем')]\n",
    "]\n",
    "columns = ['family_status', 'debtors']                  # колонки - это виды семейного положения и количество должников\n",
    "family_debt = pd.DataFrame(data = data, columns = columns)     \n",
    "family_debt.sort_values(by = 'debtors', ascending = False)     # результат отсортируем по убыванию количества должников"
   ]
  },
  {
   "cell_type": "code",
   "execution_count": 45,
   "metadata": {},
   "outputs": [
    {
     "data": {
      "text/html": [
       "<div>\n",
       "<style scoped>\n",
       "    .dataframe tbody tr th:only-of-type {\n",
       "        vertical-align: middle;\n",
       "    }\n",
       "\n",
       "    .dataframe tbody tr th {\n",
       "        vertical-align: top;\n",
       "    }\n",
       "\n",
       "    .dataframe thead th {\n",
       "        text-align: right;\n",
       "    }\n",
       "</style>\n",
       "<table border=\"1\" class=\"dataframe\">\n",
       "  <thead>\n",
       "    <tr style=\"text-align: right;\">\n",
       "      <th></th>\n",
       "      <th>family_status</th>\n",
       "      <th>в разводе</th>\n",
       "      <th>вдовец / вдова</th>\n",
       "      <th>гражданский брак</th>\n",
       "      <th>женат / замужем</th>\n",
       "      <th>не женат / не замужем</th>\n",
       "    </tr>\n",
       "    <tr>\n",
       "      <th>children_grouped</th>\n",
       "      <th>debt</th>\n",
       "      <th></th>\n",
       "      <th></th>\n",
       "      <th></th>\n",
       "      <th></th>\n",
       "      <th></th>\n",
       "    </tr>\n",
       "  </thead>\n",
       "  <tbody>\n",
       "    <tr>\n",
       "      <td rowspan=\"2\" valign=\"top\">1-2 ребенка</td>\n",
       "      <td>0</td>\n",
       "      <td>370.0</td>\n",
       "      <td>95.0</td>\n",
       "      <td>1204.0</td>\n",
       "      <td>4191.0</td>\n",
       "      <td>476.0</td>\n",
       "    </tr>\n",
       "    <tr>\n",
       "      <td>1</td>\n",
       "      <td>29.0</td>\n",
       "      <td>10.0</td>\n",
       "      <td>151.0</td>\n",
       "      <td>395.0</td>\n",
       "      <td>62.0</td>\n",
       "    </tr>\n",
       "    <tr>\n",
       "      <td rowspan=\"2\" valign=\"top\">многодетные</td>\n",
       "      <td>0</td>\n",
       "      <td>11.0</td>\n",
       "      <td>7.0</td>\n",
       "      <td>58.0</td>\n",
       "      <td>265.0</td>\n",
       "      <td>8.0</td>\n",
       "    </tr>\n",
       "    <tr>\n",
       "      <td>1</td>\n",
       "      <td>1.0</td>\n",
       "      <td>NaN</td>\n",
       "      <td>8.0</td>\n",
       "      <td>20.0</td>\n",
       "      <td>2.0</td>\n",
       "    </tr>\n",
       "    <tr>\n",
       "      <td rowspan=\"2\" valign=\"top\">нет детей</td>\n",
       "      <td>0</td>\n",
       "      <td>729.0</td>\n",
       "      <td>794.0</td>\n",
       "      <td>2501.0</td>\n",
       "      <td>6952.0</td>\n",
       "      <td>2052.0</td>\n",
       "    </tr>\n",
       "    <tr>\n",
       "      <td>1</td>\n",
       "      <td>55.0</td>\n",
       "      <td>53.0</td>\n",
       "      <td>229.0</td>\n",
       "      <td>516.0</td>\n",
       "      <td>210.0</td>\n",
       "    </tr>\n",
       "  </tbody>\n",
       "</table>\n",
       "</div>"
      ],
      "text/plain": [
       "family_status          в разводе  вдовец / вдова  гражданский брак  \\\n",
       "children_grouped debt                                                \n",
       "1-2 ребенка      0         370.0            95.0            1204.0   \n",
       "                 1          29.0            10.0             151.0   \n",
       "многодетные      0          11.0             7.0              58.0   \n",
       "                 1           1.0             NaN               8.0   \n",
       "нет детей        0         729.0           794.0            2501.0   \n",
       "                 1          55.0            53.0             229.0   \n",
       "\n",
       "family_status          женат / замужем  не женат / не замужем  \n",
       "children_grouped debt                                          \n",
       "1-2 ребенка      0              4191.0                  476.0  \n",
       "                 1               395.0                   62.0  \n",
       "многодетные      0               265.0                    8.0  \n",
       "                 1                20.0                    2.0  \n",
       "нет детей        0              6952.0                 2052.0  \n",
       "                 1               516.0                  210.0  "
      ]
     },
     "execution_count": 45,
     "metadata": {},
     "output_type": "execute_result"
    }
   ],
   "source": [
    "family_pivot = clients.pivot_table(index = ['children_grouped', 'debt'], columns = 'family_status', values = 'family_status_id', aggfunc = 'count')\n",
    "family_pivot"
   ]
  },
  {
   "cell_type": "markdown",
   "metadata": {},
   "source": [
    "**Вывод**"
   ]
  },
  {
   "cell_type": "markdown",
   "metadata": {},
   "source": [
    "<div class=\"alert alert-info\"> Наблюдается зависимость между стабильностью семейного положения, количеством детей и своевременным возвратом заемных средств. Наиболее рискованными категориями заемщиков являются неженатые/незамужние люди, а также те, кто считает себя состоящими в гражданском браке. Такие люди чаще берут кредиты и реже их возвращают. Возможно, это связано с гибкостью их статуса: они легче подвержены изменениям (переездам, смене места работы или приоритетов). Тогда как семейные пары отличаются большей стабильностью: они тоже часто берут кредиты, но и возращают их в срок тоже чаще. Самыми обязательными оказались бездетные вдовцы: среди них должников всего 6,6%."
   ]
  },
  {
   "cell_type": "markdown",
   "metadata": {},
   "source": [
    "<div class=\"alert alert-success\">\n",
    "<h2> Комментарий от ревьюера <a class=\"tocSkip\"></a></h2>\n",
    "Посмотрев на сводную таблицу, можно увидеть, что доля просроченых кредитов больше у людей, которые находятся в гражданском браке или не женаты. Чаще всего возращают кредиты вдовцы и вдовы.\n",
    "</div>\n"
   ]
  },
  {
   "cell_type": "markdown",
   "metadata": {},
   "source": [
    "- Есть ли зависимость между уровнем дохода и возвратом кредита в срок? <a id='num_4'></a>\n",
    "[Возврат к ссылкам](#content)"
   ]
  },
  {
   "cell_type": "code",
   "execution_count": 46,
   "metadata": {},
   "outputs": [
    {
     "data": {
      "text/html": [
       "<div>\n",
       "<style scoped>\n",
       "    .dataframe tbody tr th:only-of-type {\n",
       "        vertical-align: middle;\n",
       "    }\n",
       "\n",
       "    .dataframe tbody tr th {\n",
       "        vertical-align: top;\n",
       "    }\n",
       "\n",
       "    .dataframe thead th {\n",
       "        text-align: right;\n",
       "    }\n",
       "</style>\n",
       "<table border=\"1\" class=\"dataframe\">\n",
       "  <thead>\n",
       "    <tr style=\"text-align: right;\">\n",
       "      <th></th>\n",
       "      <th>income_grouped</th>\n",
       "      <th>debtors</th>\n",
       "    </tr>\n",
       "  </thead>\n",
       "  <tbody>\n",
       "    <tr>\n",
       "      <td>1</td>\n",
       "      <td>средний</td>\n",
       "      <td>8.9%</td>\n",
       "    </tr>\n",
       "    <tr>\n",
       "      <td>0</td>\n",
       "      <td>низкий</td>\n",
       "      <td>8.1%</td>\n",
       "    </tr>\n",
       "    <tr>\n",
       "      <td>2</td>\n",
       "      <td>высокий</td>\n",
       "      <td>7.5%</td>\n",
       "    </tr>\n",
       "  </tbody>\n",
       "</table>\n",
       "</div>"
      ],
      "text/plain": [
       "  income_grouped debtors\n",
       "1        средний    8.9%\n",
       "0         низкий    8.1%\n",
       "2        высокий    7.5%"
      ]
     },
     "execution_count": 46,
     "metadata": {},
     "output_type": "execute_result"
    }
   ],
   "source": [
    "# снова создадим таблицу для наглядности по схожим принципам\n",
    "data = [\n",
    "    ['низкий', relation('income_grouped', 'низкий')],  \n",
    "    ['средний', relation('income_grouped', 'средний')], \n",
    "    ['высокий', relation('income_grouped', 'высокий')]\n",
    "]\n",
    "columns = ['income_grouped', 'debtors'] \n",
    "income_debt = pd.DataFrame(data = data, columns = columns)     \n",
    "income_debt.sort_values(by = 'debtors', ascending = False)  "
   ]
  },
  {
   "cell_type": "markdown",
   "metadata": {},
   "source": [
    "**Вывод**"
   ]
  },
  {
   "cell_type": "markdown",
   "metadata": {},
   "source": [
    "<div class=\"alert alert-info\"> Очевидно, что люди с высоким доходом возвращают кредиты в срок чаще (92,5%). Чаще всего пренебрегают обязательствами клиенты со средним доходом: они задерживают выплаты в 8,9% случаев."
   ]
  },
  {
   "cell_type": "markdown",
   "metadata": {},
   "source": [
    "<div class=\"alert alert-success\">\n",
    "<h2> Комментарий от ревьюера <a class=\"tocSkip\"></a></h2>\n",
    "Здесь многое зависит от того, как ты разобьешь данные на группы. Попробуй разделить на равные по количеству заемщиков группы и сравни результат)\n",
    "</div>\n"
   ]
  },
  {
   "cell_type": "markdown",
   "metadata": {},
   "source": [
    "- Как разные цели кредита влияют на его возврат в срок?"
   ]
  },
  {
   "cell_type": "code",
   "execution_count": 47,
   "metadata": {},
   "outputs": [
    {
     "data": {
      "text/html": [
       "<div>\n",
       "<style scoped>\n",
       "    .dataframe tbody tr th:only-of-type {\n",
       "        vertical-align: middle;\n",
       "    }\n",
       "\n",
       "    .dataframe tbody tr th {\n",
       "        vertical-align: top;\n",
       "    }\n",
       "\n",
       "    .dataframe thead th {\n",
       "        text-align: right;\n",
       "    }\n",
       "</style>\n",
       "<table border=\"1\" class=\"dataframe\">\n",
       "  <thead>\n",
       "    <tr style=\"text-align: right;\">\n",
       "      <th></th>\n",
       "      <th>purposes_grouped</th>\n",
       "      <th>debtors</th>\n",
       "    </tr>\n",
       "  </thead>\n",
       "  <tbody>\n",
       "    <tr>\n",
       "      <td>1</td>\n",
       "      <td>автомобиль</td>\n",
       "      <td>9.4%</td>\n",
       "    </tr>\n",
       "    <tr>\n",
       "      <td>2</td>\n",
       "      <td>образование</td>\n",
       "      <td>9.2%</td>\n",
       "    </tr>\n",
       "    <tr>\n",
       "      <td>3</td>\n",
       "      <td>свадьба</td>\n",
       "      <td>8.0%</td>\n",
       "    </tr>\n",
       "    <tr>\n",
       "      <td>0</td>\n",
       "      <td>недвижимость</td>\n",
       "      <td>7.3%</td>\n",
       "    </tr>\n",
       "    <tr>\n",
       "      <td>4</td>\n",
       "      <td>ремонт</td>\n",
       "      <td>5.8%</td>\n",
       "    </tr>\n",
       "  </tbody>\n",
       "</table>\n",
       "</div>"
      ],
      "text/plain": [
       "  purposes_grouped debtors\n",
       "1       автомобиль    9.4%\n",
       "2      образование    9.2%\n",
       "3          свадьба    8.0%\n",
       "0     недвижимость    7.3%\n",
       "4           ремонт    5.8%"
      ]
     },
     "execution_count": 47,
     "metadata": {},
     "output_type": "execute_result"
    }
   ],
   "source": [
    "data = [\n",
    "    ['недвижимость', relation('purposes_grouped', 'недвижимость')],  \n",
    "    ['автомобиль', relation('purposes_grouped', 'автомобиль')], \n",
    "    ['образование', relation('purposes_grouped', 'образование')],\n",
    "    ['свадьба', relation('purposes_grouped', 'свадьба')],\n",
    "    ['ремонт', relation('purposes_grouped', 'ремонт')]\n",
    "]\n",
    "columns = ['purposes_grouped', 'debtors'] \n",
    "purposes_debt = pd.DataFrame(data = data, columns = columns)     \n",
    "purposes_debt.sort_values(by = 'debtors', ascending = False)"
   ]
  },
  {
   "cell_type": "markdown",
   "metadata": {},
   "source": [
    "**Вывод**"
   ]
  },
  {
   "cell_type": "markdown",
   "metadata": {},
   "source": [
    "<div class=\"alert alert-info\"> По полученным данным прослеживается связь между целями кредита и вероятностью его возврата в срок. Самыми рискованными с этой точки зрения являются такие цели как покупка автомобиля и получение образования (9,4% и 9,2% задолженностей. Возможно, это связано с тем, что страх расстаться с автомобилем в случае отказа выплачивать кредит в срок меньше, чем при покупке недвижимости (здесь 92,7% предпочитают не рисковать). А такие события как получение диплома и свадьба уже не получится отменить, даже при образовании задолженности, поэтому чувство ответственности ослабевает. Зато небольшие цели (например, ремонт) имеют самый высокий шанс (96,2%) окупиться в срок. "
   ]
  },
  {
   "cell_type": "markdown",
   "metadata": {},
   "source": [
    "Проведем еще несколько вычислений, чтобы найти другие интересные закономерности в датасете."
   ]
  },
  {
   "cell_type": "code",
   "execution_count": 48,
   "metadata": {},
   "outputs": [
    {
     "data": {
      "text/html": [
       "<div>\n",
       "<style scoped>\n",
       "    .dataframe tbody tr th:only-of-type {\n",
       "        vertical-align: middle;\n",
       "    }\n",
       "\n",
       "    .dataframe tbody tr th {\n",
       "        vertical-align: top;\n",
       "    }\n",
       "\n",
       "    .dataframe thead th {\n",
       "        text-align: right;\n",
       "    }\n",
       "</style>\n",
       "<table border=\"1\" class=\"dataframe\">\n",
       "  <thead>\n",
       "    <tr style=\"text-align: right;\">\n",
       "      <th></th>\n",
       "      <th>education</th>\n",
       "      <th>debtors</th>\n",
       "    </tr>\n",
       "  </thead>\n",
       "  <tbody>\n",
       "    <tr>\n",
       "      <td>2</td>\n",
       "      <td>неоконченное высшее</td>\n",
       "      <td>9.6%</td>\n",
       "    </tr>\n",
       "    <tr>\n",
       "      <td>0</td>\n",
       "      <td>среднее</td>\n",
       "      <td>9.0%</td>\n",
       "    </tr>\n",
       "    <tr>\n",
       "      <td>1</td>\n",
       "      <td>высшее</td>\n",
       "      <td>5.3%</td>\n",
       "    </tr>\n",
       "  </tbody>\n",
       "</table>\n",
       "</div>"
      ],
      "text/plain": [
       "             education debtors\n",
       "2  неоконченное высшее    9.6%\n",
       "0              среднее    9.0%\n",
       "1               высшее    5.3%"
      ]
     },
     "execution_count": 48,
     "metadata": {},
     "output_type": "execute_result"
    }
   ],
   "source": [
    "data = [                                             # зависимость своевременного возврата кредита от уровня образования\n",
    "    ['среднее', relation('education', 'среднее')],  \n",
    "    ['высшее', relation('education', 'высшее')], \n",
    "    ['неоконченное высшее', relation('education', 'неоконченное высшее')]\n",
    "]\n",
    "columns = ['education', 'debtors'] \n",
    "education_debt = pd.DataFrame(data = data, columns = columns)     \n",
    "education_debt.sort_values(by = 'debtors', ascending = False)  "
   ]
  },
  {
   "cell_type": "markdown",
   "metadata": {},
   "source": [
    "**Вывод**"
   ]
  },
  {
   "cell_type": "markdown",
   "metadata": {},
   "source": [
    "<div class=\"alert alert-info\"> Налицо связь кредитных обязательств с уровнем образования. Чем он выше, тем выше вероятность вернуть долг вовремя, и наоборот. "
   ]
  },
  {
   "cell_type": "code",
   "execution_count": 49,
   "metadata": {},
   "outputs": [
    {
     "data": {
      "text/html": [
       "<div>\n",
       "<style scoped>\n",
       "    .dataframe tbody tr th:only-of-type {\n",
       "        vertical-align: middle;\n",
       "    }\n",
       "\n",
       "    .dataframe tbody tr th {\n",
       "        vertical-align: top;\n",
       "    }\n",
       "\n",
       "    .dataframe thead th {\n",
       "        text-align: right;\n",
       "    }\n",
       "</style>\n",
       "<table border=\"1\" class=\"dataframe\">\n",
       "  <thead>\n",
       "    <tr style=\"text-align: right;\">\n",
       "      <th></th>\n",
       "      <th>gender</th>\n",
       "      <th>debtors</th>\n",
       "    </tr>\n",
       "  </thead>\n",
       "  <tbody>\n",
       "    <tr>\n",
       "      <td>1</td>\n",
       "      <td>F</td>\n",
       "      <td>7.0%</td>\n",
       "    </tr>\n",
       "    <tr>\n",
       "      <td>0</td>\n",
       "      <td>M</td>\n",
       "      <td>10.3%</td>\n",
       "    </tr>\n",
       "  </tbody>\n",
       "</table>\n",
       "</div>"
      ],
      "text/plain": [
       "  gender debtors\n",
       "1      F    7.0%\n",
       "0      M   10.3%"
      ]
     },
     "execution_count": 49,
     "metadata": {},
     "output_type": "execute_result"
    }
   ],
   "source": [
    "data = [                                             # зависимость своевременного возврата кредита от пола\n",
    "    ['M', relation('gender', 'M')],  \n",
    "    ['F', relation('gender', 'F')]\n",
    "]\n",
    "columns = ['gender', 'debtors'] \n",
    "gender_debt = pd.DataFrame(data = data, columns = columns)     \n",
    "gender_debt.sort_values(by = 'debtors', ascending = False)  "
   ]
  },
  {
   "cell_type": "markdown",
   "metadata": {},
   "source": [
    "**Вывод**"
   ]
  },
  {
   "cell_type": "markdown",
   "metadata": {},
   "source": [
    "<div class=\"alert alert-info\"> Также можем сделать вывод, что женщины относятся к возврату долга ответственнее, чем мужчины."
   ]
  },
  {
   "cell_type": "markdown",
   "metadata": {},
   "source": [
    "## Шаг 4. Общий вывод"
   ]
  },
  {
   "cell_type": "markdown",
   "metadata": {},
   "source": [
    "# В ходе исследования мы проверили несколько гипотез и установили следующее:\n",
    "- существует устойчивая связь между наличием детей и своевременной выплатой кредита: даже 1 или 2 ребёнка в семье увеличивают риск просрочек;\n",
    "- семейные обязательства положительно сказываются на возврате кредита в срок: семейные люди и вдовцы - самые аккуратные плательщики, особенно если у них нет детей, тогда как неженатые и состоящие в гражданском браке чаще всех нарушают обязательства;\n",
    "- уровень дохода ожидаемо связан со своевременностью выплат: люди с высоким доходом (от 170 000 рублей) имеют меньше долгов, люди со средним доходом (от 120 000 рублей) часто задерживают выплаты;\n",
    "- погашение кредита в срок зависит и от цели заемщика: аккуратнее всего клиенты возвращают долги за недвижимость, а также небольшие суммы на текущие нужды (например, ремонт), а цели, теряющие свою ценность по мере получения (автомобиль), или чей результат не зависит от наличия долгов (образование, свадьба) - самые рискованные.\n",
    "\n",
    "Помимо ответов на основные вопросы исследования, удалось установить следующие закономерности:\n",
    "- возврат кредита связан и с образованием: чем выше его уровень, тем меньше шанс образования задолженности;\n",
    "- женщины обращаются за кредитом чаще, но и возвращают долги ответственнее, чем мужчины.\n",
    "\n",
    "По собранным данным видно, что чаще всего за кредитом обращаются женатые люди от 25 до 64 лет без детей. У них высоки шансы вернуть кредит в срок."
   ]
  },
  {
   "cell_type": "markdown",
   "metadata": {},
   "source": [
    "<div class=\"alert alert-success\">\n",
    "<h2> Комментарий от ревьюера<a class=\"tocSkip\"></a></h2>\n",
    "\n",
    "Поздравляю с первым успешным  проектом!\n",
    "\n",
    "- Ты хорошо делаешь выводы и анализируешь результаты.\n",
    "    \n",
    "- Код написан аккуратно и качественно, видно, что есть какой-то определенный бэкграунд.\n",
    "\n",
    "- Соблюдена структура проекта, было приятно проверять:)\n",
    "    \n",
    "- Все написано четко и по делу\n",
    "\n",
    " \n",
    "Осталось исправить замечание и проект будет принят)\n",
    "\n",
    "Желаю дальнейших успехов!\n",
    "\n",
    "\n",
    "</div>"
   ]
  },
  {
   "cell_type": "markdown",
   "metadata": {},
   "source": [
    "<div class=\"alert alert-info\">\n",
    "    Спасибо за добрые слова и быструю проверку!"
   ]
  },
  {
   "cell_type": "markdown",
   "metadata": {},
   "source": [
    "## Чек-лист готовности проекта\n",
    "\n",
    "Поставьте 'x' в выполненных пунктах. Далее нажмите Shift+Enter."
   ]
  },
  {
   "cell_type": "markdown",
   "metadata": {},
   "source": [
    "- [x]  открыт файл;\n",
    "- [x]  файл изучен;\n",
    "- [x]  определены пропущенные значения;\n",
    "- [x]  заполнены пропущенные значения;\n",
    "- [x]  есть пояснение, какие пропущенные значения обнаружены;\n",
    "- [x]  описаны возможные причины появления пропусков в данных;\n",
    "- [x]  объяснено, по какому принципу заполнены пропуски;\n",
    "- [x]  заменен вещественный тип данных на целочисленный;\n",
    "- [x]  есть пояснение, какой метод используется для изменения типа данных и почему;\n",
    "- [x]  удалены дубликаты;\n",
    "- [x]  есть пояснение, какой метод используется для поиска и удаления дубликатов;\n",
    "- [x]  описаны возможные причины появления дубликатов в данных;\n",
    "- [x]  выделены леммы в значениях столбца с целями получения кредита;\n",
    "- [x]  описан процесс лемматизации;\n",
    "- [x]  данные категоризированы;\n",
    "- [x]  есть объяснение принципа категоризации данных;\n",
    "- [x]  есть ответ на вопрос: \"Есть ли зависимость между наличием детей и возвратом кредита в срок?\";\n",
    "- [x]  есть ответ на вопрос: \"Есть ли зависимость между семейным положением и возвратом кредита в срок?\";\n",
    "- [x]  есть ответ на вопрос: \"Есть ли зависимость между уровнем дохода и возвратом кредита в срок?\";\n",
    "- [x]  есть ответ на вопрос: \"Как разные цели кредита влияют на его возврат в срок?\";\n",
    "- [x]  в каждом этапе есть выводы;\n",
    "- [x]  есть общий вывод."
   ]
  }
 ],
 "metadata": {
  "ExecuteTimeLog": [
   {
    "duration": 820,
    "start_time": "2021-10-05T07:45:01.187Z"
   },
   {
    "duration": 75,
    "start_time": "2021-10-05T07:47:48.530Z"
   },
   {
    "duration": 70,
    "start_time": "2021-10-05T07:49:33.037Z"
   },
   {
    "duration": 360,
    "start_time": "2021-10-05T07:56:32.791Z"
   },
   {
    "duration": 10,
    "start_time": "2021-10-05T07:56:39.282Z"
   },
   {
    "duration": 69,
    "start_time": "2021-10-05T08:10:14.254Z"
   },
   {
    "duration": 27,
    "start_time": "2021-10-05T08:10:44.006Z"
   },
   {
    "duration": 75,
    "start_time": "2021-10-05T08:13:28.440Z"
   },
   {
    "duration": 15,
    "start_time": "2021-10-05T08:13:39.875Z"
   },
   {
    "duration": 75,
    "start_time": "2021-10-05T08:19:55.543Z"
   },
   {
    "duration": 74,
    "start_time": "2021-10-05T08:36:48.252Z"
   },
   {
    "duration": 15,
    "start_time": "2021-10-05T08:36:49.960Z"
   },
   {
    "duration": 11,
    "start_time": "2021-10-05T08:41:00.423Z"
   },
   {
    "duration": 8,
    "start_time": "2021-10-05T09:05:43.994Z"
   },
   {
    "duration": 15,
    "start_time": "2021-10-05T09:06:15.579Z"
   },
   {
    "duration": 15,
    "start_time": "2021-10-05T09:21:16.049Z"
   },
   {
    "duration": 7,
    "start_time": "2021-10-05T09:28:36.646Z"
   },
   {
    "duration": 8,
    "start_time": "2021-10-05T09:28:54.721Z"
   },
   {
    "duration": 28,
    "start_time": "2021-10-05T09:30:11.756Z"
   },
   {
    "duration": 30,
    "start_time": "2021-10-05T09:31:29.238Z"
   },
   {
    "duration": 7,
    "start_time": "2021-10-05T09:32:12.609Z"
   },
   {
    "duration": 10,
    "start_time": "2021-10-05T09:32:51.119Z"
   },
   {
    "duration": 13,
    "start_time": "2021-10-05T09:37:51.413Z"
   },
   {
    "duration": 19,
    "start_time": "2021-10-05T09:38:10.216Z"
   },
   {
    "duration": 10,
    "start_time": "2021-10-05T09:50:57.522Z"
   },
   {
    "duration": 6,
    "start_time": "2021-10-05T09:51:26.216Z"
   },
   {
    "duration": 7,
    "start_time": "2021-10-05T10:03:45.348Z"
   },
   {
    "duration": 7,
    "start_time": "2021-10-05T10:03:54.427Z"
   },
   {
    "duration": 6,
    "start_time": "2021-10-05T10:04:31.360Z"
   },
   {
    "duration": 375,
    "start_time": "2021-10-05T10:11:01.884Z"
   },
   {
    "duration": 792,
    "start_time": "2021-10-05T10:11:21.903Z"
   },
   {
    "duration": 15,
    "start_time": "2021-10-05T10:11:22.698Z"
   },
   {
    "duration": 445,
    "start_time": "2021-10-05T10:11:22.716Z"
   },
   {
    "duration": 810,
    "start_time": "2021-10-05T10:11:22.353Z"
   },
   {
    "duration": 808,
    "start_time": "2021-10-05T10:11:22.356Z"
   },
   {
    "duration": 805,
    "start_time": "2021-10-05T10:11:22.360Z"
   },
   {
    "duration": 318,
    "start_time": "2021-10-05T10:11:58.753Z"
   },
   {
    "duration": 368,
    "start_time": "2021-10-05T10:16:52.809Z"
   },
   {
    "duration": 515,
    "start_time": "2021-10-05T10:18:19.029Z"
   },
   {
    "duration": 5,
    "start_time": "2021-10-05T10:19:29.975Z"
   },
   {
    "duration": 19,
    "start_time": "2021-10-05T10:19:32.122Z"
   },
   {
    "duration": 14,
    "start_time": "2021-10-05T10:20:10.319Z"
   },
   {
    "duration": 97,
    "start_time": "2021-10-05T10:20:37.576Z"
   },
   {
    "duration": 9,
    "start_time": "2021-10-05T10:20:49.458Z"
   },
   {
    "duration": 19,
    "start_time": "2021-10-05T10:20:50.902Z"
   },
   {
    "duration": 22,
    "start_time": "2021-10-05T10:20:57.789Z"
   },
   {
    "duration": 7,
    "start_time": "2021-10-05T10:21:05.102Z"
   },
   {
    "duration": 303,
    "start_time": "2021-10-05T10:26:02.568Z"
   },
   {
    "duration": 26,
    "start_time": "2021-10-05T10:26:18.304Z"
   },
   {
    "duration": 25,
    "start_time": "2021-10-05T10:28:52.348Z"
   },
   {
    "duration": 311,
    "start_time": "2021-10-05T10:33:21.626Z"
   },
   {
    "duration": 10,
    "start_time": "2021-10-05T10:33:22.205Z"
   },
   {
    "duration": 27,
    "start_time": "2021-10-05T10:34:22.078Z"
   },
   {
    "duration": 30,
    "start_time": "2021-10-05T10:40:20.081Z"
   },
   {
    "duration": 10,
    "start_time": "2021-10-05T10:55:53.908Z"
   },
   {
    "duration": 6,
    "start_time": "2021-10-05T10:55:54.473Z"
   },
   {
    "duration": 28,
    "start_time": "2021-10-05T10:55:57.166Z"
   },
   {
    "duration": 28,
    "start_time": "2021-10-05T10:56:06.891Z"
   },
   {
    "duration": 10,
    "start_time": "2021-10-05T10:56:43.466Z"
   },
   {
    "duration": 27,
    "start_time": "2021-10-05T10:56:45.806Z"
   },
   {
    "duration": 18,
    "start_time": "2021-10-05T10:57:53.365Z"
   },
   {
    "duration": 26,
    "start_time": "2021-10-05T10:58:00.353Z"
   },
   {
    "duration": 19,
    "start_time": "2021-10-05T10:58:08.201Z"
   },
   {
    "duration": 27,
    "start_time": "2021-10-05T10:58:09.169Z"
   },
   {
    "duration": 15,
    "start_time": "2021-10-05T10:58:41.070Z"
   },
   {
    "duration": 30,
    "start_time": "2021-10-05T10:58:41.983Z"
   },
   {
    "duration": 48,
    "start_time": "2021-10-05T11:05:08.737Z"
   },
   {
    "duration": 30,
    "start_time": "2021-10-05T11:05:09.694Z"
   },
   {
    "duration": 120,
    "start_time": "2021-10-05T11:05:19.395Z"
   },
   {
    "duration": 26,
    "start_time": "2021-10-05T11:05:20.850Z"
   },
   {
    "duration": 118,
    "start_time": "2021-10-05T11:05:24.555Z"
   },
   {
    "duration": 27,
    "start_time": "2021-10-05T11:05:25.274Z"
   },
   {
    "duration": 7,
    "start_time": "2021-10-05T11:09:06.809Z"
   },
   {
    "duration": 9,
    "start_time": "2021-10-05T11:09:24.564Z"
   },
   {
    "duration": 13,
    "start_time": "2021-10-05T11:20:36.391Z"
   },
   {
    "duration": 14,
    "start_time": "2021-10-05T11:28:56.305Z"
   },
   {
    "duration": 857,
    "start_time": "2021-10-05T11:29:13.364Z"
   },
   {
    "duration": 14,
    "start_time": "2021-10-05T11:29:14.224Z"
   },
   {
    "duration": 11,
    "start_time": "2021-10-05T11:29:14.241Z"
   },
   {
    "duration": 58,
    "start_time": "2021-10-05T11:29:14.254Z"
   },
   {
    "duration": 8,
    "start_time": "2021-10-05T11:41:43.372Z"
   },
   {
    "duration": 8,
    "start_time": "2021-10-05T12:21:57.482Z"
   },
   {
    "duration": 29,
    "start_time": "2021-10-05T12:30:45.020Z"
   },
   {
    "duration": 12,
    "start_time": "2021-10-05T12:31:23.795Z"
   },
   {
    "duration": 25,
    "start_time": "2021-10-05T12:32:51.906Z"
   },
   {
    "duration": 7280,
    "start_time": "2021-10-05T12:36:32.842Z"
   },
   {
    "duration": 131,
    "start_time": "2021-10-05T12:38:32.724Z"
   },
   {
    "duration": 12764,
    "start_time": "2021-10-05T12:38:47.133Z"
   },
   {
    "duration": 279,
    "start_time": "2021-10-05T13:14:24.566Z"
   },
   {
    "duration": 329,
    "start_time": "2021-10-05T13:15:35.009Z"
   },
   {
    "duration": 16,
    "start_time": "2021-10-05T13:22:43.988Z"
   },
   {
    "duration": 23,
    "start_time": "2021-10-05T13:23:16.343Z"
   },
   {
    "duration": 21,
    "start_time": "2021-10-05T13:26:30.330Z"
   },
   {
    "duration": 20,
    "start_time": "2021-10-05T13:29:46.577Z"
   },
   {
    "duration": 77,
    "start_time": "2021-10-05T13:29:57.952Z"
   },
   {
    "duration": 15,
    "start_time": "2021-10-05T13:29:59.160Z"
   },
   {
    "duration": 13,
    "start_time": "2021-10-05T13:30:07.760Z"
   },
   {
    "duration": 20,
    "start_time": "2021-10-05T13:30:09.411Z"
   },
   {
    "duration": 390,
    "start_time": "2021-10-05T13:30:34.744Z"
   },
   {
    "duration": 280,
    "start_time": "2021-10-05T13:32:03.671Z"
   },
   {
    "duration": 323,
    "start_time": "2021-10-05T13:32:12.244Z"
   },
   {
    "duration": 347,
    "start_time": "2021-10-05T13:32:20.702Z"
   },
   {
    "duration": 694,
    "start_time": "2021-10-05T13:44:38.192Z"
   },
   {
    "duration": 370,
    "start_time": "2021-10-05T15:54:02.771Z"
   },
   {
    "duration": 798,
    "start_time": "2021-10-05T15:54:26.625Z"
   },
   {
    "duration": 15,
    "start_time": "2021-10-05T15:54:27.425Z"
   },
   {
    "duration": 11,
    "start_time": "2021-10-05T15:54:27.443Z"
   },
   {
    "duration": 43,
    "start_time": "2021-10-05T15:54:27.456Z"
   },
   {
    "duration": 13,
    "start_time": "2021-10-05T16:10:26.659Z"
   },
   {
    "duration": 5,
    "start_time": "2021-10-05T16:10:47.400Z"
   },
   {
    "duration": 6,
    "start_time": "2021-10-05T16:11:10.232Z"
   },
   {
    "duration": 13,
    "start_time": "2021-10-05T16:12:55.221Z"
   },
   {
    "duration": 13,
    "start_time": "2021-10-05T16:22:18.145Z"
   },
   {
    "duration": 34,
    "start_time": "2021-10-05T16:22:19.075Z"
   },
   {
    "duration": 19,
    "start_time": "2021-10-05T16:23:35.204Z"
   },
   {
    "duration": 76,
    "start_time": "2021-10-05T16:24:12.175Z"
   },
   {
    "duration": 16,
    "start_time": "2021-10-05T16:24:15.277Z"
   },
   {
    "duration": 13,
    "start_time": "2021-10-05T16:24:20.429Z"
   },
   {
    "duration": 13,
    "start_time": "2021-10-05T16:24:23.581Z"
   },
   {
    "duration": 662,
    "start_time": "2021-10-05T16:33:01.842Z"
   },
   {
    "duration": 13,
    "start_time": "2021-10-05T16:33:23.264Z"
   },
   {
    "duration": 13,
    "start_time": "2021-10-05T16:33:24.953Z"
   },
   {
    "duration": 277,
    "start_time": "2021-10-05T16:33:45.095Z"
   },
   {
    "duration": 5,
    "start_time": "2021-10-05T16:34:11.354Z"
   },
   {
    "duration": 416,
    "start_time": "2021-10-05T16:34:17.463Z"
   },
   {
    "duration": 77,
    "start_time": "2021-10-05T16:34:53.443Z"
   },
   {
    "duration": 15,
    "start_time": "2021-10-05T16:34:55.774Z"
   },
   {
    "duration": 13,
    "start_time": "2021-10-05T16:35:02.305Z"
   },
   {
    "duration": 14,
    "start_time": "2021-10-05T16:35:05.490Z"
   },
   {
    "duration": 4,
    "start_time": "2021-10-05T16:35:09.732Z"
   },
   {
    "duration": 21,
    "start_time": "2021-10-05T16:35:28.486Z"
   },
   {
    "duration": 5,
    "start_time": "2021-10-05T16:35:51.474Z"
   },
   {
    "duration": 13,
    "start_time": "2021-10-05T16:45:02.798Z"
   },
   {
    "duration": 10,
    "start_time": "2021-10-05T16:46:48.503Z"
   },
   {
    "duration": 8,
    "start_time": "2021-10-05T17:01:59.378Z"
   },
   {
    "duration": 19,
    "start_time": "2021-10-05T17:02:33.921Z"
   },
   {
    "duration": 76,
    "start_time": "2021-10-05T17:09:50.703Z"
   },
   {
    "duration": 15,
    "start_time": "2021-10-05T17:09:52.852Z"
   },
   {
    "duration": 137,
    "start_time": "2021-10-05T17:10:03.611Z"
   },
   {
    "duration": 129,
    "start_time": "2021-10-05T17:10:21.998Z"
   },
   {
    "duration": 12,
    "start_time": "2021-10-05T17:10:34.315Z"
   },
   {
    "duration": 1642,
    "start_time": "2021-10-05T17:12:27.553Z"
   },
   {
    "duration": 76,
    "start_time": "2021-10-05T17:12:38.808Z"
   },
   {
    "duration": 14,
    "start_time": "2021-10-05T17:12:39.879Z"
   },
   {
    "duration": 6125,
    "start_time": "2021-10-05T17:12:44.186Z"
   },
   {
    "duration": 6250,
    "start_time": "2021-10-05T17:12:54.345Z"
   },
   {
    "duration": 6537,
    "start_time": "2021-10-05T17:13:11.617Z"
   },
   {
    "duration": 74,
    "start_time": "2021-10-05T17:14:36.834Z"
   },
   {
    "duration": 90,
    "start_time": "2021-10-05T17:14:54.807Z"
   },
   {
    "duration": 73,
    "start_time": "2021-10-05T17:16:12.974Z"
   },
   {
    "duration": 15,
    "start_time": "2021-10-05T17:16:20.401Z"
   },
   {
    "duration": 311,
    "start_time": "2021-10-06T12:48:15.364Z"
   },
   {
    "duration": 839,
    "start_time": "2021-10-06T12:48:20.401Z"
   },
   {
    "duration": 20,
    "start_time": "2021-10-06T12:48:24.792Z"
   },
   {
    "duration": 19,
    "start_time": "2021-10-06T12:48:31.675Z"
   },
   {
    "duration": 15,
    "start_time": "2021-10-06T12:48:34.651Z"
   },
   {
    "duration": 4,
    "start_time": "2021-10-06T12:48:39.330Z"
   },
   {
    "duration": 13,
    "start_time": "2021-10-06T12:48:41.368Z"
   },
   {
    "duration": 29,
    "start_time": "2021-10-06T12:52:26.008Z"
   },
   {
    "duration": 7,
    "start_time": "2021-10-06T12:53:04.434Z"
   },
   {
    "duration": 27,
    "start_time": "2021-10-06T12:53:40.682Z"
   },
   {
    "duration": 90,
    "start_time": "2021-10-06T12:55:46.858Z"
   },
   {
    "duration": 11,
    "start_time": "2021-10-06T12:55:57.775Z"
   },
   {
    "duration": 13,
    "start_time": "2021-10-06T12:56:29.165Z"
   },
   {
    "duration": 9,
    "start_time": "2021-10-06T12:59:17.638Z"
   },
   {
    "duration": 13,
    "start_time": "2021-10-06T13:04:22.736Z"
   },
   {
    "duration": 78,
    "start_time": "2021-10-06T13:04:52.137Z"
   },
   {
    "duration": 14,
    "start_time": "2021-10-06T13:04:53.054Z"
   },
   {
    "duration": 14,
    "start_time": "2021-10-06T13:04:58.335Z"
   },
   {
    "duration": 19,
    "start_time": "2021-10-06T13:05:01.078Z"
   },
   {
    "duration": 5,
    "start_time": "2021-10-06T13:05:04.983Z"
   },
   {
    "duration": 34,
    "start_time": "2021-10-06T13:05:06.326Z"
   },
   {
    "duration": 35,
    "start_time": "2021-10-06T13:06:53.523Z"
   },
   {
    "duration": 34,
    "start_time": "2021-10-06T13:09:01.454Z"
   },
   {
    "duration": 97,
    "start_time": "2021-10-06T13:10:49.985Z"
   },
   {
    "duration": 22,
    "start_time": "2021-10-06T13:13:44.762Z"
   },
   {
    "duration": 114,
    "start_time": "2021-10-06T13:19:58.268Z"
   },
   {
    "duration": 22,
    "start_time": "2021-10-06T13:19:58.386Z"
   },
   {
    "duration": 18,
    "start_time": "2021-10-06T13:19:58.424Z"
   },
   {
    "duration": 41,
    "start_time": "2021-10-06T13:19:58.445Z"
   },
   {
    "duration": 18,
    "start_time": "2021-10-06T13:20:17.097Z"
   },
   {
    "duration": 6,
    "start_time": "2021-10-06T13:20:48.977Z"
   },
   {
    "duration": 18,
    "start_time": "2021-10-06T13:20:51.930Z"
   },
   {
    "duration": 15,
    "start_time": "2021-10-06T13:23:31.824Z"
   },
   {
    "duration": 14,
    "start_time": "2021-10-06T13:23:56.888Z"
   },
   {
    "duration": 7,
    "start_time": "2021-10-06T13:47:43.026Z"
   },
   {
    "duration": 6,
    "start_time": "2021-10-06T13:48:13.316Z"
   },
   {
    "duration": 5,
    "start_time": "2021-10-06T13:59:09.501Z"
   },
   {
    "duration": 20,
    "start_time": "2021-10-06T13:59:31.040Z"
   },
   {
    "duration": 16,
    "start_time": "2021-10-06T14:00:20.166Z"
   },
   {
    "duration": 405,
    "start_time": "2021-10-06T14:05:39.604Z"
   },
   {
    "duration": 24,
    "start_time": "2021-10-06T14:06:34.994Z"
   },
   {
    "duration": 28,
    "start_time": "2021-10-06T14:06:57.270Z"
   },
   {
    "duration": 22,
    "start_time": "2021-10-06T14:07:28.991Z"
   },
   {
    "duration": 20,
    "start_time": "2021-10-06T14:17:03.637Z"
   },
   {
    "duration": 21,
    "start_time": "2021-10-06T14:17:27.171Z"
   },
   {
    "duration": 23,
    "start_time": "2021-10-06T14:17:40.822Z"
   },
   {
    "duration": 21,
    "start_time": "2021-10-06T14:55:16.519Z"
   },
   {
    "duration": 7,
    "start_time": "2021-10-06T14:55:43.413Z"
   },
   {
    "duration": 86,
    "start_time": "2021-10-06T15:02:34.302Z"
   },
   {
    "duration": 70,
    "start_time": "2021-10-06T15:02:43.352Z"
   },
   {
    "duration": 242,
    "start_time": "2021-10-06T15:05:07.246Z"
   },
   {
    "duration": 9,
    "start_time": "2021-10-06T15:05:15.016Z"
   },
   {
    "duration": 10,
    "start_time": "2021-10-06T15:05:38.151Z"
   },
   {
    "duration": 9,
    "start_time": "2021-10-06T15:07:01.732Z"
   },
   {
    "duration": 10,
    "start_time": "2021-10-06T15:10:50.468Z"
   },
   {
    "duration": 7,
    "start_time": "2021-10-06T15:11:21.058Z"
   },
   {
    "duration": 12,
    "start_time": "2021-10-06T15:11:36.955Z"
   },
   {
    "duration": 84,
    "start_time": "2021-10-06T15:11:55.887Z"
   },
   {
    "duration": 18,
    "start_time": "2021-10-06T15:11:55.973Z"
   },
   {
    "duration": 38,
    "start_time": "2021-10-06T15:11:55.994Z"
   },
   {
    "duration": 39,
    "start_time": "2021-10-06T15:11:56.035Z"
   },
   {
    "duration": 20,
    "start_time": "2021-10-06T15:11:56.076Z"
   },
   {
    "duration": 21,
    "start_time": "2021-10-06T15:11:56.098Z"
   },
   {
    "duration": 39,
    "start_time": "2021-10-06T15:11:56.122Z"
   },
   {
    "duration": 26,
    "start_time": "2021-10-06T15:11:56.164Z"
   },
   {
    "duration": 30,
    "start_time": "2021-10-06T15:11:56.193Z"
   },
   {
    "duration": 94,
    "start_time": "2021-10-06T15:11:56.226Z"
   },
   {
    "duration": 8,
    "start_time": "2021-10-06T15:11:56.322Z"
   },
   {
    "duration": 14,
    "start_time": "2021-10-06T15:12:17.584Z"
   },
   {
    "duration": 80,
    "start_time": "2021-10-06T15:12:31.520Z"
   },
   {
    "duration": 22,
    "start_time": "2021-10-06T15:12:31.603Z"
   },
   {
    "duration": 16,
    "start_time": "2021-10-06T15:12:31.628Z"
   },
   {
    "duration": 26,
    "start_time": "2021-10-06T15:12:31.646Z"
   },
   {
    "duration": 76,
    "start_time": "2021-10-06T15:12:45.557Z"
   },
   {
    "duration": 79,
    "start_time": "2021-10-06T15:13:26.212Z"
   },
   {
    "duration": 13,
    "start_time": "2021-10-06T15:13:26.293Z"
   },
   {
    "duration": 12,
    "start_time": "2021-10-06T15:13:26.324Z"
   },
   {
    "duration": 42,
    "start_time": "2021-10-06T15:13:26.339Z"
   },
   {
    "duration": 20,
    "start_time": "2021-10-06T15:13:26.383Z"
   },
   {
    "duration": 12,
    "start_time": "2021-10-06T15:13:26.405Z"
   },
   {
    "duration": 42,
    "start_time": "2021-10-06T15:13:26.422Z"
   },
   {
    "duration": 31,
    "start_time": "2021-10-06T15:13:26.466Z"
   },
   {
    "duration": 19,
    "start_time": "2021-10-06T15:13:26.500Z"
   },
   {
    "duration": 90,
    "start_time": "2021-10-06T15:13:26.521Z"
   },
   {
    "duration": 7,
    "start_time": "2021-10-06T15:13:26.613Z"
   },
   {
    "duration": 29,
    "start_time": "2021-10-06T15:13:26.622Z"
   },
   {
    "duration": 7,
    "start_time": "2021-10-06T15:13:33.264Z"
   },
   {
    "duration": 18,
    "start_time": "2021-10-06T15:14:06.266Z"
   },
   {
    "duration": 72,
    "start_time": "2021-10-06T15:14:34.383Z"
   },
   {
    "duration": 77,
    "start_time": "2021-10-06T15:14:54.759Z"
   },
   {
    "duration": 16,
    "start_time": "2021-10-06T15:14:54.838Z"
   },
   {
    "duration": 25,
    "start_time": "2021-10-06T15:14:54.857Z"
   },
   {
    "duration": 45,
    "start_time": "2021-10-06T15:14:54.885Z"
   },
   {
    "duration": 12,
    "start_time": "2021-10-06T15:14:54.932Z"
   },
   {
    "duration": 20,
    "start_time": "2021-10-06T15:14:54.946Z"
   },
   {
    "duration": 25,
    "start_time": "2021-10-06T15:14:54.968Z"
   },
   {
    "duration": 16,
    "start_time": "2021-10-06T15:14:54.995Z"
   },
   {
    "duration": 18,
    "start_time": "2021-10-06T15:14:55.014Z"
   },
   {
    "duration": 93,
    "start_time": "2021-10-06T15:14:55.035Z"
   },
   {
    "duration": 80,
    "start_time": "2021-10-06T15:24:51.531Z"
   },
   {
    "duration": 14,
    "start_time": "2021-10-06T15:24:51.615Z"
   },
   {
    "duration": 11,
    "start_time": "2021-10-06T15:24:51.632Z"
   },
   {
    "duration": 22,
    "start_time": "2021-10-06T15:24:51.646Z"
   },
   {
    "duration": 51,
    "start_time": "2021-10-06T15:24:51.671Z"
   },
   {
    "duration": 4,
    "start_time": "2021-10-06T15:24:51.725Z"
   },
   {
    "duration": 15,
    "start_time": "2021-10-06T15:24:51.732Z"
   },
   {
    "duration": 11,
    "start_time": "2021-10-06T15:24:51.750Z"
   },
   {
    "duration": 15,
    "start_time": "2021-10-06T15:24:51.765Z"
   },
   {
    "duration": 110,
    "start_time": "2021-10-06T15:24:51.783Z"
   },
   {
    "duration": 7,
    "start_time": "2021-10-06T15:24:51.895Z"
   },
   {
    "duration": 26,
    "start_time": "2021-10-06T15:24:51.904Z"
   },
   {
    "duration": 21,
    "start_time": "2021-10-06T15:25:55.322Z"
   },
   {
    "duration": 78,
    "start_time": "2021-10-06T15:26:04.877Z"
   },
   {
    "duration": 13,
    "start_time": "2021-10-06T15:26:04.958Z"
   },
   {
    "duration": 21,
    "start_time": "2021-10-06T15:26:04.974Z"
   },
   {
    "duration": 34,
    "start_time": "2021-10-06T15:26:04.997Z"
   },
   {
    "duration": 12,
    "start_time": "2021-10-06T15:26:05.033Z"
   },
   {
    "duration": 8,
    "start_time": "2021-10-06T15:26:05.047Z"
   },
   {
    "duration": 19,
    "start_time": "2021-10-06T15:26:05.058Z"
   },
   {
    "duration": 11,
    "start_time": "2021-10-06T15:26:05.079Z"
   },
   {
    "duration": 39,
    "start_time": "2021-10-06T15:26:05.093Z"
   },
   {
    "duration": 28,
    "start_time": "2021-10-06T15:26:05.135Z"
   },
   {
    "duration": 19,
    "start_time": "2021-10-06T15:26:28.882Z"
   },
   {
    "duration": 8,
    "start_time": "2021-10-06T15:26:45.012Z"
   },
   {
    "duration": 10,
    "start_time": "2021-10-06T15:26:46.981Z"
   },
   {
    "duration": 20,
    "start_time": "2021-10-06T15:26:53.353Z"
   },
   {
    "duration": 244,
    "start_time": "2021-10-06T15:27:50.087Z"
   },
   {
    "duration": 9,
    "start_time": "2021-10-06T15:27:59.589Z"
   },
   {
    "duration": 31,
    "start_time": "2021-10-06T15:31:05.564Z"
   },
   {
    "duration": 8,
    "start_time": "2021-10-06T15:34:48.963Z"
   },
   {
    "duration": 9,
    "start_time": "2021-10-06T15:35:17.091Z"
   },
   {
    "duration": 241,
    "start_time": "2021-10-06T15:35:45.239Z"
   },
   {
    "duration": 251,
    "start_time": "2021-10-06T15:36:28.051Z"
   },
   {
    "duration": 9,
    "start_time": "2021-10-06T15:36:51.686Z"
   },
   {
    "duration": 9,
    "start_time": "2021-10-06T15:37:24.627Z"
   },
   {
    "duration": 10,
    "start_time": "2021-10-06T15:39:02.612Z"
   },
   {
    "duration": 34,
    "start_time": "2021-10-06T15:41:45.146Z"
   },
   {
    "duration": 32,
    "start_time": "2021-10-06T15:42:36.581Z"
   },
   {
    "duration": 608,
    "start_time": "2021-10-06T15:46:35.161Z"
   },
   {
    "duration": 10,
    "start_time": "2021-10-06T15:46:44.477Z"
   },
   {
    "duration": 14,
    "start_time": "2021-10-06T15:48:35.205Z"
   },
   {
    "duration": 6,
    "start_time": "2021-10-06T15:50:10.868Z"
   },
   {
    "duration": 29,
    "start_time": "2021-10-06T15:50:17.815Z"
   },
   {
    "duration": 15,
    "start_time": "2021-10-06T15:59:03.615Z"
   },
   {
    "duration": 11,
    "start_time": "2021-10-06T16:02:24.618Z"
   },
   {
    "duration": 703,
    "start_time": "2021-10-06T16:02:47.108Z"
   },
   {
    "duration": 10,
    "start_time": "2021-10-06T16:02:55.660Z"
   },
   {
    "duration": 12,
    "start_time": "2021-10-06T16:03:05.269Z"
   },
   {
    "duration": 11,
    "start_time": "2021-10-06T16:03:17.012Z"
   },
   {
    "duration": 12,
    "start_time": "2021-10-06T16:04:07.915Z"
   },
   {
    "duration": 15,
    "start_time": "2021-10-06T16:05:54.060Z"
   },
   {
    "duration": 269,
    "start_time": "2021-10-06T19:48:00.471Z"
   },
   {
    "duration": 24,
    "start_time": "2021-10-06T19:49:13.865Z"
   },
   {
    "duration": 23,
    "start_time": "2021-10-06T19:49:34.761Z"
   },
   {
    "duration": 23,
    "start_time": "2021-10-06T19:49:44.403Z"
   },
   {
    "duration": 76,
    "start_time": "2021-10-06T19:50:04.269Z"
   },
   {
    "duration": 81,
    "start_time": "2021-10-06T19:51:46.982Z"
   },
   {
    "duration": 16,
    "start_time": "2021-10-06T19:51:47.066Z"
   },
   {
    "duration": 39,
    "start_time": "2021-10-06T19:51:47.087Z"
   },
   {
    "duration": 24,
    "start_time": "2021-10-06T19:51:47.129Z"
   },
   {
    "duration": 16,
    "start_time": "2021-10-06T19:51:47.156Z"
   },
   {
    "duration": 5,
    "start_time": "2021-10-06T19:51:47.175Z"
   },
   {
    "duration": 17,
    "start_time": "2021-10-06T19:51:47.224Z"
   },
   {
    "duration": 13,
    "start_time": "2021-10-06T19:51:47.246Z"
   },
   {
    "duration": 16,
    "start_time": "2021-10-06T19:51:47.261Z"
   },
   {
    "duration": 268,
    "start_time": "2021-10-06T19:51:56.000Z"
   },
   {
    "duration": 258,
    "start_time": "2021-10-06T19:52:04.694Z"
   },
   {
    "duration": 22,
    "start_time": "2021-10-06T19:52:13.614Z"
   },
   {
    "duration": 79,
    "start_time": "2021-10-06T20:07:29.583Z"
   },
   {
    "duration": 16,
    "start_time": "2021-10-06T20:07:29.665Z"
   },
   {
    "duration": 16,
    "start_time": "2021-10-06T20:07:29.685Z"
   },
   {
    "duration": 48,
    "start_time": "2021-10-06T20:07:29.704Z"
   },
   {
    "duration": 35,
    "start_time": "2021-10-06T20:07:29.756Z"
   },
   {
    "duration": 11,
    "start_time": "2021-10-06T20:07:29.794Z"
   },
   {
    "duration": 35,
    "start_time": "2021-10-06T20:07:29.808Z"
   },
   {
    "duration": 28,
    "start_time": "2021-10-06T20:07:29.846Z"
   },
   {
    "duration": 33,
    "start_time": "2021-10-06T20:07:29.878Z"
   },
   {
    "duration": 266,
    "start_time": "2021-10-06T20:07:34.413Z"
   },
   {
    "duration": 16,
    "start_time": "2021-10-06T20:30:23.245Z"
   },
   {
    "duration": 18,
    "start_time": "2021-10-06T20:31:42.985Z"
   },
   {
    "duration": 17,
    "start_time": "2021-10-06T20:33:05.829Z"
   },
   {
    "duration": 15,
    "start_time": "2021-10-06T20:33:19.774Z"
   },
   {
    "duration": 453,
    "start_time": "2021-10-06T20:35:05.539Z"
   },
   {
    "duration": 11,
    "start_time": "2021-10-06T20:35:15.589Z"
   },
   {
    "duration": 13,
    "start_time": "2021-10-06T20:35:17.700Z"
   },
   {
    "duration": 40,
    "start_time": "2021-10-06T20:35:21.648Z"
   },
   {
    "duration": 20,
    "start_time": "2021-10-06T20:35:32.457Z"
   },
   {
    "duration": 10,
    "start_time": "2021-10-06T20:42:58.188Z"
   },
   {
    "duration": 10,
    "start_time": "2021-10-06T20:44:18.743Z"
   },
   {
    "duration": 20,
    "start_time": "2021-10-06T20:56:15.503Z"
   },
   {
    "duration": 582,
    "start_time": "2021-10-07T12:22:21.358Z"
   },
   {
    "duration": 11,
    "start_time": "2021-10-07T12:24:30.655Z"
   },
   {
    "duration": 4,
    "start_time": "2021-10-07T12:25:19.565Z"
   },
   {
    "duration": 16,
    "start_time": "2021-10-07T12:25:46.397Z"
   },
   {
    "duration": 15,
    "start_time": "2021-10-07T12:31:03.814Z"
   },
   {
    "duration": 14,
    "start_time": "2021-10-07T12:31:57.302Z"
   },
   {
    "duration": 10,
    "start_time": "2021-10-07T12:41:46.013Z"
   },
   {
    "duration": 8,
    "start_time": "2021-10-07T12:42:13.543Z"
   },
   {
    "duration": 13,
    "start_time": "2021-10-07T12:42:15.107Z"
   },
   {
    "duration": 63,
    "start_time": "2021-10-07T12:53:13.383Z"
   },
   {
    "duration": 10,
    "start_time": "2021-10-07T12:53:13.448Z"
   },
   {
    "duration": 8,
    "start_time": "2021-10-07T12:53:13.460Z"
   },
   {
    "duration": 43,
    "start_time": "2021-10-07T12:53:13.470Z"
   },
   {
    "duration": 10,
    "start_time": "2021-10-07T12:53:13.514Z"
   },
   {
    "duration": 8,
    "start_time": "2021-10-07T12:53:13.526Z"
   },
   {
    "duration": 2,
    "start_time": "2021-10-07T12:53:13.535Z"
   },
   {
    "duration": 12,
    "start_time": "2021-10-07T12:53:13.538Z"
   },
   {
    "duration": 11,
    "start_time": "2021-10-07T12:53:19.964Z"
   },
   {
    "duration": 54,
    "start_time": "2021-10-07T12:56:04.026Z"
   },
   {
    "duration": 16,
    "start_time": "2021-10-07T12:56:15.342Z"
   },
   {
    "duration": 17,
    "start_time": "2021-10-07T12:56:43.064Z"
   },
   {
    "duration": 15,
    "start_time": "2021-10-07T13:02:00.217Z"
   },
   {
    "duration": 6533,
    "start_time": "2021-10-07T13:02:21.621Z"
   },
   {
    "duration": 18,
    "start_time": "2021-10-07T13:02:45.374Z"
   },
   {
    "duration": 14,
    "start_time": "2021-10-07T13:03:48.914Z"
   },
   {
    "duration": 13,
    "start_time": "2021-10-07T13:09:35.197Z"
   },
   {
    "duration": 10,
    "start_time": "2021-10-07T13:09:36.243Z"
   },
   {
    "duration": 15,
    "start_time": "2021-10-07T13:13:35.711Z"
   },
   {
    "duration": 17,
    "start_time": "2021-10-07T13:14:25.249Z"
   },
   {
    "duration": 28,
    "start_time": "2021-10-07T13:14:34.098Z"
   },
   {
    "duration": 16,
    "start_time": "2021-10-07T13:17:22.772Z"
   },
   {
    "duration": 20,
    "start_time": "2021-10-07T13:17:52.469Z"
   },
   {
    "duration": 19,
    "start_time": "2021-10-07T13:18:16.357Z"
   },
   {
    "duration": 9,
    "start_time": "2021-10-07T13:20:32.914Z"
   },
   {
    "duration": 71,
    "start_time": "2021-10-07T13:20:49.588Z"
   },
   {
    "duration": 10,
    "start_time": "2021-10-07T13:20:49.660Z"
   },
   {
    "duration": 12,
    "start_time": "2021-10-07T13:20:49.672Z"
   },
   {
    "duration": 19,
    "start_time": "2021-10-07T13:20:54.497Z"
   },
   {
    "duration": 22,
    "start_time": "2021-10-07T13:21:05.598Z"
   },
   {
    "duration": 28,
    "start_time": "2021-10-07T13:48:07.784Z"
   },
   {
    "duration": 6,
    "start_time": "2021-10-07T14:54:55.523Z"
   },
   {
    "duration": 56,
    "start_time": "2021-10-07T14:55:08.039Z"
   },
   {
    "duration": 17,
    "start_time": "2021-10-07T14:55:08.097Z"
   },
   {
    "duration": 8,
    "start_time": "2021-10-07T14:55:08.116Z"
   },
   {
    "duration": 20,
    "start_time": "2021-10-07T14:55:08.126Z"
   },
   {
    "duration": 8,
    "start_time": "2021-10-07T14:55:08.147Z"
   },
   {
    "duration": 14,
    "start_time": "2021-10-07T14:55:08.156Z"
   },
   {
    "duration": 51,
    "start_time": "2021-10-07T14:55:08.172Z"
   },
   {
    "duration": 4,
    "start_time": "2021-10-07T14:55:08.224Z"
   },
   {
    "duration": 6,
    "start_time": "2021-10-07T14:55:58.541Z"
   },
   {
    "duration": 6,
    "start_time": "2021-10-07T14:56:10.303Z"
   },
   {
    "duration": 5,
    "start_time": "2021-10-07T14:56:29.140Z"
   },
   {
    "duration": 19,
    "start_time": "2021-10-07T14:59:20.136Z"
   },
   {
    "duration": 40,
    "start_time": "2021-10-07T14:59:47.114Z"
   },
   {
    "duration": 14,
    "start_time": "2021-10-07T15:15:12.931Z"
   },
   {
    "duration": 15,
    "start_time": "2021-10-07T15:23:41.882Z"
   },
   {
    "duration": 4348,
    "start_time": "2021-10-07T15:24:24.744Z"
   },
   {
    "duration": 4324,
    "start_time": "2021-10-07T15:37:50.192Z"
   },
   {
    "duration": 11,
    "start_time": "2021-10-07T15:38:16.064Z"
   },
   {
    "duration": 66,
    "start_time": "2021-10-07T15:38:38.982Z"
   },
   {
    "duration": 10,
    "start_time": "2021-10-07T15:38:39.050Z"
   },
   {
    "duration": 9,
    "start_time": "2021-10-07T15:38:39.063Z"
   },
   {
    "duration": 42,
    "start_time": "2021-10-07T15:38:39.074Z"
   },
   {
    "duration": 9,
    "start_time": "2021-10-07T15:38:39.118Z"
   },
   {
    "duration": 9,
    "start_time": "2021-10-07T15:38:39.128Z"
   },
   {
    "duration": 21,
    "start_time": "2021-10-07T15:38:39.138Z"
   },
   {
    "duration": 10,
    "start_time": "2021-10-07T15:38:42.522Z"
   },
   {
    "duration": 347,
    "start_time": "2021-10-07T15:38:48.782Z"
   },
   {
    "duration": 4797,
    "start_time": "2021-10-07T15:39:14.658Z"
   },
   {
    "duration": 5531,
    "start_time": "2021-10-07T15:40:15.533Z"
   },
   {
    "duration": 14,
    "start_time": "2021-10-07T15:41:28.387Z"
   },
   {
    "duration": 3989,
    "start_time": "2021-10-07T15:41:33.458Z"
   },
   {
    "duration": 24,
    "start_time": "2021-10-07T16:00:57.405Z"
   },
   {
    "duration": 21,
    "start_time": "2021-10-07T16:01:33.008Z"
   },
   {
    "duration": 13,
    "start_time": "2021-10-07T16:07:59.874Z"
   },
   {
    "duration": 3976,
    "start_time": "2021-10-07T16:08:06.960Z"
   },
   {
    "duration": 8512,
    "start_time": "2021-10-07T16:11:06.847Z"
   },
   {
    "duration": 7008,
    "start_time": "2021-10-07T16:13:48.888Z"
   },
   {
    "duration": 6922,
    "start_time": "2021-10-07T16:14:52.338Z"
   },
   {
    "duration": 16,
    "start_time": "2021-10-07T16:16:51.407Z"
   },
   {
    "duration": 6925,
    "start_time": "2021-10-07T16:16:55.704Z"
   },
   {
    "duration": 61,
    "start_time": "2021-10-07T16:17:21.809Z"
   },
   {
    "duration": 9,
    "start_time": "2021-10-07T16:17:21.872Z"
   },
   {
    "duration": 9,
    "start_time": "2021-10-07T16:17:21.883Z"
   },
   {
    "duration": 15,
    "start_time": "2021-10-07T16:17:21.894Z"
   },
   {
    "duration": 8,
    "start_time": "2021-10-07T16:17:21.911Z"
   },
   {
    "duration": 8,
    "start_time": "2021-10-07T16:17:21.921Z"
   },
   {
    "duration": 20,
    "start_time": "2021-10-07T16:17:21.931Z"
   },
   {
    "duration": 13,
    "start_time": "2021-10-07T16:17:21.954Z"
   },
   {
    "duration": 649,
    "start_time": "2021-10-07T16:17:26.679Z"
   },
   {
    "duration": 630,
    "start_time": "2021-10-07T16:17:58.963Z"
   },
   {
    "duration": 3999,
    "start_time": "2021-10-07T16:32:55.540Z"
   },
   {
    "duration": 12,
    "start_time": "2021-10-07T16:33:36.005Z"
   },
   {
    "duration": 55,
    "start_time": "2021-10-07T16:33:48.280Z"
   },
   {
    "duration": 9,
    "start_time": "2021-10-07T16:33:48.337Z"
   },
   {
    "duration": 9,
    "start_time": "2021-10-07T16:33:48.348Z"
   },
   {
    "duration": 13,
    "start_time": "2021-10-07T16:33:48.359Z"
   },
   {
    "duration": 29,
    "start_time": "2021-10-07T16:33:48.373Z"
   },
   {
    "duration": 9,
    "start_time": "2021-10-07T16:33:48.403Z"
   },
   {
    "duration": 20,
    "start_time": "2021-10-07T16:33:48.414Z"
   },
   {
    "duration": 13,
    "start_time": "2021-10-07T16:33:54.518Z"
   },
   {
    "duration": 1176,
    "start_time": "2021-10-07T16:34:03.472Z"
   },
   {
    "duration": 1192,
    "start_time": "2021-10-07T16:35:03.463Z"
   },
   {
    "duration": 12,
    "start_time": "2021-10-07T16:35:20.800Z"
   },
   {
    "duration": 55,
    "start_time": "2021-10-07T16:35:43.015Z"
   },
   {
    "duration": 11,
    "start_time": "2021-10-07T16:35:43.398Z"
   },
   {
    "duration": 9,
    "start_time": "2021-10-07T16:35:43.411Z"
   },
   {
    "duration": 14,
    "start_time": "2021-10-07T16:35:43.422Z"
   },
   {
    "duration": 9,
    "start_time": "2021-10-07T16:35:43.438Z"
   },
   {
    "duration": 10,
    "start_time": "2021-10-07T16:35:43.449Z"
   },
   {
    "duration": 57,
    "start_time": "2021-10-07T16:35:43.460Z"
   },
   {
    "duration": 13,
    "start_time": "2021-10-07T16:35:43.519Z"
   },
   {
    "duration": 14,
    "start_time": "2021-10-07T16:35:52.265Z"
   },
   {
    "duration": 667,
    "start_time": "2021-10-07T16:37:59.871Z"
   },
   {
    "duration": 14,
    "start_time": "2021-10-07T16:39:31.209Z"
   },
   {
    "duration": 4,
    "start_time": "2021-10-07T16:39:39.999Z"
   },
   {
    "duration": 12,
    "start_time": "2021-10-07T16:39:52.949Z"
   },
   {
    "duration": 13,
    "start_time": "2021-10-07T16:40:59.379Z"
   },
   {
    "duration": 59,
    "start_time": "2021-10-07T16:41:06.864Z"
   },
   {
    "duration": 10,
    "start_time": "2021-10-07T16:41:06.925Z"
   },
   {
    "duration": 8,
    "start_time": "2021-10-07T16:41:06.937Z"
   },
   {
    "duration": 14,
    "start_time": "2021-10-07T16:41:06.946Z"
   },
   {
    "duration": 8,
    "start_time": "2021-10-07T16:41:06.961Z"
   },
   {
    "duration": 11,
    "start_time": "2021-10-07T16:41:07.247Z"
   },
   {
    "duration": 22,
    "start_time": "2021-10-07T16:41:07.260Z"
   },
   {
    "duration": 13,
    "start_time": "2021-10-07T16:41:11.276Z"
   },
   {
    "duration": 652,
    "start_time": "2021-10-07T16:42:14.121Z"
   },
   {
    "duration": 1190,
    "start_time": "2021-10-07T16:43:18.699Z"
   },
   {
    "duration": 176,
    "start_time": "2021-10-07T16:43:45.705Z"
   },
   {
    "duration": 3905,
    "start_time": "2021-10-07T16:54:31.570Z"
   },
   {
    "duration": 3497,
    "start_time": "2021-10-07T16:55:52.781Z"
   },
   {
    "duration": 13,
    "start_time": "2021-10-07T16:56:35.277Z"
   },
   {
    "duration": 5776,
    "start_time": "2021-10-07T16:57:04.944Z"
   },
   {
    "duration": 14,
    "start_time": "2021-10-07T16:57:23.437Z"
   },
   {
    "duration": 15,
    "start_time": "2021-10-07T16:57:57.809Z"
   },
   {
    "duration": 3766,
    "start_time": "2021-10-07T16:58:41.399Z"
   },
   {
    "duration": 137,
    "start_time": "2021-10-07T16:59:02.149Z"
   },
   {
    "duration": 148,
    "start_time": "2021-10-07T16:59:20.446Z"
   },
   {
    "duration": 228,
    "start_time": "2021-10-07T16:59:45.649Z"
   },
   {
    "duration": 145,
    "start_time": "2021-10-07T17:00:03.775Z"
   },
   {
    "duration": 6,
    "start_time": "2021-10-07T17:00:29.414Z"
   },
   {
    "duration": 8,
    "start_time": "2021-10-07T17:00:58.408Z"
   },
   {
    "duration": 57,
    "start_time": "2021-10-07T17:01:27.078Z"
   },
   {
    "duration": 10,
    "start_time": "2021-10-07T17:01:27.136Z"
   },
   {
    "duration": 9,
    "start_time": "2021-10-07T17:01:27.148Z"
   },
   {
    "duration": 13,
    "start_time": "2021-10-07T17:01:27.159Z"
   },
   {
    "duration": 32,
    "start_time": "2021-10-07T17:01:27.174Z"
   },
   {
    "duration": 10,
    "start_time": "2021-10-07T17:01:27.208Z"
   },
   {
    "duration": 22,
    "start_time": "2021-10-07T17:01:27.219Z"
   },
   {
    "duration": 12,
    "start_time": "2021-10-07T17:01:27.242Z"
   },
   {
    "duration": 6,
    "start_time": "2021-10-07T17:01:33.847Z"
   },
   {
    "duration": 57,
    "start_time": "2021-10-07T17:03:42.818Z"
   },
   {
    "duration": 10,
    "start_time": "2021-10-07T17:03:42.876Z"
   },
   {
    "duration": 18,
    "start_time": "2021-10-07T17:03:42.888Z"
   },
   {
    "duration": 17,
    "start_time": "2021-10-07T17:03:42.908Z"
   },
   {
    "duration": 9,
    "start_time": "2021-10-07T17:03:42.926Z"
   },
   {
    "duration": 10,
    "start_time": "2021-10-07T17:03:42.936Z"
   },
   {
    "duration": 21,
    "start_time": "2021-10-07T17:03:42.947Z"
   },
   {
    "duration": 16,
    "start_time": "2021-10-07T17:03:51.822Z"
   },
   {
    "duration": 4,
    "start_time": "2021-10-07T17:06:52.886Z"
   },
   {
    "duration": 12,
    "start_time": "2021-10-07T17:07:18.081Z"
   },
   {
    "duration": 13,
    "start_time": "2021-10-07T17:07:57.279Z"
   },
   {
    "duration": 13,
    "start_time": "2021-10-07T17:08:12.487Z"
   },
   {
    "duration": 58,
    "start_time": "2021-10-07T17:08:18.838Z"
   },
   {
    "duration": 10,
    "start_time": "2021-10-07T17:08:18.897Z"
   },
   {
    "duration": 8,
    "start_time": "2021-10-07T17:08:18.909Z"
   },
   {
    "duration": 16,
    "start_time": "2021-10-07T17:08:18.919Z"
   },
   {
    "duration": 8,
    "start_time": "2021-10-07T17:08:18.936Z"
   },
   {
    "duration": 9,
    "start_time": "2021-10-07T17:08:18.946Z"
   },
   {
    "duration": 55,
    "start_time": "2021-10-07T17:08:18.956Z"
   },
   {
    "duration": 12,
    "start_time": "2021-10-07T17:08:19.012Z"
   },
   {
    "duration": 11,
    "start_time": "2021-10-07T17:08:19.026Z"
   },
   {
    "duration": 6,
    "start_time": "2021-10-07T17:08:19.038Z"
   },
   {
    "duration": 7,
    "start_time": "2021-10-07T17:08:19.045Z"
   },
   {
    "duration": 6,
    "start_time": "2021-10-07T17:08:19.054Z"
   },
   {
    "duration": 47,
    "start_time": "2021-10-07T17:08:19.061Z"
   },
   {
    "duration": 7,
    "start_time": "2021-10-07T17:08:19.110Z"
   },
   {
    "duration": 10,
    "start_time": "2021-10-07T17:08:19.119Z"
   },
   {
    "duration": 9,
    "start_time": "2021-10-07T17:08:19.131Z"
   },
   {
    "duration": 7,
    "start_time": "2021-10-07T17:08:19.141Z"
   },
   {
    "duration": 7,
    "start_time": "2021-10-07T17:08:19.150Z"
   },
   {
    "duration": 12,
    "start_time": "2021-10-07T17:08:47.694Z"
   },
   {
    "duration": 59,
    "start_time": "2021-10-07T17:09:01.283Z"
   },
   {
    "duration": 11,
    "start_time": "2021-10-07T17:09:01.344Z"
   },
   {
    "duration": 11,
    "start_time": "2021-10-07T17:09:01.357Z"
   },
   {
    "duration": 38,
    "start_time": "2021-10-07T17:09:01.370Z"
   },
   {
    "duration": 9,
    "start_time": "2021-10-07T17:09:01.410Z"
   },
   {
    "duration": 20,
    "start_time": "2021-10-07T17:09:01.420Z"
   },
   {
    "duration": 25,
    "start_time": "2021-10-07T17:09:01.442Z"
   },
   {
    "duration": 16,
    "start_time": "2021-10-07T17:09:23.282Z"
   },
   {
    "duration": 20,
    "start_time": "2021-10-07T17:09:35.179Z"
   },
   {
    "duration": 13,
    "start_time": "2021-10-07T17:26:34.643Z"
   },
   {
    "duration": 13,
    "start_time": "2021-10-07T17:26:39.902Z"
   },
   {
    "duration": 59,
    "start_time": "2021-10-07T17:27:03.261Z"
   },
   {
    "duration": 10,
    "start_time": "2021-10-07T17:27:03.321Z"
   },
   {
    "duration": 9,
    "start_time": "2021-10-07T17:27:03.333Z"
   },
   {
    "duration": 18,
    "start_time": "2021-10-07T17:27:03.344Z"
   },
   {
    "duration": 9,
    "start_time": "2021-10-07T17:27:03.364Z"
   },
   {
    "duration": 34,
    "start_time": "2021-10-07T17:27:03.374Z"
   },
   {
    "duration": 23,
    "start_time": "2021-10-07T17:27:03.409Z"
   },
   {
    "duration": 12,
    "start_time": "2021-10-07T17:27:03.434Z"
   },
   {
    "duration": 13,
    "start_time": "2021-10-07T17:27:16.869Z"
   },
   {
    "duration": 15,
    "start_time": "2021-10-07T17:27:59.159Z"
   },
   {
    "duration": 13,
    "start_time": "2021-10-07T17:28:01.972Z"
   },
   {
    "duration": 14,
    "start_time": "2021-10-07T17:41:26.729Z"
   },
   {
    "duration": 59,
    "start_time": "2021-10-07T17:49:32.469Z"
   },
   {
    "duration": 10,
    "start_time": "2021-10-07T17:49:32.529Z"
   },
   {
    "duration": 8,
    "start_time": "2021-10-07T17:49:32.541Z"
   },
   {
    "duration": 15,
    "start_time": "2021-10-07T17:49:32.551Z"
   },
   {
    "duration": 33,
    "start_time": "2021-10-07T17:49:32.567Z"
   },
   {
    "duration": 9,
    "start_time": "2021-10-07T17:49:32.602Z"
   },
   {
    "duration": 28,
    "start_time": "2021-10-07T17:49:32.613Z"
   },
   {
    "duration": 14,
    "start_time": "2021-10-07T17:49:32.642Z"
   },
   {
    "duration": 12,
    "start_time": "2021-10-07T17:49:32.658Z"
   },
   {
    "duration": 5,
    "start_time": "2021-10-07T17:53:56.961Z"
   },
   {
    "duration": 6,
    "start_time": "2021-10-07T17:57:22.970Z"
   },
   {
    "duration": 8,
    "start_time": "2021-10-07T17:57:26.618Z"
   },
   {
    "duration": 9,
    "start_time": "2021-10-07T18:00:06.368Z"
   },
   {
    "duration": 13,
    "start_time": "2021-10-07T18:00:40.345Z"
   },
   {
    "duration": 11,
    "start_time": "2021-10-07T18:05:13.957Z"
   },
   {
    "duration": 12,
    "start_time": "2021-10-07T18:05:30.412Z"
   },
   {
    "duration": 19,
    "start_time": "2021-10-07T18:06:07.593Z"
   },
   {
    "duration": 7,
    "start_time": "2021-10-07T18:08:29.696Z"
   },
   {
    "duration": 8,
    "start_time": "2021-10-07T18:08:48.959Z"
   },
   {
    "duration": 2771,
    "start_time": "2021-10-07T18:15:52.053Z"
   },
   {
    "duration": 5,
    "start_time": "2021-10-07T18:16:12.396Z"
   },
   {
    "duration": 56,
    "start_time": "2021-10-07T18:17:12.177Z"
   },
   {
    "duration": 6,
    "start_time": "2021-10-07T18:17:41.425Z"
   },
   {
    "duration": 13,
    "start_time": "2021-10-07T18:19:12.826Z"
   },
   {
    "duration": 57,
    "start_time": "2021-10-07T18:19:21.038Z"
   },
   {
    "duration": 10,
    "start_time": "2021-10-07T18:19:21.097Z"
   },
   {
    "duration": 9,
    "start_time": "2021-10-07T18:19:21.149Z"
   },
   {
    "duration": 10,
    "start_time": "2021-10-07T18:19:24.875Z"
   },
   {
    "duration": 11,
    "start_time": "2021-10-07T18:19:31.871Z"
   },
   {
    "duration": 5,
    "start_time": "2021-10-07T18:22:19.386Z"
   },
   {
    "duration": 6,
    "start_time": "2021-10-07T18:23:05.597Z"
   },
   {
    "duration": 16,
    "start_time": "2021-10-07T18:23:15.080Z"
   },
   {
    "duration": 15,
    "start_time": "2021-10-07T18:23:29.629Z"
   },
   {
    "duration": 16,
    "start_time": "2021-10-07T20:38:38.340Z"
   },
   {
    "duration": 14,
    "start_time": "2021-10-07T20:38:57.312Z"
   },
   {
    "duration": 57,
    "start_time": "2021-10-07T20:51:42.088Z"
   },
   {
    "duration": 10,
    "start_time": "2021-10-07T20:51:42.147Z"
   },
   {
    "duration": 10,
    "start_time": "2021-10-07T20:51:42.158Z"
   },
   {
    "duration": 37,
    "start_time": "2021-10-07T20:51:42.170Z"
   },
   {
    "duration": 9,
    "start_time": "2021-10-07T20:51:42.208Z"
   },
   {
    "duration": 9,
    "start_time": "2021-10-07T20:51:42.219Z"
   },
   {
    "duration": 5,
    "start_time": "2021-10-07T20:51:42.229Z"
   },
   {
    "duration": 14,
    "start_time": "2021-10-07T20:51:42.236Z"
   },
   {
    "duration": 11,
    "start_time": "2021-10-07T20:51:42.252Z"
   },
   {
    "duration": 15,
    "start_time": "2021-10-07T20:51:42.299Z"
   },
   {
    "duration": 7,
    "start_time": "2021-10-07T20:51:42.315Z"
   },
   {
    "duration": 8,
    "start_time": "2021-10-07T20:51:42.323Z"
   },
   {
    "duration": 7,
    "start_time": "2021-10-07T20:51:42.332Z"
   },
   {
    "duration": 5,
    "start_time": "2021-10-07T20:51:42.341Z"
   },
   {
    "duration": 56,
    "start_time": "2021-10-07T20:54:19.424Z"
   },
   {
    "duration": 9,
    "start_time": "2021-10-07T20:54:19.482Z"
   },
   {
    "duration": 8,
    "start_time": "2021-10-07T20:54:19.493Z"
   },
   {
    "duration": 13,
    "start_time": "2021-10-07T20:54:19.503Z"
   },
   {
    "duration": 11,
    "start_time": "2021-10-07T20:54:23.100Z"
   },
   {
    "duration": 10,
    "start_time": "2021-10-07T20:56:42.343Z"
   },
   {
    "duration": 10,
    "start_time": "2021-10-07T20:59:09.572Z"
   },
   {
    "duration": 10,
    "start_time": "2021-10-07T20:59:35.719Z"
   },
   {
    "duration": 5,
    "start_time": "2021-10-07T20:59:38.824Z"
   },
   {
    "duration": 15,
    "start_time": "2021-10-07T20:59:40.767Z"
   },
   {
    "duration": 11,
    "start_time": "2021-10-07T21:03:04.883Z"
   },
   {
    "duration": 55,
    "start_time": "2021-10-07T21:03:14.510Z"
   },
   {
    "duration": 10,
    "start_time": "2021-10-07T21:03:14.566Z"
   },
   {
    "duration": 8,
    "start_time": "2021-10-07T21:03:14.581Z"
   },
   {
    "duration": 10,
    "start_time": "2021-10-07T21:03:55.132Z"
   },
   {
    "duration": 14,
    "start_time": "2021-10-07T21:03:56.655Z"
   },
   {
    "duration": 9,
    "start_time": "2021-10-07T21:04:30.566Z"
   },
   {
    "duration": 11,
    "start_time": "2021-10-07T21:04:50.192Z"
   },
   {
    "duration": 5,
    "start_time": "2021-10-07T21:05:05.297Z"
   },
   {
    "duration": 14,
    "start_time": "2021-10-07T21:05:11.289Z"
   },
   {
    "duration": 55,
    "start_time": "2021-10-07T21:08:00.304Z"
   },
   {
    "duration": 9,
    "start_time": "2021-10-07T21:08:00.361Z"
   },
   {
    "duration": 17,
    "start_time": "2021-10-07T21:08:00.372Z"
   },
   {
    "duration": 17,
    "start_time": "2021-10-07T21:08:00.391Z"
   },
   {
    "duration": 8,
    "start_time": "2021-10-07T21:08:00.410Z"
   },
   {
    "duration": 16,
    "start_time": "2021-10-07T21:08:00.419Z"
   },
   {
    "duration": 10,
    "start_time": "2021-10-07T21:08:00.436Z"
   },
   {
    "duration": 20,
    "start_time": "2021-10-07T21:08:00.448Z"
   },
   {
    "duration": 5,
    "start_time": "2021-10-07T21:08:57.590Z"
   },
   {
    "duration": 57,
    "start_time": "2021-10-07T21:09:47.682Z"
   },
   {
    "duration": 9,
    "start_time": "2021-10-07T21:09:47.741Z"
   },
   {
    "duration": 12,
    "start_time": "2021-10-07T21:09:47.752Z"
   },
   {
    "duration": 19,
    "start_time": "2021-10-07T21:09:47.766Z"
   },
   {
    "duration": 9,
    "start_time": "2021-10-07T21:09:47.800Z"
   },
   {
    "duration": 20,
    "start_time": "2021-10-07T21:09:47.810Z"
   },
   {
    "duration": 10,
    "start_time": "2021-10-07T21:09:47.831Z"
   },
   {
    "duration": 27,
    "start_time": "2021-10-07T21:09:47.843Z"
   },
   {
    "duration": 6,
    "start_time": "2021-10-07T21:09:47.872Z"
   },
   {
    "duration": 15,
    "start_time": "2021-10-07T21:09:47.880Z"
   },
   {
    "duration": 6,
    "start_time": "2021-10-07T21:11:54.608Z"
   },
   {
    "duration": 7,
    "start_time": "2021-10-07T21:12:09.357Z"
   },
   {
    "duration": 8,
    "start_time": "2021-10-07T21:14:27.872Z"
   },
   {
    "duration": 5,
    "start_time": "2021-10-07T21:14:47.695Z"
   },
   {
    "duration": 9,
    "start_time": "2021-10-07T21:15:02.210Z"
   },
   {
    "duration": 10,
    "start_time": "2021-10-07T21:20:11.052Z"
   },
   {
    "duration": 14,
    "start_time": "2021-10-07T21:20:16.064Z"
   },
   {
    "duration": 14,
    "start_time": "2021-10-07T21:22:11.680Z"
   },
   {
    "duration": 11,
    "start_time": "2021-10-07T21:22:51.137Z"
   },
   {
    "duration": 56,
    "start_time": "2021-10-07T21:24:13.709Z"
   },
   {
    "duration": 10,
    "start_time": "2021-10-07T21:24:13.766Z"
   },
   {
    "duration": 9,
    "start_time": "2021-10-07T21:24:13.777Z"
   },
   {
    "duration": 21,
    "start_time": "2021-10-07T21:24:13.787Z"
   },
   {
    "duration": 8,
    "start_time": "2021-10-07T21:24:13.810Z"
   },
   {
    "duration": 9,
    "start_time": "2021-10-07T21:24:13.819Z"
   },
   {
    "duration": 5,
    "start_time": "2021-10-07T21:24:13.829Z"
   },
   {
    "duration": 12,
    "start_time": "2021-10-07T21:24:13.836Z"
   },
   {
    "duration": 6,
    "start_time": "2021-10-07T21:24:13.850Z"
   },
   {
    "duration": 4,
    "start_time": "2021-10-07T21:24:13.857Z"
   },
   {
    "duration": 10,
    "start_time": "2021-10-07T21:24:13.900Z"
   },
   {
    "duration": 12,
    "start_time": "2021-10-07T21:24:13.911Z"
   },
   {
    "duration": 7,
    "start_time": "2021-10-07T21:28:26.731Z"
   },
   {
    "duration": 6,
    "start_time": "2021-10-07T21:28:27.320Z"
   },
   {
    "duration": 56,
    "start_time": "2021-10-07T21:28:42.481Z"
   },
   {
    "duration": 10,
    "start_time": "2021-10-07T21:28:42.539Z"
   },
   {
    "duration": 8,
    "start_time": "2021-10-07T21:28:42.551Z"
   },
   {
    "duration": 14,
    "start_time": "2021-10-07T21:28:42.561Z"
   },
   {
    "duration": 30,
    "start_time": "2021-10-07T21:28:42.576Z"
   },
   {
    "duration": 9,
    "start_time": "2021-10-07T21:28:42.608Z"
   },
   {
    "duration": 5,
    "start_time": "2021-10-07T21:28:42.619Z"
   },
   {
    "duration": 14,
    "start_time": "2021-10-07T21:28:42.626Z"
   },
   {
    "duration": 9,
    "start_time": "2021-10-07T21:28:49.098Z"
   },
   {
    "duration": 7,
    "start_time": "2021-10-07T21:28:51.609Z"
   },
   {
    "duration": 12,
    "start_time": "2021-10-07T21:29:02.048Z"
   },
   {
    "duration": 10,
    "start_time": "2021-10-07T21:34:44.290Z"
   },
   {
    "duration": 10,
    "start_time": "2021-10-07T21:35:35.526Z"
   },
   {
    "duration": 14,
    "start_time": "2021-10-07T21:36:22.567Z"
   },
   {
    "duration": 20,
    "start_time": "2021-10-07T21:37:57.330Z"
   },
   {
    "duration": 144,
    "start_time": "2021-10-07T21:47:12.617Z"
   },
   {
    "duration": 180,
    "start_time": "2021-10-07T21:47:44.366Z"
   },
   {
    "duration": 5,
    "start_time": "2021-10-07T21:48:27.714Z"
   },
   {
    "duration": 11,
    "start_time": "2021-10-07T21:48:41.378Z"
   },
   {
    "duration": 54,
    "start_time": "2021-10-07T21:54:59.420Z"
   },
   {
    "duration": 9,
    "start_time": "2021-10-07T21:54:59.476Z"
   },
   {
    "duration": 10,
    "start_time": "2021-10-07T21:54:59.487Z"
   },
   {
    "duration": 18,
    "start_time": "2021-10-07T21:54:59.498Z"
   },
   {
    "duration": 12,
    "start_time": "2021-10-07T21:54:59.517Z"
   },
   {
    "duration": 15,
    "start_time": "2021-10-07T21:54:59.531Z"
   },
   {
    "duration": 7,
    "start_time": "2021-10-07T21:54:59.547Z"
   },
   {
    "duration": 12,
    "start_time": "2021-10-07T21:55:13.321Z"
   },
   {
    "duration": 7,
    "start_time": "2021-10-07T21:55:15.733Z"
   },
   {
    "duration": 4,
    "start_time": "2021-10-07T21:55:16.281Z"
   },
   {
    "duration": 12,
    "start_time": "2021-10-07T21:55:20.026Z"
   },
   {
    "duration": 13,
    "start_time": "2021-10-07T21:55:22.644Z"
   },
   {
    "duration": 398,
    "start_time": "2021-10-07T21:55:29.783Z"
   },
   {
    "duration": 14,
    "start_time": "2021-10-07T21:56:49.642Z"
   },
   {
    "duration": 358,
    "start_time": "2021-10-07T22:02:52.554Z"
   },
   {
    "duration": 12,
    "start_time": "2021-10-07T22:06:00.550Z"
   },
   {
    "duration": 12,
    "start_time": "2021-10-07T22:06:43.692Z"
   },
   {
    "duration": 57,
    "start_time": "2021-10-07T22:11:19.921Z"
   },
   {
    "duration": 10,
    "start_time": "2021-10-07T22:11:19.980Z"
   },
   {
    "duration": 15,
    "start_time": "2021-10-07T22:11:19.991Z"
   },
   {
    "duration": 15,
    "start_time": "2021-10-07T22:11:20.008Z"
   },
   {
    "duration": 17,
    "start_time": "2021-10-07T22:11:20.025Z"
   },
   {
    "duration": 27,
    "start_time": "2021-10-07T22:11:20.044Z"
   },
   {
    "duration": 6,
    "start_time": "2021-10-07T22:11:20.073Z"
   },
   {
    "duration": 28,
    "start_time": "2021-10-07T22:11:20.082Z"
   },
   {
    "duration": 10,
    "start_time": "2021-10-07T22:11:20.112Z"
   },
   {
    "duration": 13,
    "start_time": "2021-10-07T22:11:20.124Z"
   },
   {
    "duration": 12,
    "start_time": "2021-10-07T22:11:20.139Z"
   },
   {
    "duration": 12,
    "start_time": "2021-10-07T22:11:20.152Z"
   },
   {
    "duration": 17,
    "start_time": "2021-10-07T22:11:24.176Z"
   },
   {
    "duration": 14,
    "start_time": "2021-10-07T22:17:34.358Z"
   },
   {
    "duration": 56,
    "start_time": "2021-10-07T22:21:32.303Z"
   },
   {
    "duration": 9,
    "start_time": "2021-10-07T22:21:32.361Z"
   },
   {
    "duration": 9,
    "start_time": "2021-10-07T22:21:32.372Z"
   },
   {
    "duration": 33,
    "start_time": "2021-10-07T22:21:32.383Z"
   },
   {
    "duration": 9,
    "start_time": "2021-10-07T22:21:32.418Z"
   },
   {
    "duration": 9,
    "start_time": "2021-10-07T22:21:32.428Z"
   },
   {
    "duration": 5,
    "start_time": "2021-10-07T22:21:32.438Z"
   },
   {
    "duration": 12,
    "start_time": "2021-10-07T22:21:34.452Z"
   },
   {
    "duration": 7,
    "start_time": "2021-10-07T22:21:35.856Z"
   },
   {
    "duration": 6,
    "start_time": "2021-10-07T22:21:36.107Z"
   },
   {
    "duration": 11,
    "start_time": "2021-10-07T22:21:36.762Z"
   },
   {
    "duration": 11,
    "start_time": "2021-10-07T22:21:38.316Z"
   },
   {
    "duration": 16,
    "start_time": "2021-10-07T22:21:43.199Z"
   },
   {
    "duration": 59,
    "start_time": "2021-10-07T22:22:48.701Z"
   },
   {
    "duration": 11,
    "start_time": "2021-10-07T22:22:48.763Z"
   },
   {
    "duration": 26,
    "start_time": "2021-10-07T22:22:48.777Z"
   },
   {
    "duration": 12,
    "start_time": "2021-10-07T22:22:48.804Z"
   },
   {
    "duration": 7,
    "start_time": "2021-10-07T22:22:48.818Z"
   },
   {
    "duration": 8,
    "start_time": "2021-10-07T22:22:48.827Z"
   },
   {
    "duration": 3,
    "start_time": "2021-10-07T22:22:48.837Z"
   },
   {
    "duration": 15,
    "start_time": "2021-10-07T22:22:48.842Z"
   },
   {
    "duration": 40,
    "start_time": "2021-10-07T22:22:48.859Z"
   },
   {
    "duration": 4,
    "start_time": "2021-10-07T22:22:48.901Z"
   },
   {
    "duration": 10,
    "start_time": "2021-10-07T22:22:48.907Z"
   },
   {
    "duration": 9,
    "start_time": "2021-10-07T22:22:48.919Z"
   },
   {
    "duration": 15,
    "start_time": "2021-10-07T22:22:52.900Z"
   },
   {
    "duration": 7,
    "start_time": "2021-10-07T22:25:39.778Z"
   },
   {
    "duration": 7,
    "start_time": "2021-10-07T22:26:53.454Z"
   },
   {
    "duration": 7,
    "start_time": "2021-10-07T22:28:32.433Z"
   },
   {
    "duration": 7,
    "start_time": "2021-10-07T22:28:34.118Z"
   },
   {
    "duration": 9,
    "start_time": "2021-10-07T22:31:31.190Z"
   },
   {
    "duration": 14,
    "start_time": "2021-10-07T22:59:06.075Z"
   },
   {
    "duration": 12,
    "start_time": "2021-10-07T22:59:41.076Z"
   },
   {
    "duration": 144,
    "start_time": "2021-10-07T22:59:53.319Z"
   },
   {
    "duration": 139,
    "start_time": "2021-10-07T23:01:02.427Z"
   },
   {
    "duration": 13,
    "start_time": "2021-10-07T23:01:14.224Z"
   },
   {
    "duration": 19,
    "start_time": "2021-10-07T23:09:39.744Z"
   },
   {
    "duration": 15,
    "start_time": "2021-10-07T23:13:18.207Z"
   },
   {
    "duration": 56,
    "start_time": "2021-10-07T23:24:31.827Z"
   },
   {
    "duration": 10,
    "start_time": "2021-10-07T23:24:31.884Z"
   },
   {
    "duration": 9,
    "start_time": "2021-10-07T23:24:31.896Z"
   },
   {
    "duration": 17,
    "start_time": "2021-10-07T23:24:31.907Z"
   },
   {
    "duration": 8,
    "start_time": "2021-10-07T23:24:31.925Z"
   },
   {
    "duration": 8,
    "start_time": "2021-10-07T23:24:31.935Z"
   },
   {
    "duration": 5,
    "start_time": "2021-10-07T23:24:31.945Z"
   },
   {
    "duration": 14,
    "start_time": "2021-10-07T23:24:31.951Z"
   },
   {
    "duration": 8,
    "start_time": "2021-10-07T23:24:31.999Z"
   },
   {
    "duration": 8,
    "start_time": "2021-10-07T23:24:32.008Z"
   },
   {
    "duration": 10,
    "start_time": "2021-10-07T23:24:32.017Z"
   },
   {
    "duration": 11,
    "start_time": "2021-10-07T23:24:32.029Z"
   },
   {
    "duration": 13,
    "start_time": "2021-10-07T23:24:32.042Z"
   },
   {
    "duration": 5,
    "start_time": "2021-10-07T23:24:32.056Z"
   },
   {
    "duration": 38,
    "start_time": "2021-10-07T23:24:32.062Z"
   },
   {
    "duration": 8,
    "start_time": "2021-10-07T23:24:32.102Z"
   },
   {
    "duration": 13,
    "start_time": "2021-10-07T23:24:32.111Z"
   },
   {
    "duration": 16,
    "start_time": "2021-10-07T23:24:37.950Z"
   },
   {
    "duration": 10,
    "start_time": "2021-10-07T23:26:17.555Z"
   },
   {
    "duration": 11,
    "start_time": "2021-10-07T23:29:54.782Z"
   },
   {
    "duration": 12,
    "start_time": "2021-10-07T23:36:29.533Z"
   },
   {
    "duration": 7,
    "start_time": "2021-10-07T23:40:46.692Z"
   },
   {
    "duration": 11,
    "start_time": "2021-10-07T23:41:09.326Z"
   },
   {
    "duration": 59,
    "start_time": "2021-10-07T23:41:20.108Z"
   },
   {
    "duration": 11,
    "start_time": "2021-10-07T23:41:20.170Z"
   },
   {
    "duration": 19,
    "start_time": "2021-10-07T23:41:20.184Z"
   },
   {
    "duration": 14,
    "start_time": "2021-10-07T23:41:20.205Z"
   },
   {
    "duration": 11,
    "start_time": "2021-10-07T23:41:20.221Z"
   },
   {
    "duration": 20,
    "start_time": "2021-10-07T23:41:20.233Z"
   },
   {
    "duration": 4,
    "start_time": "2021-10-07T23:41:20.254Z"
   },
   {
    "duration": 15,
    "start_time": "2021-10-07T23:41:20.259Z"
   },
   {
    "duration": 27,
    "start_time": "2021-10-07T23:41:20.276Z"
   },
   {
    "duration": 13,
    "start_time": "2021-10-07T23:41:20.305Z"
   },
   {
    "duration": 9,
    "start_time": "2021-10-07T23:41:20.319Z"
   },
   {
    "duration": 9,
    "start_time": "2021-10-07T23:41:20.330Z"
   },
   {
    "duration": 13,
    "start_time": "2021-10-07T23:41:20.340Z"
   },
   {
    "duration": 5,
    "start_time": "2021-10-07T23:41:20.354Z"
   },
   {
    "duration": 12,
    "start_time": "2021-10-07T23:41:20.360Z"
   },
   {
    "duration": 7,
    "start_time": "2021-10-07T23:41:25.950Z"
   },
   {
    "duration": 12,
    "start_time": "2021-10-07T23:41:27.399Z"
   },
   {
    "duration": 15,
    "start_time": "2021-10-07T23:42:13.578Z"
   },
   {
    "duration": 8,
    "start_time": "2021-10-07T23:42:22.157Z"
   },
   {
    "duration": 13,
    "start_time": "2021-10-07T23:42:24.972Z"
   },
   {
    "duration": 13,
    "start_time": "2021-10-07T23:43:03.150Z"
   },
   {
    "duration": 55,
    "start_time": "2021-10-07T23:43:51.885Z"
   },
   {
    "duration": 9,
    "start_time": "2021-10-07T23:43:51.941Z"
   },
   {
    "duration": 9,
    "start_time": "2021-10-07T23:43:51.952Z"
   },
   {
    "duration": 37,
    "start_time": "2021-10-07T23:43:51.963Z"
   },
   {
    "duration": 8,
    "start_time": "2021-10-07T23:43:52.002Z"
   },
   {
    "duration": 10,
    "start_time": "2021-10-07T23:43:52.011Z"
   },
   {
    "duration": 4,
    "start_time": "2021-10-07T23:43:52.022Z"
   },
   {
    "duration": 19,
    "start_time": "2021-10-07T23:43:52.029Z"
   },
   {
    "duration": 7,
    "start_time": "2021-10-07T23:43:52.050Z"
   },
   {
    "duration": 9,
    "start_time": "2021-10-07T23:43:52.058Z"
   },
   {
    "duration": 34,
    "start_time": "2021-10-07T23:43:52.068Z"
   },
   {
    "duration": 13,
    "start_time": "2021-10-07T23:43:52.103Z"
   },
   {
    "duration": 13,
    "start_time": "2021-10-07T23:43:52.117Z"
   },
   {
    "duration": 5,
    "start_time": "2021-10-07T23:43:52.131Z"
   },
   {
    "duration": 15,
    "start_time": "2021-10-07T23:43:52.137Z"
   },
   {
    "duration": 14,
    "start_time": "2021-10-07T23:43:52.153Z"
   },
   {
    "duration": 33,
    "start_time": "2021-10-07T23:43:52.168Z"
   },
   {
    "duration": 12,
    "start_time": "2021-10-07T23:43:55.247Z"
   },
   {
    "duration": 12,
    "start_time": "2021-10-07T23:44:09.992Z"
   },
   {
    "duration": 394,
    "start_time": "2021-10-11T14:31:59.883Z"
   },
   {
    "duration": 896,
    "start_time": "2021-10-11T14:32:11.128Z"
   },
   {
    "duration": 15,
    "start_time": "2021-10-11T14:32:12.027Z"
   },
   {
    "duration": 26,
    "start_time": "2021-10-11T14:32:12.046Z"
   },
   {
    "duration": 39,
    "start_time": "2021-10-11T14:32:12.075Z"
   },
   {
    "duration": 18,
    "start_time": "2021-10-11T14:32:12.117Z"
   },
   {
    "duration": 36,
    "start_time": "2021-10-11T14:32:12.137Z"
   },
   {
    "duration": 8,
    "start_time": "2021-10-11T14:32:12.175Z"
   },
   {
    "duration": 26,
    "start_time": "2021-10-11T14:32:12.187Z"
   },
   {
    "duration": 10,
    "start_time": "2021-10-11T14:32:12.215Z"
   },
   {
    "duration": 7,
    "start_time": "2021-10-11T14:32:12.262Z"
   },
   {
    "duration": 17,
    "start_time": "2021-10-11T14:32:12.271Z"
   },
   {
    "duration": 15,
    "start_time": "2021-10-11T14:32:12.290Z"
   },
   {
    "duration": 55,
    "start_time": "2021-10-11T14:32:12.307Z"
   },
   {
    "duration": 8,
    "start_time": "2021-10-11T14:32:12.364Z"
   },
   {
    "duration": 10,
    "start_time": "2021-10-11T14:32:12.375Z"
   },
   {
    "duration": 19,
    "start_time": "2021-10-11T14:32:12.387Z"
   },
   {
    "duration": 57,
    "start_time": "2021-10-11T14:32:12.408Z"
   },
   {
    "duration": 17,
    "start_time": "2021-10-11T14:32:12.468Z"
   },
   {
    "duration": 18,
    "start_time": "2021-10-11T14:32:12.487Z"
   },
   {
    "duration": 15,
    "start_time": "2021-10-11T14:32:12.508Z"
   },
   {
    "duration": 41,
    "start_time": "2021-10-11T14:32:12.525Z"
   },
   {
    "duration": 9,
    "start_time": "2021-10-11T17:29:09.874Z"
   },
   {
    "duration": 11,
    "start_time": "2021-10-11T17:31:31.667Z"
   },
   {
    "duration": 31,
    "start_time": "2021-10-11T17:31:56.918Z"
   },
   {
    "duration": 426,
    "start_time": "2021-10-11T17:32:45.520Z"
   },
   {
    "duration": 34,
    "start_time": "2021-10-11T17:32:53.265Z"
   },
   {
    "duration": 14,
    "start_time": "2021-10-11T17:39:11.214Z"
   },
   {
    "duration": 16,
    "start_time": "2021-10-11T17:39:31.932Z"
   },
   {
    "duration": 37,
    "start_time": "2021-10-11T17:41:11.003Z"
   },
   {
    "duration": 75,
    "start_time": "2021-10-11T17:43:49.277Z"
   },
   {
    "duration": 18,
    "start_time": "2021-10-11T17:43:49.355Z"
   },
   {
    "duration": 14,
    "start_time": "2021-10-11T17:43:49.377Z"
   },
   {
    "duration": 22,
    "start_time": "2021-10-11T17:43:49.394Z"
   },
   {
    "duration": 56,
    "start_time": "2021-10-11T17:43:49.419Z"
   },
   {
    "duration": 16,
    "start_time": "2021-10-11T17:43:49.478Z"
   },
   {
    "duration": 17,
    "start_time": "2021-10-11T17:43:52.407Z"
   },
   {
    "duration": 40,
    "start_time": "2021-10-11T17:43:55.055Z"
   },
   {
    "duration": 8,
    "start_time": "2021-10-11T17:48:54.261Z"
   },
   {
    "duration": 78,
    "start_time": "2021-10-11T20:33:52.484Z"
   },
   {
    "duration": 17,
    "start_time": "2021-10-11T20:33:52.565Z"
   },
   {
    "duration": 16,
    "start_time": "2021-10-11T20:33:54.726Z"
   },
   {
    "duration": 370,
    "start_time": "2021-10-11T20:33:55.780Z"
   },
   {
    "duration": 37,
    "start_time": "2021-10-11T20:34:20.231Z"
   },
   {
    "duration": 25,
    "start_time": "2021-10-11T20:35:35.889Z"
   },
   {
    "duration": 50,
    "start_time": "2021-10-11T20:36:09.188Z"
   },
   {
    "duration": 80,
    "start_time": "2021-10-11T20:45:41.772Z"
   },
   {
    "duration": 14,
    "start_time": "2021-10-11T20:45:41.855Z"
   },
   {
    "duration": 13,
    "start_time": "2021-10-11T20:45:41.872Z"
   },
   {
    "duration": 20,
    "start_time": "2021-10-11T20:45:41.888Z"
   },
   {
    "duration": 58,
    "start_time": "2021-10-11T20:45:41.910Z"
   },
   {
    "duration": 14,
    "start_time": "2021-10-11T20:45:41.971Z"
   },
   {
    "duration": 7,
    "start_time": "2021-10-11T20:45:41.987Z"
   },
   {
    "duration": 25,
    "start_time": "2021-10-11T20:45:41.998Z"
   },
   {
    "duration": 44,
    "start_time": "2021-10-11T20:45:42.026Z"
   },
   {
    "duration": 7,
    "start_time": "2021-10-11T20:45:42.072Z"
   },
   {
    "duration": 18,
    "start_time": "2021-10-11T20:45:42.081Z"
   },
   {
    "duration": 16,
    "start_time": "2021-10-11T20:45:42.102Z"
   },
   {
    "duration": 25,
    "start_time": "2021-10-11T20:45:42.162Z"
   },
   {
    "duration": 8,
    "start_time": "2021-10-11T20:45:42.189Z"
   },
   {
    "duration": 18,
    "start_time": "2021-10-11T20:45:42.200Z"
   },
   {
    "duration": 50,
    "start_time": "2021-10-11T20:45:42.220Z"
   },
   {
    "duration": 19,
    "start_time": "2021-10-11T20:45:42.272Z"
   },
   {
    "duration": 19,
    "start_time": "2021-10-11T20:45:42.294Z"
   },
   {
    "duration": 15,
    "start_time": "2021-10-11T20:45:42.315Z"
   },
   {
    "duration": 13,
    "start_time": "2021-10-11T20:51:26.395Z"
   },
   {
    "duration": 6,
    "start_time": "2021-10-11T20:51:39.724Z"
   },
   {
    "duration": 10,
    "start_time": "2021-10-11T20:52:18.595Z"
   },
   {
    "duration": 10794,
    "start_time": "2021-10-11T20:56:59.633Z"
   },
   {
    "duration": 9,
    "start_time": "2021-10-11T20:57:18.511Z"
   },
   {
    "duration": 84,
    "start_time": "2021-10-11T20:59:01.690Z"
   },
   {
    "duration": 15,
    "start_time": "2021-10-11T20:59:01.777Z"
   },
   {
    "duration": 25,
    "start_time": "2021-10-11T20:59:01.795Z"
   },
   {
    "duration": 48,
    "start_time": "2021-10-11T20:59:01.823Z"
   },
   {
    "duration": 14,
    "start_time": "2021-10-11T20:59:01.874Z"
   },
   {
    "duration": 14,
    "start_time": "2021-10-11T20:59:01.891Z"
   },
   {
    "duration": 12,
    "start_time": "2021-10-11T20:59:01.907Z"
   },
   {
    "duration": 54,
    "start_time": "2021-10-11T20:59:01.921Z"
   },
   {
    "duration": 10,
    "start_time": "2021-10-11T20:59:01.979Z"
   },
   {
    "duration": 8,
    "start_time": "2021-10-11T20:59:01.992Z"
   },
   {
    "duration": 34,
    "start_time": "2021-10-11T20:59:02.002Z"
   },
   {
    "duration": 15,
    "start_time": "2021-10-11T20:59:02.063Z"
   },
   {
    "duration": 20,
    "start_time": "2021-10-11T20:59:02.081Z"
   },
   {
    "duration": 9,
    "start_time": "2021-10-11T20:59:02.104Z"
   },
   {
    "duration": 53,
    "start_time": "2021-10-11T20:59:02.115Z"
   },
   {
    "duration": 20,
    "start_time": "2021-10-11T20:59:02.171Z"
   },
   {
    "duration": 20,
    "start_time": "2021-10-11T20:59:02.194Z"
   },
   {
    "duration": 53,
    "start_time": "2021-10-11T20:59:02.217Z"
   },
   {
    "duration": 20,
    "start_time": "2021-10-11T20:59:02.272Z"
   },
   {
    "duration": 21,
    "start_time": "2021-10-11T20:59:02.294Z"
   },
   {
    "duration": 9,
    "start_time": "2021-10-11T20:59:02.319Z"
   },
   {
    "duration": 33,
    "start_time": "2021-10-11T20:59:02.330Z"
   },
   {
    "duration": 8,
    "start_time": "2021-10-11T20:59:22.451Z"
   },
   {
    "duration": 4,
    "start_time": "2021-10-11T21:24:31.192Z"
   },
   {
    "duration": 7,
    "start_time": "2021-10-11T21:24:54.505Z"
   },
   {
    "duration": 29,
    "start_time": "2021-10-11T21:26:14.007Z"
   },
   {
    "duration": 10,
    "start_time": "2021-10-11T21:26:27.524Z"
   },
   {
    "duration": 382,
    "start_time": "2021-10-11T21:30:13.749Z"
   },
   {
    "duration": 29,
    "start_time": "2021-10-11T21:37:16.616Z"
   },
   {
    "duration": 109,
    "start_time": "2021-10-11T21:37:28.123Z"
   },
   {
    "duration": 29,
    "start_time": "2021-10-11T21:37:49.597Z"
   },
   {
    "duration": 3,
    "start_time": "2021-10-11T21:38:10.958Z"
   },
   {
    "duration": 323,
    "start_time": "2021-10-11T21:38:11.668Z"
   },
   {
    "duration": 315,
    "start_time": "2021-10-11T21:39:55.062Z"
   },
   {
    "duration": 326,
    "start_time": "2021-10-11T21:40:16.426Z"
   },
   {
    "duration": 6,
    "start_time": "2021-10-11T21:44:41.555Z"
   },
   {
    "duration": 76,
    "start_time": "2021-10-11T21:44:54.822Z"
   },
   {
    "duration": 14,
    "start_time": "2021-10-11T21:44:54.901Z"
   },
   {
    "duration": 17,
    "start_time": "2021-10-11T21:44:54.918Z"
   },
   {
    "duration": 20,
    "start_time": "2021-10-11T21:44:54.963Z"
   },
   {
    "duration": 20,
    "start_time": "2021-10-11T21:44:54.985Z"
   },
   {
    "duration": 16,
    "start_time": "2021-10-11T21:44:55.007Z"
   },
   {
    "duration": 39,
    "start_time": "2021-10-11T21:44:55.026Z"
   },
   {
    "duration": 20,
    "start_time": "2021-10-11T21:44:55.069Z"
   },
   {
    "duration": 9,
    "start_time": "2021-10-11T21:44:55.092Z"
   },
   {
    "duration": 23,
    "start_time": "2021-10-11T21:44:55.103Z"
   },
   {
    "duration": 44,
    "start_time": "2021-10-11T21:44:55.128Z"
   },
   {
    "duration": 15,
    "start_time": "2021-10-11T21:44:55.175Z"
   },
   {
    "duration": 22,
    "start_time": "2021-10-11T21:44:55.192Z"
   },
   {
    "duration": 45,
    "start_time": "2021-10-11T21:44:55.217Z"
   },
   {
    "duration": 10,
    "start_time": "2021-10-11T21:44:55.265Z"
   },
   {
    "duration": 20,
    "start_time": "2021-10-11T21:44:55.278Z"
   },
   {
    "duration": 20,
    "start_time": "2021-10-11T21:44:55.301Z"
   },
   {
    "duration": 51,
    "start_time": "2021-10-11T21:44:55.326Z"
   },
   {
    "duration": 19,
    "start_time": "2021-10-11T21:44:55.380Z"
   },
   {
    "duration": 12,
    "start_time": "2021-10-11T21:44:55.401Z"
   },
   {
    "duration": 12,
    "start_time": "2021-10-11T21:44:55.416Z"
   },
   {
    "duration": 40,
    "start_time": "2021-10-11T21:44:55.430Z"
   },
   {
    "duration": 27,
    "start_time": "2021-10-11T21:44:55.472Z"
   },
   {
    "duration": 6,
    "start_time": "2021-10-11T21:44:59.318Z"
   },
   {
    "duration": 8,
    "start_time": "2021-10-11T21:45:18.374Z"
   },
   {
    "duration": 345,
    "start_time": "2021-10-11T21:45:54.725Z"
   },
   {
    "duration": 326,
    "start_time": "2021-10-11T21:46:20.354Z"
   },
   {
    "duration": 6,
    "start_time": "2021-10-11T21:48:53.084Z"
   },
   {
    "duration": 6,
    "start_time": "2021-10-11T21:49:24.153Z"
   },
   {
    "duration": 8,
    "start_time": "2021-10-11T21:49:34.819Z"
   },
   {
    "duration": 8,
    "start_time": "2021-10-11T21:50:46.877Z"
   },
   {
    "duration": 7,
    "start_time": "2021-10-11T21:51:07.305Z"
   },
   {
    "duration": 7,
    "start_time": "2021-10-11T21:51:15.991Z"
   },
   {
    "duration": 959,
    "start_time": "2021-10-11T21:52:04.515Z"
   },
   {
    "duration": 8,
    "start_time": "2021-10-11T21:52:15.056Z"
   },
   {
    "duration": 947,
    "start_time": "2021-10-11T21:52:16.262Z"
   },
   {
    "duration": 84,
    "start_time": "2021-10-11T21:53:16.008Z"
   },
   {
    "duration": 16,
    "start_time": "2021-10-11T21:53:16.095Z"
   },
   {
    "duration": 22,
    "start_time": "2021-10-11T21:53:16.114Z"
   },
   {
    "duration": 43,
    "start_time": "2021-10-11T21:53:16.140Z"
   },
   {
    "duration": 15,
    "start_time": "2021-10-11T21:53:16.185Z"
   },
   {
    "duration": 16,
    "start_time": "2021-10-11T21:53:16.202Z"
   },
   {
    "duration": 48,
    "start_time": "2021-10-11T21:53:16.220Z"
   },
   {
    "duration": 22,
    "start_time": "2021-10-11T21:53:16.270Z"
   },
   {
    "duration": 10,
    "start_time": "2021-10-11T21:53:16.296Z"
   },
   {
    "duration": 7,
    "start_time": "2021-10-11T21:53:16.309Z"
   },
   {
    "duration": 55,
    "start_time": "2021-10-11T21:53:16.318Z"
   },
   {
    "duration": 15,
    "start_time": "2021-10-11T21:53:16.376Z"
   },
   {
    "duration": 21,
    "start_time": "2021-10-11T21:53:16.394Z"
   },
   {
    "duration": 46,
    "start_time": "2021-10-11T21:53:16.417Z"
   },
   {
    "duration": 9,
    "start_time": "2021-10-11T21:53:16.466Z"
   },
   {
    "duration": 20,
    "start_time": "2021-10-11T21:53:16.478Z"
   },
   {
    "duration": 21,
    "start_time": "2021-10-11T21:53:16.500Z"
   },
   {
    "duration": 54,
    "start_time": "2021-10-11T21:53:16.523Z"
   },
   {
    "duration": 17,
    "start_time": "2021-10-11T21:53:16.579Z"
   },
   {
    "duration": 19,
    "start_time": "2021-10-11T21:53:16.598Z"
   },
   {
    "duration": 10,
    "start_time": "2021-10-11T21:53:16.619Z"
   },
   {
    "duration": 34,
    "start_time": "2021-10-11T21:53:16.631Z"
   },
   {
    "duration": 10,
    "start_time": "2021-10-11T21:53:16.668Z"
   },
   {
    "duration": 3,
    "start_time": "2021-10-11T21:53:16.680Z"
   },
   {
    "duration": 3,
    "start_time": "2021-10-11T21:53:20.075Z"
   },
   {
    "duration": 503,
    "start_time": "2021-10-11T21:53:22.158Z"
   },
   {
    "duration": 81,
    "start_time": "2021-10-11T21:54:26.064Z"
   },
   {
    "duration": 26,
    "start_time": "2021-10-11T21:54:26.148Z"
   },
   {
    "duration": 14,
    "start_time": "2021-10-11T21:54:26.179Z"
   },
   {
    "duration": 65,
    "start_time": "2021-10-11T21:54:26.196Z"
   },
   {
    "duration": 17,
    "start_time": "2021-10-11T21:54:26.265Z"
   },
   {
    "duration": 19,
    "start_time": "2021-10-11T21:54:26.285Z"
   },
   {
    "duration": 9,
    "start_time": "2021-10-11T21:54:26.307Z"
   },
   {
    "duration": 22,
    "start_time": "2021-10-11T21:54:26.361Z"
   },
   {
    "duration": 9,
    "start_time": "2021-10-11T21:54:26.387Z"
   },
   {
    "duration": 9,
    "start_time": "2021-10-11T21:54:26.398Z"
   },
   {
    "duration": 53,
    "start_time": "2021-10-11T21:54:26.410Z"
   },
   {
    "duration": 14,
    "start_time": "2021-10-11T21:54:26.466Z"
   },
   {
    "duration": 19,
    "start_time": "2021-10-11T21:54:26.482Z"
   },
   {
    "duration": 7,
    "start_time": "2021-10-11T21:54:26.504Z"
   },
   {
    "duration": 50,
    "start_time": "2021-10-11T21:54:26.514Z"
   },
   {
    "duration": 19,
    "start_time": "2021-10-11T21:54:26.566Z"
   },
   {
    "duration": 23,
    "start_time": "2021-10-11T21:54:26.587Z"
   },
   {
    "duration": 51,
    "start_time": "2021-10-11T21:54:26.614Z"
   },
   {
    "duration": 18,
    "start_time": "2021-10-11T21:54:26.667Z"
   },
   {
    "duration": 20,
    "start_time": "2021-10-11T21:54:26.687Z"
   },
   {
    "duration": 11,
    "start_time": "2021-10-11T21:54:26.709Z"
   },
   {
    "duration": 10,
    "start_time": "2021-10-11T21:54:26.722Z"
   },
   {
    "duration": 8,
    "start_time": "2021-10-11T21:54:26.765Z"
   },
   {
    "duration": 8,
    "start_time": "2021-10-11T21:54:26.775Z"
   },
   {
    "duration": 936,
    "start_time": "2021-10-11T21:54:26.785Z"
   },
   {
    "duration": 961,
    "start_time": "2021-10-11T21:55:12.162Z"
   },
   {
    "duration": 952,
    "start_time": "2021-10-11T21:58:29.788Z"
   },
   {
    "duration": 931,
    "start_time": "2021-10-11T21:58:48.777Z"
   },
   {
    "duration": 10,
    "start_time": "2021-10-11T21:59:14.746Z"
   },
   {
    "duration": 946,
    "start_time": "2021-10-11T22:01:53.299Z"
   },
   {
    "duration": 933,
    "start_time": "2021-10-11T22:02:12.785Z"
   },
   {
    "duration": 1073,
    "start_time": "2021-10-11T22:02:44.595Z"
   },
   {
    "duration": 9,
    "start_time": "2021-10-11T22:11:05.658Z"
   },
   {
    "duration": 6,
    "start_time": "2021-10-11T22:21:17.206Z"
   },
   {
    "duration": 980,
    "start_time": "2021-10-11T22:21:19.557Z"
   },
   {
    "duration": 9,
    "start_time": "2021-10-11T22:25:32.981Z"
   },
   {
    "duration": 6,
    "start_time": "2021-10-11T22:27:06.746Z"
   },
   {
    "duration": 5,
    "start_time": "2021-10-11T22:27:21.963Z"
   },
   {
    "duration": 85,
    "start_time": "2021-10-11T22:27:35.583Z"
   },
   {
    "duration": 16,
    "start_time": "2021-10-11T22:27:35.670Z"
   },
   {
    "duration": 12,
    "start_time": "2021-10-11T22:27:35.690Z"
   },
   {
    "duration": 57,
    "start_time": "2021-10-11T22:27:35.705Z"
   },
   {
    "duration": 14,
    "start_time": "2021-10-11T22:27:35.764Z"
   },
   {
    "duration": 16,
    "start_time": "2021-10-11T22:27:35.780Z"
   },
   {
    "duration": 7,
    "start_time": "2021-10-11T22:27:35.798Z"
   },
   {
    "duration": 62,
    "start_time": "2021-10-11T22:27:35.809Z"
   },
   {
    "duration": 9,
    "start_time": "2021-10-11T22:27:35.874Z"
   },
   {
    "duration": 17,
    "start_time": "2021-10-11T22:27:35.886Z"
   },
   {
    "duration": 22,
    "start_time": "2021-10-11T22:27:35.906Z"
   },
   {
    "duration": 33,
    "start_time": "2021-10-11T22:27:35.930Z"
   },
   {
    "duration": 19,
    "start_time": "2021-10-11T22:27:35.966Z"
   },
   {
    "duration": 10,
    "start_time": "2021-10-11T22:27:35.988Z"
   },
   {
    "duration": 11,
    "start_time": "2021-10-11T22:27:36.000Z"
   },
   {
    "duration": 53,
    "start_time": "2021-10-11T22:27:36.014Z"
   },
   {
    "duration": 22,
    "start_time": "2021-10-11T22:27:36.070Z"
   },
   {
    "duration": 15,
    "start_time": "2021-10-11T22:27:36.094Z"
   },
   {
    "duration": 17,
    "start_time": "2021-10-11T22:27:36.111Z"
   },
   {
    "duration": 10,
    "start_time": "2021-10-11T22:27:36.162Z"
   },
   {
    "duration": 6,
    "start_time": "2021-10-11T22:27:36.174Z"
   },
   {
    "duration": 13,
    "start_time": "2021-10-11T22:27:36.183Z"
   },
   {
    "duration": 9,
    "start_time": "2021-10-11T22:27:36.200Z"
   },
   {
    "duration": 6,
    "start_time": "2021-10-11T22:27:38.640Z"
   },
   {
    "duration": 6,
    "start_time": "2021-10-11T22:27:54.551Z"
   },
   {
    "duration": 10,
    "start_time": "2021-10-11T22:28:53.028Z"
   },
   {
    "duration": 9,
    "start_time": "2021-10-11T22:29:07.955Z"
   },
   {
    "duration": 10,
    "start_time": "2021-10-11T22:29:13.644Z"
   },
   {
    "duration": 34,
    "start_time": "2021-10-11T22:44:31.247Z"
   },
   {
    "duration": 12303,
    "start_time": "2021-10-11T23:07:57.446Z"
   },
   {
    "duration": 78,
    "start_time": "2021-10-11T23:08:19.923Z"
   },
   {
    "duration": 16,
    "start_time": "2021-10-11T23:08:20.004Z"
   },
   {
    "duration": 38,
    "start_time": "2021-10-11T23:08:20.024Z"
   },
   {
    "duration": 23,
    "start_time": "2021-10-11T23:08:20.065Z"
   },
   {
    "duration": 16,
    "start_time": "2021-10-11T23:08:20.091Z"
   },
   {
    "duration": 55,
    "start_time": "2021-10-11T23:08:20.110Z"
   },
   {
    "duration": 7,
    "start_time": "2021-10-11T23:08:20.167Z"
   },
   {
    "duration": 26,
    "start_time": "2021-10-11T23:08:20.177Z"
   },
   {
    "duration": 11,
    "start_time": "2021-10-11T23:08:20.208Z"
   },
   {
    "duration": 43,
    "start_time": "2021-10-11T23:08:20.223Z"
   },
   {
    "duration": 17,
    "start_time": "2021-10-11T23:08:20.269Z"
   },
   {
    "duration": 15,
    "start_time": "2021-10-11T23:08:20.288Z"
   },
   {
    "duration": 19,
    "start_time": "2021-10-11T23:08:20.305Z"
   },
   {
    "duration": 13,
    "start_time": "2021-10-11T23:08:20.363Z"
   },
   {
    "duration": 14,
    "start_time": "2021-10-11T23:08:20.379Z"
   },
   {
    "duration": 22,
    "start_time": "2021-10-11T23:08:20.395Z"
   },
   {
    "duration": 46,
    "start_time": "2021-10-11T23:08:20.419Z"
   },
   {
    "duration": 18,
    "start_time": "2021-10-11T23:08:20.467Z"
   },
   {
    "duration": 19,
    "start_time": "2021-10-11T23:08:20.487Z"
   },
   {
    "duration": 12,
    "start_time": "2021-10-11T23:08:20.508Z"
   },
   {
    "duration": 42,
    "start_time": "2021-10-11T23:08:20.523Z"
   },
   {
    "duration": 14,
    "start_time": "2021-10-11T23:08:20.568Z"
   },
   {
    "duration": 9,
    "start_time": "2021-10-11T23:08:20.585Z"
   },
   {
    "duration": 7,
    "start_time": "2021-10-11T23:08:20.597Z"
   },
   {
    "duration": 1029,
    "start_time": "2021-10-11T23:08:20.607Z"
   },
   {
    "duration": 942,
    "start_time": "2021-10-11T23:08:43.290Z"
   },
   {
    "duration": 9223,
    "start_time": "2021-10-11T23:08:45.187Z"
   },
   {
    "duration": 9770,
    "start_time": "2021-10-11T23:09:29.717Z"
   },
   {
    "duration": 9,
    "start_time": "2021-10-11T23:10:31.567Z"
   },
   {
    "duration": 7,
    "start_time": "2021-10-11T23:11:06.295Z"
   },
   {
    "duration": 308,
    "start_time": "2021-10-11T23:29:56.992Z"
   },
   {
    "duration": 83,
    "start_time": "2021-10-11T23:30:07.081Z"
   },
   {
    "duration": 14,
    "start_time": "2021-10-11T23:30:07.167Z"
   },
   {
    "duration": 13,
    "start_time": "2021-10-11T23:30:07.184Z"
   },
   {
    "duration": 21,
    "start_time": "2021-10-11T23:30:07.200Z"
   },
   {
    "duration": 51,
    "start_time": "2021-10-11T23:30:07.223Z"
   },
   {
    "duration": 17,
    "start_time": "2021-10-11T23:30:07.276Z"
   },
   {
    "duration": 8,
    "start_time": "2021-10-11T23:30:07.296Z"
   },
   {
    "duration": 31,
    "start_time": "2021-10-11T23:30:07.308Z"
   },
   {
    "duration": 10,
    "start_time": "2021-10-11T23:30:07.363Z"
   },
   {
    "duration": 7,
    "start_time": "2021-10-11T23:30:07.375Z"
   },
   {
    "duration": 15,
    "start_time": "2021-10-11T23:30:07.384Z"
   },
   {
    "duration": 14,
    "start_time": "2021-10-11T23:30:07.401Z"
   },
   {
    "duration": 61,
    "start_time": "2021-10-11T23:30:07.417Z"
   },
   {
    "duration": 8,
    "start_time": "2021-10-11T23:30:07.480Z"
   },
   {
    "duration": 14,
    "start_time": "2021-10-11T23:30:07.491Z"
   },
   {
    "duration": 21,
    "start_time": "2021-10-11T23:30:07.507Z"
   },
   {
    "duration": 22,
    "start_time": "2021-10-11T23:30:07.563Z"
   },
   {
    "duration": 17,
    "start_time": "2021-10-11T23:30:07.588Z"
   },
   {
    "duration": 17,
    "start_time": "2021-10-11T23:30:07.607Z"
   },
   {
    "duration": 43,
    "start_time": "2021-10-11T23:30:07.627Z"
   },
   {
    "duration": 10,
    "start_time": "2021-10-11T23:30:07.673Z"
   },
   {
    "duration": 11,
    "start_time": "2021-10-11T23:30:07.685Z"
   },
   {
    "duration": 19,
    "start_time": "2021-10-11T23:30:07.700Z"
   },
   {
    "duration": 16,
    "start_time": "2021-10-11T23:30:07.721Z"
   },
   {
    "duration": 974,
    "start_time": "2021-10-11T23:30:07.762Z"
   },
   {
    "duration": 5,
    "start_time": "2021-10-11T23:30:08.739Z"
   },
   {
    "duration": 5,
    "start_time": "2021-10-11T23:30:11.317Z"
   },
   {
    "duration": 1236,
    "start_time": "2021-10-11T23:30:12.760Z"
   },
   {
    "duration": 7745,
    "start_time": "2021-10-11T23:31:43.235Z"
   },
   {
    "duration": 5,
    "start_time": "2021-10-11T23:33:44.436Z"
   },
   {
    "duration": 12459,
    "start_time": "2021-10-11T23:33:45.406Z"
   },
   {
    "duration": 6,
    "start_time": "2021-10-11T23:35:35.522Z"
   },
   {
    "duration": 7632,
    "start_time": "2021-10-11T23:35:36.584Z"
   },
   {
    "duration": 1317,
    "start_time": "2021-10-11T23:36:30.645Z"
   },
   {
    "duration": 6,
    "start_time": "2021-10-11T23:37:12.666Z"
   },
   {
    "duration": 5,
    "start_time": "2021-10-11T23:38:07.286Z"
   },
   {
    "duration": 5,
    "start_time": "2021-10-11T23:38:36.718Z"
   },
   {
    "duration": 6,
    "start_time": "2021-10-11T23:38:46.942Z"
   },
   {
    "duration": 6,
    "start_time": "2021-10-11T23:40:14.994Z"
   },
   {
    "duration": 5,
    "start_time": "2021-10-11T23:40:20.137Z"
   },
   {
    "duration": 6,
    "start_time": "2021-10-11T23:40:29.802Z"
   },
   {
    "duration": 6,
    "start_time": "2021-10-11T23:40:45.216Z"
   },
   {
    "duration": 7,
    "start_time": "2021-10-11T23:40:52.913Z"
   },
   {
    "duration": 6,
    "start_time": "2021-10-11T23:41:16.755Z"
   },
   {
    "duration": 5,
    "start_time": "2021-10-11T23:41:21.503Z"
   },
   {
    "duration": 5,
    "start_time": "2021-10-11T23:41:25.810Z"
   },
   {
    "duration": 5,
    "start_time": "2021-10-11T23:41:34.695Z"
   },
   {
    "duration": 5,
    "start_time": "2021-10-11T23:41:58.867Z"
   },
   {
    "duration": 5,
    "start_time": "2021-10-11T23:42:04.471Z"
   },
   {
    "duration": 8640,
    "start_time": "2021-10-11T23:45:27.791Z"
   },
   {
    "duration": 1519,
    "start_time": "2021-10-11T23:46:13.944Z"
   },
   {
    "duration": 669,
    "start_time": "2021-10-11T23:49:44.973Z"
   },
   {
    "duration": 815,
    "start_time": "2021-10-11T23:50:09.124Z"
   },
   {
    "duration": 8909,
    "start_time": "2021-10-11T23:50:40.156Z"
   },
   {
    "duration": 857,
    "start_time": "2021-10-12T06:14:22.146Z"
   },
   {
    "duration": 16,
    "start_time": "2021-10-12T06:14:23.006Z"
   },
   {
    "duration": 13,
    "start_time": "2021-10-12T06:14:23.025Z"
   },
   {
    "duration": 49,
    "start_time": "2021-10-12T06:14:23.041Z"
   },
   {
    "duration": 14,
    "start_time": "2021-10-12T06:14:23.093Z"
   },
   {
    "duration": 15,
    "start_time": "2021-10-12T06:14:23.110Z"
   },
   {
    "duration": 7,
    "start_time": "2021-10-12T06:14:23.127Z"
   },
   {
    "duration": 58,
    "start_time": "2021-10-12T06:14:23.137Z"
   },
   {
    "duration": 10,
    "start_time": "2021-10-12T06:14:23.198Z"
   },
   {
    "duration": 10,
    "start_time": "2021-10-12T06:14:23.210Z"
   },
   {
    "duration": 60,
    "start_time": "2021-10-12T06:14:23.223Z"
   },
   {
    "duration": 17,
    "start_time": "2021-10-12T06:14:23.286Z"
   },
   {
    "duration": 23,
    "start_time": "2021-10-12T06:14:23.306Z"
   },
   {
    "duration": 10,
    "start_time": "2021-10-12T06:14:23.332Z"
   },
   {
    "duration": 13,
    "start_time": "2021-10-12T06:14:23.383Z"
   },
   {
    "duration": 23,
    "start_time": "2021-10-12T06:14:23.399Z"
   },
   {
    "duration": 21,
    "start_time": "2021-10-12T06:14:23.424Z"
   },
   {
    "duration": 46,
    "start_time": "2021-10-12T06:14:23.447Z"
   },
   {
    "duration": 17,
    "start_time": "2021-10-12T06:14:23.495Z"
   },
   {
    "duration": 20,
    "start_time": "2021-10-12T06:14:23.515Z"
   },
   {
    "duration": 6,
    "start_time": "2021-10-12T06:14:23.538Z"
   },
   {
    "duration": 41,
    "start_time": "2021-10-12T06:14:23.546Z"
   },
   {
    "duration": 8,
    "start_time": "2021-10-12T06:14:23.591Z"
   },
   {
    "duration": 7,
    "start_time": "2021-10-12T06:14:23.601Z"
   },
   {
    "duration": 1013,
    "start_time": "2021-10-12T06:14:23.610Z"
   },
   {
    "duration": 6,
    "start_time": "2021-10-12T06:14:28.280Z"
   },
   {
    "duration": 3514,
    "start_time": "2021-10-12T06:14:30.014Z"
   },
   {
    "duration": 3558,
    "start_time": "2021-10-12T06:15:01.738Z"
   },
   {
    "duration": 5,
    "start_time": "2021-10-12T06:16:51.549Z"
   },
   {
    "duration": 3473,
    "start_time": "2021-10-12T06:16:52.874Z"
   },
   {
    "duration": 17,
    "start_time": "2021-10-12T06:25:14.348Z"
   },
   {
    "duration": 5,
    "start_time": "2021-10-12T06:26:32.366Z"
   },
   {
    "duration": 3795,
    "start_time": "2021-10-12T06:26:33.029Z"
   },
   {
    "duration": 15,
    "start_time": "2021-10-12T06:26:36.826Z"
   },
   {
    "duration": 579,
    "start_time": "2021-10-12T06:28:10.440Z"
   },
   {
    "duration": 9,
    "start_time": "2021-10-12T06:28:34.512Z"
   },
   {
    "duration": 651,
    "start_time": "2021-10-12T06:31:55.493Z"
   },
   {
    "duration": 15,
    "start_time": "2021-10-12T06:32:12.126Z"
   },
   {
    "duration": 9,
    "start_time": "2021-10-12T07:10:01.727Z"
   },
   {
    "duration": 12,
    "start_time": "2021-10-12T07:42:11.735Z"
   },
   {
    "duration": 11,
    "start_time": "2021-10-12T07:46:56.000Z"
   },
   {
    "duration": 7,
    "start_time": "2021-10-12T07:52:31.200Z"
   },
   {
    "duration": 900,
    "start_time": "2021-10-12T07:55:16.566Z"
   },
   {
    "duration": 3471,
    "start_time": "2021-10-12T08:10:15.462Z"
   },
   {
    "duration": 6,
    "start_time": "2021-10-12T08:11:21.523Z"
   },
   {
    "duration": 79,
    "start_time": "2021-10-12T08:29:42.911Z"
   },
   {
    "duration": 16,
    "start_time": "2021-10-12T08:29:42.994Z"
   },
   {
    "duration": 12,
    "start_time": "2021-10-12T08:29:43.015Z"
   },
   {
    "duration": 59,
    "start_time": "2021-10-12T08:29:43.029Z"
   },
   {
    "duration": 13,
    "start_time": "2021-10-12T08:29:43.091Z"
   },
   {
    "duration": 12,
    "start_time": "2021-10-12T08:29:43.107Z"
   },
   {
    "duration": 7,
    "start_time": "2021-10-12T08:29:43.122Z"
   },
   {
    "duration": 60,
    "start_time": "2021-10-12T08:29:43.131Z"
   },
   {
    "duration": 10,
    "start_time": "2021-10-12T08:29:43.195Z"
   },
   {
    "duration": 12,
    "start_time": "2021-10-12T08:29:43.208Z"
   },
   {
    "duration": 17,
    "start_time": "2021-10-12T08:29:43.222Z"
   },
   {
    "duration": 47,
    "start_time": "2021-10-12T08:29:43.242Z"
   },
   {
    "duration": 20,
    "start_time": "2021-10-12T08:29:43.291Z"
   },
   {
    "duration": 7,
    "start_time": "2021-10-12T08:29:43.314Z"
   },
   {
    "duration": 10,
    "start_time": "2021-10-12T08:29:43.323Z"
   },
   {
    "duration": 55,
    "start_time": "2021-10-12T08:29:43.335Z"
   },
   {
    "duration": 20,
    "start_time": "2021-10-12T08:29:43.393Z"
   },
   {
    "duration": 16,
    "start_time": "2021-10-12T08:29:43.416Z"
   },
   {
    "duration": 49,
    "start_time": "2021-10-12T08:29:43.435Z"
   },
   {
    "duration": 12,
    "start_time": "2021-10-12T08:29:43.487Z"
   },
   {
    "duration": 7,
    "start_time": "2021-10-12T08:29:43.502Z"
   },
   {
    "duration": 12,
    "start_time": "2021-10-12T08:29:43.511Z"
   },
   {
    "duration": 9,
    "start_time": "2021-10-12T08:29:43.526Z"
   },
   {
    "duration": 7,
    "start_time": "2021-10-12T08:29:43.538Z"
   },
   {
    "duration": 927,
    "start_time": "2021-10-12T08:29:43.583Z"
   },
   {
    "duration": 6,
    "start_time": "2021-10-12T08:29:44.513Z"
   },
   {
    "duration": 3570,
    "start_time": "2021-10-12T08:29:44.526Z"
   },
   {
    "duration": 7,
    "start_time": "2021-10-12T08:29:48.100Z"
   },
   {
    "duration": 727,
    "start_time": "2021-10-12T08:53:35.366Z"
   },
   {
    "duration": 45,
    "start_time": "2021-10-12T08:54:00.649Z"
   },
   {
    "duration": 7,
    "start_time": "2021-10-12T08:58:40.110Z"
   },
   {
    "duration": 8,
    "start_time": "2021-10-12T08:59:17.176Z"
   },
   {
    "duration": 8,
    "start_time": "2021-10-12T08:59:32.532Z"
   },
   {
    "duration": 49,
    "start_time": "2021-10-12T09:02:59.687Z"
   },
   {
    "duration": 12,
    "start_time": "2021-10-12T09:03:33.381Z"
   },
   {
    "duration": 49,
    "start_time": "2021-10-12T09:04:31.563Z"
   },
   {
    "duration": 10,
    "start_time": "2021-10-12T09:04:36.710Z"
   },
   {
    "duration": 13,
    "start_time": "2021-10-12T09:05:13.386Z"
   },
   {
    "duration": 14,
    "start_time": "2021-10-12T09:06:47.556Z"
   },
   {
    "duration": 15,
    "start_time": "2021-10-12T09:06:49.346Z"
   },
   {
    "duration": 13,
    "start_time": "2021-10-12T09:07:42.035Z"
   },
   {
    "duration": 11,
    "start_time": "2021-10-12T09:07:43.675Z"
   },
   {
    "duration": 13,
    "start_time": "2021-10-12T09:08:11.691Z"
   },
   {
    "duration": 10,
    "start_time": "2021-10-12T09:08:12.171Z"
   },
   {
    "duration": 14,
    "start_time": "2021-10-12T09:09:57.897Z"
   },
   {
    "duration": 10,
    "start_time": "2021-10-12T09:09:58.550Z"
   },
   {
    "duration": 15,
    "start_time": "2021-10-12T09:10:12.456Z"
   },
   {
    "duration": 10,
    "start_time": "2021-10-12T09:10:13.612Z"
   },
   {
    "duration": 12,
    "start_time": "2021-10-12T13:32:13.053Z"
   },
   {
    "duration": 14,
    "start_time": "2021-10-12T13:32:34.498Z"
   },
   {
    "duration": 10,
    "start_time": "2021-10-12T13:32:38.106Z"
   },
   {
    "duration": 6,
    "start_time": "2021-10-12T13:38:56.356Z"
   },
   {
    "duration": 21,
    "start_time": "2021-10-12T14:40:52.849Z"
   },
   {
    "duration": 18,
    "start_time": "2021-10-12T14:41:47.509Z"
   },
   {
    "duration": 19,
    "start_time": "2021-10-12T15:18:46.825Z"
   },
   {
    "duration": 436,
    "start_time": "2021-10-12T15:26:13.954Z"
   },
   {
    "duration": 372,
    "start_time": "2021-10-12T15:26:37.876Z"
   },
   {
    "duration": 1684,
    "start_time": "2021-10-12T15:27:09.343Z"
   },
   {
    "duration": 9,
    "start_time": "2021-10-12T15:33:24.567Z"
   },
   {
    "duration": 16,
    "start_time": "2021-10-12T15:33:35.341Z"
   },
   {
    "duration": 21,
    "start_time": "2021-10-12T15:34:56.669Z"
   },
   {
    "duration": 14,
    "start_time": "2021-10-12T15:36:32.614Z"
   },
   {
    "duration": 7,
    "start_time": "2021-10-12T15:51:10.416Z"
   },
   {
    "duration": 12,
    "start_time": "2021-10-12T15:51:19.966Z"
   },
   {
    "duration": 33,
    "start_time": "2021-10-12T15:51:35.678Z"
   },
   {
    "duration": 116,
    "start_time": "2021-10-12T15:52:02.658Z"
   },
   {
    "duration": 9,
    "start_time": "2021-10-12T15:52:11.001Z"
   },
   {
    "duration": 9,
    "start_time": "2021-10-12T15:53:35.945Z"
   },
   {
    "duration": 10,
    "start_time": "2021-10-12T15:54:11.020Z"
   },
   {
    "duration": 13,
    "start_time": "2021-10-12T15:54:21.659Z"
   },
   {
    "duration": 11,
    "start_time": "2021-10-12T15:54:54.203Z"
   },
   {
    "duration": 13,
    "start_time": "2021-10-12T15:55:11.829Z"
   },
   {
    "duration": 7,
    "start_time": "2021-10-12T16:00:02.046Z"
   },
   {
    "duration": 17,
    "start_time": "2021-10-12T16:00:17.918Z"
   },
   {
    "duration": 20,
    "start_time": "2021-10-12T16:10:19.695Z"
   },
   {
    "duration": 19,
    "start_time": "2021-10-12T16:25:06.161Z"
   },
   {
    "duration": 13,
    "start_time": "2021-10-12T16:25:22.645Z"
   },
   {
    "duration": 12,
    "start_time": "2021-10-12T16:26:07.668Z"
   },
   {
    "duration": 15,
    "start_time": "2021-10-12T16:26:57.875Z"
   },
   {
    "duration": 13,
    "start_time": "2021-10-12T16:27:13.684Z"
   },
   {
    "duration": 139,
    "start_time": "2021-10-12T16:42:13.785Z"
   },
   {
    "duration": 4,
    "start_time": "2021-10-12T16:42:22.726Z"
   },
   {
    "duration": 178,
    "start_time": "2021-10-12T16:42:52.438Z"
   },
   {
    "duration": 13,
    "start_time": "2021-10-12T16:43:08.281Z"
   },
   {
    "duration": 4,
    "start_time": "2021-10-12T16:46:55.232Z"
   },
   {
    "duration": 10,
    "start_time": "2021-10-12T16:47:06.461Z"
   },
   {
    "duration": 294,
    "start_time": "2021-10-12T16:47:32.579Z"
   },
   {
    "duration": 3,
    "start_time": "2021-10-12T16:47:54.797Z"
   },
   {
    "duration": 16,
    "start_time": "2021-10-12T16:47:56.272Z"
   },
   {
    "duration": 4,
    "start_time": "2021-10-12T16:48:16.637Z"
   },
   {
    "duration": 11,
    "start_time": "2021-10-12T16:48:17.148Z"
   },
   {
    "duration": 4,
    "start_time": "2021-10-12T16:48:53.878Z"
   },
   {
    "duration": 17,
    "start_time": "2021-10-12T16:48:55.210Z"
   },
   {
    "duration": 4,
    "start_time": "2021-10-12T16:49:18.147Z"
   },
   {
    "duration": 10,
    "start_time": "2021-10-12T16:49:19.706Z"
   },
   {
    "duration": 5,
    "start_time": "2021-10-12T16:50:36.822Z"
   },
   {
    "duration": 16,
    "start_time": "2021-10-12T16:50:37.405Z"
   },
   {
    "duration": 5,
    "start_time": "2021-10-12T16:52:15.898Z"
   },
   {
    "duration": 14,
    "start_time": "2021-10-12T16:52:16.872Z"
   },
   {
    "duration": 4,
    "start_time": "2021-10-12T17:01:35.946Z"
   },
   {
    "duration": 10,
    "start_time": "2021-10-12T17:01:38.383Z"
   },
   {
    "duration": 98,
    "start_time": "2021-10-12T17:05:23.774Z"
   },
   {
    "duration": 840,
    "start_time": "2021-10-12T17:05:38.838Z"
   },
   {
    "duration": 5,
    "start_time": "2021-10-12T17:08:10.220Z"
   },
   {
    "duration": 13,
    "start_time": "2021-10-12T17:08:12.347Z"
   },
   {
    "duration": 166,
    "start_time": "2021-10-12T17:08:22.488Z"
   },
   {
    "duration": 5,
    "start_time": "2021-10-12T17:11:58.859Z"
   },
   {
    "duration": 19,
    "start_time": "2021-10-12T17:11:59.905Z"
   },
   {
    "duration": 30,
    "start_time": "2021-10-12T17:12:59.349Z"
   },
   {
    "duration": 26,
    "start_time": "2021-10-12T17:13:24.157Z"
   },
   {
    "duration": 12,
    "start_time": "2021-10-12T17:13:24.711Z"
   },
   {
    "duration": 11,
    "start_time": "2021-10-12T17:13:25.267Z"
   },
   {
    "duration": 23,
    "start_time": "2021-10-12T17:13:32.700Z"
   },
   {
    "duration": 6,
    "start_time": "2021-10-12T17:13:35.846Z"
   },
   {
    "duration": 40,
    "start_time": "2021-10-12T17:13:36.379Z"
   },
   {
    "duration": 14,
    "start_time": "2021-10-12T17:13:56.852Z"
   },
   {
    "duration": 77,
    "start_time": "2021-10-12T17:14:15.296Z"
   },
   {
    "duration": 19,
    "start_time": "2021-10-12T17:14:15.376Z"
   },
   {
    "duration": 12,
    "start_time": "2021-10-12T17:14:15.398Z"
   },
   {
    "duration": 21,
    "start_time": "2021-10-12T17:14:15.413Z"
   },
   {
    "duration": 52,
    "start_time": "2021-10-12T17:14:15.436Z"
   },
   {
    "duration": 13,
    "start_time": "2021-10-12T17:14:15.490Z"
   },
   {
    "duration": 7,
    "start_time": "2021-10-12T17:14:15.506Z"
   },
   {
    "duration": 20,
    "start_time": "2021-10-12T17:14:15.516Z"
   },
   {
    "duration": 50,
    "start_time": "2021-10-12T17:14:15.539Z"
   },
   {
    "duration": 9,
    "start_time": "2021-10-12T17:14:15.591Z"
   },
   {
    "duration": 18,
    "start_time": "2021-10-12T17:14:15.602Z"
   },
   {
    "duration": 14,
    "start_time": "2021-10-12T17:14:15.622Z"
   },
   {
    "duration": 55,
    "start_time": "2021-10-12T17:14:15.638Z"
   },
   {
    "duration": 8,
    "start_time": "2021-10-12T17:14:15.695Z"
   },
   {
    "duration": 14,
    "start_time": "2021-10-12T17:14:15.705Z"
   },
   {
    "duration": 20,
    "start_time": "2021-10-12T17:14:15.721Z"
   },
   {
    "duration": 57,
    "start_time": "2021-10-12T17:14:15.744Z"
   },
   {
    "duration": 16,
    "start_time": "2021-10-12T17:14:15.805Z"
   },
   {
    "duration": 18,
    "start_time": "2021-10-12T17:14:15.824Z"
   },
   {
    "duration": 45,
    "start_time": "2021-10-12T17:14:15.844Z"
   },
   {
    "duration": 9,
    "start_time": "2021-10-12T17:14:15.892Z"
   },
   {
    "duration": 15,
    "start_time": "2021-10-12T17:14:15.905Z"
   },
   {
    "duration": 13,
    "start_time": "2021-10-12T17:14:15.927Z"
   },
   {
    "duration": 43,
    "start_time": "2021-10-12T17:14:15.944Z"
   },
   {
    "duration": 954,
    "start_time": "2021-10-12T17:14:15.990Z"
   },
   {
    "duration": 6,
    "start_time": "2021-10-12T17:14:16.946Z"
   },
   {
    "duration": 3615,
    "start_time": "2021-10-12T17:14:16.954Z"
   },
   {
    "duration": 19,
    "start_time": "2021-10-12T17:14:20.583Z"
   },
   {
    "duration": 22,
    "start_time": "2021-10-12T17:14:20.604Z"
   },
   {
    "duration": 30,
    "start_time": "2021-10-12T17:14:20.628Z"
   },
   {
    "duration": 48,
    "start_time": "2021-10-12T17:14:20.660Z"
   },
   {
    "duration": 16,
    "start_time": "2021-10-12T17:14:23.470Z"
   },
   {
    "duration": 6,
    "start_time": "2021-10-12T17:14:29.277Z"
   },
   {
    "duration": 13,
    "start_time": "2021-10-12T17:14:30.727Z"
   },
   {
    "duration": 14,
    "start_time": "2021-10-12T17:15:02.315Z"
   },
   {
    "duration": 29,
    "start_time": "2021-10-12T17:15:07.679Z"
   },
   {
    "duration": 13,
    "start_time": "2021-10-12T17:15:22.995Z"
   },
   {
    "duration": 15,
    "start_time": "2021-10-12T17:15:47.801Z"
   },
   {
    "duration": 12,
    "start_time": "2021-10-12T17:15:55.474Z"
   },
   {
    "duration": 15,
    "start_time": "2021-10-12T17:16:03.052Z"
   },
   {
    "duration": 18,
    "start_time": "2021-10-12T17:18:07.084Z"
   },
   {
    "duration": 14,
    "start_time": "2021-10-12T17:18:13.271Z"
   },
   {
    "duration": 9,
    "start_time": "2021-10-12T17:18:18.795Z"
   },
   {
    "duration": 17,
    "start_time": "2021-10-12T17:18:26.475Z"
   },
   {
    "duration": 79,
    "start_time": "2021-10-12T17:18:57.349Z"
   },
   {
    "duration": 16,
    "start_time": "2021-10-12T17:18:57.430Z"
   },
   {
    "duration": 42,
    "start_time": "2021-10-12T17:18:57.450Z"
   },
   {
    "duration": 20,
    "start_time": "2021-10-12T17:18:57.494Z"
   },
   {
    "duration": 13,
    "start_time": "2021-10-12T17:18:57.516Z"
   },
   {
    "duration": 53,
    "start_time": "2021-10-12T17:18:57.531Z"
   },
   {
    "duration": 7,
    "start_time": "2021-10-12T17:18:57.587Z"
   },
   {
    "duration": 21,
    "start_time": "2021-10-12T17:18:57.598Z"
   },
   {
    "duration": 9,
    "start_time": "2021-10-12T17:18:57.622Z"
   },
   {
    "duration": 7,
    "start_time": "2021-10-12T17:18:57.634Z"
   },
   {
    "duration": 58,
    "start_time": "2021-10-12T17:18:57.643Z"
   },
   {
    "duration": 19,
    "start_time": "2021-10-12T17:18:57.704Z"
   },
   {
    "duration": 58,
    "start_time": "2021-10-12T17:18:57.726Z"
   },
   {
    "duration": 9,
    "start_time": "2021-10-12T17:18:57.786Z"
   },
   {
    "duration": 14,
    "start_time": "2021-10-12T17:18:57.798Z"
   },
   {
    "duration": 20,
    "start_time": "2021-10-12T17:18:57.815Z"
   },
   {
    "duration": 70,
    "start_time": "2021-10-12T17:18:57.838Z"
   },
   {
    "duration": 17,
    "start_time": "2021-10-12T17:18:57.911Z"
   },
   {
    "duration": 17,
    "start_time": "2021-10-12T17:18:57.931Z"
   },
   {
    "duration": 40,
    "start_time": "2021-10-12T17:18:57.951Z"
   },
   {
    "duration": 8,
    "start_time": "2021-10-12T17:18:57.993Z"
   },
   {
    "duration": 15,
    "start_time": "2021-10-12T17:18:58.003Z"
   },
   {
    "duration": 8,
    "start_time": "2021-10-12T17:18:58.023Z"
   },
   {
    "duration": 51,
    "start_time": "2021-10-12T17:18:58.034Z"
   },
   {
    "duration": 952,
    "start_time": "2021-10-12T17:18:58.088Z"
   },
   {
    "duration": 5,
    "start_time": "2021-10-12T17:18:59.043Z"
   },
   {
    "duration": 3595,
    "start_time": "2021-10-12T17:18:59.050Z"
   },
   {
    "duration": 36,
    "start_time": "2021-10-12T17:19:02.648Z"
   },
   {
    "duration": 17,
    "start_time": "2021-10-12T17:19:02.687Z"
   },
   {
    "duration": 16,
    "start_time": "2021-10-12T17:19:02.706Z"
   },
   {
    "duration": 35,
    "start_time": "2021-10-12T17:19:02.762Z"
   },
   {
    "duration": 6,
    "start_time": "2021-10-12T17:19:04.133Z"
   },
   {
    "duration": 13,
    "start_time": "2021-10-12T17:19:04.637Z"
   },
   {
    "duration": 13,
    "start_time": "2021-10-12T17:19:05.870Z"
   },
   {
    "duration": 11,
    "start_time": "2021-10-12T17:19:09.701Z"
   },
   {
    "duration": 19,
    "start_time": "2021-10-12T17:19:56.784Z"
   },
   {
    "duration": 14,
    "start_time": "2021-10-12T17:19:59.552Z"
   },
   {
    "duration": 11,
    "start_time": "2021-10-12T17:20:00.040Z"
   },
   {
    "duration": 18,
    "start_time": "2021-10-12T17:20:07.762Z"
   },
   {
    "duration": 14,
    "start_time": "2021-10-12T17:20:17.226Z"
   },
   {
    "duration": 13,
    "start_time": "2021-10-12T17:20:20.767Z"
   },
   {
    "duration": 11,
    "start_time": "2021-10-12T17:20:22.522Z"
   },
   {
    "duration": 82,
    "start_time": "2021-10-12T17:39:22.375Z"
   },
   {
    "duration": 34,
    "start_time": "2021-10-12T17:39:22.460Z"
   },
   {
    "duration": 15,
    "start_time": "2021-10-12T17:39:22.497Z"
   },
   {
    "duration": 26,
    "start_time": "2021-10-12T17:39:22.515Z"
   },
   {
    "duration": 39,
    "start_time": "2021-10-12T17:39:22.543Z"
   },
   {
    "duration": 14,
    "start_time": "2021-10-12T17:39:22.585Z"
   },
   {
    "duration": 6,
    "start_time": "2021-10-12T17:39:22.601Z"
   },
   {
    "duration": 23,
    "start_time": "2021-10-12T17:39:22.610Z"
   },
   {
    "duration": 9,
    "start_time": "2021-10-12T17:39:22.636Z"
   },
   {
    "duration": 7,
    "start_time": "2021-10-12T17:39:22.683Z"
   },
   {
    "duration": 21,
    "start_time": "2021-10-12T17:39:22.692Z"
   },
   {
    "duration": 14,
    "start_time": "2021-10-12T17:39:22.716Z"
   },
   {
    "duration": 57,
    "start_time": "2021-10-12T17:39:22.732Z"
   },
   {
    "duration": 7,
    "start_time": "2021-10-12T17:39:22.792Z"
   },
   {
    "duration": 10,
    "start_time": "2021-10-12T17:39:22.802Z"
   },
   {
    "duration": 70,
    "start_time": "2021-10-12T17:39:22.815Z"
   },
   {
    "duration": 21,
    "start_time": "2021-10-12T17:39:22.887Z"
   },
   {
    "duration": 13,
    "start_time": "2021-10-12T17:39:26.216Z"
   },
   {
    "duration": 22,
    "start_time": "2021-10-12T17:42:03.951Z"
   },
   {
    "duration": 35,
    "start_time": "2021-10-12T17:43:57.900Z"
   },
   {
    "duration": 23,
    "start_time": "2021-10-12T17:49:02.210Z"
   },
   {
    "duration": 24,
    "start_time": "2021-10-12T17:49:13.443Z"
   },
   {
    "duration": 77,
    "start_time": "2021-10-12T17:49:21.678Z"
   },
   {
    "duration": 31,
    "start_time": "2021-10-12T17:49:21.758Z"
   },
   {
    "duration": 13,
    "start_time": "2021-10-12T17:49:21.792Z"
   },
   {
    "duration": 21,
    "start_time": "2021-10-12T17:49:21.808Z"
   },
   {
    "duration": 18,
    "start_time": "2021-10-12T17:49:21.832Z"
   },
   {
    "duration": 42,
    "start_time": "2021-10-12T17:49:21.852Z"
   },
   {
    "duration": 6,
    "start_time": "2021-10-12T17:49:21.896Z"
   },
   {
    "duration": 20,
    "start_time": "2021-10-12T17:49:21.906Z"
   },
   {
    "duration": 54,
    "start_time": "2021-10-12T17:49:21.928Z"
   },
   {
    "duration": 7,
    "start_time": "2021-10-12T17:49:21.985Z"
   },
   {
    "duration": 16,
    "start_time": "2021-10-12T17:49:21.994Z"
   },
   {
    "duration": 14,
    "start_time": "2021-10-12T17:49:22.013Z"
   },
   {
    "duration": 57,
    "start_time": "2021-10-12T17:49:22.029Z"
   },
   {
    "duration": 7,
    "start_time": "2021-10-12T17:49:22.088Z"
   },
   {
    "duration": 14,
    "start_time": "2021-10-12T17:49:22.097Z"
   },
   {
    "duration": 22,
    "start_time": "2021-10-12T17:49:22.114Z"
   },
   {
    "duration": 47,
    "start_time": "2021-10-12T17:49:22.139Z"
   },
   {
    "duration": 12,
    "start_time": "2021-10-12T17:49:24.811Z"
   },
   {
    "duration": 23,
    "start_time": "2021-10-12T17:49:25.602Z"
   },
   {
    "duration": 109,
    "start_time": "2021-10-12T17:53:30.954Z"
   },
   {
    "duration": 36,
    "start_time": "2021-10-12T17:53:31.066Z"
   },
   {
    "duration": 22,
    "start_time": "2021-10-12T17:53:31.106Z"
   },
   {
    "duration": 53,
    "start_time": "2021-10-12T17:53:31.131Z"
   },
   {
    "duration": 14,
    "start_time": "2021-10-12T17:53:31.187Z"
   },
   {
    "duration": 19,
    "start_time": "2021-10-12T17:53:31.203Z"
   },
   {
    "duration": 13,
    "start_time": "2021-10-12T17:53:31.224Z"
   },
   {
    "duration": 62,
    "start_time": "2021-10-12T17:53:31.241Z"
   },
   {
    "duration": 10,
    "start_time": "2021-10-12T17:53:31.306Z"
   },
   {
    "duration": 26,
    "start_time": "2021-10-12T17:53:31.319Z"
   },
   {
    "duration": 45,
    "start_time": "2021-10-12T17:53:31.347Z"
   },
   {
    "duration": 34,
    "start_time": "2021-10-12T17:53:31.396Z"
   },
   {
    "duration": 40,
    "start_time": "2021-10-12T17:53:31.433Z"
   },
   {
    "duration": 14,
    "start_time": "2021-10-12T17:53:31.475Z"
   },
   {
    "duration": 25,
    "start_time": "2021-10-12T17:53:31.492Z"
   },
   {
    "duration": 59,
    "start_time": "2021-10-12T17:53:31.520Z"
   },
   {
    "duration": 33,
    "start_time": "2021-10-12T17:53:31.582Z"
   },
   {
    "duration": 16,
    "start_time": "2021-10-12T17:53:31.619Z"
   },
   {
    "duration": 12,
    "start_time": "2021-10-12T17:53:35.961Z"
   },
   {
    "duration": 39,
    "start_time": "2021-10-12T17:53:38.025Z"
   },
   {
    "duration": 37,
    "start_time": "2021-10-12T18:11:29.154Z"
   },
   {
    "duration": 33,
    "start_time": "2021-10-12T18:14:17.327Z"
   },
   {
    "duration": 81,
    "start_time": "2021-10-12T18:15:44.244Z"
   },
   {
    "duration": 14,
    "start_time": "2021-10-12T18:15:44.327Z"
   },
   {
    "duration": 44,
    "start_time": "2021-10-12T18:15:44.344Z"
   },
   {
    "duration": 31,
    "start_time": "2021-10-12T18:15:44.391Z"
   },
   {
    "duration": 26,
    "start_time": "2021-10-12T18:15:44.424Z"
   },
   {
    "duration": 25,
    "start_time": "2021-10-12T18:15:44.452Z"
   },
   {
    "duration": 18,
    "start_time": "2021-10-12T18:15:44.479Z"
   },
   {
    "duration": 27,
    "start_time": "2021-10-12T18:15:44.500Z"
   },
   {
    "duration": 9,
    "start_time": "2021-10-12T18:15:44.530Z"
   },
   {
    "duration": 24,
    "start_time": "2021-10-12T18:15:44.541Z"
   },
   {
    "duration": 21,
    "start_time": "2021-10-12T18:15:44.567Z"
   },
   {
    "duration": 16,
    "start_time": "2021-10-12T18:15:44.590Z"
   },
   {
    "duration": 18,
    "start_time": "2021-10-12T18:15:44.608Z"
   },
   {
    "duration": 7,
    "start_time": "2021-10-12T18:15:44.629Z"
   },
   {
    "duration": 46,
    "start_time": "2021-10-12T18:15:44.639Z"
   },
   {
    "duration": 28,
    "start_time": "2021-10-12T18:15:44.688Z"
   },
   {
    "duration": 22,
    "start_time": "2021-10-12T18:15:44.719Z"
   },
   {
    "duration": 41,
    "start_time": "2021-10-12T18:15:44.743Z"
   },
   {
    "duration": 33,
    "start_time": "2021-10-12T18:15:44.787Z"
   },
   {
    "duration": 10,
    "start_time": "2021-10-12T18:15:44.822Z"
   },
   {
    "duration": 13,
    "start_time": "2021-10-12T18:15:44.834Z"
   },
   {
    "duration": 44,
    "start_time": "2021-10-12T18:15:44.849Z"
   },
   {
    "duration": 13,
    "start_time": "2021-10-12T18:15:44.898Z"
   },
   {
    "duration": 13,
    "start_time": "2021-10-12T18:15:44.914Z"
   },
   {
    "duration": 955,
    "start_time": "2021-10-12T18:15:44.929Z"
   },
   {
    "duration": 6,
    "start_time": "2021-10-12T18:15:45.887Z"
   },
   {
    "duration": 3627,
    "start_time": "2021-10-12T18:15:45.895Z"
   },
   {
    "duration": 20,
    "start_time": "2021-10-12T18:15:49.524Z"
   },
   {
    "duration": 38,
    "start_time": "2021-10-12T18:15:49.547Z"
   },
   {
    "duration": 12,
    "start_time": "2021-10-12T18:15:49.587Z"
   },
   {
    "duration": 27,
    "start_time": "2021-10-12T18:15:51.960Z"
   },
   {
    "duration": 5,
    "start_time": "2021-10-12T18:16:06.633Z"
   },
   {
    "duration": 14,
    "start_time": "2021-10-12T18:16:07.209Z"
   },
   {
    "duration": 14,
    "start_time": "2021-10-12T18:16:11.682Z"
   },
   {
    "duration": 12,
    "start_time": "2021-10-12T18:16:14.401Z"
   },
   {
    "duration": 5,
    "start_time": "2021-10-12T18:18:55.062Z"
   },
   {
    "duration": 15,
    "start_time": "2021-10-12T18:20:00.085Z"
   },
   {
    "duration": 5,
    "start_time": "2021-10-12T18:20:55.075Z"
   },
   {
    "duration": 15,
    "start_time": "2021-10-12T18:20:55.690Z"
   },
   {
    "duration": 15,
    "start_time": "2021-10-12T18:21:38.289Z"
   },
   {
    "duration": 14,
    "start_time": "2021-10-12T18:22:36.213Z"
   },
   {
    "duration": 12,
    "start_time": "2021-10-12T18:23:13.095Z"
   },
   {
    "duration": 6,
    "start_time": "2021-10-12T18:23:28.151Z"
   },
   {
    "duration": 15,
    "start_time": "2021-10-12T18:23:28.712Z"
   },
   {
    "duration": 14,
    "start_time": "2021-10-12T18:23:29.581Z"
   },
   {
    "duration": 13,
    "start_time": "2021-10-12T18:23:32.018Z"
   },
   {
    "duration": 13,
    "start_time": "2021-10-12T18:23:34.145Z"
   },
   {
    "duration": 32,
    "start_time": "2021-10-12T18:24:45.956Z"
   },
   {
    "duration": 82,
    "start_time": "2021-10-12T18:24:58.221Z"
   },
   {
    "duration": 14,
    "start_time": "2021-10-12T18:24:58.306Z"
   },
   {
    "duration": 16,
    "start_time": "2021-10-12T18:24:58.322Z"
   },
   {
    "duration": 50,
    "start_time": "2021-10-12T18:24:58.341Z"
   },
   {
    "duration": 13,
    "start_time": "2021-10-12T18:24:58.393Z"
   },
   {
    "duration": 17,
    "start_time": "2021-10-12T18:24:58.409Z"
   },
   {
    "duration": 9,
    "start_time": "2021-10-12T18:24:58.428Z"
   },
   {
    "duration": 23,
    "start_time": "2021-10-12T18:24:58.485Z"
   },
   {
    "duration": 10,
    "start_time": "2021-10-12T18:24:58.512Z"
   },
   {
    "duration": 11,
    "start_time": "2021-10-12T18:24:58.525Z"
   },
   {
    "duration": 51,
    "start_time": "2021-10-12T18:24:58.539Z"
   },
   {
    "duration": 16,
    "start_time": "2021-10-12T18:24:58.592Z"
   },
   {
    "duration": 21,
    "start_time": "2021-10-12T18:24:58.611Z"
   },
   {
    "duration": 49,
    "start_time": "2021-10-12T18:24:58.634Z"
   },
   {
    "duration": 11,
    "start_time": "2021-10-12T18:24:58.685Z"
   },
   {
    "duration": 20,
    "start_time": "2021-10-12T18:24:58.699Z"
   },
   {
    "duration": 22,
    "start_time": "2021-10-12T18:24:58.721Z"
   },
   {
    "duration": 47,
    "start_time": "2021-10-12T18:24:58.746Z"
   },
   {
    "duration": 31,
    "start_time": "2021-10-12T18:25:01.479Z"
   },
   {
    "duration": 82,
    "start_time": "2021-10-12T18:25:20.027Z"
   },
   {
    "duration": 13,
    "start_time": "2021-10-12T18:25:20.112Z"
   },
   {
    "duration": 12,
    "start_time": "2021-10-12T18:25:20.128Z"
   },
   {
    "duration": 53,
    "start_time": "2021-10-12T18:25:20.142Z"
   },
   {
    "duration": 13,
    "start_time": "2021-10-12T18:25:20.198Z"
   },
   {
    "duration": 16,
    "start_time": "2021-10-12T18:25:20.213Z"
   },
   {
    "duration": 8,
    "start_time": "2021-10-12T18:25:20.231Z"
   },
   {
    "duration": 21,
    "start_time": "2021-10-12T18:25:20.285Z"
   },
   {
    "duration": 11,
    "start_time": "2021-10-12T18:25:20.310Z"
   },
   {
    "duration": 7,
    "start_time": "2021-10-12T18:25:20.324Z"
   },
   {
    "duration": 59,
    "start_time": "2021-10-12T18:25:20.333Z"
   },
   {
    "duration": 15,
    "start_time": "2021-10-12T18:25:20.394Z"
   },
   {
    "duration": 20,
    "start_time": "2021-10-12T18:25:20.412Z"
   },
   {
    "duration": 9,
    "start_time": "2021-10-12T18:25:20.435Z"
   },
   {
    "duration": 42,
    "start_time": "2021-10-12T18:25:20.447Z"
   },
   {
    "duration": 21,
    "start_time": "2021-10-12T18:25:20.492Z"
   },
   {
    "duration": 22,
    "start_time": "2021-10-12T18:25:20.515Z"
   },
   {
    "duration": 50,
    "start_time": "2021-10-12T18:25:20.539Z"
   },
   {
    "duration": 29,
    "start_time": "2021-10-12T18:25:20.592Z"
   },
   {
    "duration": 10,
    "start_time": "2021-10-12T18:25:20.623Z"
   },
   {
    "duration": 9,
    "start_time": "2021-10-12T18:25:20.637Z"
   },
   {
    "duration": 15,
    "start_time": "2021-10-12T18:25:20.683Z"
   },
   {
    "duration": 8,
    "start_time": "2021-10-12T18:25:20.702Z"
   },
   {
    "duration": 8,
    "start_time": "2021-10-12T18:25:20.713Z"
   },
   {
    "duration": 965,
    "start_time": "2021-10-12T18:25:20.724Z"
   },
   {
    "duration": 6,
    "start_time": "2021-10-12T18:25:21.692Z"
   },
   {
    "duration": 3536,
    "start_time": "2021-10-12T18:25:21.700Z"
   },
   {
    "duration": 18,
    "start_time": "2021-10-12T18:25:25.239Z"
   },
   {
    "duration": 30,
    "start_time": "2021-10-12T18:25:25.260Z"
   },
   {
    "duration": 10,
    "start_time": "2021-10-12T18:25:25.293Z"
   },
   {
    "duration": 26,
    "start_time": "2021-10-12T18:25:25.305Z"
   },
   {
    "duration": 5,
    "start_time": "2021-10-12T18:25:25.334Z"
   },
   {
    "duration": 48,
    "start_time": "2021-10-12T18:25:25.341Z"
   },
   {
    "duration": 12,
    "start_time": "2021-10-12T18:25:25.392Z"
   },
   {
    "duration": 12,
    "start_time": "2021-10-12T18:25:25.407Z"
   },
   {
    "duration": 6,
    "start_time": "2021-10-12T18:25:25.422Z"
   },
   {
    "duration": 60,
    "start_time": "2021-10-12T18:25:25.430Z"
   },
   {
    "duration": 12,
    "start_time": "2021-10-12T18:25:36.089Z"
   },
   {
    "duration": 12,
    "start_time": "2021-10-12T18:26:09.891Z"
   },
   {
    "duration": 13,
    "start_time": "2021-10-12T18:26:25.512Z"
   },
   {
    "duration": 12,
    "start_time": "2021-10-12T18:26:27.491Z"
   },
   {
    "duration": 6,
    "start_time": "2021-10-12T19:35:34.326Z"
   },
   {
    "duration": 9209,
    "start_time": "2021-10-12T19:36:05.591Z"
   },
   {
    "duration": 129,
    "start_time": "2021-10-12T19:36:35.378Z"
   },
   {
    "duration": 13,
    "start_time": "2021-10-12T19:36:35.510Z"
   },
   {
    "duration": 28,
    "start_time": "2021-10-12T19:36:35.526Z"
   },
   {
    "duration": 43,
    "start_time": "2021-10-12T19:36:35.557Z"
   },
   {
    "duration": 14,
    "start_time": "2021-10-12T19:36:35.603Z"
   },
   {
    "duration": 17,
    "start_time": "2021-10-12T19:36:35.620Z"
   },
   {
    "duration": 12,
    "start_time": "2021-10-12T19:36:35.640Z"
   },
   {
    "duration": 45,
    "start_time": "2021-10-12T19:36:35.656Z"
   },
   {
    "duration": 21,
    "start_time": "2021-10-12T19:36:35.705Z"
   },
   {
    "duration": 21,
    "start_time": "2021-10-12T19:36:35.728Z"
   },
   {
    "duration": 34,
    "start_time": "2021-10-12T19:36:35.753Z"
   },
   {
    "duration": 18,
    "start_time": "2021-10-12T19:36:35.790Z"
   },
   {
    "duration": 29,
    "start_time": "2021-10-12T19:36:35.811Z"
   },
   {
    "duration": 19,
    "start_time": "2021-10-12T19:36:35.843Z"
   },
   {
    "duration": 9,
    "start_time": "2021-10-12T19:36:35.882Z"
   },
   {
    "duration": 26,
    "start_time": "2021-10-12T19:36:35.894Z"
   },
   {
    "duration": 23,
    "start_time": "2021-10-12T19:36:35.922Z"
   },
   {
    "duration": 46,
    "start_time": "2021-10-12T19:36:35.947Z"
   },
   {
    "duration": 30,
    "start_time": "2021-10-12T19:36:35.996Z"
   },
   {
    "duration": 11,
    "start_time": "2021-10-12T19:36:36.030Z"
   },
   {
    "duration": 42,
    "start_time": "2021-10-12T19:36:36.044Z"
   },
   {
    "duration": 16,
    "start_time": "2021-10-12T19:36:36.089Z"
   },
   {
    "duration": 18,
    "start_time": "2021-10-12T19:36:36.112Z"
   },
   {
    "duration": 10,
    "start_time": "2021-10-12T19:36:36.133Z"
   },
   {
    "duration": 956,
    "start_time": "2021-10-12T19:36:36.146Z"
   },
   {
    "duration": 5,
    "start_time": "2021-10-12T19:36:37.105Z"
   },
   {
    "duration": 3547,
    "start_time": "2021-10-12T19:36:37.113Z"
   },
   {
    "duration": 30,
    "start_time": "2021-10-12T19:36:40.662Z"
   },
   {
    "duration": 17,
    "start_time": "2021-10-12T19:36:40.694Z"
   },
   {
    "duration": 24,
    "start_time": "2021-10-12T19:36:40.713Z"
   },
   {
    "duration": 29,
    "start_time": "2021-10-12T19:36:40.848Z"
   },
   {
    "duration": 5,
    "start_time": "2021-10-12T19:36:45.503Z"
   },
   {
    "duration": 17,
    "start_time": "2021-10-12T19:36:46.012Z"
   },
   {
    "duration": 12,
    "start_time": "2021-10-12T19:36:49.276Z"
   },
   {
    "duration": 13,
    "start_time": "2021-10-12T19:36:51.005Z"
   },
   {
    "duration": 5,
    "start_time": "2021-10-12T19:36:56.223Z"
   },
   {
    "duration": 15,
    "start_time": "2021-10-12T19:36:56.710Z"
   },
   {
    "duration": 14,
    "start_time": "2021-10-12T19:36:57.167Z"
   },
   {
    "duration": 15,
    "start_time": "2021-10-12T19:36:57.598Z"
   },
   {
    "duration": 13,
    "start_time": "2021-10-12T19:36:58.078Z"
   },
   {
    "duration": 12,
    "start_time": "2021-10-12T19:36:58.598Z"
   },
   {
    "duration": 5,
    "start_time": "2021-10-12T19:37:02.527Z"
   },
   {
    "duration": 13,
    "start_time": "2021-10-12T19:37:03.952Z"
   },
   {
    "duration": 14,
    "start_time": "2021-10-12T19:37:29.655Z"
   },
   {
    "duration": 12,
    "start_time": "2021-10-12T19:37:33.048Z"
   },
   {
    "duration": 5,
    "start_time": "2021-10-12T19:45:31.471Z"
   },
   {
    "duration": 12,
    "start_time": "2021-10-12T19:45:32.033Z"
   },
   {
    "duration": 15,
    "start_time": "2021-10-12T19:45:34.344Z"
   },
   {
    "duration": 13,
    "start_time": "2021-10-12T19:45:35.110Z"
   },
   {
    "duration": 282,
    "start_time": "2021-10-12T20:17:12.198Z"
   },
   {
    "duration": 79,
    "start_time": "2021-10-12T20:17:21.183Z"
   },
   {
    "duration": 32,
    "start_time": "2021-10-12T20:17:21.264Z"
   },
   {
    "duration": 13,
    "start_time": "2021-10-12T20:17:21.299Z"
   },
   {
    "duration": 20,
    "start_time": "2021-10-12T20:17:21.315Z"
   },
   {
    "duration": 56,
    "start_time": "2021-10-12T20:17:21.337Z"
   },
   {
    "duration": 18,
    "start_time": "2021-10-12T20:17:21.395Z"
   },
   {
    "duration": 7,
    "start_time": "2021-10-12T20:17:21.415Z"
   },
   {
    "duration": 60,
    "start_time": "2021-10-12T20:17:21.424Z"
   },
   {
    "duration": 10,
    "start_time": "2021-10-12T20:17:21.487Z"
   },
   {
    "duration": 8,
    "start_time": "2021-10-12T20:17:21.500Z"
   },
   {
    "duration": 16,
    "start_time": "2021-10-12T20:17:21.511Z"
   },
   {
    "duration": 15,
    "start_time": "2021-10-12T20:17:21.529Z"
   },
   {
    "duration": 20,
    "start_time": "2021-10-12T20:17:21.583Z"
   },
   {
    "duration": 8,
    "start_time": "2021-10-12T20:17:21.605Z"
   },
   {
    "duration": 11,
    "start_time": "2021-10-12T20:17:21.615Z"
   },
   {
    "duration": 55,
    "start_time": "2021-10-12T20:17:21.628Z"
   },
   {
    "duration": 22,
    "start_time": "2021-10-12T20:17:21.685Z"
   },
   {
    "duration": 18,
    "start_time": "2021-10-12T20:17:21.709Z"
   },
   {
    "duration": 55,
    "start_time": "2021-10-12T20:17:21.729Z"
   },
   {
    "duration": 10,
    "start_time": "2021-10-12T20:17:21.786Z"
   },
   {
    "duration": 23,
    "start_time": "2021-10-12T20:17:21.798Z"
   },
   {
    "duration": 14,
    "start_time": "2021-10-12T20:17:21.824Z"
   },
   {
    "duration": 12,
    "start_time": "2021-10-12T20:17:21.840Z"
   },
   {
    "duration": 26,
    "start_time": "2021-10-12T20:17:21.855Z"
   },
   {
    "duration": 938,
    "start_time": "2021-10-12T20:17:21.884Z"
   },
   {
    "duration": 7,
    "start_time": "2021-10-12T20:17:22.825Z"
   },
   {
    "duration": 3593,
    "start_time": "2021-10-12T20:17:22.840Z"
   },
   {
    "duration": 20,
    "start_time": "2021-10-12T20:17:26.436Z"
   },
   {
    "duration": 35,
    "start_time": "2021-10-12T20:17:26.458Z"
   },
   {
    "duration": 11,
    "start_time": "2021-10-12T20:17:26.496Z"
   },
   {
    "duration": 32,
    "start_time": "2021-10-12T20:17:26.510Z"
   },
   {
    "duration": 6,
    "start_time": "2021-10-12T20:17:26.544Z"
   },
   {
    "duration": 15,
    "start_time": "2021-10-12T20:17:26.582Z"
   },
   {
    "duration": 13,
    "start_time": "2021-10-12T20:17:26.600Z"
   },
   {
    "duration": 11,
    "start_time": "2021-10-12T20:17:26.615Z"
   },
   {
    "duration": 7,
    "start_time": "2021-10-12T20:17:26.629Z"
   },
   {
    "duration": 51,
    "start_time": "2021-10-12T20:17:26.638Z"
   },
   {
    "duration": 19,
    "start_time": "2021-10-12T20:17:26.691Z"
   },
   {
    "duration": 12,
    "start_time": "2021-10-12T20:17:26.713Z"
   },
   {
    "duration": 15,
    "start_time": "2021-10-12T20:17:26.728Z"
   },
   {
    "duration": 48,
    "start_time": "2021-10-12T20:17:26.745Z"
   },
   {
    "duration": 7,
    "start_time": "2021-10-12T20:17:26.795Z"
   },
   {
    "duration": 15,
    "start_time": "2021-10-12T20:17:26.805Z"
   },
   {
    "duration": 14,
    "start_time": "2021-10-12T20:17:26.822Z"
   },
   {
    "duration": 11,
    "start_time": "2021-10-12T20:17:26.838Z"
   },
   {
    "duration": 12,
    "start_time": "2021-10-12T20:17:28.782Z"
   },
   {
    "duration": 31,
    "start_time": "2021-10-12T20:17:34.777Z"
   },
   {
    "duration": 31,
    "start_time": "2021-10-12T20:17:37.950Z"
   },
   {
    "duration": 326,
    "start_time": "2021-10-12T20:21:19.197Z"
   },
   {
    "duration": 24,
    "start_time": "2021-10-12T20:21:34.734Z"
   },
   {
    "duration": 26,
    "start_time": "2021-10-12T20:22:03.087Z"
   },
   {
    "duration": 11,
    "start_time": "2021-10-12T20:22:04.520Z"
   },
   {
    "duration": 25,
    "start_time": "2021-10-12T20:29:41.212Z"
   },
   {
    "duration": 13,
    "start_time": "2021-10-12T20:29:42.788Z"
   },
   {
    "duration": 79,
    "start_time": "2021-10-12T20:29:51.893Z"
   },
   {
    "duration": 14,
    "start_time": "2021-10-12T20:29:51.975Z"
   },
   {
    "duration": 12,
    "start_time": "2021-10-12T20:29:51.992Z"
   },
   {
    "duration": 20,
    "start_time": "2021-10-12T20:29:52.007Z"
   },
   {
    "duration": 61,
    "start_time": "2021-10-12T20:29:52.029Z"
   },
   {
    "duration": 15,
    "start_time": "2021-10-12T20:29:52.092Z"
   },
   {
    "duration": 6,
    "start_time": "2021-10-12T20:29:52.109Z"
   },
   {
    "duration": 22,
    "start_time": "2021-10-12T20:29:52.119Z"
   },
   {
    "duration": 10,
    "start_time": "2021-10-12T20:29:52.182Z"
   },
   {
    "duration": 6,
    "start_time": "2021-10-12T20:29:52.194Z"
   },
   {
    "duration": 18,
    "start_time": "2021-10-12T20:29:52.202Z"
   },
   {
    "duration": 17,
    "start_time": "2021-10-12T20:29:52.223Z"
   },
   {
    "duration": 53,
    "start_time": "2021-10-12T20:29:52.243Z"
   },
   {
    "duration": 8,
    "start_time": "2021-10-12T20:29:52.298Z"
   },
   {
    "duration": 11,
    "start_time": "2021-10-12T20:29:52.308Z"
   },
   {
    "duration": 20,
    "start_time": "2021-10-12T20:29:52.321Z"
   },
   {
    "duration": 56,
    "start_time": "2021-10-12T20:29:52.344Z"
   },
   {
    "duration": 13,
    "start_time": "2021-10-12T20:29:52.402Z"
   },
   {
    "duration": 28,
    "start_time": "2021-10-12T20:29:52.417Z"
   },
   {
    "duration": 40,
    "start_time": "2021-10-12T20:29:52.447Z"
   },
   {
    "duration": 8,
    "start_time": "2021-10-12T20:29:52.490Z"
   },
   {
    "duration": 19,
    "start_time": "2021-10-12T20:29:52.500Z"
   },
   {
    "duration": 7,
    "start_time": "2021-10-12T20:29:52.524Z"
   },
   {
    "duration": 8,
    "start_time": "2021-10-12T20:29:52.534Z"
   },
   {
    "duration": 996,
    "start_time": "2021-10-12T20:29:52.544Z"
   },
   {
    "duration": 5,
    "start_time": "2021-10-12T20:29:53.543Z"
   },
   {
    "duration": 3559,
    "start_time": "2021-10-12T20:29:53.551Z"
   },
   {
    "duration": 19,
    "start_time": "2021-10-12T20:29:57.112Z"
   },
   {
    "duration": 14,
    "start_time": "2021-10-12T20:29:57.134Z"
   },
   {
    "duration": 34,
    "start_time": "2021-10-12T20:29:57.151Z"
   },
   {
    "duration": 29,
    "start_time": "2021-10-12T20:29:57.188Z"
   },
   {
    "duration": 5,
    "start_time": "2021-10-12T20:29:57.220Z"
   },
   {
    "duration": 20,
    "start_time": "2021-10-12T20:29:57.227Z"
   },
   {
    "duration": 40,
    "start_time": "2021-10-12T20:29:57.249Z"
   },
   {
    "duration": 12,
    "start_time": "2021-10-12T20:29:57.292Z"
   },
   {
    "duration": 7,
    "start_time": "2021-10-12T20:29:57.306Z"
   },
   {
    "duration": 14,
    "start_time": "2021-10-12T20:29:57.316Z"
   },
   {
    "duration": 51,
    "start_time": "2021-10-12T20:29:57.333Z"
   },
   {
    "duration": 12,
    "start_time": "2021-10-12T20:29:57.387Z"
   },
   {
    "duration": 11,
    "start_time": "2021-10-12T20:29:57.402Z"
   },
   {
    "duration": 12,
    "start_time": "2021-10-12T20:29:57.415Z"
   },
   {
    "duration": 7,
    "start_time": "2021-10-12T20:29:57.430Z"
   },
   {
    "duration": 48,
    "start_time": "2021-10-12T20:29:57.440Z"
   },
   {
    "duration": 13,
    "start_time": "2021-10-12T20:29:57.490Z"
   },
   {
    "duration": 11,
    "start_time": "2021-10-12T20:29:57.505Z"
   },
   {
    "duration": 29,
    "start_time": "2021-10-12T20:29:57.518Z"
   },
   {
    "duration": 24,
    "start_time": "2021-10-12T20:30:01.495Z"
   },
   {
    "duration": 11,
    "start_time": "2021-10-12T20:30:02.806Z"
   },
   {
    "duration": 25,
    "start_time": "2021-10-12T20:33:30.530Z"
   },
   {
    "duration": 17,
    "start_time": "2021-10-12T20:33:31.490Z"
   },
   {
    "duration": 309,
    "start_time": "2021-10-12T20:37:48.714Z"
   },
   {
    "duration": 395,
    "start_time": "2021-10-12T20:38:02.125Z"
   },
   {
    "duration": 24,
    "start_time": "2021-10-12T20:39:22.292Z"
   },
   {
    "duration": 23,
    "start_time": "2021-10-12T20:39:38.845Z"
   },
   {
    "duration": 15,
    "start_time": "2021-10-12T20:39:39.542Z"
   },
   {
    "duration": 24,
    "start_time": "2021-10-12T20:40:25.449Z"
   },
   {
    "duration": 14,
    "start_time": "2021-10-12T20:40:28.118Z"
   },
   {
    "duration": 25,
    "start_time": "2021-10-12T20:44:27.786Z"
   },
   {
    "duration": 19,
    "start_time": "2021-10-12T20:44:29.854Z"
   },
   {
    "duration": 21,
    "start_time": "2021-10-12T20:44:44.944Z"
   },
   {
    "duration": 10,
    "start_time": "2021-10-12T20:44:46.113Z"
   },
   {
    "duration": 24,
    "start_time": "2021-10-12T20:48:53.820Z"
   },
   {
    "duration": 14,
    "start_time": "2021-10-12T20:48:54.518Z"
   },
   {
    "duration": 312,
    "start_time": "2021-10-12T20:49:54.094Z"
   },
   {
    "duration": 292,
    "start_time": "2021-10-12T20:50:52.641Z"
   },
   {
    "duration": 23,
    "start_time": "2021-10-12T21:13:14.232Z"
   },
   {
    "duration": 8,
    "start_time": "2021-10-12T21:16:37.542Z"
   },
   {
    "duration": 11,
    "start_time": "2021-10-12T21:16:55.190Z"
   },
   {
    "duration": 7,
    "start_time": "2021-10-12T21:18:03.680Z"
   },
   {
    "duration": 8,
    "start_time": "2021-10-12T21:18:16.729Z"
   },
   {
    "duration": 304,
    "start_time": "2021-10-12T21:18:28.504Z"
   },
   {
    "duration": 9,
    "start_time": "2021-10-12T21:18:41.325Z"
   },
   {
    "duration": 10,
    "start_time": "2021-10-12T21:18:53.642Z"
   },
   {
    "duration": 10,
    "start_time": "2021-10-12T21:19:08.842Z"
   },
   {
    "duration": 10,
    "start_time": "2021-10-12T21:20:23.936Z"
   },
   {
    "duration": 315,
    "start_time": "2021-10-12T21:20:42.733Z"
   },
   {
    "duration": 6,
    "start_time": "2021-10-12T21:21:04.366Z"
   },
   {
    "duration": 1000,
    "start_time": "2021-10-12T21:21:12.350Z"
   },
   {
    "duration": 87,
    "start_time": "2021-10-12T21:24:36.122Z"
   },
   {
    "duration": 16,
    "start_time": "2021-10-12T21:24:36.212Z"
   },
   {
    "duration": 12,
    "start_time": "2021-10-12T21:24:36.231Z"
   },
   {
    "duration": 24,
    "start_time": "2021-10-12T21:24:36.282Z"
   },
   {
    "duration": 14,
    "start_time": "2021-10-12T21:24:36.308Z"
   },
   {
    "duration": 13,
    "start_time": "2021-10-12T21:24:36.324Z"
   },
   {
    "duration": 47,
    "start_time": "2021-10-12T21:24:36.340Z"
   },
   {
    "duration": 21,
    "start_time": "2021-10-12T21:24:36.393Z"
   },
   {
    "duration": 11,
    "start_time": "2021-10-12T21:24:36.418Z"
   },
   {
    "duration": 53,
    "start_time": "2021-10-12T21:24:36.432Z"
   },
   {
    "duration": 17,
    "start_time": "2021-10-12T21:24:36.487Z"
   },
   {
    "duration": 15,
    "start_time": "2021-10-12T21:24:36.506Z"
   },
   {
    "duration": 24,
    "start_time": "2021-10-12T21:24:36.524Z"
   },
   {
    "duration": 9,
    "start_time": "2021-10-12T21:24:36.584Z"
   },
   {
    "duration": 24,
    "start_time": "2021-10-12T21:24:36.596Z"
   },
   {
    "duration": 20,
    "start_time": "2021-10-12T21:24:36.622Z"
   },
   {
    "duration": 45,
    "start_time": "2021-10-12T21:24:36.645Z"
   },
   {
    "duration": 18,
    "start_time": "2021-10-12T21:24:36.692Z"
   },
   {
    "duration": 36,
    "start_time": "2021-10-12T21:24:36.713Z"
   },
   {
    "duration": 30,
    "start_time": "2021-10-12T21:24:36.752Z"
   },
   {
    "duration": 7,
    "start_time": "2021-10-12T21:24:36.785Z"
   },
   {
    "duration": 56,
    "start_time": "2021-10-12T21:24:36.795Z"
   },
   {
    "duration": 25,
    "start_time": "2021-10-12T21:24:36.855Z"
   },
   {
    "duration": 19,
    "start_time": "2021-10-12T21:24:36.883Z"
   },
   {
    "duration": 16,
    "start_time": "2021-10-12T21:24:36.905Z"
   },
   {
    "duration": 1029,
    "start_time": "2021-10-12T21:24:36.923Z"
   },
   {
    "duration": 5,
    "start_time": "2021-10-12T21:24:37.955Z"
   },
   {
    "duration": 3609,
    "start_time": "2021-10-12T21:24:37.963Z"
   },
   {
    "duration": 5,
    "start_time": "2021-10-12T21:27:11.913Z"
   },
   {
    "duration": 3520,
    "start_time": "2021-10-12T21:27:13.001Z"
   },
   {
    "duration": 3633,
    "start_time": "2021-10-12T21:29:23.788Z"
   },
   {
    "duration": 81,
    "start_time": "2021-10-12T21:35:15.560Z"
   },
   {
    "duration": 43,
    "start_time": "2021-10-12T21:35:15.644Z"
   },
   {
    "duration": 12,
    "start_time": "2021-10-12T21:35:15.690Z"
   },
   {
    "duration": 20,
    "start_time": "2021-10-12T21:35:15.705Z"
   },
   {
    "duration": 12,
    "start_time": "2021-10-12T21:35:15.728Z"
   },
   {
    "duration": 51,
    "start_time": "2021-10-12T21:35:15.742Z"
   },
   {
    "duration": 6,
    "start_time": "2021-10-12T21:35:15.795Z"
   },
   {
    "duration": 19,
    "start_time": "2021-10-12T21:35:15.805Z"
   },
   {
    "duration": 9,
    "start_time": "2021-10-12T21:35:15.827Z"
   },
   {
    "duration": 47,
    "start_time": "2021-10-12T21:35:15.838Z"
   },
   {
    "duration": 15,
    "start_time": "2021-10-12T21:35:15.887Z"
   },
   {
    "duration": 14,
    "start_time": "2021-10-12T21:35:15.904Z"
   },
   {
    "duration": 19,
    "start_time": "2021-10-12T21:35:15.921Z"
   },
   {
    "duration": 47,
    "start_time": "2021-10-12T21:35:15.942Z"
   },
   {
    "duration": 15,
    "start_time": "2021-10-12T21:35:15.992Z"
   },
   {
    "duration": 19,
    "start_time": "2021-10-12T21:35:16.009Z"
   },
   {
    "duration": 20,
    "start_time": "2021-10-12T21:35:16.030Z"
   },
   {
    "duration": 13,
    "start_time": "2021-10-12T21:35:16.083Z"
   },
   {
    "duration": 27,
    "start_time": "2021-10-12T21:35:16.098Z"
   },
   {
    "duration": 10,
    "start_time": "2021-10-12T21:35:16.127Z"
   },
   {
    "duration": 43,
    "start_time": "2021-10-12T21:35:16.139Z"
   },
   {
    "duration": 16,
    "start_time": "2021-10-12T21:35:16.185Z"
   },
   {
    "duration": 7,
    "start_time": "2021-10-12T21:35:16.206Z"
   },
   {
    "duration": 10,
    "start_time": "2021-10-12T21:35:16.216Z"
   },
   {
    "duration": 7,
    "start_time": "2021-10-12T21:35:16.229Z"
   },
   {
    "duration": 960,
    "start_time": "2021-10-12T21:35:16.238Z"
   },
   {
    "duration": 6,
    "start_time": "2021-10-12T21:35:17.201Z"
   },
   {
    "duration": 3637,
    "start_time": "2021-10-12T21:35:17.209Z"
   },
   {
    "duration": 36,
    "start_time": "2021-10-12T21:35:20.849Z"
   },
   {
    "duration": 29,
    "start_time": "2021-10-12T21:35:20.888Z"
   },
   {
    "duration": 81,
    "start_time": "2021-10-12T22:01:06.150Z"
   },
   {
    "duration": 16,
    "start_time": "2021-10-12T22:01:06.233Z"
   },
   {
    "duration": 35,
    "start_time": "2021-10-12T22:01:06.252Z"
   },
   {
    "duration": 37,
    "start_time": "2021-10-12T22:01:06.290Z"
   },
   {
    "duration": 15,
    "start_time": "2021-10-12T22:01:06.330Z"
   },
   {
    "duration": 43,
    "start_time": "2021-10-12T22:01:06.348Z"
   },
   {
    "duration": 8,
    "start_time": "2021-10-12T22:01:06.394Z"
   },
   {
    "duration": 23,
    "start_time": "2021-10-12T22:01:06.408Z"
   },
   {
    "duration": 10,
    "start_time": "2021-10-12T22:01:06.435Z"
   },
   {
    "duration": 9,
    "start_time": "2021-10-12T22:01:06.484Z"
   },
   {
    "duration": 19,
    "start_time": "2021-10-12T22:01:06.496Z"
   },
   {
    "duration": 14,
    "start_time": "2021-10-12T22:01:06.517Z"
   },
   {
    "duration": 55,
    "start_time": "2021-10-12T22:01:06.533Z"
   },
   {
    "duration": 7,
    "start_time": "2021-10-12T22:01:06.591Z"
   },
   {
    "duration": 18,
    "start_time": "2021-10-12T22:01:06.601Z"
   },
   {
    "duration": 22,
    "start_time": "2021-10-12T22:01:06.621Z"
   },
   {
    "duration": 41,
    "start_time": "2021-10-12T22:01:06.645Z"
   },
   {
    "duration": 16,
    "start_time": "2021-10-12T22:01:06.689Z"
   },
   {
    "duration": 29,
    "start_time": "2021-10-12T22:01:06.708Z"
   },
   {
    "duration": 9,
    "start_time": "2021-10-12T22:01:06.739Z"
   },
   {
    "duration": 5,
    "start_time": "2021-10-12T22:01:06.782Z"
   },
   {
    "duration": 21,
    "start_time": "2021-10-12T22:01:06.789Z"
   },
   {
    "duration": 13,
    "start_time": "2021-10-12T22:01:06.814Z"
   },
   {
    "duration": 14,
    "start_time": "2021-10-12T22:01:06.829Z"
   },
   {
    "duration": 19,
    "start_time": "2021-10-12T22:01:06.846Z"
   },
   {
    "duration": 921,
    "start_time": "2021-10-12T22:01:06.867Z"
   },
   {
    "duration": 5,
    "start_time": "2021-10-12T22:01:07.791Z"
   },
   {
    "duration": 3489,
    "start_time": "2021-10-12T22:01:07.798Z"
   },
   {
    "duration": 19,
    "start_time": "2021-10-12T22:01:11.289Z"
   },
   {
    "duration": 39,
    "start_time": "2021-10-12T22:01:11.310Z"
   },
   {
    "duration": 26,
    "start_time": "2021-10-12T22:07:21.295Z"
   },
   {
    "duration": 17,
    "start_time": "2021-10-12T22:11:22.198Z"
   },
   {
    "duration": 622,
    "start_time": "2021-10-13T14:03:57.769Z"
   },
   {
    "duration": 10,
    "start_time": "2021-10-13T14:03:58.393Z"
   },
   {
    "duration": 9,
    "start_time": "2021-10-13T14:03:58.406Z"
   },
   {
    "duration": 29,
    "start_time": "2021-10-13T14:03:58.417Z"
   },
   {
    "duration": 9,
    "start_time": "2021-10-13T14:03:58.448Z"
   },
   {
    "duration": 10,
    "start_time": "2021-10-13T14:03:58.458Z"
   },
   {
    "duration": 5,
    "start_time": "2021-10-13T14:03:58.469Z"
   },
   {
    "duration": 14,
    "start_time": "2021-10-13T14:03:58.476Z"
   },
   {
    "duration": 6,
    "start_time": "2021-10-13T14:03:58.492Z"
   },
   {
    "duration": 8,
    "start_time": "2021-10-13T14:03:58.500Z"
   },
   {
    "duration": 10,
    "start_time": "2021-10-13T14:03:58.545Z"
   },
   {
    "duration": 9,
    "start_time": "2021-10-13T14:03:58.557Z"
   },
   {
    "duration": 15,
    "start_time": "2021-10-13T14:03:58.568Z"
   },
   {
    "duration": 5,
    "start_time": "2021-10-13T14:03:58.585Z"
   },
   {
    "duration": 9,
    "start_time": "2021-10-13T14:03:58.591Z"
   },
   {
    "duration": 48,
    "start_time": "2021-10-13T14:03:58.601Z"
   },
   {
    "duration": 13,
    "start_time": "2021-10-13T14:03:58.651Z"
   },
   {
    "duration": 9,
    "start_time": "2021-10-13T14:03:58.666Z"
   },
   {
    "duration": 21,
    "start_time": "2021-10-13T14:03:58.677Z"
   },
   {
    "duration": 6,
    "start_time": "2021-10-13T14:03:58.700Z"
   },
   {
    "duration": 6,
    "start_time": "2021-10-13T14:03:58.708Z"
   },
   {
    "duration": 31,
    "start_time": "2021-10-13T14:03:58.716Z"
   },
   {
    "duration": 5,
    "start_time": "2021-10-13T14:03:58.750Z"
   },
   {
    "duration": 10,
    "start_time": "2021-10-13T14:03:58.757Z"
   },
   {
    "duration": 12,
    "start_time": "2021-10-13T14:03:58.768Z"
   },
   {
    "duration": 742,
    "start_time": "2021-10-13T14:03:58.781Z"
   },
   {
    "duration": 3,
    "start_time": "2021-10-13T14:03:59.525Z"
   },
   {
    "duration": 2876,
    "start_time": "2021-10-13T14:03:59.530Z"
   },
   {
    "duration": 12,
    "start_time": "2021-10-13T14:04:02.408Z"
   },
   {
    "duration": 31,
    "start_time": "2021-10-13T14:04:02.422Z"
   },
   {
    "duration": 25,
    "start_time": "2021-10-13T14:04:02.454Z"
   },
   {
    "duration": 3,
    "start_time": "2021-10-13T14:04:02.481Z"
   },
   {
    "duration": 29,
    "start_time": "2021-10-13T14:04:02.486Z"
   },
   {
    "duration": 11,
    "start_time": "2021-10-13T14:04:02.516Z"
   },
   {
    "duration": 16,
    "start_time": "2021-10-13T14:04:02.529Z"
   },
   {
    "duration": 5,
    "start_time": "2021-10-13T14:04:02.547Z"
   },
   {
    "duration": 19,
    "start_time": "2021-10-13T14:04:02.553Z"
   },
   {
    "duration": 12,
    "start_time": "2021-10-13T14:04:02.574Z"
   },
   {
    "duration": 11,
    "start_time": "2021-10-13T14:04:02.588Z"
   },
   {
    "duration": 15,
    "start_time": "2021-10-13T14:04:02.601Z"
   },
   {
    "duration": 22,
    "start_time": "2021-10-13T14:04:02.617Z"
   },
   {
    "duration": 7,
    "start_time": "2021-10-13T14:04:02.640Z"
   },
   {
    "duration": 19,
    "start_time": "2021-10-13T14:04:02.649Z"
   },
   {
    "duration": 11,
    "start_time": "2021-10-13T14:04:02.670Z"
   },
   {
    "duration": 12,
    "start_time": "2021-10-13T14:04:02.682Z"
   },
   {
    "duration": 9,
    "start_time": "2021-10-13T14:04:10.849Z"
   },
   {
    "duration": 19,
    "start_time": "2021-10-13T14:04:12.036Z"
   },
   {
    "duration": 9,
    "start_time": "2021-10-13T14:04:13.171Z"
   },
   {
    "duration": 8,
    "start_time": "2021-10-13T14:07:36.502Z"
   },
   {
    "duration": 9,
    "start_time": "2021-10-13T14:07:39.499Z"
   },
   {
    "duration": 10,
    "start_time": "2021-10-13T14:08:00.836Z"
   },
   {
    "duration": 9,
    "start_time": "2021-10-13T14:08:01.860Z"
   },
   {
    "duration": 8,
    "start_time": "2021-10-13T14:08:20.388Z"
   },
   {
    "duration": 9,
    "start_time": "2021-10-13T14:09:03.125Z"
   },
   {
    "duration": 18,
    "start_time": "2021-10-13T14:09:27.340Z"
   },
   {
    "duration": 10,
    "start_time": "2021-10-13T14:09:28.640Z"
   },
   {
    "duration": 289,
    "start_time": "2021-10-13T14:10:40.842Z"
   },
   {
    "duration": 16,
    "start_time": "2021-10-13T14:10:45.644Z"
   },
   {
    "duration": 10,
    "start_time": "2021-10-13T14:10:47.255Z"
   },
   {
    "duration": 57,
    "start_time": "2021-10-13T14:12:43.313Z"
   },
   {
    "duration": 10,
    "start_time": "2021-10-13T14:12:43.372Z"
   },
   {
    "duration": 9,
    "start_time": "2021-10-13T14:12:43.384Z"
   },
   {
    "duration": 26,
    "start_time": "2021-10-13T14:12:43.394Z"
   },
   {
    "duration": 30,
    "start_time": "2021-10-13T14:12:43.422Z"
   },
   {
    "duration": 12,
    "start_time": "2021-10-13T14:12:43.453Z"
   },
   {
    "duration": 7,
    "start_time": "2021-10-13T14:12:43.467Z"
   },
   {
    "duration": 19,
    "start_time": "2021-10-13T14:12:43.476Z"
   },
   {
    "duration": 6,
    "start_time": "2021-10-13T14:12:43.497Z"
   },
   {
    "duration": 9,
    "start_time": "2021-10-13T14:12:43.505Z"
   },
   {
    "duration": 46,
    "start_time": "2021-10-13T14:12:43.515Z"
   },
   {
    "duration": 9,
    "start_time": "2021-10-13T14:12:43.563Z"
   },
   {
    "duration": 14,
    "start_time": "2021-10-13T14:12:43.574Z"
   },
   {
    "duration": 4,
    "start_time": "2021-10-13T14:12:43.590Z"
   },
   {
    "duration": 15,
    "start_time": "2021-10-13T14:12:43.596Z"
   },
   {
    "duration": 21,
    "start_time": "2021-10-13T14:12:43.612Z"
   },
   {
    "duration": 27,
    "start_time": "2021-10-13T14:12:43.635Z"
   },
   {
    "duration": 13,
    "start_time": "2021-10-13T14:12:43.663Z"
   },
   {
    "duration": 26,
    "start_time": "2021-10-13T14:12:43.678Z"
   },
   {
    "duration": 6,
    "start_time": "2021-10-13T14:12:43.706Z"
   },
   {
    "duration": 12,
    "start_time": "2021-10-13T14:12:43.714Z"
   },
   {
    "duration": 13,
    "start_time": "2021-10-13T14:12:43.727Z"
   },
   {
    "duration": 9,
    "start_time": "2021-10-13T14:12:43.745Z"
   },
   {
    "duration": 20,
    "start_time": "2021-10-13T14:12:43.755Z"
   },
   {
    "duration": 11,
    "start_time": "2021-10-13T14:12:43.777Z"
   },
   {
    "duration": 654,
    "start_time": "2021-10-13T14:12:43.790Z"
   },
   {
    "duration": 7,
    "start_time": "2021-10-13T14:12:44.446Z"
   },
   {
    "duration": 2929,
    "start_time": "2021-10-13T14:12:44.456Z"
   },
   {
    "duration": 13,
    "start_time": "2021-10-13T14:12:47.387Z"
   },
   {
    "duration": 18,
    "start_time": "2021-10-13T14:12:47.402Z"
   },
   {
    "duration": 45,
    "start_time": "2021-10-13T14:12:47.422Z"
   },
   {
    "duration": 17,
    "start_time": "2021-10-13T14:12:49.445Z"
   },
   {
    "duration": 10,
    "start_time": "2021-10-13T14:12:50.400Z"
   },
   {
    "duration": 62,
    "start_time": "2021-10-13T16:14:14.385Z"
   },
   {
    "duration": 13,
    "start_time": "2021-10-13T16:14:14.449Z"
   },
   {
    "duration": 11,
    "start_time": "2021-10-13T16:14:14.464Z"
   },
   {
    "duration": 15,
    "start_time": "2021-10-13T16:14:14.477Z"
   },
   {
    "duration": 26,
    "start_time": "2021-10-13T16:14:14.493Z"
   },
   {
    "duration": 10,
    "start_time": "2021-10-13T16:14:14.545Z"
   },
   {
    "duration": 28,
    "start_time": "2021-10-13T16:14:14.557Z"
   },
   {
    "duration": 20,
    "start_time": "2021-10-13T16:14:14.587Z"
   },
   {
    "duration": 12,
    "start_time": "2021-10-13T16:14:14.609Z"
   },
   {
    "duration": 13,
    "start_time": "2021-10-13T16:14:14.623Z"
   },
   {
    "duration": 13,
    "start_time": "2021-10-13T16:14:14.637Z"
   },
   {
    "duration": 16,
    "start_time": "2021-10-13T16:14:14.652Z"
   },
   {
    "duration": 30,
    "start_time": "2021-10-13T16:14:14.669Z"
   },
   {
    "duration": 13,
    "start_time": "2021-10-13T16:14:14.701Z"
   },
   {
    "duration": 8,
    "start_time": "2021-10-13T16:14:14.715Z"
   },
   {
    "duration": 16,
    "start_time": "2021-10-13T16:14:14.725Z"
   },
   {
    "duration": 15,
    "start_time": "2021-10-13T16:14:14.742Z"
   },
   {
    "duration": 18,
    "start_time": "2021-10-13T16:14:14.759Z"
   },
   {
    "duration": 47,
    "start_time": "2021-10-13T16:14:14.778Z"
   },
   {
    "duration": 7,
    "start_time": "2021-10-13T16:14:14.827Z"
   },
   {
    "duration": 4,
    "start_time": "2021-10-13T16:14:14.835Z"
   },
   {
    "duration": 8,
    "start_time": "2021-10-13T16:14:14.841Z"
   },
   {
    "duration": 5,
    "start_time": "2021-10-13T16:14:14.852Z"
   },
   {
    "duration": 7,
    "start_time": "2021-10-13T16:14:14.859Z"
   },
   {
    "duration": 10,
    "start_time": "2021-10-13T16:14:14.867Z"
   },
   {
    "duration": 661,
    "start_time": "2021-10-13T16:14:14.878Z"
   },
   {
    "duration": 4,
    "start_time": "2021-10-13T16:14:15.544Z"
   },
   {
    "duration": 2948,
    "start_time": "2021-10-13T16:14:15.549Z"
   },
   {
    "duration": 13,
    "start_time": "2021-10-13T16:14:18.499Z"
   },
   {
    "duration": 33,
    "start_time": "2021-10-13T16:14:18.514Z"
   },
   {
    "duration": 15,
    "start_time": "2021-10-13T16:14:18.575Z"
   },
   {
    "duration": 3,
    "start_time": "2021-10-13T16:14:18.592Z"
   },
   {
    "duration": 6377,
    "start_time": "2021-10-13T16:17:01.546Z"
   },
   {
    "duration": 25,
    "start_time": "2021-10-13T16:24:17.325Z"
   },
   {
    "duration": 80,
    "start_time": "2021-10-13T16:32:39.109Z"
   },
   {
    "duration": 79,
    "start_time": "2021-10-13T16:32:44.220Z"
   },
   {
    "duration": 219,
    "start_time": "2021-10-13T16:32:52.230Z"
   },
   {
    "duration": 8,
    "start_time": "2021-10-13T16:33:37.206Z"
   },
   {
    "duration": 7,
    "start_time": "2021-10-13T16:34:28.072Z"
   },
   {
    "duration": 7,
    "start_time": "2021-10-13T16:34:32.496Z"
   },
   {
    "duration": 8,
    "start_time": "2021-10-13T16:42:26.119Z"
   },
   {
    "duration": 7,
    "start_time": "2021-10-13T16:42:47.599Z"
   },
   {
    "duration": 8,
    "start_time": "2021-10-13T16:43:43.340Z"
   },
   {
    "duration": 17,
    "start_time": "2021-10-13T16:53:18.346Z"
   },
   {
    "duration": 7,
    "start_time": "2021-10-13T16:53:58.427Z"
   },
   {
    "duration": 15,
    "start_time": "2021-10-13T17:03:04.164Z"
   },
   {
    "duration": 22,
    "start_time": "2021-10-13T17:03:27.692Z"
   },
   {
    "duration": 22,
    "start_time": "2021-10-13T17:06:48.627Z"
   },
   {
    "duration": 4,
    "start_time": "2021-10-13T17:12:22.843Z"
   },
   {
    "duration": 4,
    "start_time": "2021-10-13T17:12:43.138Z"
   },
   {
    "duration": 417,
    "start_time": "2021-10-13T17:12:44.305Z"
   },
   {
    "duration": 434,
    "start_time": "2021-10-13T17:13:12.755Z"
   },
   {
    "duration": 3,
    "start_time": "2021-10-13T17:14:09.397Z"
   },
   {
    "duration": 4,
    "start_time": "2021-10-13T17:14:10.364Z"
   },
   {
    "duration": 4,
    "start_time": "2021-10-13T17:14:26.856Z"
   },
   {
    "duration": 9,
    "start_time": "2021-10-13T17:15:18.254Z"
   },
   {
    "duration": 3,
    "start_time": "2021-10-13T17:17:28.267Z"
   },
   {
    "duration": 9,
    "start_time": "2021-10-13T17:17:28.874Z"
   },
   {
    "duration": 3,
    "start_time": "2021-10-13T17:17:47.722Z"
   },
   {
    "duration": 9,
    "start_time": "2021-10-13T17:17:48.354Z"
   },
   {
    "duration": 9,
    "start_time": "2021-10-13T17:17:55.821Z"
   },
   {
    "duration": 8,
    "start_time": "2021-10-13T17:17:56.459Z"
   },
   {
    "duration": 76,
    "start_time": "2021-10-13T17:19:51.606Z"
   },
   {
    "duration": 3,
    "start_time": "2021-10-13T17:20:05.407Z"
   },
   {
    "duration": 9,
    "start_time": "2021-10-13T17:20:06.671Z"
   },
   {
    "duration": 78,
    "start_time": "2021-10-13T17:21:38.727Z"
   },
   {
    "duration": 79,
    "start_time": "2021-10-13T17:21:51.322Z"
   },
   {
    "duration": 3,
    "start_time": "2021-10-13T17:22:01.611Z"
   },
   {
    "duration": 9,
    "start_time": "2021-10-13T17:22:03.049Z"
   },
   {
    "duration": 9,
    "start_time": "2021-10-13T17:22:04.778Z"
   },
   {
    "duration": 7,
    "start_time": "2021-10-13T17:22:05.804Z"
   },
   {
    "duration": 5,
    "start_time": "2021-10-13T17:27:07.496Z"
   },
   {
    "duration": 10,
    "start_time": "2021-10-13T17:27:08.044Z"
   },
   {
    "duration": 8,
    "start_time": "2021-10-13T17:27:08.652Z"
   },
   {
    "duration": 7,
    "start_time": "2021-10-13T17:27:09.284Z"
   },
   {
    "duration": 19,
    "start_time": "2021-10-13T17:30:35.025Z"
   },
   {
    "duration": 2,
    "start_time": "2021-10-13T17:35:05.865Z"
   },
   {
    "duration": 18,
    "start_time": "2021-10-13T17:35:07.993Z"
   },
   {
    "duration": 61,
    "start_time": "2021-10-13T17:35:22.439Z"
   },
   {
    "duration": 11,
    "start_time": "2021-10-13T17:35:22.502Z"
   },
   {
    "duration": 34,
    "start_time": "2021-10-13T17:35:22.515Z"
   },
   {
    "duration": 17,
    "start_time": "2021-10-13T17:35:22.551Z"
   },
   {
    "duration": 9,
    "start_time": "2021-10-13T17:35:22.570Z"
   },
   {
    "duration": 10,
    "start_time": "2021-10-13T17:35:22.581Z"
   },
   {
    "duration": 52,
    "start_time": "2021-10-13T17:35:22.593Z"
   },
   {
    "duration": 16,
    "start_time": "2021-10-13T17:35:22.647Z"
   },
   {
    "duration": 7,
    "start_time": "2021-10-13T17:35:22.666Z"
   },
   {
    "duration": 10,
    "start_time": "2021-10-13T17:35:22.675Z"
   },
   {
    "duration": 13,
    "start_time": "2021-10-13T17:35:22.687Z"
   },
   {
    "duration": 44,
    "start_time": "2021-10-13T17:35:22.702Z"
   },
   {
    "duration": 15,
    "start_time": "2021-10-13T17:35:22.747Z"
   },
   {
    "duration": 9,
    "start_time": "2021-10-13T17:35:22.763Z"
   },
   {
    "duration": 9,
    "start_time": "2021-10-13T17:35:22.773Z"
   },
   {
    "duration": 12,
    "start_time": "2021-10-13T17:35:22.784Z"
   },
   {
    "duration": 16,
    "start_time": "2021-10-13T17:35:22.798Z"
   },
   {
    "duration": 35,
    "start_time": "2021-10-13T17:35:22.816Z"
   },
   {
    "duration": 20,
    "start_time": "2021-10-13T17:35:22.853Z"
   },
   {
    "duration": 7,
    "start_time": "2021-10-13T17:35:22.875Z"
   },
   {
    "duration": 14,
    "start_time": "2021-10-13T17:35:22.884Z"
   },
   {
    "duration": 24,
    "start_time": "2021-10-13T17:35:22.900Z"
   },
   {
    "duration": 19,
    "start_time": "2021-10-13T17:35:22.926Z"
   },
   {
    "duration": 7,
    "start_time": "2021-10-13T17:35:22.947Z"
   },
   {
    "duration": 10,
    "start_time": "2021-10-13T17:35:22.956Z"
   },
   {
    "duration": 690,
    "start_time": "2021-10-13T17:35:22.968Z"
   },
   {
    "duration": 4,
    "start_time": "2021-10-13T17:35:23.661Z"
   },
   {
    "duration": 3168,
    "start_time": "2021-10-13T17:35:23.667Z"
   },
   {
    "duration": 15,
    "start_time": "2021-10-13T17:35:26.845Z"
   },
   {
    "duration": 41,
    "start_time": "2021-10-13T17:35:26.861Z"
   },
   {
    "duration": 48,
    "start_time": "2021-10-13T17:35:26.904Z"
   },
   {
    "duration": 16,
    "start_time": "2021-10-13T17:35:26.954Z"
   },
   {
    "duration": 12,
    "start_time": "2021-10-13T17:35:37.490Z"
   },
   {
    "duration": 72,
    "start_time": "2021-10-13T17:35:38.469Z"
   },
   {
    "duration": 6,
    "start_time": "2021-10-13T17:36:42.981Z"
   },
   {
    "duration": 4,
    "start_time": "2021-10-13T17:36:47.987Z"
   },
   {
    "duration": 2,
    "start_time": "2021-10-13T17:36:52.612Z"
   },
   {
    "duration": 2,
    "start_time": "2021-10-13T17:36:53.381Z"
   },
   {
    "duration": 3,
    "start_time": "2021-10-13T17:36:54.291Z"
   },
   {
    "duration": 20,
    "start_time": "2021-10-13T17:36:54.933Z"
   },
   {
    "duration": 18,
    "start_time": "2021-10-13T17:38:32.884Z"
   },
   {
    "duration": 20,
    "start_time": "2021-10-13T17:38:46.553Z"
   },
   {
    "duration": 58,
    "start_time": "2021-10-13T17:38:55.904Z"
   },
   {
    "duration": 12,
    "start_time": "2021-10-13T17:38:55.964Z"
   },
   {
    "duration": 10,
    "start_time": "2021-10-13T17:38:55.981Z"
   },
   {
    "duration": 14,
    "start_time": "2021-10-13T17:38:55.993Z"
   },
   {
    "duration": 37,
    "start_time": "2021-10-13T17:38:56.009Z"
   },
   {
    "duration": 13,
    "start_time": "2021-10-13T17:38:56.048Z"
   },
   {
    "duration": 5,
    "start_time": "2021-10-13T17:38:56.062Z"
   },
   {
    "duration": 24,
    "start_time": "2021-10-13T17:38:56.071Z"
   },
   {
    "duration": 6,
    "start_time": "2021-10-13T17:38:56.097Z"
   },
   {
    "duration": 41,
    "start_time": "2021-10-13T17:38:56.105Z"
   },
   {
    "duration": 13,
    "start_time": "2021-10-13T17:38:56.148Z"
   },
   {
    "duration": 13,
    "start_time": "2021-10-13T17:38:56.163Z"
   },
   {
    "duration": 17,
    "start_time": "2021-10-13T17:38:56.178Z"
   },
   {
    "duration": 6,
    "start_time": "2021-10-13T17:38:56.197Z"
   },
   {
    "duration": 7,
    "start_time": "2021-10-13T17:38:56.245Z"
   },
   {
    "duration": 13,
    "start_time": "2021-10-13T17:38:56.254Z"
   },
   {
    "duration": 15,
    "start_time": "2021-10-13T17:38:56.268Z"
   },
   {
    "duration": 10,
    "start_time": "2021-10-13T17:38:56.284Z"
   },
   {
    "duration": 58,
    "start_time": "2021-10-13T17:38:56.296Z"
   },
   {
    "duration": 7,
    "start_time": "2021-10-13T17:38:56.356Z"
   },
   {
    "duration": 7,
    "start_time": "2021-10-13T17:38:56.364Z"
   },
   {
    "duration": 12,
    "start_time": "2021-10-13T17:38:56.372Z"
   },
   {
    "duration": 9,
    "start_time": "2021-10-13T17:38:56.387Z"
   },
   {
    "duration": 10,
    "start_time": "2021-10-13T17:38:56.398Z"
   },
   {
    "duration": 37,
    "start_time": "2021-10-13T17:38:56.411Z"
   },
   {
    "duration": 668,
    "start_time": "2021-10-13T17:38:56.450Z"
   },
   {
    "duration": 4,
    "start_time": "2021-10-13T17:38:57.120Z"
   },
   {
    "duration": 2976,
    "start_time": "2021-10-13T17:38:57.126Z"
   },
   {
    "duration": 13,
    "start_time": "2021-10-13T17:39:00.104Z"
   },
   {
    "duration": 32,
    "start_time": "2021-10-13T17:39:00.118Z"
   },
   {
    "duration": 35,
    "start_time": "2021-10-13T17:39:00.152Z"
   },
   {
    "duration": 15,
    "start_time": "2021-10-13T17:39:00.189Z"
   },
   {
    "duration": 9,
    "start_time": "2021-10-13T17:39:00.206Z"
   },
   {
    "duration": 3,
    "start_time": "2021-10-13T17:39:06.528Z"
   },
   {
    "duration": 20,
    "start_time": "2021-10-13T17:39:07.226Z"
   },
   {
    "duration": 54,
    "start_time": "2021-10-13T17:55:58.860Z"
   },
   {
    "duration": 11,
    "start_time": "2021-10-13T17:55:58.916Z"
   },
   {
    "duration": 9,
    "start_time": "2021-10-13T17:55:58.928Z"
   },
   {
    "duration": 15,
    "start_time": "2021-10-13T17:55:58.939Z"
   },
   {
    "duration": 10,
    "start_time": "2021-10-13T17:55:58.955Z"
   },
   {
    "duration": 10,
    "start_time": "2021-10-13T17:55:58.967Z"
   },
   {
    "duration": 5,
    "start_time": "2021-10-13T17:55:58.979Z"
   },
   {
    "duration": 15,
    "start_time": "2021-10-13T17:55:58.988Z"
   },
   {
    "duration": 47,
    "start_time": "2021-10-13T17:55:59.004Z"
   },
   {
    "duration": 5,
    "start_time": "2021-10-13T17:55:59.053Z"
   },
   {
    "duration": 11,
    "start_time": "2021-10-13T17:55:59.060Z"
   },
   {
    "duration": 11,
    "start_time": "2021-10-13T17:55:59.073Z"
   },
   {
    "duration": 13,
    "start_time": "2021-10-13T17:55:59.086Z"
   },
   {
    "duration": 46,
    "start_time": "2021-10-13T17:55:59.101Z"
   },
   {
    "duration": 10,
    "start_time": "2021-10-13T17:55:59.149Z"
   },
   {
    "duration": 15,
    "start_time": "2021-10-13T17:55:59.161Z"
   },
   {
    "duration": 15,
    "start_time": "2021-10-13T17:55:59.178Z"
   },
   {
    "duration": 8,
    "start_time": "2021-10-13T17:55:59.195Z"
   },
   {
    "duration": 43,
    "start_time": "2021-10-13T17:55:59.204Z"
   },
   {
    "duration": 6,
    "start_time": "2021-10-13T17:55:59.249Z"
   },
   {
    "duration": 6,
    "start_time": "2021-10-13T17:55:59.257Z"
   },
   {
    "duration": 8,
    "start_time": "2021-10-13T17:55:59.264Z"
   },
   {
    "duration": 5,
    "start_time": "2021-10-13T17:55:59.275Z"
   },
   {
    "duration": 10,
    "start_time": "2021-10-13T17:55:59.282Z"
   },
   {
    "duration": 6,
    "start_time": "2021-10-13T17:55:59.294Z"
   },
   {
    "duration": 674,
    "start_time": "2021-10-13T17:55:59.301Z"
   },
   {
    "duration": 4,
    "start_time": "2021-10-13T17:55:59.977Z"
   },
   {
    "duration": 3128,
    "start_time": "2021-10-13T17:55:59.983Z"
   },
   {
    "duration": 19,
    "start_time": "2021-10-13T17:56:03.113Z"
   },
   {
    "duration": 19,
    "start_time": "2021-10-13T17:56:03.134Z"
   },
   {
    "duration": 5,
    "start_time": "2021-10-13T17:56:03.204Z"
   },
   {
    "duration": 24,
    "start_time": "2021-10-13T17:56:04.753Z"
   },
   {
    "duration": 214,
    "start_time": "2021-10-13T18:06:52.141Z"
   },
   {
    "duration": 55,
    "start_time": "2021-10-13T18:07:04.864Z"
   },
   {
    "duration": 10,
    "start_time": "2021-10-13T18:07:04.921Z"
   },
   {
    "duration": 22,
    "start_time": "2021-10-13T18:07:04.933Z"
   },
   {
    "duration": 36,
    "start_time": "2021-10-13T18:07:04.958Z"
   },
   {
    "duration": 35,
    "start_time": "2021-10-13T18:07:04.995Z"
   },
   {
    "duration": 19,
    "start_time": "2021-10-13T18:07:05.031Z"
   },
   {
    "duration": 20,
    "start_time": "2021-10-13T18:07:05.053Z"
   },
   {
    "duration": 15,
    "start_time": "2021-10-13T18:07:05.074Z"
   },
   {
    "duration": 23,
    "start_time": "2021-10-13T18:07:05.091Z"
   },
   {
    "duration": 17,
    "start_time": "2021-10-13T18:07:05.116Z"
   },
   {
    "duration": 44,
    "start_time": "2021-10-13T18:07:05.135Z"
   },
   {
    "duration": 20,
    "start_time": "2021-10-13T18:07:05.180Z"
   },
   {
    "duration": 35,
    "start_time": "2021-10-13T18:07:05.202Z"
   },
   {
    "duration": 20,
    "start_time": "2021-10-13T18:07:05.239Z"
   },
   {
    "duration": 23,
    "start_time": "2021-10-13T18:07:05.261Z"
   },
   {
    "duration": 22,
    "start_time": "2021-10-13T18:07:05.286Z"
   },
   {
    "duration": 28,
    "start_time": "2021-10-13T18:07:05.310Z"
   },
   {
    "duration": 28,
    "start_time": "2021-10-13T18:07:05.339Z"
   },
   {
    "duration": 40,
    "start_time": "2021-10-13T18:07:05.369Z"
   },
   {
    "duration": 15,
    "start_time": "2021-10-13T18:07:05.411Z"
   },
   {
    "duration": 31,
    "start_time": "2021-10-13T18:07:05.427Z"
   },
   {
    "duration": 45,
    "start_time": "2021-10-13T18:07:05.461Z"
   },
   {
    "duration": 44,
    "start_time": "2021-10-13T18:07:05.507Z"
   },
   {
    "duration": 48,
    "start_time": "2021-10-13T18:07:05.554Z"
   },
   {
    "duration": 49,
    "start_time": "2021-10-13T18:07:05.604Z"
   },
   {
    "duration": 682,
    "start_time": "2021-10-13T18:07:05.656Z"
   },
   {
    "duration": 8,
    "start_time": "2021-10-13T18:07:06.341Z"
   },
   {
    "duration": 2851,
    "start_time": "2021-10-13T18:07:06.352Z"
   },
   {
    "duration": 12,
    "start_time": "2021-10-13T18:07:09.205Z"
   },
   {
    "duration": 68,
    "start_time": "2021-10-13T18:07:09.218Z"
   },
   {
    "duration": 53,
    "start_time": "2021-10-13T18:07:09.287Z"
   },
   {
    "duration": 4,
    "start_time": "2021-10-13T18:07:23.899Z"
   },
   {
    "duration": 24,
    "start_time": "2021-10-13T18:07:24.558Z"
   },
   {
    "duration": 61,
    "start_time": "2021-10-13T18:49:39.692Z"
   },
   {
    "duration": 12,
    "start_time": "2021-10-13T18:49:39.755Z"
   },
   {
    "duration": 12,
    "start_time": "2021-10-13T18:49:39.769Z"
   },
   {
    "duration": 12,
    "start_time": "2021-10-13T18:49:39.782Z"
   },
   {
    "duration": 7,
    "start_time": "2021-10-13T18:49:39.796Z"
   },
   {
    "duration": 50,
    "start_time": "2021-10-13T18:49:39.804Z"
   },
   {
    "duration": 6,
    "start_time": "2021-10-13T18:49:39.857Z"
   },
   {
    "duration": 16,
    "start_time": "2021-10-13T18:49:39.865Z"
   },
   {
    "duration": 6,
    "start_time": "2021-10-13T18:49:39.883Z"
   },
   {
    "duration": 5,
    "start_time": "2021-10-13T18:49:39.891Z"
   },
   {
    "duration": 10,
    "start_time": "2021-10-13T18:49:39.898Z"
   },
   {
    "duration": 42,
    "start_time": "2021-10-13T18:49:39.909Z"
   },
   {
    "duration": 16,
    "start_time": "2021-10-13T18:49:39.953Z"
   },
   {
    "duration": 5,
    "start_time": "2021-10-13T18:49:39.970Z"
   },
   {
    "duration": 8,
    "start_time": "2021-10-13T18:49:39.977Z"
   },
   {
    "duration": 14,
    "start_time": "2021-10-13T18:49:39.986Z"
   },
   {
    "duration": 52,
    "start_time": "2021-10-13T18:49:40.001Z"
   },
   {
    "duration": 11,
    "start_time": "2021-10-13T18:49:40.055Z"
   },
   {
    "duration": 19,
    "start_time": "2021-10-13T18:49:40.067Z"
   },
   {
    "duration": 7,
    "start_time": "2021-10-13T18:49:40.087Z"
   },
   {
    "duration": 5,
    "start_time": "2021-10-13T18:49:40.095Z"
   },
   {
    "duration": 8,
    "start_time": "2021-10-13T18:49:40.102Z"
   },
   {
    "duration": 39,
    "start_time": "2021-10-13T18:49:40.111Z"
   },
   {
    "duration": 9,
    "start_time": "2021-10-13T18:49:40.153Z"
   },
   {
    "duration": 3,
    "start_time": "2021-10-13T18:49:40.164Z"
   },
   {
    "duration": 675,
    "start_time": "2021-10-13T18:49:40.169Z"
   },
   {
    "duration": 6,
    "start_time": "2021-10-13T18:49:40.849Z"
   },
   {
    "duration": 2905,
    "start_time": "2021-10-13T18:49:40.857Z"
   },
   {
    "duration": 12,
    "start_time": "2021-10-13T18:49:43.765Z"
   },
   {
    "duration": 13,
    "start_time": "2021-10-13T18:49:43.778Z"
   },
   {
    "duration": 3,
    "start_time": "2021-10-13T18:49:43.792Z"
   },
   {
    "duration": 28,
    "start_time": "2021-10-13T18:49:43.796Z"
   },
   {
    "duration": 7,
    "start_time": "2021-10-13T18:49:43.845Z"
   },
   {
    "duration": 4,
    "start_time": "2021-10-13T18:49:47.656Z"
   },
   {
    "duration": 9,
    "start_time": "2021-10-13T18:49:49.205Z"
   },
   {
    "duration": 12,
    "start_time": "2021-10-13T18:50:04.550Z"
   },
   {
    "duration": 10,
    "start_time": "2021-10-13T18:50:09.845Z"
   },
   {
    "duration": 7,
    "start_time": "2021-10-13T18:50:14.467Z"
   },
   {
    "duration": 8,
    "start_time": "2021-10-13T18:50:20.009Z"
   },
   {
    "duration": 282,
    "start_time": "2021-10-13T19:01:41.597Z"
   },
   {
    "duration": 60,
    "start_time": "2021-10-13T19:02:01.261Z"
   },
   {
    "duration": 11,
    "start_time": "2021-10-13T19:02:01.324Z"
   },
   {
    "duration": 21,
    "start_time": "2021-10-13T19:02:01.337Z"
   },
   {
    "duration": 25,
    "start_time": "2021-10-13T19:02:01.360Z"
   },
   {
    "duration": 25,
    "start_time": "2021-10-13T19:02:01.387Z"
   },
   {
    "duration": 21,
    "start_time": "2021-10-13T19:02:01.414Z"
   },
   {
    "duration": 20,
    "start_time": "2021-10-13T19:02:01.437Z"
   },
   {
    "duration": 29,
    "start_time": "2021-10-13T19:02:01.460Z"
   },
   {
    "duration": 22,
    "start_time": "2021-10-13T19:02:01.491Z"
   },
   {
    "duration": 8,
    "start_time": "2021-10-13T19:02:01.515Z"
   },
   {
    "duration": 24,
    "start_time": "2021-10-13T19:02:01.525Z"
   },
   {
    "duration": 14,
    "start_time": "2021-10-13T19:02:01.550Z"
   },
   {
    "duration": 19,
    "start_time": "2021-10-13T19:02:01.566Z"
   },
   {
    "duration": 22,
    "start_time": "2021-10-13T19:02:01.587Z"
   },
   {
    "duration": 9,
    "start_time": "2021-10-13T19:02:01.610Z"
   },
   {
    "duration": 14,
    "start_time": "2021-10-13T19:02:01.621Z"
   },
   {
    "duration": 23,
    "start_time": "2021-10-13T19:02:01.636Z"
   },
   {
    "duration": 27,
    "start_time": "2021-10-13T19:02:01.660Z"
   },
   {
    "duration": 28,
    "start_time": "2021-10-13T19:02:01.688Z"
   },
   {
    "duration": 7,
    "start_time": "2021-10-13T19:02:01.717Z"
   },
   {
    "duration": 7,
    "start_time": "2021-10-13T19:02:01.726Z"
   },
   {
    "duration": 28,
    "start_time": "2021-10-13T19:02:01.735Z"
   },
   {
    "duration": 11,
    "start_time": "2021-10-13T19:02:01.766Z"
   },
   {
    "duration": 10,
    "start_time": "2021-10-13T19:02:01.779Z"
   },
   {
    "duration": 15,
    "start_time": "2021-10-13T19:02:01.791Z"
   },
   {
    "duration": 712,
    "start_time": "2021-10-13T19:02:01.808Z"
   },
   {
    "duration": 4,
    "start_time": "2021-10-13T19:02:02.522Z"
   },
   {
    "duration": 2699,
    "start_time": "2021-10-13T19:02:02.528Z"
   },
   {
    "duration": 21,
    "start_time": "2021-10-13T19:02:05.229Z"
   },
   {
    "duration": 19,
    "start_time": "2021-10-13T19:02:05.252Z"
   },
   {
    "duration": 10,
    "start_time": "2021-10-13T19:02:05.273Z"
   },
   {
    "duration": 30,
    "start_time": "2021-10-13T19:02:05.284Z"
   },
   {
    "duration": 3,
    "start_time": "2021-10-13T19:02:05.315Z"
   },
   {
    "duration": 4,
    "start_time": "2021-10-13T19:02:09.057Z"
   },
   {
    "duration": 363,
    "start_time": "2021-10-13T19:02:10.043Z"
   },
   {
    "duration": 265,
    "start_time": "2021-10-13T19:03:54.015Z"
   },
   {
    "duration": 270,
    "start_time": "2021-10-13T19:05:00.120Z"
   },
   {
    "duration": 266,
    "start_time": "2021-10-13T19:08:03.085Z"
   },
   {
    "duration": 24,
    "start_time": "2021-10-13T19:08:29.240Z"
   },
   {
    "duration": 24,
    "start_time": "2021-10-13T19:10:16.676Z"
   },
   {
    "duration": 26,
    "start_time": "2021-10-13T19:14:15.474Z"
   },
   {
    "duration": 244,
    "start_time": "2021-10-13T19:14:34.426Z"
   },
   {
    "duration": 645,
    "start_time": "2021-10-13T19:14:53.121Z"
   },
   {
    "duration": 10,
    "start_time": "2021-10-13T19:14:53.768Z"
   },
   {
    "duration": 9,
    "start_time": "2021-10-13T19:14:53.780Z"
   },
   {
    "duration": 12,
    "start_time": "2021-10-13T19:14:53.791Z"
   },
   {
    "duration": 7,
    "start_time": "2021-10-13T19:14:53.805Z"
   },
   {
    "duration": 38,
    "start_time": "2021-10-13T19:14:53.813Z"
   },
   {
    "duration": 9,
    "start_time": "2021-10-13T19:14:53.853Z"
   },
   {
    "duration": 19,
    "start_time": "2021-10-13T19:14:53.865Z"
   },
   {
    "duration": 7,
    "start_time": "2021-10-13T19:14:53.885Z"
   },
   {
    "duration": 7,
    "start_time": "2021-10-13T19:14:53.894Z"
   },
   {
    "duration": 9,
    "start_time": "2021-10-13T19:14:53.903Z"
   },
   {
    "duration": 34,
    "start_time": "2021-10-13T19:14:53.914Z"
   },
   {
    "duration": 14,
    "start_time": "2021-10-13T19:14:53.950Z"
   },
   {
    "duration": 5,
    "start_time": "2021-10-13T19:14:53.966Z"
   },
   {
    "duration": 6,
    "start_time": "2021-10-13T19:14:53.973Z"
   },
   {
    "duration": 12,
    "start_time": "2021-10-13T19:14:53.980Z"
   },
   {
    "duration": 14,
    "start_time": "2021-10-13T19:14:53.993Z"
   },
   {
    "duration": 43,
    "start_time": "2021-10-13T19:14:54.009Z"
   },
   {
    "duration": 20,
    "start_time": "2021-10-13T19:14:54.054Z"
   },
   {
    "duration": 14,
    "start_time": "2021-10-13T19:14:54.075Z"
   },
   {
    "duration": 28,
    "start_time": "2021-10-13T19:14:54.090Z"
   },
   {
    "duration": 24,
    "start_time": "2021-10-13T19:14:54.119Z"
   },
   {
    "duration": 24,
    "start_time": "2021-10-13T19:14:54.146Z"
   },
   {
    "duration": 17,
    "start_time": "2021-10-13T19:14:54.172Z"
   },
   {
    "duration": 19,
    "start_time": "2021-10-13T19:14:54.190Z"
   },
   {
    "duration": 687,
    "start_time": "2021-10-13T19:14:54.211Z"
   },
   {
    "duration": 4,
    "start_time": "2021-10-13T19:14:54.900Z"
   },
   {
    "duration": 2741,
    "start_time": "2021-10-13T19:14:54.905Z"
   },
   {
    "duration": 12,
    "start_time": "2021-10-13T19:14:57.647Z"
   },
   {
    "duration": 18,
    "start_time": "2021-10-13T19:14:57.660Z"
   },
   {
    "duration": 3,
    "start_time": "2021-10-13T19:14:57.679Z"
   },
   {
    "duration": 27,
    "start_time": "2021-10-13T19:14:57.683Z"
   },
   {
    "duration": 3,
    "start_time": "2021-10-13T19:14:57.711Z"
   },
   {
    "duration": 49,
    "start_time": "2021-10-13T19:14:57.715Z"
   },
   {
    "duration": 288,
    "start_time": "2021-10-13T19:14:57.766Z"
   },
   {
    "duration": -105,
    "start_time": "2021-10-13T19:14:58.161Z"
   },
   {
    "duration": -109,
    "start_time": "2021-10-13T19:14:58.166Z"
   },
   {
    "duration": -126,
    "start_time": "2021-10-13T19:14:58.184Z"
   },
   {
    "duration": -135,
    "start_time": "2021-10-13T19:14:58.194Z"
   },
   {
    "duration": 35,
    "start_time": "2021-10-13T19:18:10.630Z"
   },
   {
    "duration": 23,
    "start_time": "2021-10-13T19:22:06.772Z"
   },
   {
    "duration": 8,
    "start_time": "2021-10-13T19:22:44.528Z"
   },
   {
    "duration": 8,
    "start_time": "2021-10-13T19:23:11.522Z"
   },
   {
    "duration": 17,
    "start_time": "2021-10-13T19:23:35.122Z"
   },
   {
    "duration": 14,
    "start_time": "2021-10-13T19:24:09.708Z"
   },
   {
    "duration": 14,
    "start_time": "2021-10-13T19:27:59.767Z"
   },
   {
    "duration": 12,
    "start_time": "2021-10-13T19:33:26.965Z"
   },
   {
    "duration": 57,
    "start_time": "2021-10-13T19:36:13.689Z"
   },
   {
    "duration": 11,
    "start_time": "2021-10-13T19:36:13.748Z"
   },
   {
    "duration": 20,
    "start_time": "2021-10-13T19:36:13.761Z"
   },
   {
    "duration": 23,
    "start_time": "2021-10-13T19:36:13.783Z"
   },
   {
    "duration": 10,
    "start_time": "2021-10-13T19:36:13.848Z"
   },
   {
    "duration": 17,
    "start_time": "2021-10-13T19:36:13.860Z"
   },
   {
    "duration": 15,
    "start_time": "2021-10-13T19:36:13.879Z"
   },
   {
    "duration": 23,
    "start_time": "2021-10-13T19:36:13.896Z"
   },
   {
    "duration": 13,
    "start_time": "2021-10-13T19:36:13.920Z"
   },
   {
    "duration": 13,
    "start_time": "2021-10-13T19:36:13.934Z"
   },
   {
    "duration": 36,
    "start_time": "2021-10-13T19:36:13.948Z"
   },
   {
    "duration": 24,
    "start_time": "2021-10-13T19:36:13.987Z"
   },
   {
    "duration": 27,
    "start_time": "2021-10-13T19:36:14.013Z"
   },
   {
    "duration": 10,
    "start_time": "2021-10-13T19:36:14.042Z"
   },
   {
    "duration": 19,
    "start_time": "2021-10-13T19:36:14.054Z"
   },
   {
    "duration": 32,
    "start_time": "2021-10-13T19:36:14.074Z"
   },
   {
    "duration": 17,
    "start_time": "2021-10-13T19:36:14.107Z"
   },
   {
    "duration": 28,
    "start_time": "2021-10-13T19:36:14.126Z"
   },
   {
    "duration": 30,
    "start_time": "2021-10-13T19:36:14.156Z"
   },
   {
    "duration": 11,
    "start_time": "2021-10-13T19:36:14.188Z"
   },
   {
    "duration": 18,
    "start_time": "2021-10-13T19:36:14.200Z"
   },
   {
    "duration": 15,
    "start_time": "2021-10-13T19:36:14.220Z"
   },
   {
    "duration": 28,
    "start_time": "2021-10-13T19:36:14.236Z"
   },
   {
    "duration": 23,
    "start_time": "2021-10-13T19:36:14.265Z"
   },
   {
    "duration": 18,
    "start_time": "2021-10-13T19:36:14.289Z"
   },
   {
    "duration": 648,
    "start_time": "2021-10-13T19:36:14.308Z"
   },
   {
    "duration": 4,
    "start_time": "2021-10-13T19:36:14.958Z"
   },
   {
    "duration": 3,
    "start_time": "2021-10-13T19:36:19.927Z"
   },
   {
    "duration": 2616,
    "start_time": "2021-10-13T19:36:21.144Z"
   },
   {
    "duration": 13,
    "start_time": "2021-10-13T19:36:35.227Z"
   },
   {
    "duration": 14,
    "start_time": "2021-10-13T19:36:38.774Z"
   },
   {
    "duration": 12,
    "start_time": "2021-10-13T19:36:44.303Z"
   },
   {
    "duration": 261,
    "start_time": "2021-10-13T19:37:18.340Z"
   },
   {
    "duration": 25,
    "start_time": "2021-10-13T19:37:47.265Z"
   },
   {
    "duration": 11,
    "start_time": "2021-10-13T19:48:27.640Z"
   },
   {
    "duration": 10,
    "start_time": "2021-10-13T19:49:00.049Z"
   },
   {
    "duration": 10,
    "start_time": "2021-10-13T19:49:30.676Z"
   },
   {
    "duration": 12,
    "start_time": "2021-10-13T19:49:53.575Z"
   },
   {
    "duration": 54,
    "start_time": "2021-10-13T20:01:41.550Z"
   },
   {
    "duration": 9,
    "start_time": "2021-10-13T20:01:41.605Z"
   },
   {
    "duration": 15,
    "start_time": "2021-10-13T20:01:41.616Z"
   },
   {
    "duration": 16,
    "start_time": "2021-10-13T20:01:41.633Z"
   },
   {
    "duration": 7,
    "start_time": "2021-10-13T20:01:41.651Z"
   },
   {
    "duration": 8,
    "start_time": "2021-10-13T20:01:41.660Z"
   },
   {
    "duration": 4,
    "start_time": "2021-10-13T20:01:41.670Z"
   },
   {
    "duration": 19,
    "start_time": "2021-10-13T20:01:41.676Z"
   },
   {
    "duration": 6,
    "start_time": "2021-10-13T20:01:41.697Z"
   },
   {
    "duration": 6,
    "start_time": "2021-10-13T20:01:47.478Z"
   },
   {
    "duration": 6,
    "start_time": "2021-10-13T20:01:48.282Z"
   },
   {
    "duration": 6,
    "start_time": "2021-10-13T20:02:18.482Z"
   },
   {
    "duration": 6,
    "start_time": "2021-10-13T20:02:50.344Z"
   },
   {
    "duration": 58,
    "start_time": "2021-10-13T20:12:29.883Z"
   },
   {
    "duration": 11,
    "start_time": "2021-10-13T20:12:29.943Z"
   },
   {
    "duration": 10,
    "start_time": "2021-10-13T20:12:29.956Z"
   },
   {
    "duration": 14,
    "start_time": "2021-10-13T20:12:29.967Z"
   },
   {
    "duration": 10,
    "start_time": "2021-10-13T20:12:29.983Z"
   },
   {
    "duration": 10,
    "start_time": "2021-10-13T20:12:29.994Z"
   },
   {
    "duration": 5,
    "start_time": "2021-10-13T20:12:30.045Z"
   },
   {
    "duration": 26,
    "start_time": "2021-10-13T20:12:30.052Z"
   },
   {
    "duration": 7,
    "start_time": "2021-10-13T20:12:30.081Z"
   },
   {
    "duration": 18,
    "start_time": "2021-10-13T20:12:30.090Z"
   },
   {
    "duration": 25,
    "start_time": "2021-10-13T20:12:30.110Z"
   },
   {
    "duration": 14,
    "start_time": "2021-10-13T20:12:30.137Z"
   },
   {
    "duration": 17,
    "start_time": "2021-10-13T20:12:30.153Z"
   },
   {
    "duration": 5,
    "start_time": "2021-10-13T20:12:30.172Z"
   },
   {
    "duration": 10,
    "start_time": "2021-10-13T20:12:30.179Z"
   },
   {
    "duration": 18,
    "start_time": "2021-10-13T20:12:30.190Z"
   },
   {
    "duration": 15,
    "start_time": "2021-10-13T20:12:30.209Z"
   },
   {
    "duration": 8,
    "start_time": "2021-10-13T20:12:30.245Z"
   },
   {
    "duration": 36,
    "start_time": "2021-10-13T20:12:30.255Z"
   },
   {
    "duration": 21,
    "start_time": "2021-10-13T20:12:30.293Z"
   },
   {
    "duration": 26,
    "start_time": "2021-10-13T20:12:30.316Z"
   },
   {
    "duration": 14,
    "start_time": "2021-10-13T20:12:30.344Z"
   },
   {
    "duration": 9,
    "start_time": "2021-10-13T20:12:30.360Z"
   },
   {
    "duration": 19,
    "start_time": "2021-10-13T20:12:30.371Z"
   },
   {
    "duration": 15,
    "start_time": "2021-10-13T20:12:30.392Z"
   },
   {
    "duration": 668,
    "start_time": "2021-10-13T20:12:30.408Z"
   },
   {
    "duration": 4,
    "start_time": "2021-10-13T20:12:31.079Z"
   },
   {
    "duration": 2823,
    "start_time": "2021-10-13T20:12:31.085Z"
   },
   {
    "duration": 12,
    "start_time": "2021-10-13T20:12:33.910Z"
   },
   {
    "duration": 30,
    "start_time": "2021-10-13T20:12:33.923Z"
   },
   {
    "duration": 14,
    "start_time": "2021-10-13T20:12:47.927Z"
   },
   {
    "duration": 14,
    "start_time": "2021-10-13T20:12:49.142Z"
   },
   {
    "duration": 13,
    "start_time": "2021-10-13T20:13:48.718Z"
   },
   {
    "duration": 13,
    "start_time": "2021-10-13T20:14:38.749Z"
   },
   {
    "duration": 20,
    "start_time": "2021-10-13T20:15:22.868Z"
   },
   {
    "duration": 10,
    "start_time": "2021-10-13T20:17:17.009Z"
   },
   {
    "duration": 12,
    "start_time": "2021-10-13T20:18:04.755Z"
   },
   {
    "duration": 10,
    "start_time": "2021-10-13T20:18:43.144Z"
   },
   {
    "duration": 274,
    "start_time": "2021-10-13T20:30:04.774Z"
   },
   {
    "duration": 263,
    "start_time": "2021-10-13T20:30:19.220Z"
   },
   {
    "duration": 57,
    "start_time": "2021-10-13T20:30:28.799Z"
   },
   {
    "duration": 9,
    "start_time": "2021-10-13T20:30:28.858Z"
   },
   {
    "duration": 9,
    "start_time": "2021-10-13T20:30:28.869Z"
   },
   {
    "duration": 13,
    "start_time": "2021-10-13T20:30:28.880Z"
   },
   {
    "duration": 11,
    "start_time": "2021-10-13T20:30:28.894Z"
   },
   {
    "duration": 39,
    "start_time": "2021-10-13T20:30:28.906Z"
   },
   {
    "duration": 4,
    "start_time": "2021-10-13T20:30:28.947Z"
   },
   {
    "duration": 16,
    "start_time": "2021-10-13T20:30:28.952Z"
   },
   {
    "duration": 6,
    "start_time": "2021-10-13T20:30:28.970Z"
   },
   {
    "duration": 5,
    "start_time": "2021-10-13T20:30:28.977Z"
   },
   {
    "duration": 10,
    "start_time": "2021-10-13T20:30:28.984Z"
   },
   {
    "duration": 9,
    "start_time": "2021-10-13T20:30:28.996Z"
   },
   {
    "duration": 47,
    "start_time": "2021-10-13T20:30:29.006Z"
   },
   {
    "duration": 7,
    "start_time": "2021-10-13T20:30:29.055Z"
   },
   {
    "duration": 9,
    "start_time": "2021-10-13T20:30:29.064Z"
   },
   {
    "duration": 12,
    "start_time": "2021-10-13T20:30:29.075Z"
   },
   {
    "duration": 13,
    "start_time": "2021-10-13T20:30:29.088Z"
   },
   {
    "duration": 9,
    "start_time": "2021-10-13T20:30:29.103Z"
   },
   {
    "duration": 44,
    "start_time": "2021-10-13T20:30:29.114Z"
   },
   {
    "duration": 6,
    "start_time": "2021-10-13T20:30:29.160Z"
   },
   {
    "duration": 5,
    "start_time": "2021-10-13T20:30:29.167Z"
   },
   {
    "duration": 9,
    "start_time": "2021-10-13T20:30:29.174Z"
   },
   {
    "duration": 10,
    "start_time": "2021-10-13T20:30:29.184Z"
   },
   {
    "duration": 8,
    "start_time": "2021-10-13T20:30:29.196Z"
   },
   {
    "duration": 10,
    "start_time": "2021-10-13T20:30:29.205Z"
   },
   {
    "duration": 667,
    "start_time": "2021-10-13T20:30:29.216Z"
   },
   {
    "duration": 4,
    "start_time": "2021-10-13T20:30:29.886Z"
   },
   {
    "duration": 2764,
    "start_time": "2021-10-13T20:30:29.891Z"
   },
   {
    "duration": 11,
    "start_time": "2021-10-13T20:30:32.656Z"
   },
   {
    "duration": 20,
    "start_time": "2021-10-13T20:30:32.669Z"
   },
   {
    "duration": 21,
    "start_time": "2021-10-13T20:30:32.690Z"
   },
   {
    "duration": 24,
    "start_time": "2021-10-13T20:30:32.713Z"
   },
   {
    "duration": 6,
    "start_time": "2021-10-13T20:30:32.739Z"
   },
   {
    "duration": 27,
    "start_time": "2021-10-13T20:30:32.746Z"
   },
   {
    "duration": 3,
    "start_time": "2021-10-13T20:30:32.774Z"
   },
   {
    "duration": 34,
    "start_time": "2021-10-13T20:30:32.779Z"
   },
   {
    "duration": 31,
    "start_time": "2021-10-13T20:30:32.815Z"
   },
   {
    "duration": 3,
    "start_time": "2021-10-13T20:30:43.260Z"
   },
   {
    "duration": 8,
    "start_time": "2021-10-13T20:30:43.805Z"
   },
   {
    "duration": 252,
    "start_time": "2021-10-13T20:30:50.022Z"
   },
   {
    "duration": 10,
    "start_time": "2021-10-13T20:30:59.081Z"
   },
   {
    "duration": 7,
    "start_time": "2021-10-13T20:31:12.352Z"
   },
   {
    "duration": 56,
    "start_time": "2021-10-13T20:37:03.258Z"
   },
   {
    "duration": 10,
    "start_time": "2021-10-13T20:37:03.316Z"
   },
   {
    "duration": 16,
    "start_time": "2021-10-13T20:37:03.328Z"
   },
   {
    "duration": 14,
    "start_time": "2021-10-13T20:37:03.346Z"
   },
   {
    "duration": 9,
    "start_time": "2021-10-13T20:37:03.361Z"
   },
   {
    "duration": 13,
    "start_time": "2021-10-13T20:37:03.372Z"
   },
   {
    "duration": 6,
    "start_time": "2021-10-13T20:37:03.387Z"
   },
   {
    "duration": 65,
    "start_time": "2021-10-13T20:37:03.395Z"
   },
   {
    "duration": 7,
    "start_time": "2021-10-13T20:37:03.463Z"
   },
   {
    "duration": 11,
    "start_time": "2021-10-13T20:37:03.472Z"
   },
   {
    "duration": 22,
    "start_time": "2021-10-13T20:37:03.484Z"
   },
   {
    "duration": 12,
    "start_time": "2021-10-13T20:37:03.507Z"
   },
   {
    "duration": 14,
    "start_time": "2021-10-13T20:37:03.544Z"
   },
   {
    "duration": 6,
    "start_time": "2021-10-13T20:37:03.560Z"
   },
   {
    "duration": 9,
    "start_time": "2021-10-13T20:37:03.567Z"
   },
   {
    "duration": 12,
    "start_time": "2021-10-13T20:37:03.578Z"
   },
   {
    "duration": 14,
    "start_time": "2021-10-13T20:37:03.592Z"
   },
   {
    "duration": 45,
    "start_time": "2021-10-13T20:37:03.607Z"
   },
   {
    "duration": 20,
    "start_time": "2021-10-13T20:37:03.653Z"
   },
   {
    "duration": 7,
    "start_time": "2021-10-13T20:37:03.675Z"
   },
   {
    "duration": 10,
    "start_time": "2021-10-13T20:37:03.683Z"
   },
   {
    "duration": 10,
    "start_time": "2021-10-13T20:37:03.695Z"
   },
   {
    "duration": 40,
    "start_time": "2021-10-13T20:37:03.706Z"
   },
   {
    "duration": 11,
    "start_time": "2021-10-13T20:37:03.747Z"
   },
   {
    "duration": 10,
    "start_time": "2021-10-13T20:37:03.760Z"
   },
   {
    "duration": 712,
    "start_time": "2021-10-13T20:37:03.772Z"
   },
   {
    "duration": 6,
    "start_time": "2021-10-13T20:37:04.490Z"
   },
   {
    "duration": 3374,
    "start_time": "2021-10-13T20:37:04.499Z"
   },
   {
    "duration": 19,
    "start_time": "2021-10-13T20:37:07.876Z"
   },
   {
    "duration": 14,
    "start_time": "2021-10-13T20:37:07.897Z"
   },
   {
    "duration": 37,
    "start_time": "2021-10-13T20:37:07.913Z"
   },
   {
    "duration": 22,
    "start_time": "2021-10-13T20:37:07.952Z"
   },
   {
    "duration": 3,
    "start_time": "2021-10-13T20:37:07.976Z"
   },
   {
    "duration": 25,
    "start_time": "2021-10-13T20:37:07.981Z"
   },
   {
    "duration": 3,
    "start_time": "2021-10-13T20:37:08.008Z"
   },
   {
    "duration": 57,
    "start_time": "2021-10-13T20:37:08.013Z"
   },
   {
    "duration": 35,
    "start_time": "2021-10-13T20:37:08.072Z"
   },
   {
    "duration": 5,
    "start_time": "2021-10-13T20:37:08.109Z"
   },
   {
    "duration": 36,
    "start_time": "2021-10-13T20:37:08.116Z"
   },
   {
    "duration": 10,
    "start_time": "2021-10-13T20:37:08.154Z"
   },
   {
    "duration": 16,
    "start_time": "2021-10-13T20:37:08.165Z"
   },
   {
    "duration": 9,
    "start_time": "2021-10-13T20:37:10.883Z"
   },
   {
    "duration": 19,
    "start_time": "2021-10-13T20:37:11.857Z"
   },
   {
    "duration": 425,
    "start_time": "2021-10-13T20:37:56.101Z"
   },
   {
    "duration": 247,
    "start_time": "2021-10-13T20:38:27.206Z"
   },
   {
    "duration": 58,
    "start_time": "2021-10-13T20:38:34.998Z"
   },
   {
    "duration": 10,
    "start_time": "2021-10-13T20:38:35.058Z"
   },
   {
    "duration": 24,
    "start_time": "2021-10-13T20:38:35.069Z"
   },
   {
    "duration": 17,
    "start_time": "2021-10-13T20:38:35.095Z"
   },
   {
    "duration": 9,
    "start_time": "2021-10-13T20:38:35.114Z"
   },
   {
    "duration": 15,
    "start_time": "2021-10-13T20:38:35.145Z"
   },
   {
    "duration": 11,
    "start_time": "2021-10-13T20:38:35.161Z"
   },
   {
    "duration": 43,
    "start_time": "2021-10-13T20:38:35.174Z"
   },
   {
    "duration": 14,
    "start_time": "2021-10-13T20:38:35.219Z"
   },
   {
    "duration": 23,
    "start_time": "2021-10-13T20:38:35.235Z"
   },
   {
    "duration": 15,
    "start_time": "2021-10-13T20:38:35.260Z"
   },
   {
    "duration": 22,
    "start_time": "2021-10-13T20:38:35.277Z"
   },
   {
    "duration": 24,
    "start_time": "2021-10-13T20:38:35.301Z"
   },
   {
    "duration": 5,
    "start_time": "2021-10-13T20:38:35.327Z"
   },
   {
    "duration": 11,
    "start_time": "2021-10-13T20:38:35.334Z"
   },
   {
    "duration": 12,
    "start_time": "2021-10-13T20:38:35.347Z"
   },
   {
    "duration": 22,
    "start_time": "2021-10-13T20:38:35.361Z"
   },
   {
    "duration": 13,
    "start_time": "2021-10-13T20:38:35.385Z"
   },
   {
    "duration": 50,
    "start_time": "2021-10-13T20:38:35.400Z"
   },
   {
    "duration": 9,
    "start_time": "2021-10-13T20:38:35.453Z"
   },
   {
    "duration": 7,
    "start_time": "2021-10-13T20:38:35.464Z"
   },
   {
    "duration": 15,
    "start_time": "2021-10-13T20:38:35.473Z"
   },
   {
    "duration": 12,
    "start_time": "2021-10-13T20:38:35.492Z"
   },
   {
    "duration": 14,
    "start_time": "2021-10-13T20:38:35.506Z"
   },
   {
    "duration": 26,
    "start_time": "2021-10-13T20:38:35.522Z"
   },
   {
    "duration": 678,
    "start_time": "2021-10-13T20:38:35.550Z"
   },
   {
    "duration": 5,
    "start_time": "2021-10-13T20:38:36.230Z"
   },
   {
    "duration": 3210,
    "start_time": "2021-10-13T20:38:36.245Z"
   },
   {
    "duration": 17,
    "start_time": "2021-10-13T20:38:39.457Z"
   },
   {
    "duration": 20,
    "start_time": "2021-10-13T20:38:39.476Z"
   },
   {
    "duration": 17,
    "start_time": "2021-10-13T20:38:39.498Z"
   },
   {
    "duration": 43,
    "start_time": "2021-10-13T20:38:39.517Z"
   },
   {
    "duration": 4,
    "start_time": "2021-10-13T20:38:39.561Z"
   },
   {
    "duration": 24,
    "start_time": "2021-10-13T20:38:39.567Z"
   },
   {
    "duration": 4,
    "start_time": "2021-10-13T20:38:39.593Z"
   },
   {
    "duration": 50,
    "start_time": "2021-10-13T20:38:39.599Z"
   },
   {
    "duration": 23,
    "start_time": "2021-10-13T20:38:39.651Z"
   },
   {
    "duration": 3,
    "start_time": "2021-10-13T20:38:39.676Z"
   },
   {
    "duration": 12,
    "start_time": "2021-10-13T20:38:39.680Z"
   },
   {
    "duration": 8,
    "start_time": "2021-10-13T20:38:39.694Z"
   },
   {
    "duration": 6,
    "start_time": "2021-10-13T20:38:39.704Z"
   },
   {
    "duration": 10,
    "start_time": "2021-10-13T20:39:20.688Z"
   },
   {
    "duration": 30,
    "start_time": "2021-10-13T20:39:21.492Z"
   },
   {
    "duration": 57,
    "start_time": "2021-10-13T20:52:20.563Z"
   },
   {
    "duration": 11,
    "start_time": "2021-10-13T20:52:20.622Z"
   },
   {
    "duration": 17,
    "start_time": "2021-10-13T20:52:20.636Z"
   },
   {
    "duration": 15,
    "start_time": "2021-10-13T20:52:20.656Z"
   },
   {
    "duration": 12,
    "start_time": "2021-10-13T20:52:20.674Z"
   },
   {
    "duration": 10,
    "start_time": "2021-10-13T20:52:20.689Z"
   },
   {
    "duration": 11,
    "start_time": "2021-10-13T20:52:20.701Z"
   },
   {
    "duration": 52,
    "start_time": "2021-10-13T20:52:20.713Z"
   },
   {
    "duration": 12,
    "start_time": "2021-10-13T20:52:20.768Z"
   },
   {
    "duration": 7,
    "start_time": "2021-10-13T20:52:20.783Z"
   },
   {
    "duration": 14,
    "start_time": "2021-10-13T20:52:20.792Z"
   },
   {
    "duration": 43,
    "start_time": "2021-10-13T20:52:20.808Z"
   },
   {
    "duration": 19,
    "start_time": "2021-10-13T20:52:20.853Z"
   },
   {
    "duration": 7,
    "start_time": "2021-10-13T20:52:20.875Z"
   },
   {
    "duration": 9,
    "start_time": "2021-10-13T20:52:20.885Z"
   },
   {
    "duration": 14,
    "start_time": "2021-10-13T20:52:20.895Z"
   },
   {
    "duration": 47,
    "start_time": "2021-10-13T20:52:20.911Z"
   },
   {
    "duration": 16,
    "start_time": "2021-10-13T20:52:20.961Z"
   },
   {
    "duration": 24,
    "start_time": "2021-10-13T20:52:20.979Z"
   },
   {
    "duration": 8,
    "start_time": "2021-10-13T20:52:21.005Z"
   },
   {
    "duration": 40,
    "start_time": "2021-10-13T20:52:21.014Z"
   },
   {
    "duration": 9,
    "start_time": "2021-10-13T20:52:21.057Z"
   },
   {
    "duration": 10,
    "start_time": "2021-10-13T20:52:21.068Z"
   },
   {
    "duration": 14,
    "start_time": "2021-10-13T20:52:21.080Z"
   },
   {
    "duration": 6,
    "start_time": "2021-10-13T20:52:21.097Z"
   },
   {
    "duration": 719,
    "start_time": "2021-10-13T20:52:21.105Z"
   },
   {
    "duration": 6,
    "start_time": "2021-10-13T20:52:21.830Z"
   },
   {
    "duration": 3418,
    "start_time": "2021-10-13T20:52:21.845Z"
   },
   {
    "duration": 13,
    "start_time": "2021-10-13T20:52:25.265Z"
   },
   {
    "duration": 23,
    "start_time": "2021-10-13T20:52:25.280Z"
   },
   {
    "duration": 47,
    "start_time": "2021-10-13T20:52:25.305Z"
   },
   {
    "duration": 26,
    "start_time": "2021-10-13T20:52:25.354Z"
   },
   {
    "duration": 3,
    "start_time": "2021-10-13T20:54:21.425Z"
   },
   {
    "duration": 6760,
    "start_time": "2021-10-13T20:57:10.794Z"
   },
   {
    "duration": 5,
    "start_time": "2021-10-13T20:58:09.291Z"
   },
   {
    "duration": 21,
    "start_time": "2021-10-13T20:58:12.506Z"
   },
   {
    "duration": 26,
    "start_time": "2021-10-13T21:01:04.522Z"
   },
   {
    "duration": 24,
    "start_time": "2021-10-13T21:11:56.597Z"
   },
   {
    "duration": 20,
    "start_time": "2021-10-13T21:14:23.799Z"
   },
   {
    "duration": 56,
    "start_time": "2021-10-13T21:14:37.148Z"
   },
   {
    "duration": 10,
    "start_time": "2021-10-13T21:14:37.205Z"
   },
   {
    "duration": 8,
    "start_time": "2021-10-13T21:14:37.217Z"
   },
   {
    "duration": 26,
    "start_time": "2021-10-13T21:14:37.227Z"
   },
   {
    "duration": 8,
    "start_time": "2021-10-13T21:14:37.255Z"
   },
   {
    "duration": 9,
    "start_time": "2021-10-13T21:14:37.264Z"
   },
   {
    "duration": 4,
    "start_time": "2021-10-13T21:14:37.275Z"
   },
   {
    "duration": 17,
    "start_time": "2021-10-13T21:14:37.280Z"
   },
   {
    "duration": 6,
    "start_time": "2021-10-13T21:14:37.299Z"
   },
   {
    "duration": 5,
    "start_time": "2021-10-13T21:14:37.344Z"
   },
   {
    "duration": 11,
    "start_time": "2021-10-13T21:14:37.351Z"
   },
   {
    "duration": 11,
    "start_time": "2021-10-13T21:14:37.364Z"
   },
   {
    "duration": 13,
    "start_time": "2021-10-13T21:14:37.377Z"
   },
   {
    "duration": 5,
    "start_time": "2021-10-13T21:14:37.392Z"
   },
   {
    "duration": 8,
    "start_time": "2021-10-13T21:14:37.398Z"
   },
   {
    "duration": 13,
    "start_time": "2021-10-13T21:14:37.444Z"
   },
   {
    "duration": 15,
    "start_time": "2021-10-13T21:14:37.458Z"
   },
   {
    "duration": 9,
    "start_time": "2021-10-13T21:14:37.474Z"
   },
   {
    "duration": 20,
    "start_time": "2021-10-13T21:14:37.485Z"
   },
   {
    "duration": 6,
    "start_time": "2021-10-13T21:14:37.507Z"
   },
   {
    "duration": 33,
    "start_time": "2021-10-13T21:14:37.514Z"
   },
   {
    "duration": 9,
    "start_time": "2021-10-13T21:14:37.549Z"
   },
   {
    "duration": 8,
    "start_time": "2021-10-13T21:14:37.559Z"
   },
   {
    "duration": 8,
    "start_time": "2021-10-13T21:14:37.568Z"
   },
   {
    "duration": 5,
    "start_time": "2021-10-13T21:14:37.577Z"
   },
   {
    "duration": 686,
    "start_time": "2021-10-13T21:14:37.584Z"
   },
   {
    "duration": 4,
    "start_time": "2021-10-13T21:14:38.273Z"
   },
   {
    "duration": 2571,
    "start_time": "2021-10-13T21:14:38.279Z"
   },
   {
    "duration": 12,
    "start_time": "2021-10-13T21:14:40.851Z"
   },
   {
    "duration": 24,
    "start_time": "2021-10-13T21:14:40.865Z"
   },
   {
    "duration": 33,
    "start_time": "2021-10-13T21:14:40.890Z"
   },
   {
    "duration": 50,
    "start_time": "2021-10-13T21:14:40.925Z"
   },
   {
    "duration": 9,
    "start_time": "2021-10-13T21:14:40.976Z"
   },
   {
    "duration": 34,
    "start_time": "2021-10-13T21:14:40.987Z"
   },
   {
    "duration": 23,
    "start_time": "2021-10-13T21:14:41.022Z"
   },
   {
    "duration": 22,
    "start_time": "2021-10-13T21:14:41.047Z"
   },
   {
    "duration": 21,
    "start_time": "2021-10-13T21:14:46.592Z"
   },
   {
    "duration": 59,
    "start_time": "2021-10-13T21:27:53.892Z"
   },
   {
    "duration": 11,
    "start_time": "2021-10-13T21:27:53.954Z"
   },
   {
    "duration": 9,
    "start_time": "2021-10-13T21:27:53.968Z"
   },
   {
    "duration": 13,
    "start_time": "2021-10-13T21:27:53.979Z"
   },
   {
    "duration": 9,
    "start_time": "2021-10-13T21:27:53.995Z"
   },
   {
    "duration": 40,
    "start_time": "2021-10-13T21:27:54.006Z"
   },
   {
    "duration": 6,
    "start_time": "2021-10-13T21:27:54.047Z"
   },
   {
    "duration": 18,
    "start_time": "2021-10-13T21:27:54.055Z"
   },
   {
    "duration": 6,
    "start_time": "2021-10-13T21:27:54.076Z"
   },
   {
    "duration": 9,
    "start_time": "2021-10-13T21:27:54.084Z"
   },
   {
    "duration": 11,
    "start_time": "2021-10-13T21:27:54.095Z"
   },
   {
    "duration": 40,
    "start_time": "2021-10-13T21:27:54.108Z"
   },
   {
    "duration": 14,
    "start_time": "2021-10-13T21:27:54.150Z"
   },
   {
    "duration": 5,
    "start_time": "2021-10-13T21:27:54.165Z"
   },
   {
    "duration": 7,
    "start_time": "2021-10-13T21:27:54.172Z"
   },
   {
    "duration": 12,
    "start_time": "2021-10-13T21:27:54.181Z"
   },
   {
    "duration": 15,
    "start_time": "2021-10-13T21:27:54.194Z"
   },
   {
    "duration": 41,
    "start_time": "2021-10-13T21:27:54.211Z"
   },
   {
    "duration": 22,
    "start_time": "2021-10-13T21:27:54.253Z"
   },
   {
    "duration": 16,
    "start_time": "2021-10-13T21:27:54.277Z"
   },
   {
    "duration": 17,
    "start_time": "2021-10-13T21:27:54.295Z"
   },
   {
    "duration": 33,
    "start_time": "2021-10-13T21:27:54.314Z"
   },
   {
    "duration": 26,
    "start_time": "2021-10-13T21:27:54.349Z"
   },
   {
    "duration": 31,
    "start_time": "2021-10-13T21:27:54.377Z"
   },
   {
    "duration": 17,
    "start_time": "2021-10-13T21:27:54.410Z"
   },
   {
    "duration": 692,
    "start_time": "2021-10-13T21:27:54.430Z"
   },
   {
    "duration": 4,
    "start_time": "2021-10-13T21:27:55.126Z"
   },
   {
    "duration": 2956,
    "start_time": "2021-10-13T21:27:55.132Z"
   },
   {
    "duration": 13,
    "start_time": "2021-10-13T21:27:58.090Z"
   },
   {
    "duration": 22,
    "start_time": "2021-10-13T21:27:58.104Z"
   },
   {
    "duration": 27,
    "start_time": "2021-10-13T21:27:58.128Z"
   },
   {
    "duration": 29,
    "start_time": "2021-10-13T21:27:58.157Z"
   },
   {
    "duration": 3,
    "start_time": "2021-10-13T21:27:58.188Z"
   },
   {
    "duration": 30,
    "start_time": "2021-10-13T21:27:58.193Z"
   },
   {
    "duration": 38,
    "start_time": "2021-10-13T21:27:58.225Z"
   },
   {
    "duration": 24,
    "start_time": "2021-10-13T21:27:58.265Z"
   },
   {
    "duration": 89,
    "start_time": "2021-10-13T21:27:58.290Z"
   },
   {
    "duration": 56,
    "start_time": "2021-10-13T21:29:33.684Z"
   },
   {
    "duration": 19,
    "start_time": "2021-10-13T21:29:33.741Z"
   },
   {
    "duration": 11,
    "start_time": "2021-10-13T21:29:33.763Z"
   },
   {
    "duration": 16,
    "start_time": "2021-10-13T21:29:33.776Z"
   },
   {
    "duration": 8,
    "start_time": "2021-10-13T21:29:33.794Z"
   },
   {
    "duration": 54,
    "start_time": "2021-10-13T21:29:33.804Z"
   },
   {
    "duration": 6,
    "start_time": "2021-10-13T21:29:33.861Z"
   },
   {
    "duration": 24,
    "start_time": "2021-10-13T21:29:33.869Z"
   },
   {
    "duration": 8,
    "start_time": "2021-10-13T21:29:33.896Z"
   },
   {
    "duration": 28,
    "start_time": "2021-10-13T21:29:33.906Z"
   },
   {
    "duration": 26,
    "start_time": "2021-10-13T21:29:33.936Z"
   },
   {
    "duration": 15,
    "start_time": "2021-10-13T21:29:33.963Z"
   },
   {
    "duration": 19,
    "start_time": "2021-10-13T21:29:33.979Z"
   },
   {
    "duration": 9,
    "start_time": "2021-10-13T21:29:34.000Z"
   },
   {
    "duration": 30,
    "start_time": "2021-10-13T21:29:34.010Z"
   },
   {
    "duration": 25,
    "start_time": "2021-10-13T21:29:34.041Z"
   },
   {
    "duration": 14,
    "start_time": "2021-10-13T21:29:34.068Z"
   },
   {
    "duration": 22,
    "start_time": "2021-10-13T21:29:34.084Z"
   },
   {
    "duration": 29,
    "start_time": "2021-10-13T21:29:34.107Z"
   },
   {
    "duration": 22,
    "start_time": "2021-10-13T21:29:34.138Z"
   },
   {
    "duration": 16,
    "start_time": "2021-10-13T21:29:34.161Z"
   },
   {
    "duration": 24,
    "start_time": "2021-10-13T21:29:34.179Z"
   },
   {
    "duration": 14,
    "start_time": "2021-10-13T21:29:34.204Z"
   },
   {
    "duration": 41,
    "start_time": "2021-10-13T21:29:34.219Z"
   },
   {
    "duration": 8,
    "start_time": "2021-10-13T21:29:34.261Z"
   },
   {
    "duration": 733,
    "start_time": "2021-10-13T21:29:34.270Z"
   },
   {
    "duration": 4,
    "start_time": "2021-10-13T21:29:35.007Z"
   },
   {
    "duration": 2941,
    "start_time": "2021-10-13T21:29:35.013Z"
   },
   {
    "duration": 13,
    "start_time": "2021-10-13T21:29:37.958Z"
   },
   {
    "duration": 14,
    "start_time": "2021-10-13T21:29:43.836Z"
   },
   {
    "duration": 14,
    "start_time": "2021-10-13T21:30:09.414Z"
   },
   {
    "duration": 23,
    "start_time": "2021-10-13T21:31:59.113Z"
   },
   {
    "duration": 4,
    "start_time": "2021-10-13T21:32:28.430Z"
   },
   {
    "duration": 23,
    "start_time": "2021-10-13T21:32:29.442Z"
   },
   {
    "duration": 20,
    "start_time": "2021-10-13T21:33:39.582Z"
   },
   {
    "duration": 35,
    "start_time": "2021-10-13T21:33:42.759Z"
   },
   {
    "duration": 23,
    "start_time": "2021-10-13T21:33:55.108Z"
   },
   {
    "duration": 20,
    "start_time": "2021-10-13T21:34:30.183Z"
   },
   {
    "duration": 96,
    "start_time": "2021-10-13T21:36:10.673Z"
   },
   {
    "duration": 21,
    "start_time": "2021-10-13T21:36:26.794Z"
   },
   {
    "duration": 7,
    "start_time": "2021-10-13T21:41:19.314Z"
   },
   {
    "duration": 27,
    "start_time": "2021-10-13T21:42:05.612Z"
   },
   {
    "duration": 309,
    "start_time": "2021-10-13T21:52:07.753Z"
   },
   {
    "duration": 105,
    "start_time": "2021-10-13T21:52:15.954Z"
   },
   {
    "duration": 19,
    "start_time": "2021-10-13T21:52:16.062Z"
   },
   {
    "duration": 25,
    "start_time": "2021-10-13T21:52:16.085Z"
   },
   {
    "duration": 46,
    "start_time": "2021-10-13T21:52:16.114Z"
   },
   {
    "duration": 18,
    "start_time": "2021-10-13T21:52:16.163Z"
   },
   {
    "duration": 22,
    "start_time": "2021-10-13T21:52:16.184Z"
   },
   {
    "duration": 8,
    "start_time": "2021-10-13T21:52:16.209Z"
   },
   {
    "duration": 53,
    "start_time": "2021-10-13T21:52:16.222Z"
   },
   {
    "duration": 20,
    "start_time": "2021-10-13T21:52:16.279Z"
   },
   {
    "duration": 32,
    "start_time": "2021-10-13T21:52:16.301Z"
   },
   {
    "duration": 24,
    "start_time": "2021-10-13T21:52:16.335Z"
   },
   {
    "duration": 15,
    "start_time": "2021-10-13T21:52:16.361Z"
   },
   {
    "duration": 25,
    "start_time": "2021-10-13T21:52:16.378Z"
   },
   {
    "duration": 29,
    "start_time": "2021-10-13T21:52:16.406Z"
   },
   {
    "duration": 18,
    "start_time": "2021-10-13T21:52:16.437Z"
   },
   {
    "duration": 16,
    "start_time": "2021-10-13T21:52:16.457Z"
   },
   {
    "duration": 25,
    "start_time": "2021-10-13T21:52:16.475Z"
   },
   {
    "duration": 8,
    "start_time": "2021-10-13T21:52:16.502Z"
   },
   {
    "duration": 33,
    "start_time": "2021-10-13T21:52:16.512Z"
   },
   {
    "duration": 7,
    "start_time": "2021-10-13T21:52:16.546Z"
   },
   {
    "duration": 9,
    "start_time": "2021-10-13T21:52:16.554Z"
   },
   {
    "duration": 10,
    "start_time": "2021-10-13T21:52:16.564Z"
   },
   {
    "duration": 8,
    "start_time": "2021-10-13T21:52:16.577Z"
   },
   {
    "duration": 10,
    "start_time": "2021-10-13T21:52:16.586Z"
   },
   {
    "duration": 7,
    "start_time": "2021-10-13T21:52:16.598Z"
   },
   {
    "duration": 720,
    "start_time": "2021-10-13T21:52:16.606Z"
   },
   {
    "duration": 3,
    "start_time": "2021-10-13T21:52:17.328Z"
   },
   {
    "duration": 2833,
    "start_time": "2021-10-13T21:52:17.333Z"
   },
   {
    "duration": 12,
    "start_time": "2021-10-13T21:52:20.167Z"
   },
   {
    "duration": 18,
    "start_time": "2021-10-13T21:52:20.180Z"
   },
   {
    "duration": 11,
    "start_time": "2021-10-13T21:52:20.200Z"
   },
   {
    "duration": 38,
    "start_time": "2021-10-13T21:52:20.213Z"
   },
   {
    "duration": 4,
    "start_time": "2021-10-13T21:52:20.252Z"
   },
   {
    "duration": 38,
    "start_time": "2021-10-13T21:52:20.258Z"
   },
   {
    "duration": 24,
    "start_time": "2021-10-13T21:52:20.297Z"
   },
   {
    "duration": 482,
    "start_time": "2021-10-13T21:52:30.127Z"
   },
   {
    "duration": 23,
    "start_time": "2021-10-13T21:53:04.486Z"
   },
   {
    "duration": 22,
    "start_time": "2021-10-13T21:53:23.592Z"
   },
   {
    "duration": 682,
    "start_time": "2021-10-13T22:04:01.621Z"
   },
   {
    "duration": 12,
    "start_time": "2021-10-13T22:04:02.305Z"
   },
   {
    "duration": 33,
    "start_time": "2021-10-13T22:04:02.319Z"
   },
   {
    "duration": 16,
    "start_time": "2021-10-13T22:04:02.354Z"
   },
   {
    "duration": 14,
    "start_time": "2021-10-13T22:04:02.372Z"
   },
   {
    "duration": 13,
    "start_time": "2021-10-13T22:04:02.387Z"
   },
   {
    "duration": 6,
    "start_time": "2021-10-13T22:04:02.402Z"
   },
   {
    "duration": 15,
    "start_time": "2021-10-13T22:04:02.411Z"
   },
   {
    "duration": 8,
    "start_time": "2021-10-13T22:04:02.447Z"
   },
   {
    "duration": 9,
    "start_time": "2021-10-13T22:04:02.457Z"
   },
   {
    "duration": 11,
    "start_time": "2021-10-13T22:04:02.468Z"
   },
   {
    "duration": 14,
    "start_time": "2021-10-13T22:04:02.481Z"
   },
   {
    "duration": 14,
    "start_time": "2021-10-13T22:04:02.497Z"
   },
   {
    "duration": 40,
    "start_time": "2021-10-13T22:04:02.513Z"
   },
   {
    "duration": 8,
    "start_time": "2021-10-13T22:04:02.555Z"
   },
   {
    "duration": 13,
    "start_time": "2021-10-13T22:04:02.564Z"
   },
   {
    "duration": 16,
    "start_time": "2021-10-13T22:04:02.579Z"
   },
   {
    "duration": 13,
    "start_time": "2021-10-13T22:04:02.596Z"
   },
   {
    "duration": 45,
    "start_time": "2021-10-13T22:04:02.610Z"
   },
   {
    "duration": 8,
    "start_time": "2021-10-13T22:04:02.657Z"
   },
   {
    "duration": 6,
    "start_time": "2021-10-13T22:04:02.666Z"
   },
   {
    "duration": 14,
    "start_time": "2021-10-13T22:04:02.674Z"
   },
   {
    "duration": 8,
    "start_time": "2021-10-13T22:04:02.691Z"
   },
   {
    "duration": 9,
    "start_time": "2021-10-13T22:04:02.700Z"
   },
   {
    "duration": 9,
    "start_time": "2021-10-13T22:04:02.711Z"
   },
   {
    "duration": 753,
    "start_time": "2021-10-13T22:04:02.721Z"
   },
   {
    "duration": 6,
    "start_time": "2021-10-13T22:04:03.476Z"
   },
   {
    "duration": 2951,
    "start_time": "2021-10-13T22:04:03.484Z"
   },
   {
    "duration": 27,
    "start_time": "2021-10-13T22:04:06.437Z"
   },
   {
    "duration": 14,
    "start_time": "2021-10-13T22:04:06.466Z"
   },
   {
    "duration": 15,
    "start_time": "2021-10-13T22:04:06.482Z"
   },
   {
    "duration": 33,
    "start_time": "2021-10-13T22:04:06.499Z"
   },
   {
    "duration": 4,
    "start_time": "2021-10-13T22:04:06.533Z"
   },
   {
    "duration": 607,
    "start_time": "2021-10-13T22:04:06.538Z"
   },
   {
    "duration": 176,
    "start_time": "2021-10-13T22:04:06.971Z"
   },
   {
    "duration": 172,
    "start_time": "2021-10-13T22:04:06.976Z"
   },
   {
    "duration": 168,
    "start_time": "2021-10-13T22:04:06.981Z"
   },
   {
    "duration": 164,
    "start_time": "2021-10-13T22:04:06.986Z"
   },
   {
    "duration": 24,
    "start_time": "2021-10-13T22:04:39.152Z"
   },
   {
    "duration": 27,
    "start_time": "2021-10-13T22:06:28.451Z"
   },
   {
    "duration": 629,
    "start_time": "2021-10-13T22:09:49.346Z"
   },
   {
    "duration": 11,
    "start_time": "2021-10-13T22:09:49.977Z"
   },
   {
    "duration": 9,
    "start_time": "2021-10-13T22:09:49.990Z"
   },
   {
    "duration": 22,
    "start_time": "2021-10-13T22:09:50.001Z"
   },
   {
    "duration": 28,
    "start_time": "2021-10-13T22:09:50.024Z"
   },
   {
    "duration": 14,
    "start_time": "2021-10-13T22:09:50.053Z"
   },
   {
    "duration": 11,
    "start_time": "2021-10-13T22:09:50.069Z"
   },
   {
    "duration": 24,
    "start_time": "2021-10-13T22:09:50.081Z"
   },
   {
    "duration": 6,
    "start_time": "2021-10-13T22:09:50.108Z"
   },
   {
    "duration": 12,
    "start_time": "2021-10-13T22:09:50.116Z"
   },
   {
    "duration": 15,
    "start_time": "2021-10-13T22:09:50.130Z"
   },
   {
    "duration": 15,
    "start_time": "2021-10-13T22:09:50.147Z"
   },
   {
    "duration": 18,
    "start_time": "2021-10-13T22:09:50.164Z"
   },
   {
    "duration": 5,
    "start_time": "2021-10-13T22:09:50.184Z"
   },
   {
    "duration": 13,
    "start_time": "2021-10-13T22:09:50.190Z"
   },
   {
    "duration": 20,
    "start_time": "2021-10-13T22:09:50.204Z"
   },
   {
    "duration": 24,
    "start_time": "2021-10-13T22:09:50.226Z"
   },
   {
    "duration": 11,
    "start_time": "2021-10-13T22:09:50.252Z"
   },
   {
    "duration": 21,
    "start_time": "2021-10-13T22:09:50.264Z"
   },
   {
    "duration": 6,
    "start_time": "2021-10-13T22:09:50.287Z"
   },
   {
    "duration": 13,
    "start_time": "2021-10-13T22:09:50.295Z"
   },
   {
    "duration": 14,
    "start_time": "2021-10-13T22:09:50.309Z"
   },
   {
    "duration": 14,
    "start_time": "2021-10-13T22:09:50.325Z"
   },
   {
    "duration": 8,
    "start_time": "2021-10-13T22:09:50.344Z"
   },
   {
    "duration": 12,
    "start_time": "2021-10-13T22:09:50.353Z"
   },
   {
    "duration": 648,
    "start_time": "2021-10-13T22:09:50.366Z"
   },
   {
    "duration": 4,
    "start_time": "2021-10-13T22:09:51.017Z"
   },
   {
    "duration": 3048,
    "start_time": "2021-10-13T22:09:51.022Z"
   },
   {
    "duration": 12,
    "start_time": "2021-10-13T22:09:54.071Z"
   },
   {
    "duration": 24,
    "start_time": "2021-10-13T22:09:54.084Z"
   },
   {
    "duration": 23,
    "start_time": "2021-10-13T22:09:54.110Z"
   },
   {
    "duration": 29,
    "start_time": "2021-10-13T22:09:54.135Z"
   },
   {
    "duration": 3,
    "start_time": "2021-10-13T22:09:54.165Z"
   },
   {
    "duration": 25,
    "start_time": "2021-10-13T22:09:54.170Z"
   },
   {
    "duration": 23,
    "start_time": "2021-10-13T22:09:54.197Z"
   },
   {
    "duration": 42,
    "start_time": "2021-10-13T22:09:54.222Z"
   },
   {
    "duration": 18,
    "start_time": "2021-10-13T22:09:54.266Z"
   },
   {
    "duration": 23,
    "start_time": "2021-10-13T22:09:54.286Z"
   },
   {
    "duration": 392,
    "start_time": "2021-10-13T22:19:27.747Z"
   },
   {
    "duration": 299,
    "start_time": "2021-10-13T22:20:16.597Z"
   },
   {
    "duration": 16,
    "start_time": "2021-10-13T22:23:53.833Z"
   },
   {
    "duration": 72,
    "start_time": "2021-10-13T22:24:04.350Z"
   },
   {
    "duration": 25,
    "start_time": "2021-10-13T22:24:04.425Z"
   },
   {
    "duration": 11,
    "start_time": "2021-10-13T22:24:04.453Z"
   },
   {
    "duration": 14,
    "start_time": "2021-10-13T22:24:04.466Z"
   },
   {
    "duration": 9,
    "start_time": "2021-10-13T22:24:04.482Z"
   },
   {
    "duration": 9,
    "start_time": "2021-10-13T22:24:04.493Z"
   },
   {
    "duration": 54,
    "start_time": "2021-10-13T22:24:04.503Z"
   },
   {
    "duration": 17,
    "start_time": "2021-10-13T22:24:04.562Z"
   },
   {
    "duration": 6,
    "start_time": "2021-10-13T22:24:04.582Z"
   },
   {
    "duration": 7,
    "start_time": "2021-10-13T22:24:04.589Z"
   },
   {
    "duration": 10,
    "start_time": "2021-10-13T22:24:04.598Z"
   },
   {
    "duration": 43,
    "start_time": "2021-10-13T22:24:04.610Z"
   },
   {
    "duration": 16,
    "start_time": "2021-10-13T22:24:04.655Z"
   },
   {
    "duration": 5,
    "start_time": "2021-10-13T22:24:04.673Z"
   },
   {
    "duration": 7,
    "start_time": "2021-10-13T22:24:04.679Z"
   },
   {
    "duration": 12,
    "start_time": "2021-10-13T22:24:04.688Z"
   },
   {
    "duration": 46,
    "start_time": "2021-10-13T22:24:04.701Z"
   },
   {
    "duration": 10,
    "start_time": "2021-10-13T22:24:04.762Z"
   },
   {
    "duration": 20,
    "start_time": "2021-10-13T22:24:04.773Z"
   },
   {
    "duration": 6,
    "start_time": "2021-10-13T22:24:04.795Z"
   },
   {
    "duration": 6,
    "start_time": "2021-10-13T22:24:04.803Z"
   },
   {
    "duration": 11,
    "start_time": "2021-10-13T22:24:04.810Z"
   },
   {
    "duration": 12,
    "start_time": "2021-10-13T22:24:04.848Z"
   },
   {
    "duration": 7,
    "start_time": "2021-10-13T22:24:04.862Z"
   },
   {
    "duration": 9,
    "start_time": "2021-10-13T22:24:04.870Z"
   },
   {
    "duration": 724,
    "start_time": "2021-10-13T22:24:04.881Z"
   },
   {
    "duration": 3,
    "start_time": "2021-10-13T22:24:05.607Z"
   },
   {
    "duration": 2964,
    "start_time": "2021-10-13T22:24:05.612Z"
   },
   {
    "duration": 13,
    "start_time": "2021-10-13T22:24:08.578Z"
   },
   {
    "duration": 20,
    "start_time": "2021-10-13T22:24:08.592Z"
   },
   {
    "duration": 22,
    "start_time": "2021-10-13T22:24:08.614Z"
   },
   {
    "duration": 40,
    "start_time": "2021-10-13T22:24:08.638Z"
   },
   {
    "duration": 2,
    "start_time": "2021-10-13T22:24:08.680Z"
   },
   {
    "duration": 24,
    "start_time": "2021-10-13T22:24:08.684Z"
   },
   {
    "duration": 24,
    "start_time": "2021-10-13T22:24:08.709Z"
   },
   {
    "duration": 17,
    "start_time": "2021-10-13T22:24:12.165Z"
   },
   {
    "duration": 58,
    "start_time": "2021-10-13T22:25:12.957Z"
   },
   {
    "duration": 10,
    "start_time": "2021-10-13T22:25:13.017Z"
   },
   {
    "duration": 9,
    "start_time": "2021-10-13T22:25:13.029Z"
   },
   {
    "duration": 15,
    "start_time": "2021-10-13T22:25:13.040Z"
   },
   {
    "duration": 8,
    "start_time": "2021-10-13T22:25:13.057Z"
   },
   {
    "duration": 9,
    "start_time": "2021-10-13T22:25:13.067Z"
   },
   {
    "duration": 6,
    "start_time": "2021-10-13T22:25:13.078Z"
   },
   {
    "duration": 16,
    "start_time": "2021-10-13T22:25:13.085Z"
   },
   {
    "duration": 7,
    "start_time": "2021-10-13T22:25:13.144Z"
   },
   {
    "duration": 12,
    "start_time": "2021-10-13T22:25:13.154Z"
   },
   {
    "duration": 15,
    "start_time": "2021-10-13T22:25:13.168Z"
   },
   {
    "duration": 14,
    "start_time": "2021-10-13T22:25:13.185Z"
   },
   {
    "duration": 15,
    "start_time": "2021-10-13T22:25:13.200Z"
   },
   {
    "duration": 5,
    "start_time": "2021-10-13T22:25:13.245Z"
   },
   {
    "duration": 9,
    "start_time": "2021-10-13T22:25:13.252Z"
   },
   {
    "duration": 16,
    "start_time": "2021-10-13T22:25:13.262Z"
   },
   {
    "duration": 17,
    "start_time": "2021-10-13T22:25:13.280Z"
   },
   {
    "duration": 14,
    "start_time": "2021-10-13T22:25:13.299Z"
   },
   {
    "duration": 50,
    "start_time": "2021-10-13T22:25:13.315Z"
   },
   {
    "duration": 8,
    "start_time": "2021-10-13T22:25:13.367Z"
   },
   {
    "duration": 12,
    "start_time": "2021-10-13T22:25:13.377Z"
   },
   {
    "duration": 18,
    "start_time": "2021-10-13T22:25:13.391Z"
   },
   {
    "duration": 7,
    "start_time": "2021-10-13T22:25:13.411Z"
   },
   {
    "duration": 25,
    "start_time": "2021-10-13T22:25:13.420Z"
   },
   {
    "duration": 5,
    "start_time": "2021-10-13T22:25:13.447Z"
   },
   {
    "duration": 675,
    "start_time": "2021-10-13T22:25:13.454Z"
   },
   {
    "duration": 3,
    "start_time": "2021-10-13T22:25:14.133Z"
   },
   {
    "duration": 3053,
    "start_time": "2021-10-13T22:25:14.145Z"
   },
   {
    "duration": 14,
    "start_time": "2021-10-13T22:25:17.199Z"
   },
   {
    "duration": 37,
    "start_time": "2021-10-13T22:25:17.215Z"
   },
   {
    "duration": 13,
    "start_time": "2021-10-13T22:25:17.254Z"
   },
   {
    "duration": 61,
    "start_time": "2021-10-13T22:41:36.987Z"
   },
   {
    "duration": 11,
    "start_time": "2021-10-13T22:41:37.050Z"
   },
   {
    "duration": 9,
    "start_time": "2021-10-13T22:41:37.064Z"
   },
   {
    "duration": 13,
    "start_time": "2021-10-13T22:41:37.075Z"
   },
   {
    "duration": 10,
    "start_time": "2021-10-13T22:41:37.090Z"
   },
   {
    "duration": 43,
    "start_time": "2021-10-13T22:41:37.102Z"
   },
   {
    "duration": 6,
    "start_time": "2021-10-13T22:41:37.147Z"
   },
   {
    "duration": 19,
    "start_time": "2021-10-13T22:41:37.155Z"
   },
   {
    "duration": 6,
    "start_time": "2021-10-13T22:41:37.176Z"
   },
   {
    "duration": 10,
    "start_time": "2021-10-13T22:41:37.184Z"
   },
   {
    "duration": 10,
    "start_time": "2021-10-13T22:41:37.195Z"
   },
   {
    "duration": 9,
    "start_time": "2021-10-13T22:41:37.206Z"
   },
   {
    "duration": 12,
    "start_time": "2021-10-13T22:41:37.245Z"
   },
   {
    "duration": 265,
    "start_time": "2021-10-13T22:41:44.468Z"
   },
   {
    "duration": 22,
    "start_time": "2021-10-13T22:41:52.342Z"
   },
   {
    "duration": 27,
    "start_time": "2021-10-13T22:42:05.229Z"
   },
   {
    "duration": 30,
    "start_time": "2021-10-13T22:43:22.665Z"
   },
   {
    "duration": 891,
    "start_time": "2021-10-14T14:34:41.662Z"
   },
   {
    "duration": 16,
    "start_time": "2021-10-14T14:34:46.150Z"
   },
   {
    "duration": 12,
    "start_time": "2021-10-14T14:35:14.475Z"
   },
   {
    "duration": 22,
    "start_time": "2021-10-14T14:35:55.245Z"
   },
   {
    "duration": 13,
    "start_time": "2021-10-14T14:36:02.779Z"
   },
   {
    "duration": 16,
    "start_time": "2021-10-14T14:36:14.575Z"
   },
   {
    "duration": 17,
    "start_time": "2021-10-14T14:37:29.076Z"
   },
   {
    "duration": 8,
    "start_time": "2021-10-14T14:37:36.611Z"
   },
   {
    "duration": 20,
    "start_time": "2021-10-14T14:37:45.142Z"
   },
   {
    "duration": 11,
    "start_time": "2021-10-14T14:37:56.317Z"
   },
   {
    "duration": 8,
    "start_time": "2021-10-14T14:38:08.526Z"
   },
   {
    "duration": 16,
    "start_time": "2021-10-14T14:38:18.061Z"
   },
   {
    "duration": 17,
    "start_time": "2021-10-14T14:39:27.742Z"
   },
   {
    "duration": 15,
    "start_time": "2021-10-14T14:39:38.222Z"
   },
   {
    "duration": 19,
    "start_time": "2021-10-14T14:39:43.465Z"
   },
   {
    "duration": 57,
    "start_time": "2021-10-14T14:40:50.251Z"
   },
   {
    "duration": 43,
    "start_time": "2021-10-14T14:42:36.513Z"
   },
   {
    "duration": 35,
    "start_time": "2021-10-14T14:46:23.444Z"
   },
   {
    "duration": 74,
    "start_time": "2021-10-14T14:46:56.043Z"
   },
   {
    "duration": 15,
    "start_time": "2021-10-14T14:46:56.120Z"
   },
   {
    "duration": 14,
    "start_time": "2021-10-14T14:46:56.138Z"
   },
   {
    "duration": 22,
    "start_time": "2021-10-14T14:46:56.185Z"
   },
   {
    "duration": 17,
    "start_time": "2021-10-14T14:46:56.210Z"
   },
   {
    "duration": 54,
    "start_time": "2021-10-14T14:46:56.230Z"
   },
   {
    "duration": 9,
    "start_time": "2021-10-14T14:46:56.287Z"
   },
   {
    "duration": 20,
    "start_time": "2021-10-14T14:46:56.299Z"
   },
   {
    "duration": 9,
    "start_time": "2021-10-14T14:46:56.323Z"
   },
   {
    "duration": 49,
    "start_time": "2021-10-14T14:46:56.335Z"
   },
   {
    "duration": 17,
    "start_time": "2021-10-14T14:46:56.387Z"
   },
   {
    "duration": 19,
    "start_time": "2021-10-14T14:46:56.406Z"
   },
   {
    "duration": 19,
    "start_time": "2021-10-14T14:46:56.427Z"
   },
   {
    "duration": 72,
    "start_time": "2021-10-14T14:46:56.448Z"
   },
   {
    "duration": 44,
    "start_time": "2021-10-14T14:47:03.720Z"
   },
   {
    "duration": 65,
    "start_time": "2021-10-14T14:47:06.692Z"
   },
   {
    "duration": 91,
    "start_time": "2021-10-14T14:49:44.578Z"
   },
   {
    "duration": 20,
    "start_time": "2021-10-14T14:49:44.672Z"
   },
   {
    "duration": 19,
    "start_time": "2021-10-14T14:49:44.697Z"
   },
   {
    "duration": 21,
    "start_time": "2021-10-14T14:49:44.720Z"
   },
   {
    "duration": 51,
    "start_time": "2021-10-14T14:49:44.744Z"
   },
   {
    "duration": 14,
    "start_time": "2021-10-14T14:49:44.798Z"
   },
   {
    "duration": 7,
    "start_time": "2021-10-14T14:49:44.815Z"
   },
   {
    "duration": 70,
    "start_time": "2021-10-14T14:49:44.825Z"
   },
   {
    "duration": 11,
    "start_time": "2021-10-14T14:49:45.683Z"
   },
   {
    "duration": 7,
    "start_time": "2021-10-14T14:49:45.697Z"
   },
   {
    "duration": 15,
    "start_time": "2021-10-14T14:49:45.719Z"
   },
   {
    "duration": 15,
    "start_time": "2021-10-14T14:49:45.738Z"
   },
   {
    "duration": 21,
    "start_time": "2021-10-14T14:49:45.784Z"
   },
   {
    "duration": 44,
    "start_time": "2021-10-14T14:49:45.807Z"
   },
   {
    "duration": 43,
    "start_time": "2021-10-14T14:49:59.643Z"
   },
   {
    "duration": 48,
    "start_time": "2021-10-14T14:50:01.111Z"
   },
   {
    "duration": 35,
    "start_time": "2021-10-14T14:51:36.155Z"
   },
   {
    "duration": 46,
    "start_time": "2021-10-14T14:51:48.668Z"
   },
   {
    "duration": 46,
    "start_time": "2021-10-14T14:52:16.033Z"
   },
   {
    "duration": 944,
    "start_time": "2021-10-14T14:52:48.937Z"
   },
   {
    "duration": 15,
    "start_time": "2021-10-14T14:52:49.883Z"
   },
   {
    "duration": 15,
    "start_time": "2021-10-14T14:52:49.901Z"
   },
   {
    "duration": 24,
    "start_time": "2021-10-14T14:52:49.919Z"
   },
   {
    "duration": 43,
    "start_time": "2021-10-14T14:52:49.945Z"
   },
   {
    "duration": 14,
    "start_time": "2021-10-14T14:52:49.990Z"
   },
   {
    "duration": 8,
    "start_time": "2021-10-14T14:52:50.007Z"
   },
   {
    "duration": 67,
    "start_time": "2021-10-14T14:52:50.021Z"
   },
   {
    "duration": 10,
    "start_time": "2021-10-14T14:52:50.092Z"
   },
   {
    "duration": 13,
    "start_time": "2021-10-14T14:52:50.105Z"
   },
   {
    "duration": 16,
    "start_time": "2021-10-14T14:52:50.120Z"
   },
   {
    "duration": 47,
    "start_time": "2021-10-14T14:52:50.139Z"
   },
   {
    "duration": 21,
    "start_time": "2021-10-14T14:52:50.188Z"
   },
   {
    "duration": 45,
    "start_time": "2021-10-14T14:52:50.212Z"
   },
   {
    "duration": 48,
    "start_time": "2021-10-14T14:52:50.282Z"
   },
   {
    "duration": 8,
    "start_time": "2021-10-14T14:52:50.332Z"
   },
   {
    "duration": 10,
    "start_time": "2021-10-14T14:52:50.342Z"
   },
   {
    "duration": 21,
    "start_time": "2021-10-14T14:52:50.383Z"
   },
   {
    "duration": 22,
    "start_time": "2021-10-14T14:52:50.406Z"
   },
   {
    "duration": 17,
    "start_time": "2021-10-14T14:52:50.430Z"
   },
   {
    "duration": 61,
    "start_time": "2021-10-14T14:52:50.449Z"
   },
   {
    "duration": 9,
    "start_time": "2021-10-14T14:52:50.513Z"
   },
   {
    "duration": 5,
    "start_time": "2021-10-14T14:52:50.527Z"
   },
   {
    "duration": 12,
    "start_time": "2021-10-14T14:52:50.535Z"
   },
   {
    "duration": 40,
    "start_time": "2021-10-14T14:52:50.548Z"
   },
   {
    "duration": 11,
    "start_time": "2021-10-14T14:52:50.590Z"
   },
   {
    "duration": 7,
    "start_time": "2021-10-14T14:52:50.604Z"
   },
   {
    "duration": 895,
    "start_time": "2021-10-14T14:52:50.613Z"
   },
   {
    "duration": 5,
    "start_time": "2021-10-14T14:52:51.510Z"
   },
   {
    "duration": 3589,
    "start_time": "2021-10-14T14:52:51.518Z"
   },
   {
    "duration": 20,
    "start_time": "2021-10-14T14:52:55.109Z"
   },
   {
    "duration": 26,
    "start_time": "2021-10-14T14:52:55.132Z"
   },
   {
    "duration": 21,
    "start_time": "2021-10-14T14:52:55.183Z"
   },
   {
    "duration": 38,
    "start_time": "2021-10-14T14:52:55.206Z"
   },
   {
    "duration": 5,
    "start_time": "2021-10-14T14:52:55.247Z"
   },
   {
    "duration": 56,
    "start_time": "2021-10-14T14:52:55.255Z"
   },
   {
    "duration": 34,
    "start_time": "2021-10-14T14:52:55.314Z"
   },
   {
    "duration": 64,
    "start_time": "2021-10-14T14:52:55.350Z"
   },
   {
    "duration": 30,
    "start_time": "2021-10-14T14:52:55.417Z"
   },
   {
    "duration": 65,
    "start_time": "2021-10-14T14:52:55.450Z"
   },
   {
    "duration": 38,
    "start_time": "2021-10-14T15:01:34.875Z"
   },
   {
    "duration": 18,
    "start_time": "2021-10-14T15:01:53.396Z"
   },
   {
    "duration": 8,
    "start_time": "2021-10-14T15:02:05.245Z"
   },
   {
    "duration": 46,
    "start_time": "2021-10-14T15:03:04.987Z"
   },
   {
    "duration": 80,
    "start_time": "2021-10-14T15:03:11.804Z"
   },
   {
    "duration": 14,
    "start_time": "2021-10-14T15:03:11.886Z"
   },
   {
    "duration": 15,
    "start_time": "2021-10-14T15:03:11.905Z"
   },
   {
    "duration": 22,
    "start_time": "2021-10-14T15:03:11.923Z"
   },
   {
    "duration": 46,
    "start_time": "2021-10-14T15:03:11.947Z"
   },
   {
    "duration": 16,
    "start_time": "2021-10-14T15:03:11.996Z"
   },
   {
    "duration": 8,
    "start_time": "2021-10-14T15:03:12.014Z"
   },
   {
    "duration": 61,
    "start_time": "2021-10-14T15:03:12.025Z"
   },
   {
    "duration": 11,
    "start_time": "2021-10-14T15:03:12.091Z"
   },
   {
    "duration": 10,
    "start_time": "2021-10-14T15:03:12.105Z"
   },
   {
    "duration": 16,
    "start_time": "2021-10-14T15:03:12.118Z"
   },
   {
    "duration": 55,
    "start_time": "2021-10-14T15:03:12.137Z"
   },
   {
    "duration": 20,
    "start_time": "2021-10-14T15:03:12.195Z"
   },
   {
    "duration": 52,
    "start_time": "2021-10-14T15:03:16.774Z"
   },
   {
    "duration": 25,
    "start_time": "2021-10-14T15:03:53.594Z"
   },
   {
    "duration": 14,
    "start_time": "2021-10-14T15:03:55.385Z"
   },
   {
    "duration": 798,
    "start_time": "2021-10-14T15:08:00.928Z"
   },
   {
    "duration": 16,
    "start_time": "2021-10-14T15:08:01.729Z"
   },
   {
    "duration": 17,
    "start_time": "2021-10-14T15:08:01.748Z"
   },
   {
    "duration": 21,
    "start_time": "2021-10-14T15:08:01.784Z"
   },
   {
    "duration": 15,
    "start_time": "2021-10-14T15:08:01.808Z"
   },
   {
    "duration": 22,
    "start_time": "2021-10-14T15:08:01.825Z"
   },
   {
    "duration": 36,
    "start_time": "2021-10-14T15:08:01.850Z"
   },
   {
    "duration": 25,
    "start_time": "2021-10-14T15:08:01.888Z"
   },
   {
    "duration": 11,
    "start_time": "2021-10-14T15:08:01.918Z"
   },
   {
    "duration": 23,
    "start_time": "2021-10-14T15:08:01.933Z"
   },
   {
    "duration": 34,
    "start_time": "2021-10-14T15:08:01.958Z"
   },
   {
    "duration": 17,
    "start_time": "2021-10-14T15:08:01.995Z"
   },
   {
    "duration": 32,
    "start_time": "2021-10-14T15:08:02.015Z"
   },
   {
    "duration": 79,
    "start_time": "2021-10-14T15:08:02.049Z"
   },
   {
    "duration": 25,
    "start_time": "2021-10-14T15:08:02.130Z"
   },
   {
    "duration": 29,
    "start_time": "2021-10-14T15:08:02.157Z"
   },
   {
    "duration": 8,
    "start_time": "2021-10-14T15:08:02.188Z"
   },
   {
    "duration": 27,
    "start_time": "2021-10-14T15:08:02.198Z"
   },
   {
    "duration": 64,
    "start_time": "2021-10-14T15:08:02.228Z"
   },
   {
    "duration": 20,
    "start_time": "2021-10-14T15:08:02.294Z"
   },
   {
    "duration": 36,
    "start_time": "2021-10-14T15:08:02.316Z"
   },
   {
    "duration": 52,
    "start_time": "2021-10-14T15:08:02.354Z"
   },
   {
    "duration": 9,
    "start_time": "2021-10-14T15:08:02.409Z"
   },
   {
    "duration": 24,
    "start_time": "2021-10-14T15:08:02.421Z"
   },
   {
    "duration": 24,
    "start_time": "2021-10-14T15:08:02.447Z"
   },
   {
    "duration": 14,
    "start_time": "2021-10-14T15:08:02.473Z"
   },
   {
    "duration": 11,
    "start_time": "2021-10-14T15:08:02.493Z"
   },
   {
    "duration": 22,
    "start_time": "2021-10-14T15:08:02.507Z"
   },
   {
    "duration": 895,
    "start_time": "2021-10-14T15:08:02.531Z"
   },
   {
    "duration": 7,
    "start_time": "2021-10-14T15:08:03.430Z"
   },
   {
    "duration": 3915,
    "start_time": "2021-10-14T15:08:03.440Z"
   },
   {
    "duration": 30,
    "start_time": "2021-10-14T15:08:07.357Z"
   },
   {
    "duration": 58,
    "start_time": "2021-10-14T15:08:07.389Z"
   },
   {
    "duration": 23,
    "start_time": "2021-10-14T15:08:07.449Z"
   },
   {
    "duration": 38,
    "start_time": "2021-10-14T15:08:07.475Z"
   },
   {
    "duration": 4,
    "start_time": "2021-10-14T15:08:07.516Z"
   },
   {
    "duration": 50,
    "start_time": "2021-10-14T15:08:07.523Z"
   },
   {
    "duration": 38,
    "start_time": "2021-10-14T15:08:07.575Z"
   },
   {
    "duration": 65,
    "start_time": "2021-10-14T15:08:07.616Z"
   },
   {
    "duration": 39,
    "start_time": "2021-10-14T15:08:07.685Z"
   },
   {
    "duration": 61,
    "start_time": "2021-10-14T15:08:07.727Z"
   },
   {
    "duration": 8,
    "start_time": "2021-10-14T16:02:11.174Z"
   },
   {
    "duration": 37,
    "start_time": "2021-10-14T16:04:27.487Z"
   },
   {
    "duration": 35,
    "start_time": "2021-10-14T16:05:53.929Z"
   },
   {
    "duration": 63,
    "start_time": "2021-10-14T16:15:13.393Z"
   },
   {
    "duration": 49,
    "start_time": "2021-10-14T16:15:27.811Z"
   },
   {
    "duration": 54,
    "start_time": "2021-10-14T16:17:53.084Z"
   },
   {
    "duration": 46,
    "start_time": "2021-10-14T16:19:25.679Z"
   },
   {
    "duration": 132,
    "start_time": "2021-10-14T16:19:44.017Z"
   },
   {
    "duration": 37,
    "start_time": "2021-10-14T16:20:00.900Z"
   },
   {
    "duration": 37,
    "start_time": "2021-10-14T16:21:19.196Z"
   },
   {
    "duration": 15,
    "start_time": "2021-10-14T16:29:15.846Z"
   },
   {
    "duration": 80,
    "start_time": "2021-10-14T17:16:33.299Z"
   },
   {
    "duration": 15,
    "start_time": "2021-10-14T17:16:33.382Z"
   },
   {
    "duration": 13,
    "start_time": "2021-10-14T17:16:33.436Z"
   },
   {
    "duration": 25,
    "start_time": "2021-10-14T17:16:33.451Z"
   },
   {
    "duration": 15,
    "start_time": "2021-10-14T17:16:33.478Z"
   },
   {
    "duration": 15,
    "start_time": "2021-10-14T17:16:33.588Z"
   },
   {
    "duration": 15,
    "start_time": "2021-10-14T17:16:36.964Z"
   },
   {
    "duration": 104,
    "start_time": "2021-10-14T17:16:38.190Z"
   },
   {
    "duration": 96,
    "start_time": "2021-10-14T17:17:02.644Z"
   },
   {
    "duration": 393,
    "start_time": "2021-10-14T17:20:35.981Z"
   },
   {
    "duration": 97,
    "start_time": "2021-10-14T17:21:27.695Z"
   },
   {
    "duration": 9,
    "start_time": "2021-10-14T17:23:47.720Z"
   },
   {
    "duration": 8,
    "start_time": "2021-10-14T17:25:44.586Z"
   },
   {
    "duration": 10,
    "start_time": "2021-10-14T17:27:52.731Z"
   },
   {
    "duration": 45,
    "start_time": "2021-10-14T17:28:13.671Z"
   },
   {
    "duration": 20,
    "start_time": "2021-10-14T17:28:39.033Z"
   },
   {
    "duration": 18,
    "start_time": "2021-10-14T17:29:52.198Z"
   },
   {
    "duration": 8,
    "start_time": "2021-10-14T17:30:31.790Z"
   },
   {
    "duration": 20,
    "start_time": "2021-10-14T17:30:44.928Z"
   },
   {
    "duration": 8,
    "start_time": "2021-10-14T17:31:09.833Z"
   },
   {
    "duration": 17,
    "start_time": "2021-10-14T17:31:11.984Z"
   },
   {
    "duration": 79,
    "start_time": "2021-10-14T17:41:21.778Z"
   },
   {
    "duration": 27,
    "start_time": "2021-10-14T17:41:21.860Z"
   },
   {
    "duration": 12,
    "start_time": "2021-10-14T17:41:21.891Z"
   },
   {
    "duration": 27,
    "start_time": "2021-10-14T17:41:21.907Z"
   },
   {
    "duration": 50,
    "start_time": "2021-10-14T17:41:21.937Z"
   },
   {
    "duration": 15,
    "start_time": "2021-10-14T17:41:21.989Z"
   },
   {
    "duration": 9,
    "start_time": "2021-10-14T17:41:22.007Z"
   },
   {
    "duration": 17,
    "start_time": "2021-10-14T17:41:22.020Z"
   },
   {
    "duration": 34142,
    "start_time": "2021-10-14T17:55:27.036Z"
   },
   {
    "duration": 18,
    "start_time": "2021-10-14T17:56:21.151Z"
   },
   {
    "duration": 75,
    "start_time": "2021-10-14T18:13:29.860Z"
   },
   {
    "duration": 14,
    "start_time": "2021-10-14T18:13:29.938Z"
   },
   {
    "duration": 37,
    "start_time": "2021-10-14T18:13:29.955Z"
   },
   {
    "duration": 24,
    "start_time": "2021-10-14T18:13:29.995Z"
   },
   {
    "duration": 15,
    "start_time": "2021-10-14T18:13:30.021Z"
   },
   {
    "duration": 48,
    "start_time": "2021-10-14T18:13:30.039Z"
   },
   {
    "duration": 8,
    "start_time": "2021-10-14T18:13:30.089Z"
   },
   {
    "duration": 24,
    "start_time": "2021-10-14T18:13:30.100Z"
   },
   {
    "duration": 9882,
    "start_time": "2021-10-14T18:13:37.871Z"
   },
   {
    "duration": 16,
    "start_time": "2021-10-14T18:13:50.771Z"
   },
   {
    "duration": 74,
    "start_time": "2021-10-14T18:14:31.372Z"
   },
   {
    "duration": 34,
    "start_time": "2021-10-14T18:14:31.448Z"
   },
   {
    "duration": 11,
    "start_time": "2021-10-14T18:14:31.485Z"
   },
   {
    "duration": 28,
    "start_time": "2021-10-14T18:14:31.499Z"
   },
   {
    "duration": 16,
    "start_time": "2021-10-14T18:14:31.530Z"
   },
   {
    "duration": 34,
    "start_time": "2021-10-14T18:14:31.549Z"
   },
   {
    "duration": 7,
    "start_time": "2021-10-14T18:14:31.586Z"
   },
   {
    "duration": 24,
    "start_time": "2021-10-14T18:14:31.596Z"
   },
   {
    "duration": 9992,
    "start_time": "2021-10-14T18:14:31.623Z"
   },
   {
    "duration": 72,
    "start_time": "2021-10-14T18:16:42.865Z"
   },
   {
    "duration": 13,
    "start_time": "2021-10-14T18:16:42.940Z"
   },
   {
    "duration": 33,
    "start_time": "2021-10-14T18:16:42.956Z"
   },
   {
    "duration": 21,
    "start_time": "2021-10-14T18:16:42.992Z"
   },
   {
    "duration": 13,
    "start_time": "2021-10-14T18:16:43.015Z"
   },
   {
    "duration": 13,
    "start_time": "2021-10-14T18:16:43.031Z"
   },
   {
    "duration": 10,
    "start_time": "2021-10-14T18:16:43.083Z"
   },
   {
    "duration": 19,
    "start_time": "2021-10-14T18:16:43.097Z"
   },
   {
    "duration": 9825,
    "start_time": "2021-10-14T18:16:51.805Z"
   },
   {
    "duration": 98,
    "start_time": "2021-10-14T18:20:21.198Z"
   },
   {
    "duration": 73,
    "start_time": "2021-10-14T18:27:58.638Z"
   },
   {
    "duration": 13,
    "start_time": "2021-10-14T18:27:58.714Z"
   },
   {
    "duration": 11,
    "start_time": "2021-10-14T18:27:58.730Z"
   },
   {
    "duration": 49,
    "start_time": "2021-10-14T18:27:58.743Z"
   },
   {
    "duration": 16,
    "start_time": "2021-10-14T18:27:58.794Z"
   },
   {
    "duration": 14,
    "start_time": "2021-10-14T18:27:58.812Z"
   },
   {
    "duration": 8,
    "start_time": "2021-10-14T18:27:58.828Z"
   },
   {
    "duration": 60,
    "start_time": "2021-10-14T18:27:58.838Z"
   },
   {
    "duration": 9674,
    "start_time": "2021-10-14T18:28:09.222Z"
   },
   {
    "duration": 7,
    "start_time": "2021-10-14T18:28:18.898Z"
   },
   {
    "duration": 8,
    "start_time": "2021-10-14T18:28:34.836Z"
   },
   {
    "duration": 75,
    "start_time": "2021-10-14T18:29:04.389Z"
   },
   {
    "duration": 18,
    "start_time": "2021-10-14T18:29:04.467Z"
   },
   {
    "duration": 15,
    "start_time": "2021-10-14T18:29:04.489Z"
   },
   {
    "duration": 23,
    "start_time": "2021-10-14T18:29:04.507Z"
   },
   {
    "duration": 56,
    "start_time": "2021-10-14T18:29:04.533Z"
   },
   {
    "duration": 17,
    "start_time": "2021-10-14T18:29:04.592Z"
   },
   {
    "duration": 10,
    "start_time": "2021-10-14T18:29:04.612Z"
   },
   {
    "duration": 66,
    "start_time": "2021-10-14T18:29:04.626Z"
   },
   {
    "duration": 10018,
    "start_time": "2021-10-14T18:29:04.695Z"
   },
   {
    "duration": 7,
    "start_time": "2021-10-14T18:29:22.952Z"
   },
   {
    "duration": 299,
    "start_time": "2021-10-14T18:38:19.764Z"
   },
   {
    "duration": 298,
    "start_time": "2021-10-14T18:39:24.685Z"
   },
   {
    "duration": 28,
    "start_time": "2021-10-14T18:41:27.741Z"
   },
   {
    "duration": 81,
    "start_time": "2021-10-14T18:41:33.391Z"
   },
   {
    "duration": 15,
    "start_time": "2021-10-14T18:41:33.474Z"
   },
   {
    "duration": 14,
    "start_time": "2021-10-14T18:41:33.493Z"
   },
   {
    "duration": 23,
    "start_time": "2021-10-14T18:41:33.510Z"
   },
   {
    "duration": 55,
    "start_time": "2021-10-14T18:41:33.537Z"
   },
   {
    "duration": 16,
    "start_time": "2021-10-14T18:41:33.595Z"
   },
   {
    "duration": 7,
    "start_time": "2021-10-14T18:41:33.615Z"
   },
   {
    "duration": 16,
    "start_time": "2021-10-14T18:41:33.624Z"
   },
   {
    "duration": 10009,
    "start_time": "2021-10-14T18:41:33.643Z"
   },
   {
    "duration": 32,
    "start_time": "2021-10-14T18:41:43.655Z"
   },
   {
    "duration": 14,
    "start_time": "2021-10-14T18:49:59.875Z"
   },
   {
    "duration": 20,
    "start_time": "2021-10-14T18:50:28.791Z"
   },
   {
    "duration": 74,
    "start_time": "2021-10-14T18:51:00.877Z"
   },
   {
    "duration": 28,
    "start_time": "2021-10-14T18:51:00.954Z"
   },
   {
    "duration": 13,
    "start_time": "2021-10-14T18:51:00.986Z"
   },
   {
    "duration": 21,
    "start_time": "2021-10-14T18:51:01.002Z"
   },
   {
    "duration": 19,
    "start_time": "2021-10-14T18:51:01.026Z"
   },
   {
    "duration": 46,
    "start_time": "2021-10-14T18:51:01.048Z"
   },
   {
    "duration": 16,
    "start_time": "2021-10-14T18:51:01.097Z"
   },
   {
    "duration": 27,
    "start_time": "2021-10-14T18:51:01.115Z"
   },
   {
    "duration": 9717,
    "start_time": "2021-10-14T18:51:01.146Z"
   },
   {
    "duration": 27,
    "start_time": "2021-10-14T18:51:10.866Z"
   },
   {
    "duration": 10,
    "start_time": "2021-10-14T18:51:10.895Z"
   },
   {
    "duration": 10,
    "start_time": "2021-10-14T18:51:10.907Z"
   },
   {
    "duration": 15,
    "start_time": "2021-10-14T18:51:10.919Z"
   },
   {
    "duration": 55,
    "start_time": "2021-10-14T18:51:10.936Z"
   },
   {
    "duration": 22,
    "start_time": "2021-10-14T18:51:10.993Z"
   },
   {
    "duration": 18,
    "start_time": "2021-10-14T18:51:25.080Z"
   },
   {
    "duration": 12,
    "start_time": "2021-10-14T18:54:24.933Z"
   },
   {
    "duration": 7,
    "start_time": "2021-10-14T18:55:29.274Z"
   },
   {
    "duration": 282,
    "start_time": "2021-10-14T18:56:07.508Z"
   },
   {
    "duration": 78,
    "start_time": "2021-10-14T19:01:30.510Z"
   },
   {
    "duration": 16,
    "start_time": "2021-10-14T19:01:30.590Z"
   },
   {
    "duration": 37,
    "start_time": "2021-10-14T19:01:30.610Z"
   },
   {
    "duration": 33,
    "start_time": "2021-10-14T19:01:30.651Z"
   },
   {
    "duration": 13,
    "start_time": "2021-10-14T19:01:30.687Z"
   },
   {
    "duration": 16,
    "start_time": "2021-10-14T19:01:30.703Z"
   },
   {
    "duration": 25,
    "start_time": "2021-10-14T19:01:30.722Z"
   },
   {
    "duration": 38,
    "start_time": "2021-10-14T19:01:30.750Z"
   },
   {
    "duration": 21,
    "start_time": "2021-10-14T19:01:30.791Z"
   },
   {
    "duration": 19,
    "start_time": "2021-10-14T19:01:30.816Z"
   },
   {
    "duration": 24,
    "start_time": "2021-10-14T19:01:30.838Z"
   },
   {
    "duration": 9806,
    "start_time": "2021-10-14T19:01:30.864Z"
   },
   {
    "duration": 26,
    "start_time": "2021-10-14T19:01:40.672Z"
   },
   {
    "duration": 20,
    "start_time": "2021-10-14T19:01:52.052Z"
   },
   {
    "duration": 15,
    "start_time": "2021-10-14T19:01:57.346Z"
   },
   {
    "duration": 20,
    "start_time": "2021-10-14T19:02:23.393Z"
   },
   {
    "duration": 76,
    "start_time": "2021-10-14T19:03:17.005Z"
   },
   {
    "duration": 15,
    "start_time": "2021-10-14T19:03:17.084Z"
   },
   {
    "duration": 12,
    "start_time": "2021-10-14T19:03:17.102Z"
   },
   {
    "duration": 31,
    "start_time": "2021-10-14T19:03:17.117Z"
   },
   {
    "duration": 13,
    "start_time": "2021-10-14T19:03:17.184Z"
   },
   {
    "duration": 15,
    "start_time": "2021-10-14T19:03:17.200Z"
   },
   {
    "duration": 7,
    "start_time": "2021-10-14T19:03:17.218Z"
   },
   {
    "duration": 56,
    "start_time": "2021-10-14T19:03:17.228Z"
   },
   {
    "duration": 14,
    "start_time": "2021-10-14T19:03:17.287Z"
   },
   {
    "duration": 7,
    "start_time": "2021-10-14T19:03:17.304Z"
   },
   {
    "duration": 15,
    "start_time": "2021-10-14T19:03:17.313Z"
   },
   {
    "duration": 11233,
    "start_time": "2021-10-14T19:03:17.330Z"
   },
   {
    "duration": 32,
    "start_time": "2021-10-14T19:03:28.565Z"
   },
   {
    "duration": 14,
    "start_time": "2021-10-14T19:03:28.599Z"
   },
   {
    "duration": 20,
    "start_time": "2021-10-14T19:03:40.707Z"
   },
   {
    "duration": 443,
    "start_time": "2021-10-14T19:04:04.770Z"
   },
   {
    "duration": 6,
    "start_time": "2021-10-14T19:05:10.147Z"
   },
   {
    "duration": 7,
    "start_time": "2021-10-14T19:05:44.919Z"
   },
   {
    "duration": 74,
    "start_time": "2021-10-14T19:33:25.728Z"
   },
   {
    "duration": 14,
    "start_time": "2021-10-14T19:33:25.804Z"
   },
   {
    "duration": 13,
    "start_time": "2021-10-14T19:33:25.821Z"
   },
   {
    "duration": 54,
    "start_time": "2021-10-14T19:33:25.836Z"
   },
   {
    "duration": 14,
    "start_time": "2021-10-14T19:33:25.892Z"
   },
   {
    "duration": 13,
    "start_time": "2021-10-14T19:33:25.908Z"
   },
   {
    "duration": 7,
    "start_time": "2021-10-14T19:33:25.924Z"
   },
   {
    "duration": 58,
    "start_time": "2021-10-14T19:33:25.935Z"
   },
   {
    "duration": 10,
    "start_time": "2021-10-14T19:33:25.996Z"
   },
   {
    "duration": 13,
    "start_time": "2021-10-14T19:33:26.008Z"
   },
   {
    "duration": 19,
    "start_time": "2021-10-14T19:33:26.023Z"
   },
   {
    "duration": 60261,
    "start_time": "2021-10-14T19:33:26.044Z"
   },
   {
    "duration": 19,
    "start_time": "2021-10-14T19:34:26.307Z"
   },
   {
    "duration": 19,
    "start_time": "2021-10-14T19:34:26.328Z"
   },
   {
    "duration": 75,
    "start_time": "2021-10-14T19:35:43.094Z"
   },
   {
    "duration": 14,
    "start_time": "2021-10-14T19:35:43.172Z"
   },
   {
    "duration": 22,
    "start_time": "2021-10-14T19:35:43.190Z"
   },
   {
    "duration": 19,
    "start_time": "2021-10-14T19:35:43.215Z"
   },
   {
    "duration": 12,
    "start_time": "2021-10-14T19:35:43.237Z"
   },
   {
    "duration": 43,
    "start_time": "2021-10-14T19:35:43.252Z"
   },
   {
    "duration": 7,
    "start_time": "2021-10-14T19:35:43.298Z"
   },
   {
    "duration": 16,
    "start_time": "2021-10-14T19:35:43.308Z"
   },
   {
    "duration": 10,
    "start_time": "2021-10-14T19:35:43.327Z"
   },
   {
    "duration": 8,
    "start_time": "2021-10-14T19:35:43.382Z"
   },
   {
    "duration": 15,
    "start_time": "2021-10-14T19:35:43.393Z"
   },
   {
    "duration": 10206,
    "start_time": "2021-10-14T19:35:43.410Z"
   },
   {
    "duration": 21,
    "start_time": "2021-10-14T19:35:53.618Z"
   },
   {
    "duration": 41,
    "start_time": "2021-10-14T19:35:53.642Z"
   },
   {
    "duration": 21,
    "start_time": "2021-10-14T19:37:50.015Z"
   },
   {
    "duration": 78,
    "start_time": "2021-10-14T19:58:12.381Z"
   },
   {
    "duration": 23,
    "start_time": "2021-10-14T19:58:12.462Z"
   },
   {
    "duration": 13,
    "start_time": "2021-10-14T19:58:12.488Z"
   },
   {
    "duration": 21,
    "start_time": "2021-10-14T19:58:12.504Z"
   },
   {
    "duration": 14,
    "start_time": "2021-10-14T19:58:12.527Z"
   },
   {
    "duration": 50,
    "start_time": "2021-10-14T19:58:12.544Z"
   },
   {
    "duration": 6,
    "start_time": "2021-10-14T19:58:12.597Z"
   },
   {
    "duration": 18,
    "start_time": "2021-10-14T19:58:12.607Z"
   },
   {
    "duration": 13,
    "start_time": "2021-10-14T19:58:12.627Z"
   },
   {
    "duration": 45,
    "start_time": "2021-10-14T19:58:12.643Z"
   },
   {
    "duration": 19,
    "start_time": "2021-10-14T19:58:12.690Z"
   },
   {
    "duration": 90,
    "start_time": "2021-10-14T19:58:12.711Z"
   },
   {
    "duration": -288,
    "start_time": "2021-10-14T19:58:13.091Z"
   },
   {
    "duration": -300,
    "start_time": "2021-10-14T19:58:13.105Z"
   },
   {
    "duration": 19,
    "start_time": "2021-10-14T19:58:45.913Z"
   },
   {
    "duration": 78,
    "start_time": "2021-10-14T20:00:09.956Z"
   },
   {
    "duration": 10130,
    "start_time": "2021-10-14T20:00:17.710Z"
   },
   {
    "duration": 73,
    "start_time": "2021-10-14T20:01:10.887Z"
   },
   {
    "duration": 22,
    "start_time": "2021-10-14T20:01:10.963Z"
   },
   {
    "duration": 11,
    "start_time": "2021-10-14T20:01:10.988Z"
   },
   {
    "duration": 24,
    "start_time": "2021-10-14T20:01:11.002Z"
   },
   {
    "duration": 12,
    "start_time": "2021-10-14T20:01:11.028Z"
   },
   {
    "duration": 52,
    "start_time": "2021-10-14T20:01:11.043Z"
   },
   {
    "duration": 9,
    "start_time": "2021-10-14T20:01:11.097Z"
   },
   {
    "duration": 18,
    "start_time": "2021-10-14T20:01:11.108Z"
   },
   {
    "duration": 10,
    "start_time": "2021-10-14T20:01:11.130Z"
   },
   {
    "duration": 7,
    "start_time": "2021-10-14T20:01:11.183Z"
   },
   {
    "duration": 23,
    "start_time": "2021-10-14T20:01:11.193Z"
   },
   {
    "duration": 9868,
    "start_time": "2021-10-14T20:01:11.218Z"
   },
   {
    "duration": 19,
    "start_time": "2021-10-14T20:01:21.089Z"
   },
   {
    "duration": 13,
    "start_time": "2021-10-14T20:01:21.111Z"
   },
   {
    "duration": 20,
    "start_time": "2021-10-14T20:01:29.108Z"
   },
   {
    "duration": 51,
    "start_time": "2021-10-14T20:11:32.561Z"
   },
   {
    "duration": 26,
    "start_time": "2021-10-14T20:11:37.632Z"
   },
   {
    "duration": 14,
    "start_time": "2021-10-14T20:11:42.321Z"
   },
   {
    "duration": 8,
    "start_time": "2021-10-14T20:13:16.365Z"
   },
   {
    "duration": 11,
    "start_time": "2021-10-14T20:14:09.947Z"
   },
   {
    "duration": 24,
    "start_time": "2021-10-14T20:14:52.762Z"
   },
   {
    "duration": 33,
    "start_time": "2021-10-14T20:15:44.701Z"
   },
   {
    "duration": 14,
    "start_time": "2021-10-14T20:17:53.010Z"
   },
   {
    "duration": 73,
    "start_time": "2021-10-14T20:17:59.694Z"
   },
   {
    "duration": 14,
    "start_time": "2021-10-14T20:17:59.770Z"
   },
   {
    "duration": 11,
    "start_time": "2021-10-14T20:17:59.787Z"
   },
   {
    "duration": 21,
    "start_time": "2021-10-14T20:17:59.801Z"
   },
   {
    "duration": 14,
    "start_time": "2021-10-14T20:17:59.825Z"
   },
   {
    "duration": 52,
    "start_time": "2021-10-14T20:17:59.841Z"
   },
   {
    "duration": 7,
    "start_time": "2021-10-14T20:17:59.895Z"
   },
   {
    "duration": 16,
    "start_time": "2021-10-14T20:17:59.905Z"
   },
   {
    "duration": 9,
    "start_time": "2021-10-14T20:17:59.924Z"
   },
   {
    "duration": 49,
    "start_time": "2021-10-14T20:17:59.935Z"
   },
   {
    "duration": 17,
    "start_time": "2021-10-14T20:17:59.986Z"
   },
   {
    "duration": 10333,
    "start_time": "2021-10-14T20:18:00.005Z"
   },
   {
    "duration": 20,
    "start_time": "2021-10-14T20:18:10.341Z"
   },
   {
    "duration": 28,
    "start_time": "2021-10-14T20:18:10.364Z"
   },
   {
    "duration": 18,
    "start_time": "2021-10-14T20:18:10.395Z"
   },
   {
    "duration": 73,
    "start_time": "2021-10-14T20:18:10.416Z"
   },
   {
    "duration": 24,
    "start_time": "2021-10-14T20:18:10.492Z"
   },
   {
    "duration": 13,
    "start_time": "2021-10-14T20:18:10.518Z"
   },
   {
    "duration": 7,
    "start_time": "2021-10-14T20:18:10.534Z"
   },
   {
    "duration": 43,
    "start_time": "2021-10-14T20:18:10.544Z"
   },
   {
    "duration": 14,
    "start_time": "2021-10-14T20:20:43.573Z"
   },
   {
    "duration": 22,
    "start_time": "2021-10-14T20:21:23.731Z"
   },
   {
    "duration": 13,
    "start_time": "2021-10-14T20:23:38.147Z"
   },
   {
    "duration": 18,
    "start_time": "2021-10-14T20:24:43.339Z"
   },
   {
    "duration": 9,
    "start_time": "2021-10-14T20:25:59.959Z"
   },
   {
    "duration": 8,
    "start_time": "2021-10-14T20:47:12.769Z"
   },
   {
    "duration": 13,
    "start_time": "2021-10-14T20:47:27.133Z"
   },
   {
    "duration": 15,
    "start_time": "2021-10-14T21:01:22.857Z"
   },
   {
    "duration": 11,
    "start_time": "2021-10-14T21:18:29.817Z"
   },
   {
    "duration": 8,
    "start_time": "2021-10-14T21:19:50.333Z"
   },
   {
    "duration": 10,
    "start_time": "2021-10-14T21:20:08.205Z"
   },
   {
    "duration": 6,
    "start_time": "2021-10-14T21:20:09.959Z"
   },
   {
    "duration": 10,
    "start_time": "2021-10-14T21:20:12.355Z"
   },
   {
    "duration": 15,
    "start_time": "2021-10-14T21:20:19.914Z"
   },
   {
    "duration": 9,
    "start_time": "2021-10-14T21:20:26.283Z"
   },
   {
    "duration": 10,
    "start_time": "2021-10-14T21:20:36.581Z"
   },
   {
    "duration": 6,
    "start_time": "2021-10-14T21:20:55.084Z"
   },
   {
    "duration": 912,
    "start_time": "2021-10-14T21:21:13.233Z"
   },
   {
    "duration": 926,
    "start_time": "2021-10-14T21:21:28.280Z"
   },
   {
    "duration": 6,
    "start_time": "2021-10-14T21:24:00.759Z"
   },
   {
    "duration": 3597,
    "start_time": "2021-10-14T21:24:21.347Z"
   },
   {
    "duration": 3585,
    "start_time": "2021-10-14T21:43:31.339Z"
   },
   {
    "duration": 1741,
    "start_time": "2021-10-14T21:44:23.977Z"
   },
   {
    "duration": 79,
    "start_time": "2021-10-14T21:44:43.385Z"
   },
   {
    "duration": 19,
    "start_time": "2021-10-14T21:44:43.467Z"
   },
   {
    "duration": 11,
    "start_time": "2021-10-14T21:44:43.489Z"
   },
   {
    "duration": 20,
    "start_time": "2021-10-14T21:44:43.503Z"
   },
   {
    "duration": 16,
    "start_time": "2021-10-14T21:44:43.526Z"
   },
   {
    "duration": 14,
    "start_time": "2021-10-14T21:44:43.583Z"
   },
   {
    "duration": 8,
    "start_time": "2021-10-14T21:44:43.599Z"
   },
   {
    "duration": 18,
    "start_time": "2021-10-14T21:44:43.610Z"
   },
   {
    "duration": 10,
    "start_time": "2021-10-14T21:44:43.631Z"
   },
   {
    "duration": 7,
    "start_time": "2021-10-14T21:44:43.683Z"
   },
   {
    "duration": 16,
    "start_time": "2021-10-14T21:44:43.692Z"
   },
   {
    "duration": 10039,
    "start_time": "2021-10-14T21:44:43.710Z"
   },
   {
    "duration": 34,
    "start_time": "2021-10-14T21:44:53.752Z"
   },
   {
    "duration": 14,
    "start_time": "2021-10-14T21:44:53.788Z"
   },
   {
    "duration": 23,
    "start_time": "2021-10-14T21:44:53.804Z"
   },
   {
    "duration": 75,
    "start_time": "2021-10-14T21:44:53.831Z"
   },
   {
    "duration": 23,
    "start_time": "2021-10-14T21:44:53.909Z"
   },
   {
    "duration": 13,
    "start_time": "2021-10-14T21:44:53.934Z"
   },
   {
    "duration": 36,
    "start_time": "2021-10-14T21:44:53.949Z"
   },
   {
    "duration": 9,
    "start_time": "2021-10-14T21:44:53.987Z"
   },
   {
    "duration": 12,
    "start_time": "2021-10-14T21:44:53.999Z"
   },
   {
    "duration": 19,
    "start_time": "2021-10-14T21:44:54.013Z"
   },
   {
    "duration": 50,
    "start_time": "2021-10-14T21:44:54.034Z"
   },
   {
    "duration": 18,
    "start_time": "2021-10-14T21:44:54.086Z"
   },
   {
    "duration": 13,
    "start_time": "2021-10-14T21:44:54.106Z"
   },
   {
    "duration": 7,
    "start_time": "2021-10-14T21:44:54.121Z"
   },
   {
    "duration": 11,
    "start_time": "2021-10-14T21:44:54.130Z"
   },
   {
    "duration": 45,
    "start_time": "2021-10-14T21:44:54.145Z"
   },
   {
    "duration": 8,
    "start_time": "2021-10-14T21:44:54.193Z"
   },
   {
    "duration": 11,
    "start_time": "2021-10-14T21:44:54.203Z"
   },
   {
    "duration": 950,
    "start_time": "2021-10-14T21:44:54.216Z"
   },
   {
    "duration": 14,
    "start_time": "2021-10-14T21:44:55.168Z"
   },
   {
    "duration": 5,
    "start_time": "2021-10-14T21:44:59.021Z"
   },
   {
    "duration": 3529,
    "start_time": "2021-10-14T21:44:59.732Z"
   },
   {
    "duration": 22,
    "start_time": "2021-10-14T21:48:40.625Z"
   },
   {
    "duration": 23,
    "start_time": "2021-10-14T21:48:58.220Z"
   },
   {
    "duration": 27,
    "start_time": "2021-10-14T22:08:48.512Z"
   },
   {
    "duration": 9,
    "start_time": "2021-10-14T22:09:13.345Z"
   },
   {
    "duration": 11,
    "start_time": "2021-10-14T22:09:15.995Z"
   },
   {
    "duration": 15,
    "start_time": "2021-10-14T22:09:39.771Z"
   },
   {
    "duration": 18,
    "start_time": "2021-10-14T22:09:40.205Z"
   },
   {
    "duration": 9,
    "start_time": "2021-10-14T22:09:41.176Z"
   },
   {
    "duration": 6,
    "start_time": "2021-10-14T22:09:42.353Z"
   },
   {
    "duration": 10,
    "start_time": "2021-10-14T22:09:43.472Z"
   },
   {
    "duration": 13,
    "start_time": "2021-10-14T22:09:44.557Z"
   },
   {
    "duration": 8,
    "start_time": "2021-10-14T22:09:50.866Z"
   },
   {
    "duration": 11,
    "start_time": "2021-10-14T22:09:58.954Z"
   },
   {
    "duration": 996,
    "start_time": "2021-10-14T22:10:03.147Z"
   },
   {
    "duration": 6,
    "start_time": "2021-10-14T22:10:07.773Z"
   },
   {
    "duration": 3448,
    "start_time": "2021-10-14T22:10:11.636Z"
   },
   {
    "duration": 20,
    "start_time": "2021-10-14T22:12:59.018Z"
   },
   {
    "duration": 21,
    "start_time": "2021-10-14T22:13:41.226Z"
   },
   {
    "duration": 21,
    "start_time": "2021-10-14T22:15:15.267Z"
   },
   {
    "duration": 21,
    "start_time": "2021-10-14T22:17:18.574Z"
   },
   {
    "duration": 27,
    "start_time": "2021-10-14T22:30:43.843Z"
   },
   {
    "duration": 28,
    "start_time": "2021-10-14T22:35:44.519Z"
   },
   {
    "duration": 34,
    "start_time": "2021-10-14T22:37:17.058Z"
   },
   {
    "duration": 34,
    "start_time": "2021-10-14T22:38:11.426Z"
   },
   {
    "duration": 36,
    "start_time": "2021-10-14T22:39:09.897Z"
   },
   {
    "duration": 14,
    "start_time": "2021-10-14T22:48:50.167Z"
   },
   {
    "duration": 73,
    "start_time": "2021-10-14T22:50:22.016Z"
   },
   {
    "duration": 16,
    "start_time": "2021-10-14T22:50:22.092Z"
   },
   {
    "duration": 12,
    "start_time": "2021-10-14T22:50:22.111Z"
   },
   {
    "duration": 57,
    "start_time": "2021-10-14T22:50:22.126Z"
   },
   {
    "duration": 13,
    "start_time": "2021-10-14T22:50:22.185Z"
   },
   {
    "duration": 16,
    "start_time": "2021-10-14T22:50:22.201Z"
   },
   {
    "duration": 9,
    "start_time": "2021-10-14T22:50:22.220Z"
   },
   {
    "duration": 57,
    "start_time": "2021-10-14T22:50:22.232Z"
   },
   {
    "duration": 20,
    "start_time": "2021-10-14T22:50:22.292Z"
   },
   {
    "duration": 18,
    "start_time": "2021-10-14T22:50:22.314Z"
   },
   {
    "duration": 27,
    "start_time": "2021-10-14T22:50:22.335Z"
   },
   {
    "duration": 9890,
    "start_time": "2021-10-14T22:50:22.364Z"
   },
   {
    "duration": 32,
    "start_time": "2021-10-14T22:50:32.256Z"
   },
   {
    "duration": 13,
    "start_time": "2021-10-14T22:50:32.291Z"
   },
   {
    "duration": 19,
    "start_time": "2021-10-14T22:50:32.306Z"
   },
   {
    "duration": 78,
    "start_time": "2021-10-14T22:50:32.328Z"
   },
   {
    "duration": 23,
    "start_time": "2021-10-14T22:50:32.411Z"
   },
   {
    "duration": 15,
    "start_time": "2021-10-14T22:50:32.437Z"
   },
   {
    "duration": 33,
    "start_time": "2021-10-14T22:50:32.454Z"
   },
   {
    "duration": 13,
    "start_time": "2021-10-14T22:50:32.490Z"
   },
   {
    "duration": 18,
    "start_time": "2021-10-14T22:50:32.505Z"
   },
   {
    "duration": 56,
    "start_time": "2021-10-14T22:50:32.526Z"
   },
   {
    "duration": 10,
    "start_time": "2021-10-14T22:50:32.585Z"
   },
   {
    "duration": 13,
    "start_time": "2021-10-14T22:50:32.597Z"
   },
   {
    "duration": 14,
    "start_time": "2021-10-14T22:50:32.613Z"
   },
   {
    "duration": 16,
    "start_time": "2021-10-14T22:50:32.630Z"
   },
   {
    "duration": 43,
    "start_time": "2021-10-14T22:50:32.648Z"
   },
   {
    "duration": 8,
    "start_time": "2021-10-14T22:50:32.694Z"
   },
   {
    "duration": 12,
    "start_time": "2021-10-14T22:50:32.704Z"
   },
   {
    "duration": 15,
    "start_time": "2021-10-14T22:50:32.718Z"
   },
   {
    "duration": 51,
    "start_time": "2021-10-14T22:50:32.735Z"
   },
   {
    "duration": 11,
    "start_time": "2021-10-14T22:50:32.789Z"
   },
   {
    "duration": 979,
    "start_time": "2021-10-14T22:50:32.803Z"
   },
   {
    "duration": 6,
    "start_time": "2021-10-14T22:50:33.784Z"
   },
   {
    "duration": 3450,
    "start_time": "2021-10-14T22:50:33.792Z"
   },
   {
    "duration": 19,
    "start_time": "2021-10-14T22:50:37.244Z"
   },
   {
    "duration": 21,
    "start_time": "2021-10-14T22:50:37.283Z"
   },
   {
    "duration": 20,
    "start_time": "2021-10-14T22:50:37.307Z"
   },
   {
    "duration": 59,
    "start_time": "2021-10-14T22:50:37.330Z"
   },
   {
    "duration": 5,
    "start_time": "2021-10-14T22:50:37.391Z"
   },
   {
    "duration": 35,
    "start_time": "2021-10-14T22:50:37.398Z"
   },
   {
    "duration": 60,
    "start_time": "2021-10-14T22:50:37.435Z"
   },
   {
    "duration": 27,
    "start_time": "2021-10-14T22:51:14.310Z"
   },
   {
    "duration": 34,
    "start_time": "2021-10-14T22:54:43.538Z"
   },
   {
    "duration": 346,
    "start_time": "2021-10-14T23:06:28.249Z"
   },
   {
    "duration": 312,
    "start_time": "2021-10-14T23:06:45.955Z"
   },
   {
    "duration": 18,
    "start_time": "2021-10-14T23:07:23.195Z"
   },
   {
    "duration": 27,
    "start_time": "2021-10-14T23:21:13.697Z"
   },
   {
    "duration": 352,
    "start_time": "2021-10-14T23:23:25.003Z"
   },
   {
    "duration": 8,
    "start_time": "2021-10-14T23:23:34.615Z"
   },
   {
    "duration": 44,
    "start_time": "2021-10-14T23:23:36.503Z"
   },
   {
    "duration": 30,
    "start_time": "2021-10-14T23:24:59.982Z"
   },
   {
    "duration": 323,
    "start_time": "2021-10-14T23:30:20.829Z"
   },
   {
    "duration": 27,
    "start_time": "2021-10-14T23:31:29.730Z"
   },
   {
    "duration": 34,
    "start_time": "2021-10-14T23:31:49.059Z"
   },
   {
    "duration": 288,
    "start_time": "2021-10-14T23:46:33.919Z"
   },
   {
    "duration": 824,
    "start_time": "2021-10-14T23:47:54.779Z"
   },
   {
    "duration": 15,
    "start_time": "2021-10-14T23:47:55.606Z"
   },
   {
    "duration": 12,
    "start_time": "2021-10-14T23:47:55.625Z"
   },
   {
    "duration": 55,
    "start_time": "2021-10-14T23:47:55.640Z"
   },
   {
    "duration": 13,
    "start_time": "2021-10-14T23:47:55.698Z"
   },
   {
    "duration": 13,
    "start_time": "2021-10-14T23:47:55.713Z"
   },
   {
    "duration": 7,
    "start_time": "2021-10-14T23:47:55.729Z"
   },
   {
    "duration": 59,
    "start_time": "2021-10-14T23:47:55.740Z"
   },
   {
    "duration": 12,
    "start_time": "2021-10-14T23:47:55.803Z"
   },
   {
    "duration": 6,
    "start_time": "2021-10-14T23:47:55.818Z"
   },
   {
    "duration": 19,
    "start_time": "2021-10-14T23:47:55.826Z"
   },
   {
    "duration": 9711,
    "start_time": "2021-10-14T23:47:55.847Z"
   },
   {
    "duration": 36,
    "start_time": "2021-10-14T23:48:05.560Z"
   },
   {
    "duration": 14,
    "start_time": "2021-10-14T23:48:05.599Z"
   },
   {
    "duration": 20,
    "start_time": "2021-10-14T23:48:05.615Z"
   },
   {
    "duration": 81,
    "start_time": "2021-10-14T23:48:05.638Z"
   },
   {
    "duration": 26,
    "start_time": "2021-10-14T23:48:05.721Z"
   },
   {
    "duration": 36,
    "start_time": "2021-10-14T23:48:05.750Z"
   },
   {
    "duration": 9,
    "start_time": "2021-10-14T23:48:05.789Z"
   },
   {
    "duration": 9,
    "start_time": "2021-10-14T23:48:05.801Z"
   },
   {
    "duration": 20,
    "start_time": "2021-10-14T23:48:05.813Z"
   },
   {
    "duration": 65,
    "start_time": "2021-10-14T23:48:05.836Z"
   },
   {
    "duration": 16,
    "start_time": "2021-10-14T23:48:05.906Z"
   },
   {
    "duration": 14,
    "start_time": "2021-10-14T23:48:05.925Z"
   },
   {
    "duration": 17,
    "start_time": "2021-10-14T23:48:05.941Z"
   },
   {
    "duration": 32,
    "start_time": "2021-10-14T23:48:05.960Z"
   },
   {
    "duration": 15,
    "start_time": "2021-10-14T23:48:05.995Z"
   },
   {
    "duration": 16,
    "start_time": "2021-10-14T23:48:06.013Z"
   },
   {
    "duration": 15,
    "start_time": "2021-10-14T23:48:06.032Z"
   },
   {
    "duration": 21,
    "start_time": "2021-10-14T23:48:06.049Z"
   },
   {
    "duration": 8,
    "start_time": "2021-10-14T23:48:06.083Z"
   },
   {
    "duration": 29,
    "start_time": "2021-10-14T23:48:06.093Z"
   },
   {
    "duration": 919,
    "start_time": "2021-10-14T23:48:06.124Z"
   },
   {
    "duration": 5,
    "start_time": "2021-10-14T23:48:07.046Z"
   },
   {
    "duration": 3882,
    "start_time": "2021-10-14T23:48:07.053Z"
   },
   {
    "duration": 18,
    "start_time": "2021-10-14T23:48:10.937Z"
   },
   {
    "duration": 39,
    "start_time": "2021-10-14T23:48:10.958Z"
   },
   {
    "duration": 21,
    "start_time": "2021-10-14T23:48:10.999Z"
   },
   {
    "duration": 28,
    "start_time": "2021-10-14T23:48:11.022Z"
   },
   {
    "duration": 30,
    "start_time": "2021-10-14T23:48:11.053Z"
   },
   {
    "duration": 42,
    "start_time": "2021-10-14T23:48:11.086Z"
   },
   {
    "duration": 35,
    "start_time": "2021-10-14T23:48:11.131Z"
   },
   {
    "duration": 51,
    "start_time": "2021-10-14T23:48:11.169Z"
   },
   {
    "duration": 28,
    "start_time": "2021-10-14T23:48:11.222Z"
   },
   {
    "duration": 62,
    "start_time": "2021-10-14T23:48:11.253Z"
   },
   {
    "duration": 29,
    "start_time": "2021-10-14T23:48:11.318Z"
   },
   {
    "duration": 28,
    "start_time": "2021-10-14T23:49:13.875Z"
   },
   {
    "duration": 27,
    "start_time": "2021-10-14T23:52:44.632Z"
   },
   {
    "duration": 27,
    "start_time": "2021-10-14T23:55:15.294Z"
   },
   {
    "duration": 391,
    "start_time": "2021-10-14T23:57:56.832Z"
   },
   {
    "duration": 30,
    "start_time": "2021-10-14T23:58:33.221Z"
   },
   {
    "duration": 23,
    "start_time": "2021-10-15T00:01:39.850Z"
   },
   {
    "duration": 7573,
    "start_time": "2021-10-15T00:50:31.035Z"
   },
   {
    "duration": 776,
    "start_time": "2021-10-15T00:52:12.113Z"
   },
   {
    "duration": 15,
    "start_time": "2021-10-15T00:52:12.892Z"
   },
   {
    "duration": 11,
    "start_time": "2021-10-15T00:52:12.910Z"
   },
   {
    "duration": 22,
    "start_time": "2021-10-15T00:52:12.923Z"
   },
   {
    "duration": 44,
    "start_time": "2021-10-15T00:52:12.947Z"
   },
   {
    "duration": 13,
    "start_time": "2021-10-15T00:52:12.993Z"
   },
   {
    "duration": 7,
    "start_time": "2021-10-15T00:52:13.008Z"
   },
   {
    "duration": 18,
    "start_time": "2021-10-15T00:52:13.019Z"
   },
   {
    "duration": 47,
    "start_time": "2021-10-15T00:52:13.040Z"
   },
   {
    "duration": 9,
    "start_time": "2021-10-15T00:52:13.090Z"
   },
   {
    "duration": 16,
    "start_time": "2021-10-15T00:52:13.101Z"
   },
   {
    "duration": 9630,
    "start_time": "2021-10-15T00:52:13.120Z"
   },
   {
    "duration": 35,
    "start_time": "2021-10-15T00:52:22.752Z"
   },
   {
    "duration": 15,
    "start_time": "2021-10-15T00:52:22.789Z"
   },
   {
    "duration": 22,
    "start_time": "2021-10-15T00:52:22.807Z"
   },
   {
    "duration": 85,
    "start_time": "2021-10-15T00:52:22.832Z"
   },
   {
    "duration": 26,
    "start_time": "2021-10-15T00:52:22.920Z"
   },
   {
    "duration": 41,
    "start_time": "2021-10-15T00:52:22.948Z"
   },
   {
    "duration": 11,
    "start_time": "2021-10-15T00:52:22.991Z"
   },
   {
    "duration": 11,
    "start_time": "2021-10-15T00:52:23.005Z"
   },
   {
    "duration": 65,
    "start_time": "2021-10-15T00:52:23.018Z"
   },
   {
    "duration": 25,
    "start_time": "2021-10-15T00:52:23.086Z"
   },
   {
    "duration": 9,
    "start_time": "2021-10-15T00:52:23.119Z"
   },
   {
    "duration": 13,
    "start_time": "2021-10-15T00:52:23.132Z"
   },
   {
    "duration": 15,
    "start_time": "2021-10-15T00:52:23.184Z"
   },
   {
    "duration": 17,
    "start_time": "2021-10-15T00:52:23.202Z"
   },
   {
    "duration": 13,
    "start_time": "2021-10-15T00:52:23.222Z"
   },
   {
    "duration": 45,
    "start_time": "2021-10-15T00:52:23.237Z"
   },
   {
    "duration": 13,
    "start_time": "2021-10-15T00:52:23.285Z"
   },
   {
    "duration": 16,
    "start_time": "2021-10-15T00:52:23.300Z"
   },
   {
    "duration": 9,
    "start_time": "2021-10-15T00:52:23.319Z"
   },
   {
    "duration": 13,
    "start_time": "2021-10-15T00:52:23.331Z"
   },
   {
    "duration": 904,
    "start_time": "2021-10-15T00:52:23.383Z"
   },
   {
    "duration": 5,
    "start_time": "2021-10-15T00:52:24.290Z"
   },
   {
    "duration": 3316,
    "start_time": "2021-10-15T00:52:24.297Z"
   },
   {
    "duration": 18,
    "start_time": "2021-10-15T00:52:27.615Z"
   },
   {
    "duration": 18,
    "start_time": "2021-10-15T00:52:27.636Z"
   },
   {
    "duration": 21,
    "start_time": "2021-10-15T00:52:27.682Z"
   },
   {
    "duration": 37,
    "start_time": "2021-10-15T00:52:27.706Z"
   },
   {
    "duration": 4,
    "start_time": "2021-10-15T00:52:27.746Z"
   },
   {
    "duration": 50,
    "start_time": "2021-10-15T00:52:27.753Z"
   },
   {
    "duration": 35,
    "start_time": "2021-10-15T00:52:27.805Z"
   },
   {
    "duration": 67,
    "start_time": "2021-10-15T00:52:27.843Z"
   },
   {
    "duration": 28,
    "start_time": "2021-10-15T00:52:27.912Z"
   },
   {
    "duration": 63,
    "start_time": "2021-10-15T00:52:27.942Z"
   },
   {
    "duration": 25,
    "start_time": "2021-10-15T00:52:28.008Z"
   },
   {
    "duration": 22,
    "start_time": "2021-10-15T00:52:28.035Z"
   },
   {
    "duration": 8,
    "start_time": "2021-10-15T01:06:34.051Z"
   },
   {
    "duration": 11,
    "start_time": "2021-10-15T01:06:38.011Z"
   },
   {
    "duration": 7,
    "start_time": "2021-10-15T01:07:36.493Z"
   },
   {
    "duration": 10,
    "start_time": "2021-10-15T01:07:37.460Z"
   },
   {
    "duration": 791,
    "start_time": "2021-10-15T01:08:57.912Z"
   },
   {
    "duration": 15,
    "start_time": "2021-10-15T01:08:58.705Z"
   },
   {
    "duration": 12,
    "start_time": "2021-10-15T01:08:58.723Z"
   },
   {
    "duration": 56,
    "start_time": "2021-10-15T01:08:58.737Z"
   },
   {
    "duration": 15,
    "start_time": "2021-10-15T01:08:58.795Z"
   },
   {
    "duration": 14,
    "start_time": "2021-10-15T01:08:58.813Z"
   },
   {
    "duration": 7,
    "start_time": "2021-10-15T01:08:58.829Z"
   },
   {
    "duration": 58,
    "start_time": "2021-10-15T01:08:58.840Z"
   },
   {
    "duration": 10,
    "start_time": "2021-10-15T01:08:58.901Z"
   },
   {
    "duration": 7,
    "start_time": "2021-10-15T01:08:58.914Z"
   },
   {
    "duration": 17,
    "start_time": "2021-10-15T01:08:58.923Z"
   },
   {
    "duration": 9773,
    "start_time": "2021-10-15T01:08:58.942Z"
   },
   {
    "duration": 20,
    "start_time": "2021-10-15T01:09:08.717Z"
   },
   {
    "duration": 15,
    "start_time": "2021-10-15T01:09:08.739Z"
   },
   {
    "duration": 22,
    "start_time": "2021-10-15T01:09:08.782Z"
   },
   {
    "duration": 52,
    "start_time": "2021-10-15T01:09:08.806Z"
   },
   {
    "duration": 45,
    "start_time": "2021-10-15T01:09:08.860Z"
   },
   {
    "duration": 13,
    "start_time": "2021-10-15T01:09:08.908Z"
   },
   {
    "duration": 8,
    "start_time": "2021-10-15T01:09:08.924Z"
   },
   {
    "duration": 10,
    "start_time": "2021-10-15T01:09:08.934Z"
   },
   {
    "duration": 56,
    "start_time": "2021-10-15T01:09:08.946Z"
   },
   {
    "duration": 22,
    "start_time": "2021-10-15T01:09:09.005Z"
   },
   {
    "duration": 9,
    "start_time": "2021-10-15T01:09:09.032Z"
   },
   {
    "duration": 39,
    "start_time": "2021-10-15T01:09:09.044Z"
   },
   {
    "duration": 13,
    "start_time": "2021-10-15T01:09:09.086Z"
   },
   {
    "duration": 17,
    "start_time": "2021-10-15T01:09:09.101Z"
   },
   {
    "duration": 15,
    "start_time": "2021-10-15T01:09:09.121Z"
   },
   {
    "duration": 7,
    "start_time": "2021-10-15T01:09:09.139Z"
   },
   {
    "duration": 42,
    "start_time": "2021-10-15T01:09:09.148Z"
   },
   {
    "duration": 16,
    "start_time": "2021-10-15T01:09:09.192Z"
   },
   {
    "duration": 8,
    "start_time": "2021-10-15T01:09:09.210Z"
   },
   {
    "duration": 10,
    "start_time": "2021-10-15T01:09:09.221Z"
   },
   {
    "duration": 932,
    "start_time": "2021-10-15T01:09:09.234Z"
   },
   {
    "duration": 13,
    "start_time": "2021-10-15T01:09:10.169Z"
   },
   {
    "duration": 3486,
    "start_time": "2021-10-15T01:09:10.185Z"
   },
   {
    "duration": 21,
    "start_time": "2021-10-15T01:09:13.683Z"
   },
   {
    "duration": 28,
    "start_time": "2021-10-15T01:09:13.707Z"
   },
   {
    "duration": 53,
    "start_time": "2021-10-15T01:09:13.738Z"
   },
   {
    "duration": 35,
    "start_time": "2021-10-15T01:09:13.794Z"
   },
   {
    "duration": 4,
    "start_time": "2021-10-15T01:09:13.832Z"
   },
   {
    "duration": 47,
    "start_time": "2021-10-15T01:09:13.839Z"
   },
   {
    "duration": 38,
    "start_time": "2021-10-15T01:09:13.888Z"
   },
   {
    "duration": 64,
    "start_time": "2021-10-15T01:09:13.928Z"
   },
   {
    "duration": 27,
    "start_time": "2021-10-15T01:09:13.994Z"
   },
   {
    "duration": 58,
    "start_time": "2021-10-15T01:09:14.024Z"
   },
   {
    "duration": 26,
    "start_time": "2021-10-15T01:09:14.084Z"
   },
   {
    "duration": 22,
    "start_time": "2021-10-15T01:09:14.112Z"
   },
   {
    "duration": 972,
    "start_time": "2021-10-15T09:11:49.648Z"
   },
   {
    "duration": 39,
    "start_time": "2021-10-15T09:11:50.623Z"
   },
   {
    "duration": 19,
    "start_time": "2021-10-15T09:11:50.667Z"
   },
   {
    "duration": 34,
    "start_time": "2021-10-15T09:11:50.689Z"
   },
   {
    "duration": 46,
    "start_time": "2021-10-15T09:11:50.726Z"
   },
   {
    "duration": 18,
    "start_time": "2021-10-15T09:11:50.775Z"
   },
   {
    "duration": 9,
    "start_time": "2021-10-15T09:11:50.795Z"
   },
   {
    "duration": 53,
    "start_time": "2021-10-15T09:11:50.810Z"
   },
   {
    "duration": 12,
    "start_time": "2021-10-15T09:11:50.866Z"
   },
   {
    "duration": 7,
    "start_time": "2021-10-15T09:11:50.881Z"
   },
   {
    "duration": 17,
    "start_time": "2021-10-15T09:11:50.890Z"
   },
   {
    "duration": 10273,
    "start_time": "2021-10-15T09:11:50.910Z"
   },
   {
    "duration": 22,
    "start_time": "2021-10-15T09:12:01.185Z"
   },
   {
    "duration": 15,
    "start_time": "2021-10-15T09:12:01.209Z"
   },
   {
    "duration": 61,
    "start_time": "2021-10-15T09:12:01.227Z"
   },
   {
    "duration": 56,
    "start_time": "2021-10-15T09:12:01.291Z"
   },
   {
    "duration": 35,
    "start_time": "2021-10-15T09:12:01.349Z"
   },
   {
    "duration": 14,
    "start_time": "2021-10-15T09:12:01.386Z"
   },
   {
    "duration": 8,
    "start_time": "2021-10-15T09:12:01.403Z"
   },
   {
    "duration": 53,
    "start_time": "2021-10-15T09:12:01.413Z"
   },
   {
    "duration": 22,
    "start_time": "2021-10-15T09:12:01.469Z"
   },
   {
    "duration": 24,
    "start_time": "2021-10-15T09:12:01.494Z"
   },
   {
    "duration": 39,
    "start_time": "2021-10-15T09:12:01.523Z"
   },
   {
    "duration": 13,
    "start_time": "2021-10-15T09:12:01.565Z"
   },
   {
    "duration": 29,
    "start_time": "2021-10-15T09:12:01.580Z"
   },
   {
    "duration": 31,
    "start_time": "2021-10-15T09:12:01.612Z"
   },
   {
    "duration": 44,
    "start_time": "2021-10-15T09:12:01.646Z"
   },
   {
    "duration": 10,
    "start_time": "2021-10-15T09:12:01.693Z"
   },
   {
    "duration": 31,
    "start_time": "2021-10-15T09:12:01.706Z"
   },
   {
    "duration": 34,
    "start_time": "2021-10-15T09:12:01.740Z"
   },
   {
    "duration": 8,
    "start_time": "2021-10-15T09:12:01.777Z"
   },
   {
    "duration": 21,
    "start_time": "2021-10-15T09:12:01.788Z"
   },
   {
    "duration": 941,
    "start_time": "2021-10-15T09:12:01.812Z"
   },
   {
    "duration": 6,
    "start_time": "2021-10-15T09:12:02.756Z"
   },
   {
    "duration": 3967,
    "start_time": "2021-10-15T09:12:02.765Z"
   },
   {
    "duration": 31,
    "start_time": "2021-10-15T09:12:06.735Z"
   },
   {
    "duration": 21,
    "start_time": "2021-10-15T09:12:06.768Z"
   },
   {
    "duration": 23,
    "start_time": "2021-10-15T09:12:06.791Z"
   },
   {
    "duration": 57,
    "start_time": "2021-10-15T09:12:06.816Z"
   },
   {
    "duration": 5,
    "start_time": "2021-10-15T09:12:06.875Z"
   },
   {
    "duration": 33,
    "start_time": "2021-10-15T09:12:06.882Z"
   },
   {
    "duration": 55,
    "start_time": "2021-10-15T09:12:06.918Z"
   },
   {
    "duration": 37,
    "start_time": "2021-10-15T09:12:06.975Z"
   },
   {
    "duration": 52,
    "start_time": "2021-10-15T09:12:07.014Z"
   },
   {
    "duration": 36,
    "start_time": "2021-10-15T09:12:07.068Z"
   },
   {
    "duration": 28,
    "start_time": "2021-10-15T09:12:07.106Z"
   },
   {
    "duration": 48,
    "start_time": "2021-10-15T09:12:07.136Z"
   },
   {
    "duration": 415,
    "start_time": "2021-10-15T13:52:43.705Z"
   },
   {
    "duration": 829,
    "start_time": "2021-10-15T13:52:51.174Z"
   },
   {
    "duration": 17,
    "start_time": "2021-10-15T13:52:55.388Z"
   },
   {
    "duration": 50,
    "start_time": "2021-10-15T13:52:56.527Z"
   },
   {
    "duration": 74,
    "start_time": "2021-10-15T14:08:08.854Z"
   },
   {
    "duration": 13,
    "start_time": "2021-10-15T14:08:08.931Z"
   },
   {
    "duration": 71,
    "start_time": "2021-10-15T14:08:08.947Z"
   },
   {
    "duration": 12,
    "start_time": "2021-10-15T14:08:09.021Z"
   },
   {
    "duration": 48,
    "start_time": "2021-10-15T14:08:09.036Z"
   },
   {
    "duration": 14,
    "start_time": "2021-10-15T14:08:09.087Z"
   },
   {
    "duration": 14,
    "start_time": "2021-10-15T14:08:09.103Z"
   },
   {
    "duration": 8,
    "start_time": "2021-10-15T14:08:09.119Z"
   },
   {
    "duration": 64,
    "start_time": "2021-10-15T14:08:09.131Z"
   },
   {
    "duration": 15,
    "start_time": "2021-10-15T14:08:09.198Z"
   },
   {
    "duration": 11,
    "start_time": "2021-10-15T14:08:09.215Z"
   },
   {
    "duration": 18,
    "start_time": "2021-10-15T14:08:09.229Z"
   },
   {
    "duration": 9921,
    "start_time": "2021-10-15T14:08:09.250Z"
   },
   {
    "duration": 245,
    "start_time": "2021-10-15T14:08:31.295Z"
   },
   {
    "duration": 30,
    "start_time": "2021-10-15T14:08:44.890Z"
   },
   {
    "duration": 30,
    "start_time": "2021-10-15T14:09:22.264Z"
   },
   {
    "duration": 101,
    "start_time": "2021-10-15T14:14:23.234Z"
   },
   {
    "duration": 110,
    "start_time": "2021-10-15T14:15:06.588Z"
   },
   {
    "duration": 234,
    "start_time": "2021-10-15T14:24:51.974Z"
   },
   {
    "duration": 13,
    "start_time": "2021-10-15T14:25:08.996Z"
   },
   {
    "duration": 57,
    "start_time": "2021-10-15T14:26:19.033Z"
   },
   {
    "duration": 221,
    "start_time": "2021-10-15T14:26:21.247Z"
   },
   {
    "duration": 12,
    "start_time": "2021-10-15T14:26:21.975Z"
   },
   {
    "duration": 44,
    "start_time": "2021-10-15T14:26:44.951Z"
   },
   {
    "duration": 286,
    "start_time": "2021-10-15T14:30:46.173Z"
   },
   {
    "duration": 7,
    "start_time": "2021-10-15T14:30:57.143Z"
   },
   {
    "duration": 6,
    "start_time": "2021-10-15T14:31:10.986Z"
   },
   {
    "duration": 15,
    "start_time": "2021-10-15T14:31:33.553Z"
   },
   {
    "duration": 77,
    "start_time": "2021-10-15T14:39:42.134Z"
   },
   {
    "duration": 14,
    "start_time": "2021-10-15T14:39:48.751Z"
   },
   {
    "duration": 14,
    "start_time": "2021-10-15T14:43:04.386Z"
   },
   {
    "duration": 3,
    "start_time": "2021-10-15T14:59:42.930Z"
   },
   {
    "duration": 60,
    "start_time": "2021-10-15T15:04:35.122Z"
   },
   {
    "duration": 54,
    "start_time": "2021-10-15T16:10:26.591Z"
   },
   {
    "duration": 354,
    "start_time": "2021-10-15T16:19:18.982Z"
   },
   {
    "duration": 54,
    "start_time": "2021-10-15T16:20:35.506Z"
   },
   {
    "duration": 213,
    "start_time": "2021-10-15T16:20:36.008Z"
   },
   {
    "duration": 13,
    "start_time": "2021-10-15T16:20:36.603Z"
   },
   {
    "duration": 3,
    "start_time": "2021-10-15T16:20:41.503Z"
   },
   {
    "duration": 15,
    "start_time": "2021-10-15T16:20:54.823Z"
   },
   {
    "duration": 441,
    "start_time": "2021-10-15T16:28:35.660Z"
   },
   {
    "duration": 6913,
    "start_time": "2021-10-15T16:30:24.606Z"
   },
   {
    "duration": 286,
    "start_time": "2021-10-15T16:30:56.658Z"
   },
   {
    "duration": 259,
    "start_time": "2021-10-15T16:36:58.786Z"
   },
   {
    "duration": 16,
    "start_time": "2021-10-15T16:49:33.727Z"
   },
   {
    "duration": 30,
    "start_time": "2021-10-15T16:50:20.512Z"
   },
   {
    "duration": 65,
    "start_time": "2021-10-15T16:50:21.744Z"
   },
   {
    "duration": 29,
    "start_time": "2021-10-15T16:50:46.314Z"
   },
   {
    "duration": 16,
    "start_time": "2021-10-15T16:50:50.290Z"
   },
   {
    "duration": 74,
    "start_time": "2021-10-15T16:55:09.405Z"
   },
   {
    "duration": 15,
    "start_time": "2021-10-15T16:55:09.481Z"
   },
   {
    "duration": 45,
    "start_time": "2021-10-15T16:55:09.500Z"
   },
   {
    "duration": 37,
    "start_time": "2021-10-15T16:55:09.548Z"
   },
   {
    "duration": 28,
    "start_time": "2021-10-15T16:55:09.587Z"
   },
   {
    "duration": 13,
    "start_time": "2021-10-15T16:55:09.618Z"
   },
   {
    "duration": 47,
    "start_time": "2021-10-15T16:55:09.634Z"
   },
   {
    "duration": 9,
    "start_time": "2021-10-15T16:55:09.683Z"
   },
   {
    "duration": 19,
    "start_time": "2021-10-15T16:55:09.695Z"
   },
   {
    "duration": 10,
    "start_time": "2021-10-15T16:55:09.717Z"
   },
   {
    "duration": 7,
    "start_time": "2021-10-15T16:55:09.730Z"
   },
   {
    "duration": 60,
    "start_time": "2021-10-15T16:55:09.739Z"
   },
   {
    "duration": 9969,
    "start_time": "2021-10-15T16:55:09.803Z"
   },
   {
    "duration": 58,
    "start_time": "2021-10-15T16:55:19.775Z"
   },
   {
    "duration": 238,
    "start_time": "2021-10-15T16:55:19.835Z"
   },
   {
    "duration": 19,
    "start_time": "2021-10-15T16:55:20.076Z"
   },
   {
    "duration": 11,
    "start_time": "2021-10-15T16:55:20.098Z"
   },
   {
    "duration": 17,
    "start_time": "2021-10-15T16:55:20.111Z"
   },
   {
    "duration": 20,
    "start_time": "2021-10-15T16:55:20.130Z"
   },
   {
    "duration": 29,
    "start_time": "2021-10-15T16:55:31.186Z"
   },
   {
    "duration": 58,
    "start_time": "2021-10-15T16:55:32.494Z"
   },
   {
    "duration": 28,
    "start_time": "2021-10-15T16:55:43.326Z"
   },
   {
    "duration": 15,
    "start_time": "2021-10-15T16:55:44.315Z"
   },
   {
    "duration": 8,
    "start_time": "2021-10-15T16:56:11.326Z"
   },
   {
    "duration": 10,
    "start_time": "2021-10-15T16:56:13.517Z"
   },
   {
    "duration": 18,
    "start_time": "2021-10-15T16:56:20.606Z"
   },
   {
    "duration": 12,
    "start_time": "2021-10-15T17:07:00.114Z"
   },
   {
    "duration": 8,
    "start_time": "2021-10-15T17:08:41.139Z"
   },
   {
    "duration": 11,
    "start_time": "2021-10-15T17:08:42.383Z"
   },
   {
    "duration": 13,
    "start_time": "2021-10-15T17:08:59.744Z"
   },
   {
    "duration": 76,
    "start_time": "2021-10-15T17:12:12.385Z"
   },
   {
    "duration": 22,
    "start_time": "2021-10-15T17:12:12.463Z"
   },
   {
    "duration": 46,
    "start_time": "2021-10-15T17:12:12.488Z"
   },
   {
    "duration": 46,
    "start_time": "2021-10-15T17:12:12.536Z"
   },
   {
    "duration": 21,
    "start_time": "2021-10-15T17:12:12.585Z"
   },
   {
    "duration": 18,
    "start_time": "2021-10-15T17:12:12.608Z"
   },
   {
    "duration": 24,
    "start_time": "2021-10-15T17:12:12.628Z"
   },
   {
    "duration": 33,
    "start_time": "2021-10-15T17:12:12.657Z"
   },
   {
    "duration": 18,
    "start_time": "2021-10-15T17:12:12.694Z"
   },
   {
    "duration": 11,
    "start_time": "2021-10-15T17:12:12.715Z"
   },
   {
    "duration": 59,
    "start_time": "2021-10-15T17:12:12.728Z"
   },
   {
    "duration": 18,
    "start_time": "2021-10-15T17:12:12.789Z"
   },
   {
    "duration": 10041,
    "start_time": "2021-10-15T17:12:12.809Z"
   },
   {
    "duration": 69,
    "start_time": "2021-10-15T17:12:22.852Z"
   },
   {
    "duration": 227,
    "start_time": "2021-10-15T17:12:22.924Z"
   },
   {
    "duration": 12,
    "start_time": "2021-10-15T17:12:23.154Z"
   },
   {
    "duration": 15,
    "start_time": "2021-10-15T17:12:23.168Z"
   },
   {
    "duration": 17,
    "start_time": "2021-10-15T17:12:23.186Z"
   },
   {
    "duration": 20,
    "start_time": "2021-10-15T17:12:23.206Z"
   },
   {
    "duration": 61,
    "start_time": "2021-10-15T17:12:23.229Z"
   },
   {
    "duration": 61,
    "start_time": "2021-10-15T17:12:23.293Z"
   },
   {
    "duration": 44,
    "start_time": "2021-10-15T17:12:23.356Z"
   },
   {
    "duration": 15,
    "start_time": "2021-10-15T17:12:23.405Z"
   },
   {
    "duration": 8,
    "start_time": "2021-10-15T17:12:23.423Z"
   },
   {
    "duration": 9,
    "start_time": "2021-10-15T17:12:23.433Z"
   },
   {
    "duration": 48,
    "start_time": "2021-10-15T17:12:23.445Z"
   },
   {
    "duration": 9,
    "start_time": "2021-10-15T17:12:23.496Z"
   },
   {
    "duration": 12,
    "start_time": "2021-10-15T17:12:23.507Z"
   },
   {
    "duration": 15,
    "start_time": "2021-10-15T17:12:23.522Z"
   },
   {
    "duration": 51,
    "start_time": "2021-10-15T17:12:23.539Z"
   },
   {
    "duration": 14,
    "start_time": "2021-10-15T17:12:23.592Z"
   },
   {
    "duration": 11,
    "start_time": "2021-10-15T17:12:23.608Z"
   },
   {
    "duration": 22,
    "start_time": "2021-10-15T17:12:23.621Z"
   },
   {
    "duration": 7,
    "start_time": "2021-10-15T17:12:23.646Z"
   },
   {
    "duration": 11,
    "start_time": "2021-10-15T17:12:23.682Z"
   },
   {
    "duration": 910,
    "start_time": "2021-10-15T17:12:23.695Z"
   },
   {
    "duration": 5,
    "start_time": "2021-10-15T17:12:24.607Z"
   },
   {
    "duration": 3514,
    "start_time": "2021-10-15T17:12:24.615Z"
   },
   {
    "duration": 19,
    "start_time": "2021-10-15T17:12:49.695Z"
   },
   {
    "duration": 21,
    "start_time": "2021-10-15T17:16:16.064Z"
   },
   {
    "duration": 21,
    "start_time": "2021-10-15T17:19:44.298Z"
   },
   {
    "duration": 18,
    "start_time": "2021-10-15T17:20:34.326Z"
   },
   {
    "duration": 20,
    "start_time": "2021-10-15T17:20:39.736Z"
   },
   {
    "duration": 21,
    "start_time": "2021-10-15T17:20:49.117Z"
   },
   {
    "duration": 27,
    "start_time": "2021-10-15T17:21:04.090Z"
   },
   {
    "duration": 5,
    "start_time": "2021-10-15T17:21:13.976Z"
   },
   {
    "duration": 27,
    "start_time": "2021-10-15T17:21:27.299Z"
   },
   {
    "duration": 34,
    "start_time": "2021-10-15T17:21:39.649Z"
   },
   {
    "duration": 38,
    "start_time": "2021-10-15T17:21:58.261Z"
   },
   {
    "duration": 28,
    "start_time": "2021-10-15T17:23:04.807Z"
   },
   {
    "duration": 33,
    "start_time": "2021-10-15T17:23:41.135Z"
   },
   {
    "duration": 27,
    "start_time": "2021-10-15T17:23:47.860Z"
   },
   {
    "duration": 23,
    "start_time": "2021-10-15T17:23:58.831Z"
   },
   {
    "duration": 825,
    "start_time": "2021-10-15T17:24:26.997Z"
   },
   {
    "duration": 15,
    "start_time": "2021-10-15T17:24:27.825Z"
   },
   {
    "duration": 68,
    "start_time": "2021-10-15T17:24:27.843Z"
   },
   {
    "duration": 12,
    "start_time": "2021-10-15T17:24:27.914Z"
   },
   {
    "duration": 23,
    "start_time": "2021-10-15T17:24:27.929Z"
   },
   {
    "duration": 14,
    "start_time": "2021-10-15T17:24:27.982Z"
   },
   {
    "duration": 14,
    "start_time": "2021-10-15T17:24:27.999Z"
   },
   {
    "duration": 7,
    "start_time": "2021-10-15T17:24:28.017Z"
   },
   {
    "duration": 57,
    "start_time": "2021-10-15T17:24:28.027Z"
   },
   {
    "duration": 16,
    "start_time": "2021-10-15T17:24:28.087Z"
   },
   {
    "duration": 13,
    "start_time": "2021-10-15T17:24:28.106Z"
   },
   {
    "duration": 16,
    "start_time": "2021-10-15T17:24:28.121Z"
   },
   {
    "duration": 9931,
    "start_time": "2021-10-15T17:24:28.140Z"
   },
   {
    "duration": 60,
    "start_time": "2021-10-15T17:24:38.074Z"
   },
   {
    "duration": 237,
    "start_time": "2021-10-15T17:24:38.136Z"
   },
   {
    "duration": 12,
    "start_time": "2021-10-15T17:24:38.375Z"
   },
   {
    "duration": 19,
    "start_time": "2021-10-15T17:24:38.389Z"
   },
   {
    "duration": 32,
    "start_time": "2021-10-15T17:24:38.410Z"
   },
   {
    "duration": 23,
    "start_time": "2021-10-15T17:24:38.445Z"
   },
   {
    "duration": 48,
    "start_time": "2021-10-15T17:24:38.471Z"
   },
   {
    "duration": 73,
    "start_time": "2021-10-15T17:24:38.522Z"
   },
   {
    "duration": 26,
    "start_time": "2021-10-15T17:24:38.598Z"
   },
   {
    "duration": 14,
    "start_time": "2021-10-15T17:24:38.629Z"
   },
   {
    "duration": 38,
    "start_time": "2021-10-15T17:24:38.646Z"
   },
   {
    "duration": 10,
    "start_time": "2021-10-15T17:24:38.687Z"
   },
   {
    "duration": 12,
    "start_time": "2021-10-15T17:24:38.699Z"
   },
   {
    "duration": 18,
    "start_time": "2021-10-15T17:24:38.714Z"
   },
   {
    "duration": 48,
    "start_time": "2021-10-15T17:24:38.734Z"
   },
   {
    "duration": 15,
    "start_time": "2021-10-15T17:24:38.785Z"
   },
   {
    "duration": 14,
    "start_time": "2021-10-15T17:24:38.803Z"
   },
   {
    "duration": 9,
    "start_time": "2021-10-15T17:24:38.820Z"
   },
   {
    "duration": 26,
    "start_time": "2021-10-15T17:24:38.832Z"
   },
   {
    "duration": 37,
    "start_time": "2021-10-15T17:24:38.861Z"
   },
   {
    "duration": 10,
    "start_time": "2021-10-15T17:24:38.901Z"
   },
   {
    "duration": 13,
    "start_time": "2021-10-15T17:24:38.914Z"
   },
   {
    "duration": 916,
    "start_time": "2021-10-15T17:24:38.930Z"
   },
   {
    "duration": 6,
    "start_time": "2021-10-15T17:24:39.849Z"
   },
   {
    "duration": 3527,
    "start_time": "2021-10-15T17:24:39.857Z"
   },
   {
    "duration": 20,
    "start_time": "2021-10-15T17:24:43.387Z"
   },
   {
    "duration": 35,
    "start_time": "2021-10-15T17:24:43.409Z"
   },
   {
    "duration": 40,
    "start_time": "2021-10-15T17:24:43.447Z"
   },
   {
    "duration": 18,
    "start_time": "2021-10-15T17:24:43.490Z"
   },
   {
    "duration": 36,
    "start_time": "2021-10-15T17:24:43.511Z"
   },
   {
    "duration": 5,
    "start_time": "2021-10-15T17:24:43.549Z"
   },
   {
    "duration": 68,
    "start_time": "2021-10-15T17:24:43.557Z"
   },
   {
    "duration": 39,
    "start_time": "2021-10-15T17:24:43.628Z"
   },
   {
    "duration": 48,
    "start_time": "2021-10-15T17:24:43.670Z"
   },
   {
    "duration": 29,
    "start_time": "2021-10-15T17:24:43.720Z"
   },
   {
    "duration": 61,
    "start_time": "2021-10-15T17:24:43.752Z"
   },
   {
    "duration": 27,
    "start_time": "2021-10-15T17:24:43.816Z"
   },
   {
    "duration": 52,
    "start_time": "2021-10-15T17:24:43.846Z"
   },
   {
    "duration": 104,
    "start_time": "2021-10-15T18:02:27.211Z"
   },
   {
    "duration": 43,
    "start_time": "2021-10-15T18:05:51.642Z"
   },
   {
    "duration": 274,
    "start_time": "2021-10-15T18:05:52.474Z"
   },
   {
    "duration": 25,
    "start_time": "2021-10-15T18:05:53.122Z"
   },
   {
    "duration": 21,
    "start_time": "2021-10-15T18:12:44.623Z"
   },
   {
    "duration": 399,
    "start_time": "2021-10-15T18:19:32.130Z"
   },
   {
    "duration": 19,
    "start_time": "2021-10-15T18:19:59.818Z"
   },
   {
    "duration": 21,
    "start_time": "2021-10-15T18:20:04.796Z"
   },
   {
    "duration": 80,
    "start_time": "2021-10-15T18:28:01.144Z"
   },
   {
    "duration": 14,
    "start_time": "2021-10-15T18:28:01.227Z"
   },
   {
    "duration": 74,
    "start_time": "2021-10-15T18:28:01.244Z"
   },
   {
    "duration": 12,
    "start_time": "2021-10-15T18:28:01.321Z"
   },
   {
    "duration": 61,
    "start_time": "2021-10-15T18:28:01.335Z"
   },
   {
    "duration": 13,
    "start_time": "2021-10-15T18:28:01.398Z"
   },
   {
    "duration": 22,
    "start_time": "2021-10-15T18:28:01.413Z"
   },
   {
    "duration": 19,
    "start_time": "2021-10-15T18:28:01.437Z"
   },
   {
    "duration": 37,
    "start_time": "2021-10-15T18:28:01.460Z"
   },
   {
    "duration": 28,
    "start_time": "2021-10-15T18:28:01.501Z"
   },
   {
    "duration": 15,
    "start_time": "2021-10-15T18:28:01.533Z"
   },
   {
    "duration": 40,
    "start_time": "2021-10-15T18:28:01.550Z"
   },
   {
    "duration": 10143,
    "start_time": "2021-10-15T18:28:01.592Z"
   },
   {
    "duration": 69,
    "start_time": "2021-10-15T18:28:11.738Z"
   },
   {
    "duration": 235,
    "start_time": "2021-10-15T18:28:11.810Z"
   },
   {
    "duration": 12,
    "start_time": "2021-10-15T18:28:12.048Z"
   },
   {
    "duration": 27,
    "start_time": "2021-10-15T18:28:12.062Z"
   },
   {
    "duration": 19,
    "start_time": "2021-10-15T18:28:12.091Z"
   },
   {
    "duration": 28,
    "start_time": "2021-10-15T18:28:12.112Z"
   },
   {
    "duration": 95,
    "start_time": "2021-10-15T18:28:12.142Z"
   },
   {
    "duration": 26,
    "start_time": "2021-10-15T18:28:12.240Z"
   },
   {
    "duration": 27,
    "start_time": "2021-10-15T18:28:12.268Z"
   },
   {
    "duration": 8,
    "start_time": "2021-10-15T18:28:12.298Z"
   },
   {
    "duration": 9,
    "start_time": "2021-10-15T18:28:12.308Z"
   },
   {
    "duration": 11,
    "start_time": "2021-10-15T18:28:12.319Z"
   },
   {
    "duration": 53,
    "start_time": "2021-10-15T18:28:12.333Z"
   },
   {
    "duration": 12,
    "start_time": "2021-10-15T18:28:12.392Z"
   },
   {
    "duration": 15,
    "start_time": "2021-10-15T18:28:12.406Z"
   },
   {
    "duration": 8,
    "start_time": "2021-10-15T18:28:12.424Z"
   },
   {
    "duration": 7,
    "start_time": "2021-10-15T18:28:12.434Z"
   },
   {
    "duration": 10,
    "start_time": "2021-10-15T18:28:12.482Z"
   },
   {
    "duration": 15,
    "start_time": "2021-10-15T18:28:12.494Z"
   },
   {
    "duration": 6,
    "start_time": "2021-10-15T18:28:12.512Z"
   },
   {
    "duration": 13,
    "start_time": "2021-10-15T18:28:12.521Z"
   },
   {
    "duration": 958,
    "start_time": "2021-10-15T18:28:12.537Z"
   },
   {
    "duration": 5,
    "start_time": "2021-10-15T18:28:13.498Z"
   },
   {
    "duration": 3457,
    "start_time": "2021-10-15T18:28:13.505Z"
   },
   {
    "duration": 31,
    "start_time": "2021-10-15T18:28:16.965Z"
   },
   {
    "duration": 23,
    "start_time": "2021-10-15T18:28:16.998Z"
   },
   {
    "duration": 19,
    "start_time": "2021-10-15T18:28:17.024Z"
   },
   {
    "duration": 52,
    "start_time": "2021-10-15T18:28:17.046Z"
   },
   {
    "duration": 26,
    "start_time": "2021-10-15T18:28:17.100Z"
   },
   {
    "duration": 5,
    "start_time": "2021-10-15T18:28:17.128Z"
   },
   {
    "duration": 56,
    "start_time": "2021-10-15T18:28:17.135Z"
   },
   {
    "duration": 35,
    "start_time": "2021-10-15T18:28:17.194Z"
   },
   {
    "duration": 61,
    "start_time": "2021-10-15T18:28:17.231Z"
   },
   {
    "duration": 27,
    "start_time": "2021-10-15T18:28:21.456Z"
   },
   {
    "duration": 869,
    "start_time": "2021-10-15T19:02:19.748Z"
   },
   {
    "duration": 16,
    "start_time": "2021-10-15T19:02:20.620Z"
   },
   {
    "duration": 12,
    "start_time": "2021-10-15T19:02:20.640Z"
   },
   {
    "duration": 48,
    "start_time": "2021-10-15T19:02:20.655Z"
   },
   {
    "duration": 13,
    "start_time": "2021-10-15T19:02:20.706Z"
   },
   {
    "duration": 13,
    "start_time": "2021-10-15T19:02:20.722Z"
   },
   {
    "duration": 46,
    "start_time": "2021-10-15T19:02:20.738Z"
   },
   {
    "duration": 18,
    "start_time": "2021-10-15T19:02:20.787Z"
   },
   {
    "duration": 10,
    "start_time": "2021-10-15T19:02:20.810Z"
   },
   {
    "duration": 10,
    "start_time": "2021-10-15T19:02:20.823Z"
   },
   {
    "duration": 59,
    "start_time": "2021-10-15T19:02:20.836Z"
   },
   {
    "duration": 10123,
    "start_time": "2021-10-15T19:02:20.898Z"
   },
   {
    "duration": 67,
    "start_time": "2021-10-15T19:02:31.023Z"
   },
   {
    "duration": 224,
    "start_time": "2021-10-15T19:02:31.092Z"
   },
   {
    "duration": 16,
    "start_time": "2021-10-15T19:02:31.319Z"
   },
   {
    "duration": 22,
    "start_time": "2021-10-15T19:02:31.338Z"
   },
   {
    "duration": 36,
    "start_time": "2021-10-15T19:02:31.363Z"
   },
   {
    "duration": 29,
    "start_time": "2021-10-15T19:02:31.402Z"
   },
   {
    "duration": 80,
    "start_time": "2021-10-15T19:02:31.434Z"
   },
   {
    "duration": 25,
    "start_time": "2021-10-15T19:02:31.517Z"
   },
   {
    "duration": 15,
    "start_time": "2021-10-15T19:02:31.545Z"
   },
   {
    "duration": 8,
    "start_time": "2021-10-15T19:02:31.583Z"
   },
   {
    "duration": 14,
    "start_time": "2021-10-15T19:02:31.593Z"
   },
   {
    "duration": 32,
    "start_time": "2021-10-15T19:02:31.610Z"
   },
   {
    "duration": 19,
    "start_time": "2021-10-15T19:02:31.645Z"
   },
   {
    "duration": 25,
    "start_time": "2021-10-15T19:02:31.667Z"
   },
   {
    "duration": 30,
    "start_time": "2021-10-15T19:02:31.698Z"
   },
   {
    "duration": 21,
    "start_time": "2021-10-15T19:02:31.731Z"
   },
   {
    "duration": 29,
    "start_time": "2021-10-15T19:02:31.755Z"
   },
   {
    "duration": 35,
    "start_time": "2021-10-15T19:02:31.786Z"
   },
   {
    "duration": 25,
    "start_time": "2021-10-15T19:02:31.824Z"
   },
   {
    "duration": 13,
    "start_time": "2021-10-15T19:02:31.851Z"
   },
   {
    "duration": 20,
    "start_time": "2021-10-15T19:02:31.866Z"
   },
   {
    "duration": 917,
    "start_time": "2021-10-15T19:02:31.888Z"
   },
   {
    "duration": 5,
    "start_time": "2021-10-15T19:02:32.807Z"
   },
   {
    "duration": 3522,
    "start_time": "2021-10-15T19:02:32.815Z"
   },
   {
    "duration": 18,
    "start_time": "2021-10-15T19:02:36.339Z"
   },
   {
    "duration": 42,
    "start_time": "2021-10-15T19:02:36.360Z"
   },
   {
    "duration": 20,
    "start_time": "2021-10-15T19:02:36.405Z"
   },
   {
    "duration": 29,
    "start_time": "2021-10-15T19:02:36.428Z"
   },
   {
    "duration": 50,
    "start_time": "2021-10-15T19:02:36.459Z"
   },
   {
    "duration": 5,
    "start_time": "2021-10-15T19:02:36.511Z"
   },
   {
    "duration": 44,
    "start_time": "2021-10-15T19:02:36.518Z"
   },
   {
    "duration": 43,
    "start_time": "2021-10-15T19:02:36.565Z"
   },
   {
    "duration": 44,
    "start_time": "2021-10-15T19:02:36.611Z"
   },
   {
    "duration": 48,
    "start_time": "2021-10-15T19:02:36.658Z"
   },
   {
    "duration": 32,
    "start_time": "2021-10-15T19:02:36.709Z"
   },
   {
    "duration": 49,
    "start_time": "2021-10-15T19:02:36.743Z"
   },
   {
    "duration": 21,
    "start_time": "2021-10-15T19:02:36.794Z"
   },
   {
    "duration": 814,
    "start_time": "2021-10-16T16:16:28.688Z"
   },
   {
    "duration": 15,
    "start_time": "2021-10-16T16:16:29.505Z"
   },
   {
    "duration": 12,
    "start_time": "2021-10-16T16:16:29.523Z"
   },
   {
    "duration": 51,
    "start_time": "2021-10-16T16:16:29.538Z"
   },
   {
    "duration": 18,
    "start_time": "2021-10-16T16:16:29.591Z"
   },
   {
    "duration": 14,
    "start_time": "2021-10-16T16:16:29.611Z"
   },
   {
    "duration": 7,
    "start_time": "2021-10-16T16:16:29.627Z"
   },
   {
    "duration": 52,
    "start_time": "2021-10-16T16:16:29.636Z"
   },
   {
    "duration": 10,
    "start_time": "2021-10-16T16:16:29.692Z"
   },
   {
    "duration": 8,
    "start_time": "2021-10-16T16:16:29.705Z"
   },
   {
    "duration": 23,
    "start_time": "2021-10-16T16:16:29.715Z"
   },
   {
    "duration": 10152,
    "start_time": "2021-10-16T16:16:29.740Z"
   },
   {
    "duration": 58,
    "start_time": "2021-10-16T16:16:39.894Z"
   },
   {
    "duration": 245,
    "start_time": "2021-10-16T16:16:39.955Z"
   },
   {
    "duration": 13,
    "start_time": "2021-10-16T16:16:40.203Z"
   },
   {
    "duration": 14,
    "start_time": "2021-10-16T16:16:40.218Z"
   },
   {
    "duration": 54,
    "start_time": "2021-10-16T16:16:40.235Z"
   },
   {
    "duration": 30,
    "start_time": "2021-10-16T16:16:40.291Z"
   },
   {
    "duration": 78,
    "start_time": "2021-10-16T16:16:40.324Z"
   },
   {
    "duration": 28,
    "start_time": "2021-10-16T16:16:40.404Z"
   },
   {
    "duration": 14,
    "start_time": "2021-10-16T16:16:40.435Z"
   },
   {
    "duration": 33,
    "start_time": "2021-10-16T16:16:40.451Z"
   },
   {
    "duration": 11,
    "start_time": "2021-10-16T16:16:40.486Z"
   },
   {
    "duration": 12,
    "start_time": "2021-10-16T16:16:40.500Z"
   },
   {
    "duration": 9,
    "start_time": "2021-10-16T16:16:40.515Z"
   },
   {
    "duration": 55,
    "start_time": "2021-10-16T16:16:40.527Z"
   },
   {
    "duration": 13,
    "start_time": "2021-10-16T16:16:40.588Z"
   },
   {
    "duration": 11,
    "start_time": "2021-10-16T16:16:40.605Z"
   },
   {
    "duration": 6,
    "start_time": "2021-10-16T16:16:40.618Z"
   },
   {
    "duration": 11,
    "start_time": "2021-10-16T16:16:40.626Z"
   },
   {
    "duration": 55,
    "start_time": "2021-10-16T16:16:40.639Z"
   },
   {
    "duration": 7,
    "start_time": "2021-10-16T16:16:40.696Z"
   },
   {
    "duration": 11,
    "start_time": "2021-10-16T16:16:40.706Z"
   },
   {
    "duration": 907,
    "start_time": "2021-10-16T16:16:40.720Z"
   },
   {
    "duration": 5,
    "start_time": "2021-10-16T16:16:41.629Z"
   },
   {
    "duration": 3414,
    "start_time": "2021-10-16T16:16:41.637Z"
   },
   {
    "duration": 34,
    "start_time": "2021-10-16T16:16:45.053Z"
   },
   {
    "duration": 29,
    "start_time": "2021-10-16T16:16:45.090Z"
   },
   {
    "duration": 20,
    "start_time": "2021-10-16T16:16:45.122Z"
   },
   {
    "duration": 43,
    "start_time": "2021-10-16T16:16:45.144Z"
   },
   {
    "duration": 27,
    "start_time": "2021-10-16T16:16:45.189Z"
   },
   {
    "duration": 5,
    "start_time": "2021-10-16T16:16:45.218Z"
   },
   {
    "duration": 29,
    "start_time": "2021-10-16T16:16:45.225Z"
   },
   {
    "duration": 57,
    "start_time": "2021-10-16T16:16:45.256Z"
   },
   {
    "duration": 33,
    "start_time": "2021-10-16T16:16:45.316Z"
   },
   {
    "duration": 47,
    "start_time": "2021-10-16T16:16:45.352Z"
   },
   {
    "duration": 34,
    "start_time": "2021-10-16T16:16:45.401Z"
   },
   {
    "duration": 63,
    "start_time": "2021-10-16T16:16:45.438Z"
   },
   {
    "duration": 24,
    "start_time": "2021-10-16T16:16:45.503Z"
   }
  ],
  "kernelspec": {
   "display_name": "Python 3",
   "language": "python",
   "name": "python3"
  },
  "language_info": {
   "codemirror_mode": {
    "name": "ipython",
    "version": 3
   },
   "file_extension": ".py",
   "mimetype": "text/x-python",
   "name": "python",
   "nbconvert_exporter": "python",
   "pygments_lexer": "ipython3",
   "version": "3.8.8"
  },
  "toc": {
   "base_numbering": 1,
   "nav_menu": {},
   "number_sections": true,
   "sideBar": true,
   "skip_h1_title": true,
   "title_cell": "Table of Contents",
   "title_sidebar": "Contents",
   "toc_cell": false,
   "toc_position": {
    "height": "calc(100% - 180px)",
    "left": "10px",
    "top": "150px",
    "width": "366.391px"
   },
   "toc_section_display": true,
   "toc_window_display": true
  }
 },
 "nbformat": 4,
 "nbformat_minor": 2
}
